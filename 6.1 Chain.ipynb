{
 "cells": [
  {
   "cell_type": "markdown",
   "id": "936fdeca-12ee-4597-a9af-4ab2240f85c1",
   "metadata": {},
   "source": [
    "# LLM Model"
   ]
  },
  {
   "cell_type": "code",
   "execution_count": 3,
   "id": "0a69df55-6fce-4dd9-ba61-11ae65eecc33",
   "metadata": {
    "tags": []
   },
   "outputs": [
    {
     "data": {
      "text/plain": [
       "AIMessage(content=\"Seoul is home to many famous tourist attractions. Some of the most popular places to visit include:\\n\\n1. **Gyeongbokgung Palace**: The largest of the Five Grand Palaces built during the Joseon Dynasty, known for its beautiful architecture and the changing of the guard ceremony.\\n\\n2. **Bukchon Hanok Village**: A traditional Korean village featuring hanok (traditional Korean houses) that offers a glimpse into Korea's past.\\n\\n3. **N Seoul Tower (Namsan Tower)**: An iconic landmark that provides panoramic views of the city, especially beautiful at night.\\n\\n4. **Myeongdong**: A bustling shopping district known for its street food, cosmetics shops, and fashion boutiques.\\n\\n5. **Insadong**: A cultural district famous for its art galleries, traditional tea houses, and shops selling Korean crafts and antiques.\\n\\n6. **Dongdaemun Design Plaza (DDP)**: A modern architectural marvel that hosts exhibitions, fashion shows, and other cultural events.\\n\\n7. **Changdeokgung Palace and Secret Garden**: A UNESCO World Heritage site known for its beautiful gardens and traditional architecture.\\n\\n8. **Cheonggyecheon Stream**: A scenic urban stream that runs through downtown Seoul, perfect for a leisurely stroll.\\n\\n9. **Lotte World Tower**: One of the tallest buildings in the world, featuring an observation deck with stunning views.\\n\\n10. **Hongdae**: A vibrant neighborhood known for its youthful atmosphere, street performances, and nightlife.\\n\\nThese attractions showcase the rich history, culture, and modernity of Seoul, making it a fascinating destination for travelers.\", additional_kwargs={'refusal': None}, response_metadata={'token_usage': {'completion_tokens': 327, 'prompt_tokens': 16, 'total_tokens': 343, 'completion_tokens_details': {'audio_tokens': None, 'reasoning_tokens': 0}, 'prompt_tokens_details': {'audio_tokens': None, 'cached_tokens': 0}}, 'model_name': 'gpt-4o-mini-2024-07-18', 'system_fingerprint': 'fp_482c22a7bc', 'finish_reason': 'stop', 'logprobs': None}, id='run-8c7d9179-86d2-454c-90a7-fd42735afc0f-0', usage_metadata={'input_tokens': 16, 'output_tokens': 327, 'total_tokens': 343, 'input_token_details': {'cache_read': 0}, 'output_token_details': {'reasoning': 0}})"
      ]
     },
     "execution_count": 3,
     "metadata": {},
     "output_type": "execute_result"
    }
   ],
   "source": [
    "# LLM Model\n",
    "from langchain_openai import ChatOpenAI\n",
    "from langchain.prompts import PromptTemplate\n",
    "\n",
    "OPEN_AI_APIKEY = \"{YOUR_OPENAI_KEY}\"\n",
    "model = ChatOpenAI(api_key=OPEN_AI_APIKEY)\n",
    "\n",
    "# Change LCEL\n",
    "prompt = PromptTemplate.from_template(\"what is the famous tour place in {city}?\")\n",
    "# chain = LLMChain(llm=model, prompt=prompt)\n",
    "city = \"Seoul\"\n",
    "# chain.run(city)\n",
    "chain = prompt | model\n",
    "chain.invoke({\"city\": city})"
   ]
  },
  {
   "cell_type": "markdown",
   "id": "f9a2c0b0-b847-475b-a51e-9f11b875a586",
   "metadata": {},
   "source": [
    "# Sequential Chain"
   ]
  },
  {
   "cell_type": "code",
   "execution_count": 7,
   "id": "da34fd73-dae2-4eb4-903f-b18c405c27b6",
   "metadata": {
    "tags": []
   },
   "outputs": [
    {
     "data": {
      "text/plain": [
       "AIMessage(content='It seems like you might be asking how to get to Gyeongbokgung Palace in Seoul, South Korea. If you are already at Gyeongbokgung Palace, you may be looking for directions to a specific location within or nearby the palace. \\n\\nIf you are looking for directions to Gyeongbokgung Palace from another location, here are some general options:\\n\\n1. **Subway**: The easiest way to get to Gyeongbokgung Palace is by taking the Seoul Subway. You can take Line 3 (the Orange Line) and get off at Gyeongbokgung Station. Use Exit 5, and the palace will be a short walk from there.\\n\\n2. **Bus**: Several city buses stop near Gyeongbokgung Palace. You can check local bus routes for the best option based on your starting point.\\n\\n3. **Taxi**: You can also take a taxi to Gyeongbokgung Palace. Just tell the driver \"Gyeongbokgung\" (경복궁), and they will know where to take you.\\n\\n4. **Walking**: If you are nearby, you can simply walk to the palace. It is located in the heart of Seoul and is accessible from various neighborhoods.\\n\\nIf you need more specific directions or information, please provide your starting location!', additional_kwargs={'refusal': None}, response_metadata={'token_usage': {'completion_tokens': 267, 'prompt_tokens': 25, 'total_tokens': 292, 'completion_tokens_details': {'audio_tokens': None, 'reasoning_tokens': 0}, 'prompt_tokens_details': {'audio_tokens': None, 'cached_tokens': 0}}, 'model_name': 'gpt-4o-mini-2024-07-18', 'system_fingerprint': 'fp_482c22a7bc', 'finish_reason': 'stop', 'logprobs': None}, id='run-02a51398-c66d-4caf-9699-cd1e82364b3b-0', usage_metadata={'input_tokens': 25, 'output_tokens': 267, 'total_tokens': 292, 'input_token_details': {'cache_read': 0}, 'output_token_details': {'reasoning': 0}})"
      ]
     },
     "execution_count": 7,
     "metadata": {},
     "output_type": "execute_result"
    }
   ],
   "source": [
    "from langchain_openai import ChatOpenAI\n",
    "from langchain.prompts import PromptTemplate\n",
    "from langchain_core.output_parsers.string import StrOutputParser\n",
    "from langchain_core.runnables import RunnablePassthrough\n",
    "\n",
    "OPEN_AI_APIKEY = \"{YOUR_OPENAI_KEY}\"\n",
    "model = ChatOpenAI(api_key=OPEN_AI_APIKEY)\n",
    "\n",
    "prompt1 = PromptTemplate.from_template(\n",
    "    \"what is the famous tour place in {city}? Tell me the name of the place only without additional comments.\"\n",
    ")\n",
    "prompt2 = PromptTemplate.from_template(\"How can I get {place} by {transport}?\")\n",
    "\n",
    "# Old version\n",
    "# chain1 = LLMChain(llm=model, prompt=prompt1, output_key=\"place\", verbose=True)\n",
    "# chain2 = LLMChain(llm=model, prompt=prompt2, verbose=True)\n",
    "# chain = SequentialChain(\n",
    "#     chains=[chain1, chain2], input_variables=[\"city\", \"transport\"], verbose=True\n",
    "# )\n",
    "# chain.run({\"city\": \"Seoul\", \"transport\": \"subway\"})\n",
    "\n",
    "# LCEL\n",
    "chain_1 = prompt1 | model | StrOutputParser()\n",
    "chain_2 = prompt2 | model\n",
    "sequential_chain = (\n",
    "    {\n",
    "        \"place\": RunnablePassthrough(),\n",
    "        \"transport\": RunnablePassthrough(),\n",
    "        \"city\": RunnablePassthrough(),\n",
    "    }\n",
    "    | chain_1\n",
    "    | {\n",
    "        \"place\": RunnablePassthrough(),\n",
    "        \"transport\": RunnablePassthrough(),\n",
    "    }\n",
    "    | chain_2\n",
    ")\n",
    "sequential_chain.invoke({\"city\": \"Seoul\", \"transport\": \"subway\"})\n"
   ]
  },
  {
   "cell_type": "markdown",
   "id": "ee214c54-8f45-470c-9854-abcf9152486d",
   "metadata": {},
   "source": [
    "# Sequential Advacned"
   ]
  },
  {
   "cell_type": "code",
   "execution_count": 12,
   "id": "76607942-d8c7-40b4-9635-8ef650f28291",
   "metadata": {
    "tags": []
   },
   "outputs": [
    {
     "data": {
      "text/plain": [
       "AIMessage(content=\"### Tour and Dining Summary\\n\\n**Restaurant Options:**\\n\\n1. **Tosokchon Samgyetang**\\n   - **Cuisine**: Traditional Korean (famous for ginseng chicken soup)\\n   - **Atmosphere**: Cozy and authentic\\n   - **Dining Experience**: More formal setting\\n   - **Recommendation**: Ideal for a traditional Korean experience.\\n\\n2. **Hanok Jib**\\n   - **Cuisine**: Variety of Korean dishes\\n   - **Atmosphere**: Unique traditional setting in a hanok\\n   - **Dining Experience**: More formal\\n   - **Recommendation**: Great for those seeking a traditional dining experience.\\n\\n3. **Bukchon Son Mandu**\\n   - **Cuisine**: Comfort food (specializes in handmade dumplings)\\n   - **Atmosphere**: Casual and relaxed\\n   - **Dining Experience**: Laid-back\\n   - **Recommendation**: Perfect for families, especially with kids.\\n\\n4. **The Lounge & Bar at The Four Seasons Hotel Seoul**\\n   - **Cuisine**: International and upscale\\n   - **Atmosphere**: Refined and luxurious\\n   - **Dining Experience**: More formal\\n   - **Recommendation**: Best for a luxurious dining experience.\\n\\n5. **Cafe de Lulu**\\n   - **Cuisine**: Desserts and casual fare\\n   - **Atmosphere**: Casual and relaxed\\n   - **Dining Experience**: Laid-back\\n   - **Recommendation**: Ideal for a casual outing focused on desserts.\\n\\n### Transportation Considerations\\nWhen planning your visit to any of these restaurants, consider the following transportation options:\\n\\n- **Public Transport**: Check local subway or bus routes that can take you close to your chosen restaurant.\\n- **Taxi Services**: Taxis are widely available and can provide direct access to your dining location.\\n- **Walking**: If staying nearby, walking can be a pleasant way to reach your destination, especially in areas with scenic views.\\n\\n### Final Recommendations\\n- For a **traditional Korean experience**, choose **Tosokchon Samgyetang** or **Hanok Jib**.\\n- For a **luxurious dining experience**, opt for **The Lounge & Bar at The Four Seasons Hotel Seoul**.\\n- If your family enjoys dumplings, **Bukchon Son Mandu** is a great choice.\\n- For a **casual dessert outing**, go to **Cafe de Lulu**.\\n\\nUltimately, the best choice will depend on your family's preferences and the type of dining experience you desire.\", additional_kwargs={'refusal': None}, response_metadata={'token_usage': {'completion_tokens': 513, 'prompt_tokens': 920, 'total_tokens': 1433, 'completion_tokens_details': {'audio_tokens': None, 'reasoning_tokens': 0}, 'prompt_tokens_details': {'audio_tokens': None, 'cached_tokens': 0}}, 'model_name': 'gpt-4o-mini-2024-07-18', 'system_fingerprint': 'fp_482c22a7bc', 'finish_reason': 'stop', 'logprobs': None}, id='run-4ec64093-e19c-46ca-9a5e-b4743f0d06a5-0', usage_metadata={'input_tokens': 920, 'output_tokens': 513, 'total_tokens': 1433, 'input_token_details': {'cache_read': 0}, 'output_token_details': {'reasoning': 0}})"
      ]
     },
     "execution_count": 12,
     "metadata": {},
     "output_type": "execute_result"
    }
   ],
   "source": [
    "from langchain_openai import ChatOpenAI\n",
    "from langchain.prompts import PromptTemplate\n",
    "from langchain_core.output_parsers.string import StrOutputParser\n",
    "from langchain_core.runnables import RunnablePassthrough\n",
    "\n",
    "OPEN_AI_APIKEY = \"{YOUR_OPENAI_KEY}\"\n",
    "model = ChatOpenAI(api_key=OPEN_AI_APIKEY)\n",
    "\n",
    "prompt1 = PromptTemplate.from_template(\n",
    "    \"what is the famous tour place in {city}? Tell me the name of the place only without additional comments.\"\n",
    ")\n",
    "prompt2 = PromptTemplate.from_template(\n",
    "    \"What is the top 5 restaurant in the {place} in city {city} without additional comments?\"\n",
    ")  # output : restaurants\n",
    "prompt3 = PromptTemplate.from_template(\n",
    "    \"What is the best one restaurant and food for family dinner among {restaurants} ?\"\n",
    ")  # output : restaurant_information\n",
    "prompt4 = PromptTemplate.from_template(\n",
    "    \"How can I get the {place} by using {transport}?\"\n",
    ")  # output : transport_information\n",
    "final_prompt = PromptTemplate.from_template(\n",
    "    \"\"\"\n",
    "Please summarize the tour information with reastaurant information and transportation by using the this information.\n",
    "Restaurant informations : {restaurant_information}\n",
    "Transport information : {transport_information}\n",
    "\"\"\"\n",
    ")\n",
    "\n",
    "# Old version\n",
    "# chain1 = LLMChain(llm=model, prompt=prompt1, output_key=\"place\", verbose=True)\n",
    "# chain2 = LLMChain(llm=model, prompt=prompt2, output_key=\"restaurants\", verbose=True)\n",
    "# chain3 = LLMChain(\n",
    "#     llm=model, prompt=prompt3, output_key=\"restaurant_information\", verbose=True\n",
    "# )\n",
    "# chain4 = LLMChain(\n",
    "#     llm=model, prompt=prompt4, output_key=\"transport_information\", verbose=True\n",
    "# )\n",
    "# final_chain = LLMChain(\n",
    "#     llm=model, prompt=final_prompt, output_key=\"tour_summary\", verbose=True\n",
    "# )\n",
    "# chain = SequentialChain(\n",
    "#     chains=[chain1, chain2, chain3, chain4, final_chain],\n",
    "#     input_variables=[\"city\", \"transport\"],\n",
    "#     verbose=True,\n",
    "# )\n",
    "# chain.run({\"city\": \"Seoul\", \"transport\": \"subway\"})\n",
    "\n",
    "# New LCEL\n",
    "chain_1 = prompt1 | model | StrOutputParser()\n",
    "chain_2 = prompt2 | model | StrOutputParser()\n",
    "chain_3 = prompt3 | model | StrOutputParser()\n",
    "chain_4 = prompt4 | model | StrOutputParser()\n",
    "sequential_chain = (\n",
    "    {\n",
    "        \"transport\": RunnablePassthrough(),\n",
    "        \"city\": RunnablePassthrough(),\n",
    "    }\n",
    "    | chain_1\n",
    "    | {\n",
    "        \"city\": RunnablePassthrough(),\n",
    "        \"place\": RunnablePassthrough(),\n",
    "        \"transport\": RunnablePassthrough(),\n",
    "    }\n",
    "    | chain_2\n",
    "    | {\n",
    "        \"restaurants\": RunnablePassthrough(),\n",
    "        \"place\": RunnablePassthrough(),\n",
    "        \"transport\": RunnablePassthrough(),\n",
    "    }\n",
    "    | chain_3\n",
    "    | {\n",
    "        \"restaurant_information\": RunnablePassthrough(),\n",
    "        \"place\": RunnablePassthrough(),\n",
    "        \"transport\": RunnablePassthrough(),\n",
    "    }\n",
    "    | chain_4\n",
    "    | {\n",
    "        \"transport_information\": RunnablePassthrough(),\n",
    "        \"restaurant_information\": RunnablePassthrough(),\n",
    "    }\n",
    "    | final_prompt\n",
    "    | model\n",
    ")\n",
    "sequential_chain.invoke({\"city\": \"Seoul\", \"transport\": \"subway\"})"
   ]
  },
  {
   "cell_type": "markdown",
   "id": "439139e6-e34d-448f-8c75-9e1799d0fa4e",
   "metadata": {},
   "source": [
    "# Router Chain"
   ]
  },
  {
   "cell_type": "code",
   "execution_count": 20,
   "id": "3c353a6d-4345-4bf7-a1fd-3da755f3c8ab",
   "metadata": {
    "tags": []
   },
   "outputs": [
    {
     "data": {
      "text/plain": [
       "'Seoul is a vibrant city with a diverse culinary scene, making it hard to pinpoint just one \"best\" restaurant. However, one highly recommended spot is **Mingles**, which has received acclaim for its innovative take on traditional Korean cuisine. The chef, Mingoo Kang, blends seasonal ingredients with modern techniques, creating a unique dining experience.\\n\\nIf you\\'re looking for something more traditional, **Gwangjang Market** is a must-visit. Here, you can sample a variety of authentic Korean street foods, such as bindaetteok (mung bean pancakes) and bibimbap.\\n\\nFor a fine dining experience, consider **Jungsik**, which offers a contemporary approach to Korean dishes and has earned two Michelin stars.\\n\\nIf you\\'re in the mood for Korean barbecue, **Maple Tree House** is a popular choice, known for its high-quality meats and cozy atmosphere.\\n\\nEach of these places offers a different taste of Seoul\\'s culinary landscape, so it really depends on what kind of dining experience you\\'re looking for!'"
      ]
     },
     "execution_count": 20,
     "metadata": {},
     "output_type": "execute_result"
    }
   ],
   "source": [
    "from langchain_core.prompts import PromptTemplate\n",
    "from langchain_openai import ChatOpenAI\n",
    "from langchain_core.runnables import RunnableLambda, RunnableBranch\n",
    "from langchain_core.output_parsers import StrOutputParser\n",
    "\n",
    "OPEN_AI_APIKEY = \"{YOUR_OPENAI_KEY}\"\n",
    "model = ChatOpenAI(api_key=OPEN_AI_APIKEY)\n",
    "\n",
    "restaurant_template = \"\"\"\n",
    "You are a tourist guide. You know many good restaurants around the tourist destination.\n",
    "You can recommend good foods and restaurants.\n",
    "Here is a question:\n",
    "{input}\n",
    "\"\"\"\n",
    "\n",
    "transport_template = \"\"\"\n",
    "You are a tourist guide. You have a lot of knowledge in public transportation.\n",
    "You can provide information about public transportation to help tourists get to the tourist destination.\n",
    "Here is a question:\n",
    "{input}\n",
    "\"\"\"\n",
    "\n",
    "destination_template = \"\"\"\n",
    "You are a tourist guide. You know many good tourist places.\n",
    "You can recommend good tourist places to the tourists.\n",
    "Here is a question:\n",
    "{input}\n",
    "\"\"\"\n",
    "\n",
    "prompt_infos = [\n",
    "    {\n",
    "        \"name\": \"restaurants\",\n",
    "        \"description\": \"Good for recommending restaurants around the tourist destinations\",\n",
    "        \"prompt_template\": restaurant_template,\n",
    "    },\n",
    "    {\n",
    "        \"name\": \"transport\",\n",
    "        \"description\": \"Good for guiding the transport to get the place\",\n",
    "        \"prompt_template\": transport_template,\n",
    "    },\n",
    "    {\n",
    "        \"name\": \"destination\",\n",
    "        \"description\": \"Good for recommending place to tour\",\n",
    "        \"prompt_template\": destination_template,\n",
    "    },\n",
    "]\n",
    "\n",
    "destinations = [f\"{p['name']}: {p['description']}\" for p in prompt_infos]\n",
    "destinations_str = \"\\n\".join(destinations)\n",
    "\n",
    "router_prompt = PromptTemplate.from_template(\n",
    "    \"\"\"\n",
    "Given the following options, choose the one that best fits with the input.\n",
    "Destinations:\n",
    "{destinations}\n",
    "\n",
    "Input: {input}\n",
    "\n",
    "Return the name of the destination only.\n",
    "\"\"\"\n",
    ")\n",
    "\n",
    "router_chain = {\"input\": RunnablePassthrough(), \"destinations\": RunnableLambda(lambda x: destinations_str)} | router_prompt | model | StrOutputParser()\n",
    "\n",
    "\n",
    "destination_chains = {}\n",
    "for prompt_info in prompt_infos:\n",
    "    name = prompt_info[\"name\"]\n",
    "    prompt_template = PromptTemplate.from_template(prompt_info[\"prompt_template\"])\n",
    "    chain = prompt_template | model | StrOutputParser()\n",
    "    destination_chains[name] = chain\n",
    "\n",
    "\n",
    "branch = RunnableBranch(\n",
    "    *[\n",
    "        (\n",
    "            lambda x, name=p[\"name\"]: x[\"destination\"].lower() == name.lower(),\n",
    "            destination_chains[p[\"name\"]]\n",
    "        )\n",
    "        for p in prompt_infos\n",
    "    ],\n",
    "    destination_chains[prompt_infos[0][\"name\"]]\n",
    ")\n",
    "\n",
    "\n",
    "multi_prompt_chain = (\n",
    "    {\n",
    "        \"input\": RunnablePassthrough(),\n",
    "        \"destination\": router_chain\n",
    "    }\n",
    "    | branch\n",
    ")\n",
    "\n",
    "multi_prompt_chain.invoke(\"What is the best restaurant in Seoul?\")"
   ]
  }
 ],
 "metadata": {
  "kernelspec": {
   "display_name": "Python 3 (ipykernel)",
   "language": "python",
   "name": "python3"
  },
  "language_info": {
   "codemirror_mode": {
    "name": "ipython",
    "version": 3
   },
   "file_extension": ".py",
   "mimetype": "text/x-python",
   "name": "python",
   "nbconvert_exporter": "python",
   "pygments_lexer": "ipython3",
   "version": "3.12.6"
  }
 },
 "nbformat": 4,
 "nbformat_minor": 5
}
