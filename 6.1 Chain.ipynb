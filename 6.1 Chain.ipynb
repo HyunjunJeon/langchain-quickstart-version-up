{
 "cells": [
  {
   "cell_type": "markdown",
   "id": "936fdeca-12ee-4597-a9af-4ab2240f85c1",
   "metadata": {},
   "source": [
    "# LLM Model"
   ]
  },
  {
   "cell_type": "code",
   "execution_count": 36,
   "id": "0a69df55-6fce-4dd9-ba61-11ae65eecc33",
   "metadata": {
    "tags": []
   },
   "outputs": [
    {
     "data": {
      "text/plain": [
       "'One of the most famous tourist attractions in Seoul is Gyeongbokgung Palace. It is a grand palace and the largest of the Five Grand Palaces built by the Joseon Dynasty. Another popular destination is N Seoul Tower, which offers panoramic views of the city. Other notable places to visit include Bukchon Hanok Village, Myeongdong shopping district, Dongdaemun Design Plaza, and the vibrant neighborhood of Hongdae.'"
      ]
     },
     "execution_count": 36,
     "metadata": {},
     "output_type": "execute_result"
    }
   ],
   "source": [
    "#LLM Model\n",
    "from langchain.llms import OpenAI\n",
    "from langchain.prompts import PromptTemplate\n",
    "from langchain.chains import LLMChain\n",
    "\n",
    "OPEN_AI_APIKEY=\"{YOUR_OPENAI_KEY}\"\n",
    "model = OpenAI(openai_api_key=OPEN_AI_APIKEY)\n",
    "\n",
    "prompt = PromptTemplate.from_template(\"what is the famous tour place in {city}?\")\n",
    "chain = LLMChain(llm=model, prompt=prompt)\n",
    "city = \"Seoul\"\n",
    "chain.run(city)\n",
    "                                           "
   ]
  },
  {
   "cell_type": "markdown",
   "id": "f9a2c0b0-b847-475b-a51e-9f11b875a586",
   "metadata": {},
   "source": [
    "# Sequential Chain"
   ]
  },
  {
   "cell_type": "code",
   "execution_count": 4,
   "id": "da34fd73-dae2-4eb4-903f-b18c405c27b6",
   "metadata": {
    "tags": []
   },
   "outputs": [
    {
     "name": "stderr",
     "output_type": "stream",
     "text": [
      "/Users/terrycho/anaconda3/lib/python3.11/site-packages/langchain_core/_api/deprecation.py:117: LangChainDeprecationWarning: The function `run` was deprecated in LangChain 0.1.0 and will be removed in 0.2.0. Use invoke instead.\n",
      "  warn_deprecated(\n"
     ]
    },
    {
     "name": "stdout",
     "output_type": "stream",
     "text": [
      "\n",
      "\n",
      "\u001b[1m> Entering new SequentialChain chain...\u001b[0m\n",
      "\n",
      "\n",
      "\u001b[1m> Entering new LLMChain chain...\u001b[0m\n",
      "Prompt after formatting:\n",
      "\u001b[32;1m\u001b[1;3mwhat is the famous tour place in Seoul? Tell me the name of the place only without additional comments.\u001b[0m\n",
      "\n",
      "\u001b[1m> Finished chain.\u001b[0m\n",
      "\n",
      "\n",
      "\u001b[1m> Entering new LLMChain chain...\u001b[0m\n",
      "Prompt after formatting:\n",
      "\u001b[32;1m\u001b[1;3mHow can I get  \n",
      "\n",
      "Gyeongbokgung Palace by subway?\u001b[0m\n",
      "\n",
      "\u001b[1m> Finished chain.\u001b[0m\n",
      "\n",
      "\u001b[1m> Finished chain.\u001b[0m\n"
     ]
    },
    {
     "data": {
      "text/plain": [
       "'\\n\\nTo get to Gyeongbokgung Palace by subway, take Line 3 (orange line) or Line 5 (purple line) to Gyeongbokgung Station. From there, take Exit 5 and walk for about 5 minutes to reach the palace.'"
      ]
     },
     "execution_count": 4,
     "metadata": {},
     "output_type": "execute_result"
    }
   ],
   "source": [
    "from langchain.llms import OpenAI\n",
    "from langchain.prompts import PromptTemplate\n",
    "from langchain.chains import LLMChain\n",
    "from langchain.chains import SequentialChain\n",
    "\n",
    "OPEN_AI_APIKEY=\"{YOUR_OPENAI_KEY}\"\n",
    "model = OpenAI(openai_api_key=OPEN_AI_APIKEY)\n",
    "\n",
    "prompt1 = PromptTemplate.from_template(\"what is the famous tour place in {city}? Tell me the name of the place only without additional comments.\")\n",
    "prompt2 = PromptTemplate.from_template(\"How can I get {place} by {transport}?\")\n",
    "chain1 = LLMChain(llm=model,prompt=prompt1,output_key=\"place\",verbose=True)\n",
    "chain2 = LLMChain(llm=model,prompt=prompt2,verbose=True)\n",
    "\n",
    "chain = SequentialChain(chains=[chain1,chain2]\n",
    "                        ,input_variables=[\"city\",\"transport\"],verbose=True)\n",
    "\n",
    "chain.run({'city':'Seoul','transport':'subway'})\n",
    "                                           "
   ]
  },
  {
   "cell_type": "markdown",
   "id": "ee214c54-8f45-470c-9854-abcf9152486d",
   "metadata": {},
   "source": [
    "# Sequential Advacned"
   ]
  },
  {
   "cell_type": "code",
   "execution_count": 39,
   "id": "76607942-d8c7-40b4-9635-8ef650f28291",
   "metadata": {
    "tags": []
   },
   "outputs": [
    {
     "name": "stdout",
     "output_type": "stream",
     "text": [
      "\n",
      "\n",
      "\u001b[1m> Entering new SequentialChain chain...\u001b[0m\n",
      "\n",
      "\n",
      "\u001b[1m> Entering new LLMChain chain...\u001b[0m\n",
      "Prompt after formatting:\n",
      "\u001b[32;1m\u001b[1;3mwhat is the famous tour place in Seoul? Tell me the name of the place only without additional comments.\u001b[0m\n",
      "\n",
      "\u001b[1m> Finished chain.\u001b[0m\n",
      "\n",
      "\n",
      "\u001b[1m> Entering new LLMChain chain...\u001b[0m\n",
      "Prompt after formatting:\n",
      "\u001b[32;1m\u001b[1;3mWhat is the top 5 restaurant in the  \n",
      "\n",
      "Gyeongbokgung Palace in city Seoul without additional comments?\u001b[0m\n",
      "\n",
      "\u001b[1m> Finished chain.\u001b[0m\n",
      "\n",
      "\n",
      "\u001b[1m> Entering new LLMChain chain...\u001b[0m\n",
      "Prompt after formatting:\n",
      "\u001b[32;1m\u001b[1;3mWhat is the best one restaurant and food for family dinner among \n",
      "\n",
      "1. HwaDongJang (화동장)\n",
      "2. Tosokchon Samgyetang (토속촌 삼계탕)\n",
      "3. Gyeongbokgung Palace Korean Restaurant (경복궁 한정식당)\n",
      "4. Jaha Son Mandu (자하손만두)\n",
      "5. Gaehwaok (개화옥) ?\u001b[0m\n",
      "\n",
      "\u001b[1m> Finished chain.\u001b[0m\n",
      "\n",
      "\n",
      "\u001b[1m> Entering new LLMChain chain...\u001b[0m\n",
      "Prompt after formatting:\n",
      "\u001b[32;1m\u001b[1;3mHow can I get the  \n",
      "\n",
      "Gyeongbokgung Palace by using subway?\u001b[0m\n",
      "\n",
      "\u001b[1m> Finished chain.\u001b[0m\n",
      "\n",
      "\n",
      "\u001b[1m> Entering new LLMChain chain...\u001b[0m\n",
      "Prompt after formatting:\n",
      "\u001b[32;1m\u001b[1;3mHuman: \n",
      "Please summarize the tour information with reastaurant information and transportation by using the this information.\n",
      "Restaurant informations : \n",
      "\n",
      "It ultimately depends on personal preferences, but Gyeongbokgung Palace Korean Restaurant (경복궁 한정식당) would be a great option for a family dinner. It offers traditional Korean cuisine in a beautiful setting, perfect for a special occasion or family gathering. The menu is also diverse, catering to different tastes and dietary restrictions. Additionally, the restaurant is located near the famous Gyeongbokgung Palace, providing a unique cultural experience for the whole family.\n",
      "Transport information : To get to Gyeongbokgung Palace by subway, you can take the Seoul Subway Line 3 to Gyeongbokgung Station (Exit 5). From there, it is a short walk to the palace entrance. Alternatively, you can take the Seoul Subway Line 5 to Gwanghwamun Station (Exit 2) and walk to the palace. Both stations are within walking distance to the palace and have clear signs in English to guide you. You can also use a navigation app on your phone to find the best route from your current location to Gyeongbokgung Palace.\n",
      "\u001b[0m\n",
      "\n",
      "\u001b[1m> Finished chain.\u001b[0m\n",
      "\n",
      "\u001b[1m> Finished chain.\u001b[0m\n"
     ]
    },
    {
     "data": {
      "text/plain": [
       "' \\nThe recommended restaurant for a family dinner is Gyeongbokgung Palace Korean Restaurant, which offers traditional Korean cuisine and is located near the famous Gyeongbokgung Palace. For transportation, you can take the Seoul Subway Line 3 or Line 5 to either Gyeongbokgung Station (Exit 5) or Gwanghwamun Station (Exit 2) and walk to the palace. Navigation apps are also available to help you find the best route.'"
      ]
     },
     "execution_count": 39,
     "metadata": {},
     "output_type": "execute_result"
    }
   ],
   "source": [
    "from langchain.llms import OpenAI\n",
    "from langchain.prompts import PromptTemplate\n",
    "from langchain.chains import LLMChain\n",
    "from langchain.chains import SequentialChain\n",
    "\n",
    "OPEN_AI_APIKEY=\"{YOUR_OPENAI_KEY}\"\n",
    "model = OpenAI(openai_api_key=OPEN_AI_APIKEY)\n",
    "\n",
    "prompt1 = PromptTemplate.from_template(\"what is the famous tour place in {city}? Tell me the name of the place only without additional comments.\")\n",
    "prompt2 = PromptTemplate.from_template(\"What is the top 5 restaurant in the {place} in city {city} without additional comments?\") #output : restaurants\n",
    "prompt3 = PromptTemplate.from_template(\"What is the best one restaurant and food for family dinner among {restaurants} ?\") #output : restaurant_information\n",
    "prompt4 = PromptTemplate.from_template(\"How can I get the {place} by using {transport}?\") #output : transport_information\n",
    "final_prompt = PromptTemplate.from_template(\"\"\"\n",
    "Please summarize the tour information with reastaurant information and transportation by using the this information.\n",
    "Restaurant informations : {restaurant_information}\n",
    "Transport information : {transport_information}\n",
    "\"\"\")\n",
    "            \n",
    "chain1 = LLMChain(llm=model,prompt=prompt1,output_key=\"place\",verbose=True)    \n",
    "chain2 = LLMChain(llm=model,prompt=prompt2,output_key=\"restaurants\",verbose=True)\n",
    "chain3 = LLMChain(llm=model,prompt=prompt3,output_key=\"restaurant_information\",verbose=True)\n",
    "chain4 = LLMChain(llm=model,prompt=prompt4,output_key=\"transport_information\",verbose=True)\n",
    "final_chain = LLMChain(llm=model,prompt=final_prompt,output_key=\"tour_summary\",verbose=True)\n",
    "chain = SequentialChain(chains=[chain1,chain2,chain3,chain4,final_chain]\n",
    "                        ,input_variables=[\"city\",\"transport\"],verbose=True)\n",
    "chain.run({'city':'Seoul','transport':'subway'})"
   ]
  },
  {
   "cell_type": "markdown",
   "id": "439139e6-e34d-448f-8c75-9e1799d0fa4e",
   "metadata": {},
   "source": [
    "# Router Chain"
   ]
  },
  {
   "cell_type": "code",
   "execution_count": 8,
   "id": "3c353a6d-4345-4bf7-a1fd-3da755f3c8ab",
   "metadata": {
    "tags": []
   },
   "outputs": [
    {
     "name": "stdout",
     "output_type": "stream",
     "text": [
      "\n",
      "\n",
      "\u001b[1m> Entering new MultiPromptChain chain...\u001b[0m\n"
     ]
    },
    {
     "name": "stderr",
     "output_type": "stream",
     "text": [
      "/Users/terrycho/anaconda3/lib/python3.11/site-packages/langchain/chains/llm.py:316: UserWarning: The predict_and_parse method is deprecated, instead pass an output parser directly to LLMChain.\n",
      "  warnings.warn(\n"
     ]
    },
    {
     "name": "stdout",
     "output_type": "stream",
     "text": [
      "restaurants: {'input': 'What is best restaurant in Seoul?'}\n",
      "\n",
      "\u001b[1m> Entering new LLMChain chain...\u001b[0m\n",
      "Prompt after formatting:\n",
      "\u001b[32;1m\u001b[1;3m\n",
      "You are a tourist guide. You know many good restaurants around the tourist destination.\n",
      "You can recommend good foods and restaurants.\n",
      "Here is a question:\n",
      "What is best restaurant in Seoul?\n",
      "\u001b[0m\n",
      "\n",
      "\u001b[1m> Finished chain.\u001b[0m\n",
      "\n",
      "\u001b[1m> Finished chain.\u001b[0m\n"
     ]
    },
    {
     "data": {
      "text/plain": [
       "'\\nThere are many great restaurants in Seoul, so it\\'s hard to choose just one as the \"best.\" However, some popular and highly recommended options include:\\n\\n1. Jungsik - a Michelin-starred restaurant that offers modern Korean cuisine with a twist\\n2. Myeongdong Kyoja - a famous spot for traditional handmade noodles and dumplings\\n3. Gwangjang Market - a must-visit for street food lovers, with a wide variety of Korean snacks and dishes\\n4. Hanilkwan - known for its delicious hanjeongsik, a traditional Korean meal with multiple courses\\n5. Maple Tree House - a popular restaurant for Korean barbecue, with high-quality meat and a cozy atmosphere\\n6. Tosokchon - famous for its samgyetang (ginseng chicken soup) and other traditional dishes\\n7. Garak Market - a seafood lover\\'s paradise, with a huge selection of fresh seafood to choose from and have cooked on the spot\\n8. Mingles - another Michelin-starred restaurant that combines Korean and international flavors in a creative way\\n9. Gwanghwamun Jip - a long-standing restaurant known for its delicious galbi (marinated beef ribs)\\n10. Noryangjin Fish Market'"
      ]
     },
     "execution_count": 8,
     "metadata": {},
     "output_type": "execute_result"
    }
   ],
   "source": [
    "from langchain.chains.router import MultiPromptChain\n",
    "from langchain.chains.router.llm_router import LLMRouterChain,RouterOutputParser\n",
    "from langchain.prompts import PromptTemplate\n",
    "from langchain.chains.router.multi_prompt_prompt import MULTI_PROMPT_ROUTER_TEMPLATE\n",
    "from langchain.chains import LLMChain\n",
    "from langchain.llms import OpenAI\n",
    "\n",
    "\n",
    "OPEN_AI_APIKEY=\"{YOUR_OPENAI_KEY}\"\n",
    "model = OpenAI(openai_api_key=OPEN_AI_APIKEY)\n",
    "\n",
    "restaurant_template = \"\"\"\n",
    "You are a tourist guide. You know many good restaurants around the tourist destination.\n",
    "You can recommend good foods and restaurants.\n",
    "Here is a question:\n",
    "{input}\n",
    "\"\"\"\n",
    "\n",
    "transport_template = \"\"\"\n",
    "You are a tourist guide. You have a lot of knowledge in public transportation.\n",
    "You can provide information about public transportation to help tourists get to the tourist destination.\n",
    "Here is a question:\n",
    "{input}\n",
    "\"\"\"\n",
    "\n",
    "destination_template = \"\"\"\n",
    "You are a tourist guide. You know many good tourist places.\n",
    "You can recommend good tourist places to the tourists.\n",
    "Here is a question:\n",
    "{input}\n",
    "\"\"\"\n",
    "\n",
    "prompt_infos = [\n",
    "    {\n",
    "        \"name\":\"restaurants\",\n",
    "        \"description\":\"Good for recommending restaurants around the tourist destinations\",\n",
    "        \"prompt_template\": restaurant_template\n",
    "    },\n",
    "    {\n",
    "        \"name\":\"transport\",\n",
    "        \"description\":\"Good for guiding the transport to get the place\",\n",
    "        \"prompt_template\": transport_template\n",
    "    },\n",
    "    {\n",
    "        \"name\":\"destination\",\n",
    "        \"description\":\"Good for recommending place to tour\",\n",
    "        \"prompt_template\": destination_template\n",
    "    }\n",
    "]\n",
    "\n",
    "destination_chains = {}\n",
    "for prompt_info in prompt_infos:\n",
    "    name = prompt_info[\"name\"]\n",
    "    prompt = PromptTemplate.from_template(prompt_info[\"prompt_template\"])\n",
    "    chain = LLMChain(llm = model, prompt=prompt,verbose=True)\n",
    "    destination_chains[name] = chain\n",
    "    \n",
    "destinations = [f\"{p['name']}: {p['description']}\" for p in prompt_infos]\n",
    "destinations_str = \"\\n\".join(destinations)\n",
    "\n",
    "router_template = MULTI_PROMPT_ROUTER_TEMPLATE.format(\n",
    "    destinations=destinations_str\n",
    ")\n",
    "#print(router_template)\n",
    "router_prompt = PromptTemplate(\n",
    "    template=router_template,\n",
    "    input_variables=[\"input\"],\n",
    "    output_parser=RouterOutputParser(),\n",
    ")\n",
    "\n",
    "router_chain = LLMRouterChain.from_llm(model, router_prompt)\n",
    "default_prompt = PromptTemplate.from_template(\"{input}\")\n",
    "default_chain = LLMChain(llm=model, prompt=default_prompt)\n",
    "\n",
    "chain = MultiPromptChain(router_chain=router_chain, \n",
    "                         destination_chains=destination_chains, \n",
    "                         default_chain=default_chain, verbose=True\n",
    "                        )\n",
    "\n",
    "chain.run(\"What is best restaurant in Seoul?\")"
   ]
  },
  {
   "cell_type": "code",
   "execution_count": null,
   "id": "5dcaafe2-1c27-421a-b31a-2e9cbf988b4c",
   "metadata": {},
   "outputs": [],
   "source": []
  }
 ],
 "metadata": {
  "kernelspec": {
   "display_name": "Python 3 (ipykernel)",
   "language": "python",
   "name": "python3"
  },
  "language_info": {
   "codemirror_mode": {
    "name": "ipython",
    "version": 3
   },
   "file_extension": ".py",
   "mimetype": "text/x-python",
   "name": "python",
   "nbconvert_exporter": "python",
   "pygments_lexer": "ipython3",
   "version": "3.11.4"
  }
 },
 "nbformat": 4,
 "nbformat_minor": 5
}
