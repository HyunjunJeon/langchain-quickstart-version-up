{
 "cells": [
  {
   "cell_type": "markdown",
   "id": "89140e66-bd84-44e1-b97d-a7abfd1e9a65",
   "metadata": {},
   "source": [
    "# LLMChain with LCEL"
   ]
  },
  {
   "cell_type": "code",
   "execution_count": 3,
   "id": "dbf1ab12-d1a2-4d0d-a715-7f9752c6e42d",
   "metadata": {
    "tags": []
   },
   "outputs": [
    {
     "name": "stdout",
     "output_type": "stream",
     "text": [
      "content=\"Seoul, the capital of South Korea, is home to many famous tourist attractions. Some of the most popular places to visit include:\\n\\n1. **Gyeongbokgung Palace**: The largest of the Five Grand Palaces built during the Joseon Dynasty, it features beautiful architecture and gardens.\\n\\n2. **Bukchon Hanok Village**: A traditional Korean village with well-preserved hanok (traditional Korean houses), offering a glimpse into the country's past.\\n\\n3. **N Seoul Tower (Namsan Tower)**: An iconic landmark that provides panoramic views of the city, especially beautiful at night.\\n\\n4. **Myeongdong**: A bustling shopping district known for its street food, cosmetics shops, and fashion boutiques.\\n\\n5. **Insadong**: A cultural district famous for its art galleries, traditional tea houses, and shops selling antiques and crafts.\\n\\n6. **Dongdaemun Design Plaza (DDP)**: A modern architectural marvel that hosts exhibitions, fashion shows, and markets.\\n\\n7. **Changdeokgung Palace and Secret Garden**: A UNESCO World Heritage site known for its beautiful gardens and traditional architecture.\\n\\n8. **Cheonggyecheon Stream**: A scenic urban stream that runs through downtown Seoul, perfect for a leisurely stroll.\\n\\n9. **Lotte World Tower**: One of the tallest buildings in the world, featuring an observation deck with stunning views.\\n\\n10. **Hongdae**: A vibrant area known for its youthful atmosphere, street performances, and nightlife.\\n\\nThese attractions showcase the rich history, culture, and modernity of Seoul, making it a fascinating destination for travelers.\" additional_kwargs={'refusal': None} response_metadata={'token_usage': {'completion_tokens': 327, 'prompt_tokens': 16, 'total_tokens': 343, 'completion_tokens_details': {'audio_tokens': None, 'reasoning_tokens': 0}, 'prompt_tokens_details': {'audio_tokens': None, 'cached_tokens': 0}}, 'model_name': 'gpt-4o-mini-2024-07-18', 'system_fingerprint': 'fp_482c22a7bc', 'finish_reason': 'stop', 'logprobs': None} id='run-24b32e88-b6d1-4ec0-bb8b-cdfa2151dbea-0' usage_metadata={'input_tokens': 16, 'output_tokens': 327, 'total_tokens': 343, 'input_token_details': {'cache_read': 0}, 'output_token_details': {'reasoning': 0}}\n",
      "content=\"Seoul is home to many famous tourist attractions. Some of the most popular places to visit include:\\n\\n1. **Gyeongbokgung Palace**: The largest of the Five Grand Palaces built during the Joseon Dynasty, known for its beautiful architecture and the changing of the guard ceremony.\\n\\n2. **Bukchon Hanok Village**: A traditional Korean village featuring hanoks (traditional Korean houses) that offer a glimpse into Korea's past.\\n\\n3. **N Seoul Tower (Namsan Tower)**: An iconic landmark that provides panoramic views of the city, especially beautiful at night.\\n\\n4. **Myeongdong**: A bustling shopping district known for its street food, cosmetics shops, and fashion boutiques.\\n\\n5. **Insadong**: A cultural district famous for its traditional tea houses, art galleries, and shops selling Korean crafts and antiques.\\n\\n6. **Dongdaemun Design Plaza (DDP)**: A modern architectural marvel that hosts exhibitions, fashion shows, and other cultural events.\\n\\n7. **Changdeokgung Palace and Secret Garden**: A UNESCO World Heritage site known for its beautiful gardens and harmonious design with nature.\\n\\n8. **Cheonggyecheon Stream**: A scenic urban stream that runs through downtown Seoul, perfect for a leisurely stroll.\\n\\n9. **Lotte World Tower**: One of the tallest buildings in the world, featuring an observation deck with stunning views.\\n\\n10. **Hongdae**: A vibrant neighborhood known for its youthful atmosphere, street performances, and nightlife.\\n\\nThese attractions showcase the rich history, culture, and modernity of Seoul, making it a fascinating destination for travelers.\" additional_kwargs={'refusal': None} response_metadata={'token_usage': {'completion_tokens': 329, 'prompt_tokens': 16, 'total_tokens': 345, 'completion_tokens_details': {'audio_tokens': None, 'reasoning_tokens': 0}, 'prompt_tokens_details': {'audio_tokens': None, 'cached_tokens': 0}}, 'model_name': 'gpt-4o-mini-2024-07-18', 'system_fingerprint': 'fp_482c22a7bc', 'finish_reason': 'stop', 'logprobs': None} id='run-de067a0b-6af4-4f48-892e-80404c8448a8-0' usage_metadata={'input_tokens': 16, 'output_tokens': 329, 'total_tokens': 345, 'input_token_details': {'cache_read': 0}, 'output_token_details': {'reasoning': 0}}\n"
     ]
    }
   ],
   "source": [
    "# LLM Model\n",
    "from langchain_openai import ChatOpenAI\n",
    "from langchain_core.prompts import PromptTemplate\n",
    "\n",
    "OPEN_AI_APIKEY = \"{YOUR_OPENAI_KEY}\"\n",
    "model = ChatOpenAI(api_key=OPEN_AI_APIKEY)\n",
    "\n",
    "prompt = PromptTemplate.from_template(\"what is the famous tour place in {city}?\")\n",
    "chain = prompt | model\n",
    "city = \"Seoul\"\n",
    "\n",
    "response1 = chain.invoke({\"city\": city})\n",
    "response2 = chain.invoke(city)\n",
    "print(response1)\n",
    "print(response2)"
   ]
  },
  {
   "cell_type": "markdown",
   "id": "936fdeca-12ee-4597-a9af-4ab2240f85c1",
   "metadata": {},
   "source": [
    "# Sequential Chain with LCEL\n",
    "ref : https://python.langchain.com/docs/expression_language/cookbook/multiple_chains"
   ]
  },
  {
   "cell_type": "code",
   "execution_count": 4,
   "id": "5d916f12-b226-4eed-8c81-da1f1f96f040",
   "metadata": {},
   "outputs": [
    {
     "data": {
      "text/plain": [
       "AIMessage(content='To get to Gyeongbokgung Palace by subway in Seoul, follow these steps:\\n\\n1. **Find the Nearest Subway Station**: The closest subway station to Gyeongbokgung Palace is **Gyeongbokgung Station** on Line 3 (the Orange Line).\\n\\n2. **Directions to Gyeongbokgung Station**:\\n   - If you are starting from **Incheon International Airport**, take the Airport Railroad Express (AREX) to **Seoul Station**. From Seoul Station, transfer to Line 4 (the Blue Line) and go to **Gwanghwamun Station**. From there, you can walk to Gyeongbokgung Palace.\\n   - If you are starting from **Seoul Station**, take Line 1 (the Dark Blue Line) to **City Hall Station**, then transfer to Line 2 (the Green Line) and go to **Gyeongbokgung Station**.\\n\\n3. **Exit the Station**: Once you arrive at Gyeongbokgung Station, use Exit 5. The palace is a short walk from the station.\\n\\n4. **Walking Directions**: After exiting, follow the signs to Gyeongbokgung Palace. It should take about 5-10 minutes on foot.\\n\\nMake sure to check the subway schedule and any potential service changes before your trip. Enjoy your visit to Gyeongbokgung Palace!', additional_kwargs={'refusal': None}, response_metadata={'token_usage': {'completion_tokens': 285, 'prompt_tokens': 219, 'total_tokens': 504, 'completion_tokens_details': {'audio_tokens': None, 'reasoning_tokens': 0}, 'prompt_tokens_details': {'audio_tokens': None, 'cached_tokens': 0}}, 'model_name': 'gpt-4o-mini-2024-07-18', 'system_fingerprint': 'fp_482c22a7bc', 'finish_reason': 'stop', 'logprobs': None}, id='run-8b803cbb-d114-4241-ac27-b6da3e4e3f8f-0', usage_metadata={'input_tokens': 219, 'output_tokens': 285, 'total_tokens': 504, 'input_token_details': {'cache_read': 0}, 'output_token_details': {'reasoning': 0}})"
      ]
     },
     "execution_count": 4,
     "metadata": {},
     "output_type": "execute_result"
    }
   ],
   "source": [
    "# Sequential Chain with LCEL\n",
    "from operator import itemgetter\n",
    "\n",
    "from langchain_openai import ChatOpenAI\n",
    "from langchain_core.prompts import PromptTemplate\n",
    "\n",
    "OPEN_AI_APIKEY = \"{YOUR_OPENAI_KEY}\"\n",
    "model = ChatOpenAI(api_key=OPEN_AI_APIKEY)\n",
    "\n",
    "prompt1 = PromptTemplate.from_template(\n",
    "    \"what is the famous tour place in {city}? Tell me the name of the place only without additional comments.\"\n",
    ")\n",
    "prompt2 = PromptTemplate.from_template(\"How can I get {place} by {transport}?\")\n",
    "chain1 = prompt1 | model\n",
    "chain2 = prompt2 | model\n",
    "chain = {\"place\": chain1, \"transport\": itemgetter(\"transport\")} | chain2\n",
    "chain.invoke({\"city\": \"Seoul\", \"transport\": \"subway\"})"
   ]
  },
  {
   "cell_type": "markdown",
   "id": "ac41e975-cefc-4e9a-8ce2-0e9e5a6c4c2b",
   "metadata": {},
   "source": [
    "# Sequential Advacned with LCEL"
   ]
  },
  {
   "cell_type": "code",
   "execution_count": 5,
   "id": "98ad5284-f353-47b9-b9c8-4e5fb81ee2ff",
   "metadata": {},
   "outputs": [
    {
     "data": {
      "text/plain": [
       "'### Tour Information Summary\\n\\n**Dining Options:**\\nWhen choosing a restaurant for a family dinner, consider the following options based on your preferences:\\n\\n1. **Tosokchon Samgyetang**: Ideal for families seeking a traditional Korean experience, famous for its ginseng chicken soup in a casual atmosphere.\\n\\n2. **The Lounge & Bar at The Four Seasons Hotel Seoul**: Offers a luxurious dining experience with a diverse international menu, suitable for families looking for upscale dining.\\n\\n3. **Hanok Jib**: Provides a traditional Korean dining experience in a hanok setting, family-friendly with a variety of local dishes.\\n\\n4. **Bukchon Son Mandu**: A cozy spot known for handmade dumplings, perfect for casual dining and popular with kids.\\n\\n5. **Café de Flore**: A relaxed café offering a mix of Western and Korean dishes, suitable for families wanting a casual dining atmosphere.\\n\\n**Recommendation**: For a traditional Korean meal in a casual setting, **Tosokchon Samgyetang** is highly recommended. For a more upscale experience, consider **The Lounge & Bar at The Four Seasons Hotel Seoul**.\\n\\n---\\n\\n**Transportation to Gyeongbokgung Palace:**\\nTo reach Gyeongbokgung Palace via subway:\\n\\n1. **Nearest Station**: Gyeongbokgung Station (Line 3 - Orange Line).\\n\\n2. **Travel Directions**:\\n   - From **Incheon International Airport**: Take the Airport Railroad Express (AREX) to **Seoul Station**, then transfer to Line 4 (Blue Line) to Gyeongbokgung Station.\\n   - From **Seoul Station**: Take Line 4 directly to Gyeongbokgung Station.\\n   - From **Myeongdong**: Take Line 4 from Myeongdong Station to Gyeongbokgung Station.\\n\\n3. **Exit and Walk**: Upon arrival, use Exit 5 and follow the signs for a short walk to the palace entrance.\\n\\n**Note**: Check subway schedules for any service changes before traveling. Enjoy your visit to Gyeongbokgung Palace!'"
      ]
     },
     "execution_count": 5,
     "metadata": {},
     "output_type": "execute_result"
    }
   ],
   "source": [
    "from operator import itemgetter\n",
    "from langchain_openai import ChatOpenAI\n",
    "from langchain_core.prompts import PromptTemplate\n",
    "from langchain_core.output_parsers import StrOutputParser\n",
    "\n",
    "OPEN_AI_APIKEY = \"{YOUR_OPENAI_KEY}\"\n",
    "model = ChatOpenAI(api_key=OPEN_AI_APIKEY)\n",
    "\n",
    "prompt1 = PromptTemplate.from_template(\n",
    "    \"what is the famous tour place in {city}? Tell me the name of the place only without additional comments.\"\n",
    ")\n",
    "prompt2 = PromptTemplate.from_template(\n",
    "    \"What is the top 5 restaurant in the {place} in city {city} without additional comments?\"\n",
    ")  # output : restaurants\n",
    "prompt3 = PromptTemplate.from_template(\n",
    "    \"What is the best one restaurant and food for family dinner among {restaurants} ?\"\n",
    ")  # output : restaurant_information\n",
    "prompt4 = PromptTemplate.from_template(\n",
    "    \"How can I get the {place} by using {transport}?\"\n",
    ")  # output : transport_information\n",
    "final_prompt = PromptTemplate.from_template(\n",
    "    \"\"\"\n",
    "Please summarize the tour information with reastaurant information and transportation by using the this information.\n",
    "Restaurant informations : {restaurant_information}\n",
    "Transport information : {transport_information}\n",
    "\"\"\"\n",
    ")\n",
    "\n",
    "chain1 = {\"city\": itemgetter(\"city\")} | prompt1 | model | StrOutputParser()\n",
    "chain2 = (\n",
    "    {\"place\": chain1, \"city\": itemgetter(\"city\")} | prompt2 | model | StrOutputParser()\n",
    ")\n",
    "chain3 = {\"restaurants\": chain2} | prompt3 | model | StrOutputParser()\n",
    "chain4 = (\n",
    "    {\"place\": chain1, \"transport\": itemgetter(\"transport\")}\n",
    "    | prompt4\n",
    "    | model\n",
    "    | StrOutputParser()\n",
    ")\n",
    "final_chain = (\n",
    "    {\"restaurant_information\": chain3, \"transport_information\": chain4}\n",
    "    | final_prompt\n",
    "    | model\n",
    "    | StrOutputParser()\n",
    ")\n",
    "\n",
    "final_chain.invoke({\"city\": \"Seoul\", \"transport\": \"subway\"})"
   ]
  },
  {
   "cell_type": "markdown",
   "id": "18d7bb2f-9423-401d-a8ef-898c7e7d2c0f",
   "metadata": {},
   "source": [
    "# Router with LCEL\n"
   ]
  },
  {
   "cell_type": "code",
   "execution_count": 6,
   "id": "c555d11a-60ce-4261-ae95-a85811768469",
   "metadata": {
    "tags": []
   },
   "outputs": [
    {
     "name": "stdout",
     "output_type": "stream",
     "text": [
      "restaurants: Good for recommending restaurants around the tourist destinations\n",
      "transport: Good for guiding the transport to get the place\n",
      "destination: Good for recommending place to tour\n"
     ]
    },
    {
     "data": {
      "text/plain": [
       "\"Seoul is known for its vibrant food scene, offering a wide range of dining options. Here are some of the best restaurants you might want to consider:\\n\\n1. **Mingles** - A Michelin-starred restaurant that blends traditional Korean flavors with modern techniques. The seasonal tasting menu is highly recommended.\\n\\n2. **Jungsik** - Another Michelin-starred establishment, Jungsik offers a contemporary take on Korean cuisine, with beautifully presented dishes and a sophisticated atmosphere.\\n\\n3. **Gwangjang Market** - While not a restaurant per se, this market is a must-visit for street food lovers. Try the bindaetteok (mung bean pancakes) and mayak gimbap (addictive rice rolls).\\n\\n4. **Tosokchon Samgyetang** - Famous for its ginseng chicken soup, this restaurant is a favorite among locals and tourists alike. The rich broth and tender chicken make it a comforting choice.\\n\\n5. **Baekjeong** - A popular Korean BBQ chain known for its high-quality meats and lively atmosphere. It's a great place to experience the Korean BBQ culture.\\n\\n6. **Noryangjin Fish Market** - For seafood lovers, this market allows you to select fresh seafood and have it prepared on-site at one of the nearby restaurants.\\n\\n7. **Sanchon** - Located in the Insadong area, this restaurant offers a unique temple cuisine experience, featuring vegetarian dishes inspired by Buddhist traditions.\\n\\nEach of these places offers a unique dining experience, so it depends on what type of cuisine you're in the mood for!\""
      ]
     },
     "execution_count": 6,
     "metadata": {},
     "output_type": "execute_result"
    }
   ],
   "source": [
    "from operator import itemgetter\n",
    "from langchain_openai import ChatOpenAI\n",
    "from langchain_core.prompts import PromptTemplate\n",
    "from langchain_core.output_parsers import StrOutputParser\n",
    "from langchain_core.runnables import RunnableBranch\n",
    "\n",
    "# OPEN_AI_APIKEY = \"{YOUR_OPENAI_KEY}\"\n",
    "# model = ChatOpenAI(api_key=OPEN_AI_APIKEY)\n",
    "\n",
    "restaurant_template = \"\"\"\n",
    "You are a tourist guide. You know many good restaurants around the tourist destination.\n",
    "You can recommend good foods and restaurants.\n",
    "Here is a question:\n",
    "{input}\n",
    "\"\"\"\n",
    "\n",
    "transport_template = \"\"\"\n",
    "You are a tourist guide. You have a lot of knowledge in public transportation.\n",
    "You can provide information about public transportation to help tourists get to the tourist destination.\n",
    "Here is a question:\n",
    "{input}\n",
    "\"\"\"\n",
    "\n",
    "destination_template = \"\"\"\n",
    "You are a tourist guide. You know many good tourist places.\n",
    "You can recommend good tourist places to the tourists.\n",
    "Here is a question:\n",
    "{input}\n",
    "\"\"\"\n",
    "\n",
    "prompt_infos = [\n",
    "    {\n",
    "        \"name\": \"restaurants\",\n",
    "        \"description\": \"Good for recommending restaurants around the tourist destinations\",\n",
    "        \"prompt_template\": restaurant_template,\n",
    "    },\n",
    "    {\n",
    "        \"name\": \"transport\",\n",
    "        \"description\": \"Good for guiding the transport to get the place\",\n",
    "        \"prompt_template\": transport_template,\n",
    "    },\n",
    "    {\n",
    "        \"name\": \"destination\",\n",
    "        \"description\": \"Good for recommending place to tour\",\n",
    "        \"prompt_template\": destination_template,\n",
    "    },\n",
    "]\n",
    "\n",
    "destination_chains = {}\n",
    "for prompt_info in prompt_infos:\n",
    "    name = prompt_info[\"name\"]\n",
    "    prompt = PromptTemplate.from_template(prompt_info[\"prompt_template\"])\n",
    "    chain = prompt | model | StrOutputParser()\n",
    "    destination_chains[name] = chain\n",
    "\n",
    "destinations = [f\"{p['name']}: {p['description']}\" for p in prompt_infos]\n",
    "destinations_str = \"\\n\".join(destinations)\n",
    "\n",
    "default_prompt = PromptTemplate.from_template(\"{input}\")\n",
    "default_chain = default_prompt | model | StrOutputParser()\n",
    "\n",
    "router_prompt = PromptTemplate(\n",
    "    template=\"\"\"\n",
    "For the given question, refer to the explanations for the following categories below and select the appropriate category. \n",
    "If there is no suitable category, return the string \"default\".\n",
    "The output should be single word \n",
    "\n",
    "Categories are composed of strings in the format \"Category: Description\", and the categories are as follows:\n",
    "{destinations_str}\n",
    "\n",
    "Question:\n",
    "{input}\n",
    "\"\"\",\n",
    "    input_variables=[\"input\"],\n",
    "    partial_variables={\"destinations_str\": destinations_str},\n",
    ")\n",
    "\n",
    "print(destinations_str)\n",
    "router_chain = (\n",
    "    {\"input\": itemgetter(\"input\")} | router_prompt | model | StrOutputParser()\n",
    ")\n",
    "\n",
    "# branch = RunnableBranch(\n",
    "#    (lambda x: \"restaurants\" in x['destination'].lower(), destination_chains['restaurants']),\n",
    "#    (lambda x: \"transport\" in x['destination'].lower(), destination_chains['transport']),\n",
    "#    (lambda x: \"destination\" in x['destination'].lower(), destination_chains['destination']),\n",
    "#    default_chain,\n",
    "# )\n",
    "\n",
    "branch = RunnableBranch(\n",
    "    *(\n",
    "        (\n",
    "            lambda x, name=prompt_info[\"name\"], chain=destination_chains[name]: name\n",
    "            in x[\"destination\"].replace(\"\\n\", \"\"),\n",
    "            chain,\n",
    "        )\n",
    "        for prompt_info in prompt_infos\n",
    "    ),\n",
    "    default_chain,\n",
    ")\n",
    "\n",
    "full_chain = {\"input\": itemgetter(\"input\"), \"destination\": router_chain} | branch\n",
    "\n",
    "input = \"What is best restaurant in Seoul?\"\n",
    "output = full_chain.invoke({\"input\": input})\n",
    "\n",
    "output"
   ]
  }
 ],
 "metadata": {
  "kernelspec": {
   "display_name": "Python 3 (ipykernel)",
   "language": "python",
   "name": "python3"
  },
  "language_info": {
   "codemirror_mode": {
    "name": "ipython",
    "version": 3
   },
   "file_extension": ".py",
   "mimetype": "text/x-python",
   "name": "python",
   "nbconvert_exporter": "python",
   "pygments_lexer": "ipython3",
   "version": "3.12.6"
  }
 },
 "nbformat": 4,
 "nbformat_minor": 5
}
