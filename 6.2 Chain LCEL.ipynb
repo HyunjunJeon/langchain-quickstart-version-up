{
 "cells": [
  {
   "cell_type": "markdown",
   "id": "89140e66-bd84-44e1-b97d-a7abfd1e9a65",
   "metadata": {},
   "source": [
    "# LLMChain with LCEL"
   ]
  },
  {
   "cell_type": "code",
   "execution_count": 32,
   "id": "dbf1ab12-d1a2-4d0d-a715-7f9752c6e42d",
   "metadata": {
    "tags": []
   },
   "outputs": [
    {
     "data": {
      "text/plain": [
       "'\\n\\nOne of the most famous tour places in Seoul is the Gyeongbokgung Palace, which is the largest and most iconic royal palace in South Korea. It is known for its grand architecture, beautiful gardens, and rich history.'"
      ]
     },
     "execution_count": 32,
     "metadata": {},
     "output_type": "execute_result"
    }
   ],
   "source": [
    "#LLM Model\n",
    "from langchain.llms import OpenAI\n",
    "from langchain.prompts import PromptTemplate\n",
    "from langchain.chains import LLMChain\n",
    "\n",
    "OPEN_AI_APIKEY=\"{YOUR_OPENAI_KEY}\"\n",
    "model = OpenAI(openai_api_key=OPEN_AI_APIKEY)\n",
    "\n",
    "prompt = PromptTemplate.from_template(\"what is the famous tour place in {city}?\")\n",
    "chain = prompt | model\n",
    "city = \"Seoul\"\n",
    "chain.invoke({\"city\":city})\n",
    "                                           "
   ]
  },
  {
   "cell_type": "markdown",
   "id": "936fdeca-12ee-4597-a9af-4ab2240f85c1",
   "metadata": {},
   "source": [
    "# Sequential Chain with LCEL\n",
    "ref : https://python.langchain.com/docs/expression_language/cookbook/multiple_chains"
   ]
  },
  {
   "cell_type": "code",
   "execution_count": 16,
   "id": "5d916f12-b226-4eed-8c81-da1f1f96f040",
   "metadata": {},
   "outputs": [
    {
     "name": "stdout",
     "output_type": "stream",
     "text": [
      "content='To get to Gyeongbokgung Palace in Seoul, South Korea by subway, you can follow these steps:\\n\\n1. Find the nearest subway station to your location.\\n2. Check the subway map or use a navigation app to determine the best subway line and route to reach Gyeongbokgung Palace.\\n3. Board the subway train heading towards the designated direction.\\n4. Depending on your starting point, you may need to change subway lines or transfer at different stations.\\n5. Keep an eye on the subway announcements and electronic displays to ensure you are on the right train and heading in the correct direction.\\n6. Get off at the designated subway station for Gyeongbokgung Palace. The nearest station is \"Gyeongbokgung Station\" (Seoul Subway Line 3), Exit 5.\\n7. Follow the signs or ask for directions to the palace. It is within walking distance from the subway station.\\n8. Enjoy your visit to Gyeongbokgung Palace!\\n\\nNote: It is always recommended to check the latest subway schedules and any potential service disruptions before your journey.'\n"
     ]
    }
   ],
   "source": [
    "# Sequential Chain with LCEL\n",
    "from operator import itemgetter\n",
    "\n",
    "from langchain.chat_models import ChatOpenAI\n",
    "from langchain.prompts import PromptTemplate\n",
    "from langchain.schema import StrOutputParser\n",
    "\n",
    "OPEN_AI_APIKEY=\"{YOUR_OPENAI_KEY}\"\n",
    "model = ChatOpenAI(openai_api_key=OPEN_AI_APIKEY)\n",
    "\n",
    "prompt1 = PromptTemplate.from_template(\"what is the famous tour place in {city}? Tell me the name of the place only without additional comments.\")\n",
    "prompt2 = PromptTemplate.from_template(\"How can I get {place} by {transport}?\")\n",
    "chain1 = prompt1 | model \n",
    "chain2 = prompt2 | model \n",
    "chain = {\"place\":chain1,\"transport\":itemgetter(\"transport\")} | chain2\n",
    "output = chain.invoke({\"city\": \"Seoul\", \"transport\": \"subway\"})\n",
    "print(output)"
   ]
  },
  {
   "cell_type": "markdown",
   "id": "ac41e975-cefc-4e9a-8ce2-0e9e5a6c4c2b",
   "metadata": {},
   "source": [
    "# Sequential Advacned with LCEL"
   ]
  },
  {
   "cell_type": "code",
   "execution_count": 25,
   "id": "98ad5284-f353-47b9-b9c8-4e5fb81ee2ff",
   "metadata": {},
   "outputs": [
    {
     "name": "stdout",
     "output_type": "stream",
     "text": [
      "\n",
      "The Gyeongbokgung Palace tour offers a great opportunity to experience traditional Korean culture. For a family dinner, Gogung Korean Royal Cuisine is a popular choice due to its welcoming atmosphere and diverse menu options. To get to the palace, you can take Line 3 or 5 of the subway and get off at Gyeongbokgung or Gwanghwamun Station, respectively. Both stations have underground tunnels that lead directly to the palace. \n"
     ]
    }
   ],
   "source": [
    "from operator import itemgetter\n",
    "from langchain.llms import OpenAI\n",
    "from langchain.prompts import PromptTemplate\n",
    "from langchain.chains import LLMChain\n",
    "from langchain.chains import SequentialChain\n",
    "from langchain.schema import StrOutputParser\n",
    "\n",
    "OPEN_AI_APIKEY=\"{YOUR_OPENAI_KEY}\"\n",
    "model = OpenAI(openai_api_key=OPEN_AI_APIKEY)\n",
    "\n",
    "prompt1 = PromptTemplate.from_template(\"what is the famous tour place in {city}? Tell me the name of the place only without additional comments.\")\n",
    "prompt2 = PromptTemplate.from_template(\"What is the top 5 restaurant in the {place} in city {city} without additional comments?\") #output : restaurants\n",
    "prompt3 = PromptTemplate.from_template(\"What is the best one restaurant and food for family dinner among {restaurants} ?\") #output : restaurant_information\n",
    "prompt4 = PromptTemplate.from_template(\"How can I get the {place} by using {transport}?\") #output : transport_information\n",
    "final_prompt = PromptTemplate.from_template(\"\"\"\n",
    "Please summarize the tour information with reastaurant information and transportation by using the this information.\n",
    "Restaurant informations : {restaurant_information}\n",
    "Transport information : {transport_information}\n",
    "\"\"\")\n",
    "            \n",
    "chain1 = {\"city\":itemgetter(\"city\")} | prompt1 | model | StrOutputParser()\n",
    "chain2 = {\"place\":chain1,\"city\":itemgetter(\"city\")} | prompt2 | model | StrOutputParser()\n",
    "chain3 = {\"restaurants\":chain2} | prompt3 | model |StrOutputParser()\n",
    "chain4 = {\"place\":chain1,\"transport\":itemgetter(\"transport\")} | prompt4 | model | StrOutputParser()\n",
    "final_chain = { \"restaurant_information\":chain3 , \"transport_information\":chain4 } | final_prompt | model | StrOutputParser()\n",
    "output = final_chain.invoke({\"city\": \"Seoul\", \"transport\": \"subway\"})\n",
    "\n",
    "print(output)"
   ]
  },
  {
   "cell_type": "markdown",
   "id": "18d7bb2f-9423-401d-a8ef-898c7e7d2c0f",
   "metadata": {},
   "source": [
    "# Router with LCEL\n"
   ]
  },
  {
   "cell_type": "code",
   "execution_count": 34,
   "id": "c555d11a-60ce-4261-ae95-a85811768469",
   "metadata": {
    "tags": []
   },
   "outputs": [
    {
     "name": "stdout",
     "output_type": "stream",
     "text": [
      "restaurants: Good for recommending restaurants around the tourist destinations\n",
      "transport: Good for guiding the transport to get the place\n",
      "destination: Good for recommending place to tour\n",
      "\n",
      "\n",
      "\u001b[1m> Entering new LLMChain chain...\u001b[0m\n",
      "Prompt after formatting:\n",
      "\u001b[32;1m\u001b[1;3m\n",
      "You are a tourist guide. You know many good tourist places.\n",
      "You can recommend good tourist places to the tourists.\n",
      "Here is a question:\n",
      "What is best restaurant in Seoul?\n",
      "\u001b[0m\n",
      "\n",
      "\u001b[1m> Finished chain.\u001b[0m\n",
      "\n",
      "As a tourist guide, I highly recommend visiting the famous Gwangjang Market in Seoul. It is a bustling market filled with a variety of food stalls offering traditional Korean dishes such as bibimbap, tteokbokki, and mandu. Among the many options, I would say the best restaurant in Seoul is a small stall called \"Myeongdong Kyoja\" which specializes in handmade kalguksu (knife-cut noodles) and mandu (dumplings). The dishes are made with fresh and high-quality ingredients, and the flavors are simply delicious. The restaurant is also conveniently located near popular tourist spots such as Myeongdong and Insadong. I highly recommend trying their kalguksu and mandu for a truly authentic Korean dining experience in Seoul.\n"
     ]
    }
   ],
   "source": [
    "from langchain.prompts import PromptTemplate\n",
    "from langchain.chains import LLMChain\n",
    "from langchain.llms import OpenAI\n",
    "from operator import itemgetter\n",
    "from langchain.schema import StrOutputParser\n",
    "from langchain_core.runnables import RunnableBranch\n",
    "\n",
    "OPEN_AI_APIKEY=\"{YOUR_OPENAI_KEY}\"\n",
    "model = OpenAI(openai_api_key=OPEN_AI_APIKEY)\n",
    "\n",
    "restaurant_template = \"\"\"\n",
    "You are a tourist guide. You know many good restaurants around the tourist destination.\n",
    "You can recommend good foods and restaurants.\n",
    "Here is a question:\n",
    "{input}\n",
    "\"\"\"\n",
    "\n",
    "transport_template = \"\"\"\n",
    "You are a tourist guide. You have a lot of knowledge in public transportation.\n",
    "You can provide information about public transportation to help tourists get to the tourist destination.\n",
    "Here is a question:\n",
    "{input}\n",
    "\"\"\"\n",
    "\n",
    "destination_template = \"\"\"\n",
    "You are a tourist guide. You know many good tourist places.\n",
    "You can recommend good tourist places to the tourists.\n",
    "Here is a question:\n",
    "{input}\n",
    "\"\"\"\n",
    "\n",
    "prompt_infos = [\n",
    "    {\n",
    "        \"name\":\"restaurants\",\n",
    "        \"description\":\"Good for recommending restaurants around the tourist destinations\",\n",
    "        \"prompt_template\": restaurant_template\n",
    "    },\n",
    "    {\n",
    "        \"name\":\"transport\",\n",
    "        \"description\":\"Good for guiding the transport to get the place\",\n",
    "        \"prompt_template\": transport_template\n",
    "    },\n",
    "    {\n",
    "        \"name\":\"destination\",\n",
    "        \"description\":\"Good for recommending place to tour\",\n",
    "        \"prompt_template\": destination_template\n",
    "    }\n",
    "]\n",
    "\n",
    "destination_chains = {}\n",
    "for prompt_info in prompt_infos:\n",
    "    name = prompt_info[\"name\"]\n",
    "    prompt = PromptTemplate.from_template(prompt_info[\"prompt_template\"])\n",
    "    chain = LLMChain(llm = model, prompt=prompt,verbose=True)\n",
    "    destination_chains[name] = chain\n",
    "    \n",
    "destinations = [f\"{p['name']}: {p['description']}\" for p in prompt_infos]\n",
    "destinations_str = \"\\n\".join(destinations)\n",
    "\n",
    "default_prompt = PromptTemplate.from_template(\"{input}\")\n",
    "default_chain = LLMChain(llm=model, prompt=default_prompt)\n",
    "\n",
    "router_prompt = PromptTemplate(template=\"\"\"\n",
    "For the given question, refer to the explanations for the following categories below and select the appropriate category. \n",
    "If there is no suitable category, return the string \"default\".\n",
    "The output should be single word \n",
    "\n",
    "Categories are composed of strings in the format \"Category: Description\", and the categories are as follows:\n",
    "{destinations_str}\n",
    "\n",
    "Question:\n",
    "{input}\n",
    "\"\"\",input_variables=[\"input\"],partial_variables={\"destinations_str\":destinations_str})\n",
    "\n",
    "print(destinations_str)\n",
    "router_chain = {\"input\":itemgetter(\"input\")} |router_prompt | model | StrOutputParser()\n",
    "\n",
    "#branch = RunnableBranch(\n",
    "#    (lambda x: \"restaurants\" in x['destination'].lower(), destination_chains['restaurants']),\n",
    "#    (lambda x: \"transport\" in x['destination'].lower(), destination_chains['transport']),\n",
    "#    (lambda x: \"destination\" in x['destination'].lower(), destination_chains['destination']),\n",
    "#    default_chain,\n",
    "#)\n",
    "\n",
    "branch = RunnableBranch(\n",
    "    *(\n",
    "        (lambda x, name=prompt_info[\"name\"], chain=destination_chains[name]: name in x['destination'].replace(\"\\n\", \"\"), chain) \n",
    "        for prompt_info in prompt_infos\n",
    "    ),\n",
    "    default_chain\n",
    ")\n",
    "\n",
    "full_chain = {\"input\":itemgetter(\"input\"),\"destination\":router_chain} | branch \n",
    "\n",
    "input = \"What is best restaurant in Seoul?\"\n",
    "output = full_chain.invoke({\"input\":input})\n",
    "   \n",
    "print(output['text'])"
   ]
  },
  {
   "cell_type": "code",
   "execution_count": null,
   "id": "da474bc8-2408-48b2-8d74-87a7e4828020",
   "metadata": {},
   "outputs": [],
   "source": []
  },
  {
   "cell_type": "code",
   "execution_count": null,
   "id": "dfd2ded4-5251-4d78-959b-8861d514715c",
   "metadata": {},
   "outputs": [],
   "source": []
  }
 ],
 "metadata": {
  "kernelspec": {
   "display_name": "Python 3 (ipykernel)",
   "language": "python",
   "name": "python3"
  },
  "language_info": {
   "codemirror_mode": {
    "name": "ipython",
    "version": 3
   },
   "file_extension": ".py",
   "mimetype": "text/x-python",
   "name": "python",
   "nbconvert_exporter": "python",
   "pygments_lexer": "ipython3",
   "version": "3.11.4"
  }
 },
 "nbformat": 4,
 "nbformat_minor": 5
}
