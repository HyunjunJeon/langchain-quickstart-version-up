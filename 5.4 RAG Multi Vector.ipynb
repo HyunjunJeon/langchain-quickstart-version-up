{
 "cells": [
  {
   "cell_type": "markdown",
   "id": "0c6ad87e-1f5e-4ba0-b1f6-49e499b24df5",
   "metadata": {},
   "source": [
    "# MultiVector"
   ]
  },
  {
   "cell_type": "code",
   "execution_count": 2,
   "id": "def27946-2801-4fb4-9bfa-dcab4a4c4e43",
   "metadata": {
    "tags": []
   },
   "outputs": [
    {
     "name": "stderr",
     "output_type": "stream",
     "text": [
      "/Users/jhj/.pyenv/versions/langchain-quickstart-version-up/lib/python3.12/site-packages/pinecone/data/index.py:1: TqdmWarning: IProgress not found. Please update jupyter and ipywidgets. See https://ipywidgets.readthedocs.io/en/stable/user_install.html\n",
      "  from tqdm.autonotebook import tqdm\n"
     ]
    },
    {
     "name": "stdout",
     "output_type": "stream",
     "text": [
      "['Korea Transport.txt', 'Korean food.txt', 'Korean tourist destination.txt', 'Korea things todo.txt']\n",
      "[Document(metadata={'doc_id': '577194cc-7584-45cc-b727-b8566be75cf6', 'type': 'summary', 'text': \"South Korea has convenient, efficient, and affordable public transportation systems including subways, buses, trains, and taxis. Major cities like Seoul, Busan, Incheon, Daegu, and Daejeon have well-developed public transit networks. Seoul has a world-class subway system with 10 lines, while Busan has a 4-line metro system. Incheon has two light rail metro lines, Daegu has a simple two-line metro, and Daejeon has a single metro line. The KTX high-speed rail offers comfortable and fast travel between cities. The author is willing to provide more information to help travelers navigate South Korea's transportation systems.\"}, page_content=\"South Korea has convenient, efficient, and affordable public transportation systems including subways, buses, trains, and taxis. Major cities like Seoul, Busan, Incheon, Daegu, and Daejeon have well-developed public transit networks. Seoul has a world-class subway system with 10 lines, while Busan has a 4-line metro system. Incheon has two light rail metro lines, Daegu has a simple two-line metro, and Daejeon has a single metro line. The KTX high-speed rail offers comfortable and fast travel between cities. The author is willing to provide more information to help travelers navigate South Korea's transportation systems.\"), Document(metadata={'doc_id': 'e1ed9d45-9fca-4dc4-8151-84c896fde65a', 'type': 'summary', 'text': 'The document provides descriptions of 20 popular Korean dishes, highlighting their key ingredients, flavors, and cultural significance. From traditional dishes like bulgogi and bibimbap to modern favorites like dakgangjeong and budae jjigae, each dish is explained in detail to give readers a better understanding of Korean cuisine. The document also mentions some dishes that are perfect for specific occasions, such as tteokguk for Korean New Year and jeonbok jjuk for special celebrations. Overall, the document serves as a comprehensive guide to the diverse and delicious world of Korean food.'}, page_content='The document provides descriptions of 20 popular Korean dishes, highlighting their key ingredients, flavors, and cultural significance. From traditional dishes like bulgogi and bibimbap to modern favorites like dakgangjeong and budae jjigae, each dish is explained in detail to give readers a better understanding of Korean cuisine. The document also mentions some dishes that are perfect for specific occasions, such as tteokguk for Korean New Year and jeonbok jjuk for special celebrations. Overall, the document serves as a comprehensive guide to the diverse and delicious world of Korean food.'), Document(metadata={'doc_id': '913cc0f2-57d4-4c74-9c63-21ca29bde994', 'type': 'summary', 'text': 'This document outlines 20 popular tourist attractions in South Korea, each with a description of at least five sentences. The attractions range from scenic natural spots like Tongyeong Harbor, Boseong Tea Fields, and Suncheon Bay Ecological Park, to cultural sites like Gwanghwamun Square, Korean Folk Village, and Jeonju Hanok Village. There are also unique experiences such as riding rail bikes in Wonju, exploring the whimsical Songwol-dong Fairytale Village, and visiting the innovative Samsung Innovation Museum. Each attraction offers visitors a different perspective on the diverse beauty and culture of South Korea.'}, page_content='This document outlines 20 popular tourist attractions in South Korea, each with a description of at least five sentences. The attractions range from scenic natural spots like Tongyeong Harbor, Boseong Tea Fields, and Suncheon Bay Ecological Park, to cultural sites like Gwanghwamun Square, Korean Folk Village, and Jeonju Hanok Village. There are also unique experiences such as riding rail bikes in Wonju, exploring the whimsical Songwol-dong Fairytale Village, and visiting the innovative Samsung Innovation Museum. Each attraction offers visitors a different perspective on the diverse beauty and culture of South Korea.'), Document(metadata={'doc_id': 'e2b5ea33-a4d4-4e04-9a80-e45b731c341f', 'type': 'summary', 'text': 'The document provides a list of activities and attractions to explore in South Korea, including visiting historic villages, hiking in national parks, checking out quirky cafes, exploring historic sites, relaxing on beaches, embracing art, participating in martial arts, and more. It also highlights cultural experiences such as learning traditional crafts, viewing cherry blossoms, and attending light festivals. Additionally, the document mentions opportunities for outdoor activities such as whitewater rafting, cycling, skiing, and snowboarding. Finally, it suggests immersing in Korean culture through templestays and visits to traditional markets.'}, page_content='The document provides a list of activities and attractions to explore in South Korea, including visiting historic villages, hiking in national parks, checking out quirky cafes, exploring historic sites, relaxing on beaches, embracing art, participating in martial arts, and more. It also highlights cultural experiences such as learning traditional crafts, viewing cherry blossoms, and attending light festivals. Additionally, the document mentions opportunities for outdoor activities such as whitewater rafting, cycling, skiing, and snowboarding. Finally, it suggests immersing in Korean culture through templestays and visits to traditional markets.')]\n"
     ]
    }
   ],
   "source": [
    "import os\n",
    "\n",
    "# from langchain.storage import InMemoryStore\n",
    "from langchain.storage import LocalFileStore\n",
    "from langchain_text_splitters.character import RecursiveCharacterTextSplitter\n",
    "from langchain_community.document_loaders.text import TextLoader\n",
    "from langchain_openai import OpenAIEmbeddings, ChatOpenAI\n",
    "from langchain_core.documents import Document\n",
    "from langchain_core.output_parsers import StrOutputParser\n",
    "from langchain_core.prompts import ChatPromptTemplate\n",
    "from langchain.retrievers.multi_vector import MultiVectorRetriever\n",
    "from langchain_pinecone import PineconeVectorStore\n",
    "from pinecone import Pinecone\n",
    "\n",
    "# load docs\n",
    "text_dir = \"./Korea info\"\n",
    "files = os.listdir(text_dir)\n",
    "txt_files = [file for file in files if file.endswith(\".txt\")]\n",
    "\n",
    "docs = []\n",
    "print(files)\n",
    "for file in txt_files:\n",
    "    docs.extend(TextLoader(text_dir + \"/\" + file).load())\n",
    "\n",
    "# create embedding API and llm\n",
    "os.environ[\"OPENAI_API_KEY\"] = \"{YOUR_OPENAI_KEY}\"\n",
    "embedding = OpenAIEmbeddings()\n",
    "\n",
    "# Connect database\n",
    "pc = Pinecone(embedding=embedding, api_key=\"{YOUR_PINECONE_APIKEY}\")\n",
    "index = pc.Index(\"terry-multivector\")\n",
    "vectordb = PineconeVectorStore(index=index, embedding=embedding)\n",
    "\n",
    "store = LocalFileStore(\"./store\")\n",
    "id_key = \"doc_id\"\n",
    "\n",
    "# The retriever (empty to start)\n",
    "retriever = MultiVectorRetriever(\n",
    "    vectorstore=vectordb,\n",
    "    byte_store=store,\n",
    "    id_key=id_key,\n",
    ")\n",
    "import uuid\n",
    "\n",
    "# Store chunks\n",
    "doc_ids = [str(uuid.uuid4()) for _ in docs]\n",
    "# The splitter to use to create smaller chunks\n",
    "child_text_splitter = RecursiveCharacterTextSplitter(chunk_size=400)\n",
    "\n",
    "sub_docs = []\n",
    "for i, doc in enumerate(docs):\n",
    "    chunks = child_text_splitter.split_documents([doc])\n",
    "    for chunk in chunks:\n",
    "        chunk.metadata[id_key] = doc_ids[i]\n",
    "        chunk.metadata[\"type\"] = \"chunk\"\n",
    "    sub_docs.extend(chunks)\n",
    "retriever.vectorstore.add_documents(sub_docs)\n",
    "retriever.docstore.mset(list(zip(doc_ids, docs)))\n",
    "\n",
    "# Summary\n",
    "chain = (\n",
    "    {\"doc\": lambda x: x.page_content}\n",
    "    | ChatPromptTemplate.from_template(\"Summarize the following document:\\n\\n{doc}\")\n",
    "    | ChatOpenAI(max_retries=0)\n",
    "    | StrOutputParser()\n",
    ")\n",
    "summaries = chain.batch(docs, {\"max_concurrency\": 5})\n",
    "\n",
    "summary_docs = [\n",
    "    Document(\n",
    "        ids=doc_ids[i], page_content=s, metadata={id_key: doc_ids[i], \"type\": \"summary\"}\n",
    "    )\n",
    "    for i, s in enumerate(summaries)\n",
    "]\n",
    "\n",
    "retriever.vectorstore.add_documents(summary_docs)\n",
    "retriever.docstore.mset(list(zip(doc_ids, docs)))\n",
    "\n",
    "print(summary_docs)"
   ]
  },
  {
   "cell_type": "code",
   "execution_count": 6,
   "id": "4c430a68-e23a-468a-901e-5bdfb8ae1671",
   "metadata": {
    "tags": []
   },
   "outputs": [
    {
     "name": "stdout",
     "output_type": "stream",
     "text": [
      "page_content='5. Hike Around Jeju Island - South Korea's popular resort island has much natural beauty to discover like Hallasan Mountain, Manjanggul Lava Tube caves, Cheonjeyeon Falls cascading into the ocean, Sangumburi Crater and Seongsan Ilchulbong Peak sunrise views in addition to scenic coastal drives around the island's lush landscape.' metadata={'doc_id': 'e2b5ea33-a4d4-4e04-9a80-e45b731c341f', 'source': './Korea info/Korea things todo.txt', 'type': 'chunk'}\n"
     ]
    }
   ],
   "source": [
    "query = \"What I can enjoy in Korea ?\"\n",
    "# docs = vectordb.similarity_search_with_score(query,k=10)\n",
    "docs = vectordb.similarity_search(\n",
    "    query,\n",
    "    k=10,\n",
    "    filter={\n",
    "        \"$and\": [\n",
    "            {\"type\": \"chunk\"},\n",
    "        ]\n",
    "    },\n",
    ")\n",
    "print(docs[5])\n",
    "ids = []\n",
    "for doc in docs:\n",
    "    ids.append(doc.metadata[\"doc_id\"])\n",
    "    # print(doc.metadata['type'],\"score :\",doc[1])\n",
    "    # print(doc.metadata[\"type\"])"
   ]
  },
  {
   "cell_type": "code",
   "execution_count": 8,
   "id": "6cc410d7-8903-496f-8251-def83f40cd00",
   "metadata": {},
   "outputs": [
    {
     "name": "stdout",
     "output_type": "stream",
     "text": [
      "['e2b5ea33-a4d4-4e04-9a80-e45b731c341f', '913cc0f2-57d4-4c74-9c63-21ca29bde994', '577194cc-7584-45cc-b727-b8566be75cf6', 'e2b5ea33-a4d4-4e04-9a80-e45b731c341f', '913cc0f2-57d4-4c74-9c63-21ca29bde994', 'e2b5ea33-a4d4-4e04-9a80-e45b731c341f', 'e2b5ea33-a4d4-4e04-9a80-e45b731c341f', 'e2b5ea33-a4d4-4e04-9a80-e45b731c341f', 'e2b5ea33-a4d4-4e04-9a80-e45b731c341f', 'e2b5ea33-a4d4-4e04-9a80-e45b731c341f']\n"
     ]
    },
    {
     "data": {
      "text/plain": [
       "{}"
      ]
     },
     "execution_count": 8,
     "metadata": {},
     "output_type": "execute_result"
    }
   ],
   "source": [
    "print(ids)\n",
    "# ref https://docs.pinecone.io/reference/api/2024-07/data-plane/delete\n",
    "index.delete(ids=['e2b5ea33-a4d4-4e04-9a80-e45b731c341f', '913cc0f2-57d4-4c74-9c63-21ca29bde994', '577194cc-7584-45cc-b727-b8566be75cf6', 'e2b5ea33-a4d4-4e04-9a80-e45b731c341f', '913cc0f2-57d4-4c74-9c63-21ca29bde994', 'e2b5ea33-a4d4-4e04-9a80-e45b731c341f', 'e2b5ea33-a4d4-4e04-9a80-e45b731c341f', 'e2b5ea33-a4d4-4e04-9a80-e45b731c341f', 'e2b5ea33-a4d4-4e04-9a80-e45b731c341f', 'e2b5ea33-a4d4-4e04-9a80-e45b731c341f'])"
   ]
  }
 ],
 "metadata": {
  "kernelspec": {
   "display_name": "Python 3 (ipykernel)",
   "language": "python",
   "name": "python3"
  },
  "language_info": {
   "codemirror_mode": {
    "name": "ipython",
    "version": 3
   },
   "file_extension": ".py",
   "mimetype": "text/x-python",
   "name": "python",
   "nbconvert_exporter": "python",
   "pygments_lexer": "ipython3",
   "version": "3.12.6"
  }
 },
 "nbformat": 4,
 "nbformat_minor": 5
}
