{
 "cells": [
  {
   "cell_type": "markdown",
   "id": "0c6ad87e-1f5e-4ba0-b1f6-49e499b24df5",
   "metadata": {},
   "source": [
    "# MultiVector"
   ]
  },
  {
   "cell_type": "code",
   "execution_count": 3,
   "id": "def27946-2801-4fb4-9bfa-dcab4a4c4e43",
   "metadata": {
    "tags": []
   },
   "outputs": [
    {
     "name": "stderr",
     "output_type": "stream",
     "text": [
      "/Users/terrycho/anaconda3/lib/python3.11/site-packages/pinecone/index.py:4: TqdmExperimentalWarning: Using `tqdm.autonotebook.tqdm` in notebook mode. Use `tqdm.tqdm` instead to force console mode (e.g. in jupyter console)\n",
      "  from tqdm.autonotebook import tqdm\n"
     ]
    },
    {
     "name": "stdout",
     "output_type": "stream",
     "text": [
      "['Korea Transport.txt', 'Korean food.txt', 'Korean tourist destination.txt', '.ipynb_checkpoints', 'Korea things todo.txt']\n"
     ]
    },
    {
     "name": "stderr",
     "output_type": "stream",
     "text": [
      "/Users/terrycho/.local/lib/python3.11/site-packages/langchain_community/vectorstores/pinecone.py:62: UserWarning: Passing in `embedding` as a Callable is deprecated. Please pass in an Embeddings object instead.\n",
      "  warnings.warn(\n"
     ]
    },
    {
     "name": "stdout",
     "output_type": "stream",
     "text": [
      "[Document(page_content=\"This document provides an overview of South Korea's major public transportation systems, focusing on subway systems, buses, trains, and taxis. It highlights the convenience, efficiency, and affordability of public transportation in the country. The document then provides descriptions of the public transit systems in five major cities: Seoul, Busan, Incheon, Daegu, and Daejeon. It mentions the advanced subway system in Seoul, the 4-line metro system in Busan, the light rail metro lines in Incheon, the simple metro system in Daegu, and the single metro line in Daejeon. The document concludes by offering further assistance in providing transportation information and recommendations for visitors to South Korea.\", metadata={'doc_id': '6920a86c-b753-48f7-adfe-e8e8db34d1f3', 'type': 'summary', 'text': \"This document provides an overview of South Korea's major public transportation systems, focusing on subway systems, buses, trains, and taxis. It highlights the convenience, efficiency, and affordability of public transportation in the country. The document then provides descriptions of the public transit systems in five major cities: Seoul, Busan, Incheon, Daegu, and Daejeon. It mentions the advanced subway system in Seoul, the 4-line metro system in Busan, the light rail metro lines in Incheon, the simple metro system in Daegu, and the single metro line in Daejeon. The document concludes by offering further assistance in providing transportation information and recommendations for visitors to South Korea.\"}), Document(page_content='This document provides descriptions of 40 popular Korean dishes. It includes details about the ingredients and flavors of each dish, as well as cultural and historical context. Some of the dishes mentioned include bulgogi, bibimbap, tteokbokki, samgyeopsal, galbi, budae jjigae, naengmyeon, bossam, dakgangjeong, kimbap, japchae, sundubu jjigae, galbijjim, haemul pajeon, hotteok, gamjatang, jeon, seolleongtang, doenjang jjigae, and ojingeo bokkeum, among others.', metadata={'doc_id': '3eb4c7c9-984e-487d-a84b-cb312d5b306a', 'type': 'summary', 'text': 'This document provides descriptions of 40 popular Korean dishes. It includes details about the ingredients and flavors of each dish, as well as cultural and historical context. Some of the dishes mentioned include bulgogi, bibimbap, tteokbokki, samgyeopsal, galbi, budae jjigae, naengmyeon, bossam, dakgangjeong, kimbap, japchae, sundubu jjigae, galbijjim, haemul pajeon, hotteok, gamjatang, jeon, seolleongtang, doenjang jjigae, and ojingeo bokkeum, among others.'}), Document(page_content='The document provides descriptions of 20 popular tourist attractions in South Korea. These attractions include historic palaces, such as Gyeongbokgung Palace and Changdeokgung Palace, as well as scenic locations like Jeju Island and Seoraksan National Park. Other attractions mentioned include shopping areas like Myeongdong Shopping Street, amusement parks like Lotte World, and cultural sites like Bukchon Hanok Village. The document also includes descriptions of natural attractions like Haeundae Beach and Bulguksa Temple. Additionally, there are descriptions of unique locations like the DMZ/JSA Tour and the Seoullo 7017 Skygarden.', metadata={'doc_id': '8bf16638-8bd7-409b-98b0-cd8f0d73ab17', 'type': 'summary', 'text': 'The document provides descriptions of 20 popular tourist attractions in South Korea. These attractions include historic palaces, such as Gyeongbokgung Palace and Changdeokgung Palace, as well as scenic locations like Jeju Island and Seoraksan National Park. Other attractions mentioned include shopping areas like Myeongdong Shopping Street, amusement parks like Lotte World, and cultural sites like Bukchon Hanok Village. The document also includes descriptions of natural attractions like Haeundae Beach and Bulguksa Temple. Additionally, there are descriptions of unique locations like the DMZ/JSA Tour and the Seoullo 7017 Skygarden.'}), Document(page_content='The document provides a list of 20 activities to do in South Korea. Some of the activities mentioned include exploring the Bukchon Hanok Village, hiking in Seoraksan National Park, visiting quirky cafes in Hongdae, exploring the Gyeongju Historic Area, hiking around Jeju Island, visiting Bongeunsa Temple, exploring the tea fields of Boseong, learning Taekwondo, relaxing on Haeundae Beach, embracing art at Heyri Cultural Village, going whitewater rafting, visiting magnificent palaces, cycling across bridges and islands, visiting traditional markets, viewing the DMZ border area, skiing and snowboarding at resorts, seeing cherry blossoms, learning Korean culture, marveling at light festivals, and indulging in a templestay.', metadata={'doc_id': '7d5dc2cd-0317-4fc3-9e74-80e95c1546d8', 'type': 'summary', 'text': 'The document provides a list of 20 activities to do in South Korea. Some of the activities mentioned include exploring the Bukchon Hanok Village, hiking in Seoraksan National Park, visiting quirky cafes in Hongdae, exploring the Gyeongju Historic Area, hiking around Jeju Island, visiting Bongeunsa Temple, exploring the tea fields of Boseong, learning Taekwondo, relaxing on Haeundae Beach, embracing art at Heyri Cultural Village, going whitewater rafting, visiting magnificent palaces, cycling across bridges and islands, visiting traditional markets, viewing the DMZ border area, skiing and snowboarding at resorts, seeing cherry blossoms, learning Korean culture, marveling at light festivals, and indulging in a templestay.'})]\n"
     ]
    }
   ],
   "source": [
    "import os\n",
    "from langchain_community.document_loaders import TextLoader\n",
    "#from langchain.storage import InMemoryStore\n",
    "from langchain.storage import LocalFileStore\n",
    "from langchain.text_splitter import RecursiveCharacterTextSplitter\n",
    "from langchain_community.document_loaders import TextLoader\n",
    "from langchain.retrievers import ParentDocumentRetriever\n",
    "from langchain.embeddings.openai import OpenAIEmbeddings\n",
    "from langchain.vectorstores import Pinecone\n",
    "from langchain_core.documents import Document\n",
    "from langchain_core.output_parsers import StrOutputParser\n",
    "from langchain_core.prompts import ChatPromptTemplate\n",
    "from langchain.chat_models import ChatOpenAI\n",
    "from langchain.retrievers.multi_vector import MultiVectorRetriever\n",
    "\n",
    "import pinecone\n",
    "\n",
    "# load docs\n",
    "text_dir = \"./Korea info\"\n",
    "files = os.listdir(text_dir)\n",
    "txt_files = [file for file in files if file.endswith(\".txt\")]\n",
    "\n",
    "docs = []\n",
    "print(files)\n",
    "for file in txt_files:\n",
    "    docs.extend(TextLoader(text_dir+\"/\"+file).load())\n",
    "    \n",
    "#create embedding API and llm\n",
    "os.environ[\"OPENAI_API_KEY\"] = \"{YOUR_OPENAI_KEY}\"\n",
    "embedding = OpenAIEmbeddings()\n",
    "\n",
    "#Connect database\n",
    "pinecone.init(api_key=\"{YOUR_PINECONE_APIKEY}\", environment=\"gcp-starter\")\n",
    "#pinecone.create_index(\"terry-multivector\",dimension=1536,metric=\"cosine\")\n",
    "index = pinecone.Index(\"terry-multivector\")\n",
    "text_field = \"text\"\n",
    "vectordb = Pinecone(\n",
    "    index, embedding.embed_query, text_field\n",
    ")\n",
    "\n",
    "store = LocalFileStore(\"./store\")\n",
    "id_key=\"doc_id\"\n",
    "\n",
    "# The retriever (empty to start)\n",
    "retriever = MultiVectorRetriever(\n",
    "    vectorstore=vectordb,\n",
    "    byte_store=store,\n",
    "    id_key=id_key,\n",
    ")\n",
    "import uuid\n",
    "\n",
    "# Store chunks\n",
    "doc_ids = [str(uuid.uuid4()) for _ in docs]\n",
    "# The splitter to use to create smaller chunks\n",
    "child_text_splitter = RecursiveCharacterTextSplitter(chunk_size=400)\n",
    "\n",
    "sub_docs = []\n",
    "for i, doc in enumerate(docs):\n",
    "    chunks = child_text_splitter.split_documents([doc])\n",
    "    for chunk in chunks:\n",
    "        chunk.metadata[id_key] = doc_ids[i]\n",
    "        chunk.metadata['type'] = 'chunk'\n",
    "    sub_docs.extend(chunks)\n",
    "retriever.vectorstore.add_documents(sub_docs)\n",
    "retriever.docstore.mset(list(zip(doc_ids, docs)))\n",
    "\n",
    "# Summary\n",
    "chain = (\n",
    "    {\"doc\": lambda x: x.page_content}\n",
    "    | ChatPromptTemplate.from_template(\"Summarize the following document:\\n\\n{doc}\")\n",
    "    | ChatOpenAI(max_retries=0)\n",
    "    | StrOutputParser()\n",
    ")\n",
    "summaries = chain.batch(docs, {\"max_concurrency\": 5})\n",
    "\n",
    "summary_docs = [\n",
    "    Document(ids=doc_ids[i],page_content=s, metadata={id_key: doc_ids[i],'type':'summary'})\n",
    "    for i, s in enumerate(summaries)\n",
    "]\n",
    "\n",
    "retriever.vectorstore.add_documents(summary_docs)\n",
    "retriever.docstore.mset(list(zip(doc_ids, docs)))\n",
    "\n",
    "print(summary_docs)"
   ]
  },
  {
   "cell_type": "code",
   "execution_count": 6,
   "id": "4c430a68-e23a-468a-901e-5bdfb8ae1671",
   "metadata": {
    "tags": []
   },
   "outputs": [
    {
     "name": "stdout",
     "output_type": "stream",
     "text": [
      "page_content=\"20. Indulge in a Templestay - Often tucked among mountain terrain, Korea's serene Buddhist temples open their doors to visitors interested in experiencing meditation, finding inner calm and trying vegetarian temple fare during an extended few days focused on self reflection enhanced through tranquil natural environments promoting peace of mind.\" metadata={'doc_id': '99de20bc-96a6-48f6-b78a-957314a2a325', 'source': './Korea info/Korea things todo.txt', 'type': 'chunk'}\n",
      "chunk\n",
      "chunk\n",
      "chunk\n",
      "chunk\n",
      "chunk\n",
      "chunk\n",
      "chunk\n",
      "chunk\n",
      "chunk\n",
      "chunk\n"
     ]
    }
   ],
   "source": [
    "from IPython.display import JSON\n",
    "query = \"What I can enjoy in Korea ?\"\n",
    "#docs = vectordb.similarity_search_with_score(query,k=10)\n",
    "docs = vectordb.similarity_search(query,k=10,filter={\n",
    "    \"$and\":[\n",
    "        {\"type\":\"chunk\"},\n",
    "    ]\n",
    "})\n",
    "print(docs[5])\n",
    "ids = []\n",
    "for doc in docs:\n",
    "    #ids.append( doc[0].metadata['doc_id']) \n",
    "    #print(doc[0].metadata['type'],\"score :\",doc[1])\n",
    "    print(doc.metadata['type'])\n"
   ]
  },
  {
   "cell_type": "code",
   "execution_count": 54,
   "id": "6cc410d7-8903-496f-8251-def83f40cd00",
   "metadata": {},
   "outputs": [
    {
     "name": "stdout",
     "output_type": "stream",
     "text": [
      "[]\n"
     ]
    }
   ],
   "source": [
    "print(ids)\n",
    "#ref https://medium.com/@james.li/cheatsheet-for-pinecone-crud-using-langchain-caa0a5f97fe0\n",
    "vectordb.delete(ids=['27c0afe6-6f08-4b4b-95a7-f2b2c851b59f'] )"
   ]
  },
  {
   "cell_type": "code",
   "execution_count": null,
   "id": "3ae18adb-4674-4758-90c8-d022f1979e91",
   "metadata": {},
   "outputs": [],
   "source": []
  }
 ],
 "metadata": {
  "kernelspec": {
   "display_name": "Python 3 (ipykernel)",
   "language": "python",
   "name": "python3"
  },
  "language_info": {
   "codemirror_mode": {
    "name": "ipython",
    "version": 3
   },
   "file_extension": ".py",
   "mimetype": "text/x-python",
   "name": "python",
   "nbconvert_exporter": "python",
   "pygments_lexer": "ipython3",
   "version": "3.11.4"
  }
 },
 "nbformat": 4,
 "nbformat_minor": 5
}
