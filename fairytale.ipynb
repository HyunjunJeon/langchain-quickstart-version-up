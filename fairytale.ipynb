{
 "cells": [
  {
   "cell_type": "code",
   "execution_count": 27,
   "id": "eac29e6b-3137-459b-9369-2550dd9c1ab1",
   "metadata": {
    "tags": []
   },
   "outputs": [
    {
     "name": "stdout",
     "output_type": "stream",
     "text": [
      "{\n",
      "  \"chapter1\": {\n",
      "    \"title\": \"The Princess's Curse\",\n",
      "    \"synopsis\": \"Princess Isabella wakes up on her 18th birthday to find herself cursed with a mysterious illness. The kingdom's healers are unable to find a cure, and the princess's life is in danger. Determined to save her, the king sends out a call for brave adventurers to find a legendary healer who lives deep in the enchanted forest.\",\n",
      "    \"characters\": [\n",
      "      \"Princess Isabella\",\n",
      "      \"King Henry\",\n",
      "      \"Adventurers\"\n",
      "    ],\n",
      "    \"settings\": [\n",
      "      \"The princess's chamber\",\n",
      "      \"The kingdom\",\n",
      "      \"The enchanted forest\"\n",
      "    ]\n",
      "  },\n",
      "  \"chapter2\": {\n",
      "    \"title\": \"Journey into the Enchanted Forest\",\n",
      "    \"synopsis\": \"A group of courageous adventurers, including a skilled archer, a wise wizard, and a fearless knight, embark on a perilous journey into the enchanted forest. They face various challenges and encounter magical creatures as they search for the legendary healer. Along the way, they learn about the princess's kind heart and the importance of friendship.\",\n",
      "    \"characters\": [\n",
      "      \"Archer\",\n",
      "      \"Wizard\",\n",
      "      \"Knight\",\n",
      "      \"Magical Creatures\"\n",
      "    ],\n",
      "    \"settings\": [\n",
      "      \"Enchanted forest\",\n",
      "      \"Magical clearings\",\n",
      "      \"Hidden caves\"\n",
      "    ]\n",
      "  },\n",
      "  \"chapter3\": {\n",
      "    \"title\": \"The Healer's Test\",\n",
      "    \"synopsis\": \"After a long and arduous journey, the adventurers finally reach the healer's secluded cottage. The healer, an ancient and wise fairy, agrees to help the princess but only if the adventurers can pass a series of tests. Each test is designed to challenge their courage, wisdom, and loyalty. They must prove their worthiness before the healer will reveal the cure for the princess's curse.\",\n",
      "    \"characters\": [\n",
      "      \"Healer Fairy\",\n",
      "      \"Adventurers\"\n",
      "    ],\n",
      "    \"settings\": [\n",
      "      \"Healer's cottage\",\n",
      "      \"Enchanted garden\",\n",
      "      \"Trials and tests\"\n",
      "    ]\n",
      "  },\n",
      "  \"chapter4\": {\n",
      "    \"title\": \"Race Against Time\",\n",
      "    \"synopsis\": \"As the adventurers face the healer's tests, Princess Isabella's condition worsens. The king grows desperate, and the kingdom falls into despair. The adventurers must push themselves to their limits and use their newfound skills to overcome the challenges. Meanwhile, a dark sorcerer, jealous of the princess's beauty and power, plots to interfere with their quest.\",\n",
      "    \"characters\": [\n",
      "      \"Princess Isabella\",\n",
      "      \"King Henry\",\n",
      "      \"Adventurers\",\n",
      "      \"Dark Sorcerer\"\n",
      "    ],\n",
      "    \"settings\": [\n",
      "      \"Princess's chamber\",\n",
      "      \"Healer's cottage\",\n",
      "      \"Enchanted forest\"\n",
      "    ]\n",
      "  },\n",
      "  \"chapter5\": {\n",
      "    \"title\": \"The Princess's Restoration\",\n",
      "    \"synopsis\": \"In a climactic final showdown, the adventurers confront the dark sorcerer and overcome his wicked spells. They retrieve the cure for the princess's curse and rush back to the kingdom. With the healer's magic, Princess Isabella is finally restored to full health, breaking the curse that had plagued her. The kingdom rejoices, and the princess learns the importance of gratitude and humility.\",\n",
      "    \"characters\": [\n",
      "      \"Princess Isabella\",\n",
      "      \"King Henry\",\n",
      "      \"Adventurers\",\n",
      "      \"Healer Fairy\",\n",
      "      \"Dark Sorcerer\"\n",
      "    ],\n",
      "    \"settings\": [\n",
      "      \"Kingdom's courtyard\",\n",
      "      \"Throne room\",\n",
      "      \"Enchanted forest\"\n",
      "    ]\n",
      "  }\n",
      "}\n"
     ]
    }
   ],
   "source": [
    "from langchain.output_parsers import CommaSeparatedListOutputParser\n",
    "from langchain.prompts import PromptTemplate, ChatPromptTemplate, HumanMessagePromptTemplate\n",
    "from langchain.llms import OpenAI\n",
    "from langchain.chat_models import ChatOpenAI\n",
    "from langchain.schema import StrOutputParser\n",
    "\n",
    "OPEN_AI_APIKEY=\"{YOUR_OPENAI_KEY}\"\n",
    "\n",
    "chat = ChatOpenAI(openai_api_key=OPEN_AI_APIKEY)\n",
    "planner = (\n",
    "    ChatPromptTemplate.from_template(\n",
    "        \"\"\"\n",
    "        You are fairy tale writer. Write synopsis for 5 chapters about fairy tale about {input} with JSON format.\n",
    "        JSON has to have title, synopsis, characters, settings.\n",
    "        \"\"\"\n",
    "    )\n",
    "    | chat\n",
    "    | StrOutputParser()\n",
    ")\n",
    "\n",
    "planner_output =planner.invoke({\"input\":\"princess\"})\n",
    "print(planner_output)\n"
   ]
  },
  {
   "cell_type": "code",
   "execution_count": 26,
   "id": "55dcd4a2-4a81-459e-a85f-423b3a60cb46",
   "metadata": {
    "tags": []
   },
   "outputs": [
    {
     "name": "stdout",
     "output_type": "stream",
     "text": [
      "Title : The Princess's Secret\n",
      "Title : Journey to the Enchanted Forest\n",
      "Title : The Trials of Courage\n",
      "Title : Betrayal and Redemption\n",
      "Title : The Princess's Triumph\n"
     ]
    }
   ],
   "source": [
    "import json\n",
    "\n",
    "synopsis = json.loads(planner_output)\n",
    "#print(synopsis)\n",
    "for chapter,data in synopsis.items():\n",
    "        print(\"Title :\",data[\"Title\"])\n",
    "    "
   ]
  },
  {
   "cell_type": "code",
   "execution_count": null,
   "id": "01534697-304d-435e-a259-a6d0cec1dc6e",
   "metadata": {},
   "outputs": [],
   "source": []
  }
 ],
 "metadata": {
  "kernelspec": {
   "display_name": "Python 3 (ipykernel)",
   "language": "python",
   "name": "python3"
  },
  "language_info": {
   "codemirror_mode": {
    "name": "ipython",
    "version": 3
   },
   "file_extension": ".py",
   "mimetype": "text/x-python",
   "name": "python",
   "nbconvert_exporter": "python",
   "pygments_lexer": "ipython3",
   "version": "3.11.4"
  }
 },
 "nbformat": 4,
 "nbformat_minor": 5
}
