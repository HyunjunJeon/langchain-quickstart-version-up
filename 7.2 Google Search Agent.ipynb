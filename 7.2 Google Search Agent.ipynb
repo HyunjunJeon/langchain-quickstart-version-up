{
 "cells": [
  {
   "cell_type": "markdown",
   "id": "051cc828-1e03-4d38-8cf2-782933cb687b",
   "metadata": {},
   "source": [
    "# Agent & Tools \n",
    "\n",
    "### Using Google Search, Wiki\n",
    "\n",
    "- https://serper.dev/"
   ]
  },
  {
   "cell_type": "markdown",
   "id": "2a47a9ca-3c25-412a-a608-da17515f7094",
   "metadata": {},
   "source": [
    "# Google Search Tools"
   ]
  },
  {
   "cell_type": "code",
   "execution_count": 12,
   "id": "ae3ec174-ecae-4434-b15b-48e2cd1e4992",
   "metadata": {},
   "outputs": [
    {
     "name": "stdout",
     "output_type": "stream",
     "text": [
      "\n",
      "\n",
      "\u001b[1m> Entering new AgentExecutor chain...\u001b[0m\n",
      "\u001b[32;1m\u001b[1;3mTo answer the question, I need to identify the winner of the 2007 US PGA Championship and then find out their hometown. I'll start by searching for the winner of that championship.  \n",
      "Action: Intermediate Answer  \n",
      "Action Input: \"2007 US PGA Championship winner\"  \u001b[0m\u001b[36;1m\u001b[1;3mPGA Championship POS PLAYER TOT 1 T. Woods 272 2 W. Austin 274 3 E. Els 275 T4 A. Oberholser 279\u001b[0m\u001b[32;1m\u001b[1;3mI have identified that the winner of the 2007 US PGA Championship is Tiger Woods. Now, I need to find out his hometown.  \n",
      "Action: Intermediate Answer  \n",
      "Action Input: \"Tiger Woods hometown\"  \u001b[0m\u001b[36;1m\u001b[1;3mWoods was born on December 30, 1975, in Cypress, California, to Earl and Kultida \"Tida\" Woods.\u001b[0m\u001b[32;1m\u001b[1;3mI now know the final answer.  \n",
      "Final Answer: Tiger Woods' hometown is Cypress, California.\u001b[0m\n",
      "\n",
      "\u001b[1m> Finished chain.\u001b[0m\n",
      "{'input': 'Where is the hometown of the 2007 US PGA championship winner?', 'output': \"Tiger Woods' hometown is Cypress, California.\", 'intermediate_steps': [(AgentAction(tool='Intermediate Answer', tool_input='2007 US PGA Championship winner', log='To answer the question, I need to identify the winner of the 2007 US PGA Championship and then find out their hometown. I\\'ll start by searching for the winner of that championship.  \\nAction: Intermediate Answer  \\nAction Input: \"2007 US PGA Championship winner\"  '), 'PGA Championship POS PLAYER TOT 1 T. Woods 272 2 W. Austin 274 3 E. Els 275 T4 A. Oberholser 279'), (AgentAction(tool='Intermediate Answer', tool_input='Tiger Woods hometown', log='I have identified that the winner of the 2007 US PGA Championship is Tiger Woods. Now, I need to find out his hometown.  \\nAction: Intermediate Answer  \\nAction Input: \"Tiger Woods hometown\"  '), 'Woods was born on December 30, 1975, in Cypress, California, to Earl and Kultida \"Tida\" Woods.')]}\n"
     ]
    }
   ],
   "source": [
    "from langchain_openai import ChatOpenAI\n",
    "from langchain_community.utilities import GoogleSerperAPIWrapper\n",
    "from langchain.agents import Tool, create_react_agent, AgentExecutor\n",
    "from langchain_core.prompts import PromptTemplate\n",
    "import os\n",
    "\n",
    "os.environ[\"OPENAI_API_KEY\"] = \"{YOUR_OPENAI_KEY}\"\n",
    "os.environ[\"SERPER_API_KEY\"] = \"{YOUR_SERPER_APIKEY}\"\n",
    "\n",
    "model = ChatOpenAI(model=\"gpt-4o-mini\", temperature=0)\n",
    "\n",
    "google_search = GoogleSerperAPIWrapper()\n",
    "tools = [\n",
    "    Tool(\n",
    "        name=\"Intermediate Answer\",\n",
    "        func=google_search.run,\n",
    "        description=\"useful for when you need to ask with search\",\n",
    "        verbose=True,\n",
    "    )\n",
    "]\n",
    "\n",
    "\n",
    "react_prompt_template = \"\"\"Answer the following questions as best you can. You have access to the following tools:\n",
    "\n",
    "{tools}\n",
    "\n",
    "Use the following format:\n",
    "\n",
    "Question: the input question you must answer\n",
    "Thought: you should always think about what to do\n",
    "Action: the action to take, should be one of [{tool_names}]\n",
    "Action Input: the input to the action\n",
    "Observation: the result of the action\n",
    "... (this Thought/Action/Action Input/Observation can repeat N times)\n",
    "Thought: I now know the final answer\n",
    "Final Answer: the final answer to the original input question\n",
    "\n",
    "Begin!\n",
    "\n",
    "Question: {input}\n",
    "Thought:{agent_scratchpad}\"\"\"\n",
    "\n",
    "\n",
    "prompt = PromptTemplate.from_template(react_prompt_template)\n",
    "search_agent = create_react_agent(model, tools, prompt)\n",
    "\n",
    "\n",
    "agent_executor = AgentExecutor(\n",
    "    agent=search_agent,\n",
    "    tools=tools,\n",
    "    verbose=True,\n",
    "    return_intermediate_steps=True,\n",
    ")\n",
    "\n",
    "response = agent_executor.invoke(\n",
    "    {\n",
    "        \"input\": \"Where is the hometown of the 2007 US PGA championship winner?\"\n",
    "    }\n",
    ")\n",
    "print(response)"
   ]
  },
  {
   "cell_type": "code",
   "execution_count": 13,
   "id": "8ca0d9f1-2ecd-4059-a8a7-aaa5904566ec",
   "metadata": {
    "tags": []
   },
   "outputs": [
    {
     "name": "stdout",
     "output_type": "stream",
     "text": [
      "\n",
      "\n",
      "\u001b[1m> Entering new AgentExecutor chain...\u001b[0m\n",
      "\u001b[32;1m\u001b[1;3mTo answer the question, I need to find out who won the 2007 US PGA Championship, their hometown, and their score in that tournament. I will start by searching for the winner of the 2007 US PGA Championship. \n",
      "\n",
      "Action: Intermediate Answer  \n",
      "Action Input: \"2007 US PGA Championship winner and score\"  \u001b[0m\u001b[36;1m\u001b[1;3mPGA Championship POS PLAYER SCORE 1 T. Woods -8 2 W. Austin -6 3 E. Els -5 T4 A. Oberholser -1\u001b[0m\u001b[32;1m\u001b[1;3mI have found that the winner of the 2007 US PGA Championship was Tiger Woods, who finished with a score of -8. Now, I need to find out Tiger Woods' hometown.\n",
      "\n",
      "Action: Intermediate Answer  \n",
      "Action Input: \"Tiger Woods hometown\"  \u001b[0m\u001b[36;1m\u001b[1;3mWoods was born on December 30, 1975, in Cypress, California, to Earl and Kultida \"Tida\" Woods.\u001b[0m\u001b[32;1m\u001b[1;3mI now know the final answer.  \n",
      "Final Answer: Tiger Woods, the winner of the 2007 US PGA Championship, is from Cypress, California, and his score was -8.\u001b[0m\n",
      "\n",
      "\u001b[1m> Finished chain.\u001b[0m\n",
      "{'input': 'Where is the hometown of the 2007 US PGA championship winner and his score?', 'output': 'Tiger Woods, the winner of the 2007 US PGA Championship, is from Cypress, California, and his score was -8.', 'intermediate_steps': [(AgentAction(tool='Intermediate Answer', tool_input='2007 US PGA Championship winner and score', log='To answer the question, I need to find out who won the 2007 US PGA Championship, their hometown, and their score in that tournament. I will start by searching for the winner of the 2007 US PGA Championship. \\n\\nAction: Intermediate Answer  \\nAction Input: \"2007 US PGA Championship winner and score\"  '), 'PGA Championship POS PLAYER SCORE 1 T. Woods -8 2 W. Austin -6 3 E. Els -5 T4 A. Oberholser -1'), (AgentAction(tool='Intermediate Answer', tool_input='Tiger Woods hometown', log='I have found that the winner of the 2007 US PGA Championship was Tiger Woods, who finished with a score of -8. Now, I need to find out Tiger Woods\\' hometown.\\n\\nAction: Intermediate Answer  \\nAction Input: \"Tiger Woods hometown\"  '), 'Woods was born on December 30, 1975, in Cypress, California, to Earl and Kultida \"Tida\" Woods.')]}\n"
     ]
    }
   ],
   "source": [
    "from langchain_openai import ChatOpenAI\n",
    "from langchain_community.utilities import GoogleSerperAPIWrapper\n",
    "from langchain.agents import Tool, create_react_agent, AgentExecutor\n",
    "from langchain_core.prompts import PromptTemplate\n",
    "import os\n",
    "\n",
    "os.environ[\"LANGCHAIN_TRACING_V2\"] = \"true\"\n",
    "os.environ[\"LANGCHAIN_ENDPOINT\"] = \"https://api.smith.langchain.com\"\n",
    "os.environ[\"LANGCHAIN_API_KEY\"] = \"{YOUR_LANGCHAIN_APIKEY}\"\n",
    "os.environ[\"LANGCHAIN_PROJECT\"] = \"terrylangsmith\"\n",
    "os.environ[\"OPENAI_API_KEY\"] = \"{YOUR_OPENAI_KEY}\"\n",
    "os.environ[\"SERPER_API_KEY\"] = \"YOU_SERPER_APIKEY\"\n",
    "\n",
    "model = ChatOpenAI(model=\"gpt-4o-mini\", temperature=0)\n",
    "\n",
    "google_search = GoogleSerperAPIWrapper()\n",
    "tools = [\n",
    "    Tool(\n",
    "        name=\"Intermediate Answer\",\n",
    "        func=google_search.run,\n",
    "        description=\"useful for when you need to ask with search\",\n",
    "        verbose=True,\n",
    "    )\n",
    "]\n",
    "\n",
    "# ref : https://api.python.langchain.com/en/latest/agents/langchain.agents.react.agent.create_react_agent.html\n",
    "# ref https://medium.com/@prabhakaran_arivalagan/behind-the-scene-react-agents-in-langchain-4f7f48c2476d\n",
    "# Lang smith로 추적해서 분석할것.\n",
    "react_prompt_template = \"\"\"Answer the following questions as best you can. You have access to the following tools:\n",
    "\n",
    "{tools}\n",
    "\n",
    "Use the following format:\n",
    "\n",
    "Question: the input question you must answer\n",
    "Thought: you should always think about what to do\n",
    "Action: the action to take, should be one of [{tool_names}]\n",
    "Action Input: the input to the action\n",
    "Observation: the result of the action\n",
    "... (this Thought/Action/Action Input/Observation can repeat N times)\n",
    "Thought: I now know the final answer\n",
    "Final Answer: the final answer to the original input question\n",
    "\n",
    "Begin!\n",
    "\n",
    "Question: {input}\n",
    "Thought:{agent_scratchpad}\"\"\"\n",
    "\n",
    "prompt = PromptTemplate.from_template(react_prompt_template)\n",
    "\n",
    "search_agent = create_react_agent(model, tools, prompt)\n",
    "agent_executor = AgentExecutor(\n",
    "    agent=search_agent,\n",
    "    tools=tools,\n",
    "    verbose=True,\n",
    "    return_intermediate_steps=True,\n",
    ")\n",
    "response = agent_executor.invoke(\n",
    "    {\n",
    "        \"input\": \"Where is the hometown of the 2007 US PGA championship winner and his score?\"\n",
    "    }\n",
    ")\n",
    "print(response)"
   ]
  },
  {
   "cell_type": "code",
   "execution_count": 5,
   "id": "d9762705-9508-4bd3-9f53-ddf948b9e657",
   "metadata": {},
   "outputs": [],
   "source": [
    "# Google Search + YouTube + Spotify"
   ]
  },
  {
   "cell_type": "markdown",
   "id": "c6d3693c-3045-4581-b3a5-ada1628f62a9",
   "metadata": {},
   "source": [
    "Other usefule tools\n",
    "\n",
    "- apify (web crawler)\n",
    "- Streamlit"
   ]
  }
 ],
 "metadata": {
  "kernelspec": {
   "display_name": "Python 3 (ipykernel)",
   "language": "python",
   "name": "python3"
  },
  "language_info": {
   "codemirror_mode": {
    "name": "ipython",
    "version": 3
   },
   "file_extension": ".py",
   "mimetype": "text/x-python",
   "name": "python",
   "nbconvert_exporter": "python",
   "pygments_lexer": "ipython3",
   "version": "3.12.6"
  }
 },
 "nbformat": 4,
 "nbformat_minor": 5
}
