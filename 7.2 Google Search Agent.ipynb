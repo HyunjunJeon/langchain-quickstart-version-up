{
 "cells": [
  {
   "cell_type": "markdown",
   "id": "051cc828-1e03-4d38-8cf2-782933cb687b",
   "metadata": {},
   "source": [
    "# Agent & Tools \n",
    "\n",
    "### Using Google Search, Wiki\n",
    "\n",
    "- https://serper.dev/"
   ]
  },
  {
   "cell_type": "markdown",
   "id": "2a47a9ca-3c25-412a-a608-da17515f7094",
   "metadata": {},
   "source": [
    "# Google Search Tools"
   ]
  },
  {
   "cell_type": "code",
   "execution_count": 12,
   "id": "ae3ec174-ecae-4434-b15b-48e2cd1e4992",
   "metadata": {},
   "outputs": [
    {
     "name": "stdout",
     "output_type": "stream",
     "text": [
      "\n",
      "\n",
      "\u001b[1m> Entering new AgentExecutor chain...\u001b[0m\n",
      "\u001b[32;1m\u001b[1;3m Yes.\n",
      "Follow up: Who was the winner of the 2007 US PGA championship?\u001b[0m\n",
      "Intermediate answer: \u001b[36;1m\u001b[1;3m2007 PGA Championship: Tournament. The 2007 PGA Championship was the 89th PGA Championship, played August 9–12 at Southern Hills Country Club in Tulsa, Oklahoma. Defending champion Tiger Woods won his fourth PGA Championship and 13th major title, two strokes ahead of runner-up... 2007 PGA Championship Field: 156 players, 72 after cut. 2007 PGA Championship Dates: Aug 9, 2007 – Aug 12, 2007. 2007 PGA Championship Tour(s): PGA Tour; PGA European Tour; Japan Golf Tour. 2007 PGA Championship Course(s): Southern Hills Country Club. 2007 PGA Championship Prize fund: $7,000,000; €5,007,922. 2007 PGA Championship Location: Southern Hills Country Club and Tulsa. The 2007 PGA Championship was the 89th PGA Championship, played August 9–12 at Southern Hills Country Club in Tulsa, Oklahoma. Defending champion Tiger ... Tiger Woods returned to Tulsa for the 2007 PGA Championship having played at Southern Hills twice before. And both trips were memorable, ... Tiger Woods wins the 2007 PGA Championship at Southern Hills ... Tiger Woods during the final round of the 89th PGA Championship August 12, 2007. First as a Father: Papa Tiger Woods got the better of the oppressive heat, Southern Hills to win 2007 PGA Championship ... 2, United States W. Austin, -6, 68 ; 3, South Africa E. Els, -5, 72 ... Flashback: Tiger Woods Wins the 2007 PGA Championship at Southern Hills · Comments5. Duration: 1:40. Posted: Jul 12, 2017. Tiger Woods won the PGA Championship for the fourth time in 2007, and it was his 13th overall win in a major championship. It was also his second in a row after ... Woods captured his fourth PGA Championship in 2007, topping Woody Austin by two shots. Austin made it interesting on the back nine making ... Defending champion Tiger Woods won his fourth PGA Championship and 13th major title, two strokes ahead of runner-up Woody Austin. Materials ... The 2007 PGA Tour was the 92nd season of the PGA Tour, the main professional golf tour in the United States. It was also the 39th season since separating ...\u001b[0m\n",
      "\u001b[32;1m\u001b[1;3mIntermediate answer: Tiger Woods. \n",
      "Follow up: Where is Tiger Woods from?\u001b[0m\n",
      "Intermediate answer: \u001b[36;1m\u001b[1;3mCypress, CA\u001b[0m\n",
      "\u001b[32;1m\u001b[1;3mSo the final answer is: Cypress, CA\u001b[0m\n",
      "\n",
      "\u001b[1m> Finished chain.\u001b[0m\n"
     ]
    },
    {
     "data": {
      "text/plain": [
       "'Cypress, CA'"
      ]
     },
     "execution_count": 12,
     "metadata": {},
     "output_type": "execute_result"
    }
   ],
   "source": [
    "from langchain.llms.openai import OpenAI\n",
    "from langchain.utilities import GoogleSerperAPIWrapper\n",
    "from langchain.agents import initialize_agent, Tool\n",
    "from langchain.agents import AgentType\n",
    "import os\n",
    "\n",
    "os.environ[\"OPENAI_API_KEY\"] = \"{YOUR_OPENAI_KEY}\"\n",
    "os.environ[\"SERPER_API_KEY\"] = \"{YOUR_SERPER_APIKEY}\"\n",
    "\n",
    "model = OpenAI()\n",
    "\n",
    "google_search = GoogleSerperAPIWrapper()\n",
    "tools = [\n",
    "    Tool(\n",
    "        name=\"Intermediate Answer\",\n",
    "        func=google_search.run,\n",
    "        description=\"useful for when you need to ask with search\",\n",
    "        verbose=True,\n",
    "    )\n",
    "]\n",
    "\n",
    "\n",
    "def _handle_error(error) -> str:\n",
    "    print(\"Error :\", error)\n",
    "    return str(error)\n",
    "\n",
    "\n",
    "agent = initialize_agent(\n",
    "    tools=tools,\n",
    "    llm=model,\n",
    "    max_iterations=10,\n",
    "    agent=AgentType.SELF_ASK_WITH_SEARCH,\n",
    "    handle_parsing_errors=_handle_error,\n",
    "    verbose=True,\n",
    ")\n",
    "agent.run(\"Where is the hometown of the 2007 US PGA championship winner?\")"
   ]
  },
  {
   "cell_type": "code",
   "execution_count": 9,
   "id": "8ca0d9f1-2ecd-4059-a8a7-aaa5904566ec",
   "metadata": {
    "tags": []
   },
   "outputs": [
    {
     "name": "stdout",
     "output_type": "stream",
     "text": [
      "\n",
      "\n",
      "\u001b[1m> Entering new AgentExecutor chain...\u001b[0m\n",
      "\u001b[32;1m\u001b[1;3m First, I need to find out who won the 2007 US PGA championship\n",
      "Action: Intermediate Answer\n",
      "Action Input: 2007 US PGA championship winner\u001b[0m\u001b[36;1m\u001b[1;3mTiger Woods wins the 2007 PGA Championship at Southern Hills Tiger Woods pumps his fist after saving par on a 35 foot put on hole 12 during the second round of the PGA Golf Championship at Southern Hills Country Club, Friday, Aug. 10, 2007.\u001b[0m\u001b[32;1m\u001b[1;3mNow, I need to find out where Tiger Woods is from\n",
      "Action: Intermediate Answer\n",
      "Action Input: Tiger Woods hometown\u001b[0m\u001b[36;1m\u001b[1;3mHe grew up in Cypress, California. He took an interest in golf at age 6 months, watching as his father hit golf balls into a net and imitating his swing. He appeared on The Mike Douglas Show at age 2, putting with Bob Hope.\u001b[0m\u001b[32;1m\u001b[1;3mFinally, I need to find out his score for the 2007 US PGA championship\n",
      "Action: Intermediate Answer\n",
      "Action Input: 2007 US PGA championship score Tiger Woods\u001b[0m\u001b[36;1m\u001b[1;3mTiger Woods scored a 63, tying the record for the lowest single-round score at a major championship. The feat had been previously accomplished 22 times by 20 other players, and also tied the course record set by Raymond Floyd in the 1982 PGA Championship.\u001b[0m\u001b[32;1m\u001b[1;3m I now know the final answer\n",
      "Final Answer: The hometown of the 2007 US PGA championship winner Tiger Woods is Cypress, California and his score was 63.\u001b[0m\n",
      "\n",
      "\u001b[1m> Finished chain.\u001b[0m\n",
      "{'input': 'Where is the hometown of the 2007 US PGA championship winner and his score?', 'output': 'The hometown of the 2007 US PGA championship winner Tiger Woods is Cypress, California and his score was 63.', 'intermediate_steps': [(AgentAction(tool='Intermediate Answer', tool_input='2007 US PGA championship winner', log=' First, I need to find out who won the 2007 US PGA championship\\nAction: Intermediate Answer\\nAction Input: 2007 US PGA championship winner'), 'Tiger Woods wins the 2007 PGA Championship at Southern Hills Tiger Woods pumps his fist after saving par on a 35 foot put on hole 12 during the second round of the PGA Golf Championship at Southern Hills Country Club, Friday, Aug. 10, 2007.'), (AgentAction(tool='Intermediate Answer', tool_input='Tiger Woods hometown', log='Now, I need to find out where Tiger Woods is from\\nAction: Intermediate Answer\\nAction Input: Tiger Woods hometown'), 'He grew up in Cypress, California. He took an interest in golf at age 6 months, watching as his father hit golf balls into a net and imitating his swing. He appeared on The Mike Douglas Show at age 2, putting with Bob Hope.'), (AgentAction(tool='Intermediate Answer', tool_input='2007 US PGA championship score Tiger Woods', log='Finally, I need to find out his score for the 2007 US PGA championship\\nAction: Intermediate Answer\\nAction Input: 2007 US PGA championship score Tiger Woods'), 'Tiger Woods scored a 63, tying the record for the lowest single-round score at a major championship. The feat had been previously accomplished 22 times by 20 other players, and also tied the course record set by Raymond Floyd in the 1982 PGA Championship.')]}\n"
     ]
    }
   ],
   "source": [
    "from langchain.llms.openai import OpenAI\n",
    "from langchain.utilities import GoogleSerperAPIWrapper\n",
    "from langchain.agents import Tool\n",
    "import os\n",
    "from langchain_core.prompts import PromptTemplate\n",
    "from langchain.agents import AgentExecutor, create_react_agent\n",
    "\n",
    "os.environ[\"LANGCHAIN_TRACING_V2\"] = \"true\"\n",
    "os.environ[\"LANGCHAIN_ENDPOINT\"] = \"https://api.smith.langchain.com\"\n",
    "os.environ[\"LANGCHAIN_API_KEY\"] = \"{YOUR_LANGCHAIN_APIKEY}\"\n",
    "os.environ[\"LANGCHAIN_PROJECT\"] = \"terrylangsmith\"\n",
    "os.environ[\"OPENAI_API_KEY\"] = \"{YOUR_OPENAI_KEY}\"\n",
    "os.environ[\"SERPER_API_KEY\"] = \"YOU_SERPER_APIKEY\"\n",
    "\n",
    "model = OpenAI()\n",
    "\n",
    "google_search = GoogleSerperAPIWrapper()\n",
    "tools = [\n",
    "    Tool(\n",
    "        name=\"Intermediate Answer\",\n",
    "        func=google_search.run,\n",
    "        description=\"useful for when you need to ask with search\",\n",
    "        verbose=True,\n",
    "    )\n",
    "]\n",
    "\n",
    "# ref : https://api.python.langchain.com/en/latest/agents/langchain.agents.react.agent.create_react_agent.html\n",
    "# ref https://medium.com/@prabhakaran_arivalagan/behind-the-scene-react-agents-in-langchain-4f7f48c2476d\n",
    "# Lang smith로 추적해서 분석할것.\n",
    "template = \"\"\"Answer the following questions as best you can. You have access to the following tools:\n",
    "\n",
    "{tools}\n",
    "\n",
    "Use the following format:\n",
    "\n",
    "Question: the input question you must answer\n",
    "Thought: you should always think about what to do\n",
    "Action: the action to take, should be one of [{tool_names}]\n",
    "Action Input: the input to the action\n",
    "Observation: the result of the action\n",
    "... (this Thought/Action/Action Input/Observation can repeat N times)\n",
    "Thought: I now know the final answer\n",
    "Final Answer: the final answer to the original input question\n",
    "\n",
    "Begin!\n",
    "\n",
    "Question: {input}\n",
    "Thought:{agent_scratchpad}\"\"\"\n",
    "\n",
    "prompt = PromptTemplate.from_template(template)\n",
    "\n",
    "search_agent = create_react_agent(model, tools, prompt)\n",
    "agent_executor = AgentExecutor(\n",
    "    agent=search_agent,\n",
    "    tools=tools,\n",
    "    verbose=True,\n",
    "    return_intermediate_steps=True,\n",
    ")\n",
    "response = agent_executor.invoke(\n",
    "    {\n",
    "        \"input\": \"Where is the hometown of the 2007 US PGA championship winner and his score?\"\n",
    "    }\n",
    ")\n",
    "print(response)"
   ]
  },
  {
   "cell_type": "code",
   "execution_count": 5,
   "id": "d9762705-9508-4bd3-9f53-ddf948b9e657",
   "metadata": {},
   "outputs": [],
   "source": [
    "# Google Search + YouTube + Spotify"
   ]
  },
  {
   "cell_type": "markdown",
   "id": "c6d3693c-3045-4581-b3a5-ada1628f62a9",
   "metadata": {},
   "source": [
    "Other usefule tools\n",
    "\n",
    "- apify (web crawler)\n",
    "- Streamlit"
   ]
  }
 ],
 "metadata": {
  "kernelspec": {
   "display_name": "Python 3 (ipykernel)",
   "language": "python",
   "name": "python3"
  },
  "language_info": {
   "codemirror_mode": {
    "name": "ipython",
    "version": 3
   },
   "file_extension": ".py",
   "mimetype": "text/x-python",
   "name": "python",
   "nbconvert_exporter": "python",
   "pygments_lexer": "ipython3",
   "version": "3.11.4"
  }
 },
 "nbformat": 4,
 "nbformat_minor": 5
}
