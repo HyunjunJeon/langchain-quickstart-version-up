{
 "cells": [
  {
   "cell_type": "code",
   "execution_count": null,
   "id": "42e15675-6368-4f08-91ca-d8b4ab4f9616",
   "metadata": {
    "tags": []
   },
   "outputs": [],
   "source": [
    "from langsmith import Client\n",
    "import os\n",
    "\n",
    "os.environ[\"LANGCHAIN_ENDPOINT\"] = \"https://api.smith.langchain.com\"\n",
    "os.environ[\"LANGCHAIN_API_KEY\"] = \"{YOUR_LANGCHAIN_APIKEY}\"\n",
    "os.environ[\"OPENAI_API_KEY\"] = \"{YOUR_OPENAI_KEY}\"\n",
    "\n",
    "import langsmith\n",
    "\n",
    "from langchain import prompts\n",
    "from langchain.schema import output_parser\n",
    "from langchain_openai import ChatOpenAI\n",
    "from langchain.smith import RunEvalConfig\n",
    "\n",
    "\n",
    "# Define your runnable or chain below.\n",
    "prompt = prompts.ChatPromptTemplate.from_messages(\n",
    "    [(\"system\", \"You are a helpful AI assistant.\"), (\"human\", \"{question}\")]\n",
    ")\n",
    "llm = ChatOpenAI(model=\"gpt-4o-mini\", temperature=0)\n",
    "chain = prompt | llm | output_parser.StrOutputParser()\n",
    "\n",
    "# Define the evaluators to apply\n",
    "eval_config = RunEvalConfig(\n",
    "    evaluators=[\n",
    "        \"cot_qa\",\n",
    "        RunEvalConfig.LabeledCriteria(\"conciseness\"),\n",
    "        RunEvalConfig.LabeledCriteria(\"relevance\"),\n",
    "        RunEvalConfig.LabeledCriteria(\"coherence\"),\n",
    "        RunEvalConfig.LabeledCriteria(\"harmfulness\"),\n",
    "        RunEvalConfig.LabeledCriteria(\"maliciousness\"),\n",
    "        RunEvalConfig.LabeledCriteria(\"helpfulness\"),\n",
    "        RunEvalConfig.LabeledCriteria(\"controversiality\"),\n",
    "        RunEvalConfig.LabeledCriteria(\"misogyny\"),\n",
    "        RunEvalConfig.LabeledCriteria(\"criminality\"),\n",
    "        RunEvalConfig.LabeledCriteria(\"insensitivity\"),\n",
    "    ],\n",
    "    custom_evaluators=[],\n",
    "    eval_llm=llm,\n",
    ")\n",
    "\n",
    "client = Client()\n",
    "chain_results = client.run_on_dataset(\n",
    "    dataset_name=\"Rap Battle Dataset 1\",\n",
    "    llm_or_chain_factory=chain,\n",
    "    evaluation=eval_config,\n",
    "    project_name=\"test-advanced-fly-10\",\n",
    "    concurrency_level=5,\n",
    "    verbose=True,\n",
    ")\n",
    "chain_results"
   ]
  }
 ],
 "metadata": {
  "kernelspec": {
   "display_name": "Python 3 (ipykernel)",
   "language": "python",
   "name": "python3"
  },
  "language_info": {
   "codemirror_mode": {
    "name": "ipython",
    "version": 3
   },
   "file_extension": ".py",
   "mimetype": "text/x-python",
   "name": "python",
   "nbconvert_exporter": "python",
   "pygments_lexer": "ipython3",
   "version": "3.12.6"
  }
 },
 "nbformat": 4,
 "nbformat_minor": 5
}
