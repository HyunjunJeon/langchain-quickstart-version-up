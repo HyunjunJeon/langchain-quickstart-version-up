{
 "cells": [
  {
   "cell_type": "markdown",
   "id": "d6badb05-2ada-4e17-ae26-8e9935a8cf4a",
   "metadata": {},
   "source": [
    "# Select by Length"
   ]
  },
  {
   "cell_type": "code",
   "execution_count": 3,
   "id": "b83cc815-a9fe-4a2a-90a2-4d0ebf3c090f",
   "metadata": {
    "tags": []
   },
   "outputs": [
    {
     "name": "stdout",
     "output_type": "stream",
     "text": [
      "20 What is the category of this food?\n",
      "\n",
      "Food:Kimchi Category:Korean food\n",
      "\n",
      "Food:Chocolate Category:dessert\n",
      "\n",
      "Food:Pasta Category:Italian food\n",
      "\n",
      "Food:Americano Category:Coffee\n",
      "\n",
      "Food: Korean BBQ\n"
     ]
    }
   ],
   "source": [
    "from langchain_core.prompts import FewShotPromptTemplate, PromptTemplate\n",
    "from langchain_core.example_selectors.length_based import LengthBasedExampleSelector\n",
    "\n",
    "examples = [\n",
    "    {\"food\": \"Kimchi\", \"category\": \"Korean food\"},\n",
    "    {\"food\": \"Chocolate\", \"category\": \"dessert\"},\n",
    "    {\"food\": \"Pasta\", \"category\": \"Italian food\"},\n",
    "    {\"food\": \"Americano\", \"category\": \"Coffee\"},\n",
    "]\n",
    "\n",
    "example_prompt = PromptTemplate(\n",
    "    template=\"Food:{food} Category:{category}\", input_variables=[\"food\", \"category\"]\n",
    ")\n",
    "example_selector = LengthBasedExampleSelector(\n",
    "    examples=examples, example_prompt=example_prompt, max_length=30\n",
    ")\n",
    "dynamic_prompt = FewShotPromptTemplate(\n",
    "    example_selector=example_selector,\n",
    "    example_prompt=example_prompt,\n",
    "    prefix=\"What is the category of this food?\",\n",
    "    suffix=\"Food: {food}\",\n",
    "    input_variables=[\"food\"],\n",
    ")\n",
    "\n",
    "output = dynamic_prompt.format(food=\"Korean BBQ\")\n",
    "print(len(output.split()), output)"
   ]
  },
  {
   "cell_type": "code",
   "execution_count": 4,
   "id": "47b55ad1-451d-4a9d-92e9-7e9217de336f",
   "metadata": {
    "tags": []
   },
   "outputs": [
    {
     "name": "stdout",
     "output_type": "stream",
     "text": [
      "34 What is the category of this food?\n",
      "\n",
      "Food:Kimchi Category:Korean food\n",
      "\n",
      "Food:Chocolate Category:dessert\n",
      "\n",
      "Food: Korean BBQ: Grilled meat, vibrant flavors, charcoal aroma. \n",
      "Tradition meets friends and family in a delightful dining experience, creating lasting memories.\n",
      "\n"
     ]
    }
   ],
   "source": [
    "output = dynamic_prompt.format(\n",
    "    food=\"\"\"Korean BBQ: Grilled meat, vibrant flavors, charcoal aroma. \n",
    "Tradition meets friends and family in a delightful dining experience, creating lasting memories.\n",
    "\"\"\"\n",
    ")\n",
    "print(len(output.split()), output)"
   ]
  },
  {
   "cell_type": "code",
   "execution_count": 5,
   "id": "aadd7f14-8c69-4082-a1a8-cb669c28fa6c",
   "metadata": {
    "tags": []
   },
   "outputs": [
    {
     "name": "stdout",
     "output_type": "stream",
     "text": [
      "42 What is the category of this food?\n",
      "\n",
      "Food: Korean BBQ is a traditional cuisine where fresh meat is grilled with seasonings. The aroma of burning charcoaland rich flavors from special sauces create a delightful dining experience, often shared with family or friends.\n"
     ]
    }
   ],
   "source": [
    "food = (\n",
    "    \"Korean BBQ is a traditional cuisine where fresh meat \"\n",
    "    \"is grilled with seasonings. The aroma of burning charcoal\"\n",
    "    \"and rich flavors from special sauces create a delightful \"\n",
    "    \"dining experience, often shared with family or friends.\"\n",
    ")\n",
    "output = dynamic_prompt.format(food=food)\n",
    "print(len(output.split()), output)"
   ]
  },
  {
   "cell_type": "code",
   "execution_count": 7,
   "id": "867b2996",
   "metadata": {},
   "outputs": [
    {
     "name": "stdout",
     "output_type": "stream",
     "text": [
      "Collecting nltk\n",
      "  Downloading nltk-3.9.1-py3-none-any.whl.metadata (2.9 kB)\n",
      "Collecting click (from nltk)\n",
      "  Using cached click-8.1.7-py3-none-any.whl.metadata (3.0 kB)\n",
      "Collecting joblib (from nltk)\n",
      "  Using cached joblib-1.4.2-py3-none-any.whl.metadata (5.4 kB)\n",
      "Requirement already satisfied: regex>=2021.8.3 in /Users/jhj/.pyenv/versions/langchain-quickstart-version-up/lib/python3.12/site-packages (from nltk) (2024.9.11)\n",
      "Requirement already satisfied: tqdm in /Users/jhj/.pyenv/versions/langchain-quickstart-version-up/lib/python3.12/site-packages (from nltk) (4.66.5)\n",
      "Downloading nltk-3.9.1-py3-none-any.whl (1.5 MB)\n",
      "\u001b[2K   \u001b[90m━━━━━━━━━━━━━━━━━━━━━━━━━━━━━━━━━━━━━━━━\u001b[0m \u001b[32m1.5/1.5 MB\u001b[0m \u001b[31m49.9 MB/s\u001b[0m eta \u001b[36m0:00:00\u001b[0m\n",
      "\u001b[?25hUsing cached click-8.1.7-py3-none-any.whl (97 kB)\n",
      "Using cached joblib-1.4.2-py3-none-any.whl (301 kB)\n",
      "Installing collected packages: joblib, click, nltk\n",
      "Successfully installed click-8.1.7 joblib-1.4.2 nltk-3.9.1\n",
      "Note: you may need to restart the kernel to use updated packages.\n"
     ]
    }
   ],
   "source": [
    "%pip install nltk\n",
    "# N-gram Selector"
   ]
  },
  {
   "cell_type": "markdown",
   "id": "6d094f7e-33f8-4301-93ba-48a863bb2b96",
   "metadata": {},
   "source": [
    "# N-gram Selector"
   ]
  },
  {
   "cell_type": "code",
   "execution_count": 8,
   "id": "32e25e9a-d8fd-430a-b870-5e562a03af0d",
   "metadata": {
    "tags": []
   },
   "outputs": [
    {
     "name": "stdout",
     "output_type": "stream",
     "text": [
      "What is the category in the food? .\n",
      "\n",
      "Food:Kimchi is my favorite food. Category:Korean food\n",
      "\n",
      "Food:I love pasta; it's my favorite comfort food after work. Category:Italian food\n",
      "\n",
      "Food:Chocolate is easy to gain weight food. Category:dessert\n",
      "\n",
      "Food:Sipping an Americano, contemplating weight, a mindful morning routine begins. Category:Coffee\n",
      "\n",
      "Food: Sushi is my favorite choice for party food\n"
     ]
    }
   ],
   "source": [
    "from langchain_core.prompts import FewShotPromptTemplate, PromptTemplate\n",
    "from langchain_community.example_selectors.ngram_overlap import NGramOverlapExampleSelector\n",
    "\n",
    "examples = [\n",
    "    {\"food\": \"Kimchi is my favorite food.\", \"category\": \"Korean food\"},\n",
    "    {\"food\": \"Chocolate is easy to gain weight food.\", \"category\": \"dessert\"},\n",
    "    {\n",
    "        \"food\": \"I love pasta; it's my favorite comfort food after work.\",\n",
    "        \"category\": \"Italian food\",\n",
    "    },\n",
    "    {\n",
    "        \"food\": \"Sipping an Americano, contemplating weight, a mindful morning routine begins.\",\n",
    "        \"category\": \"Coffee\",\n",
    "    },\n",
    "]\n",
    "\n",
    "example_prompt = PromptTemplate(\n",
    "    template=\"Food:{food} Category:{category}\", input_variables=[\"food\", \"category\"]\n",
    ")\n",
    "example_selector = NGramOverlapExampleSelector(\n",
    "    examples=examples, example_prompt=example_prompt, threshold=-1.0\n",
    ")\n",
    "dynamic_prompt = FewShotPromptTemplate(\n",
    "    example_selector=example_selector,\n",
    "    example_prompt=example_prompt,\n",
    "    prefix=\"What is the category in the food? .\",\n",
    "    suffix=\"Food: {food}\",\n",
    "    input_variables=[\"food\"],\n",
    ")\n",
    "\n",
    "output = dynamic_prompt.format(food=\"Sushi is my favorite choice for party food\")\n",
    "print(output)"
   ]
  },
  {
   "cell_type": "code",
   "execution_count": 9,
   "id": "404acc19-63c1-4e13-8b2f-6a2b2ae07c0e",
   "metadata": {
    "tags": []
   },
   "outputs": [
    {
     "name": "stdout",
     "output_type": "stream",
     "text": [
      "What is the category in the food? .\n",
      "\n",
      "Food:Kimchi is my favorite food. Category:Korean food\n",
      "\n",
      "Food:I love pasta; it's my favorite comfort food after work. Category:Italian food\n",
      "\n",
      "Food: Sushi is my favorite choice for party food\n"
     ]
    }
   ],
   "source": [
    "example_selector = NGramOverlapExampleSelector(\n",
    "    examples=examples, example_prompt=example_prompt, threshold=0.0\n",
    ")\n",
    "dynamic_prompt = FewShotPromptTemplate(\n",
    "    example_selector=example_selector,\n",
    "    example_prompt=example_prompt,\n",
    "    prefix=\"What is the category in the food? .\",\n",
    "    suffix=\"Food: {food}\",\n",
    "    input_variables=[\"food\"],\n",
    ")\n",
    "\n",
    "output = dynamic_prompt.format(food=\"Sushi is my favorite choice for party food\")\n",
    "print(output)"
   ]
  },
  {
   "cell_type": "code",
   "execution_count": 10,
   "id": "e9e228aa-4cec-45af-9a1b-384529a21a6b",
   "metadata": {
    "tags": []
   },
   "outputs": [
    {
     "name": "stdout",
     "output_type": "stream",
     "text": [
      "What is the category in the food? .\n",
      "\n",
      "Food:Kimchi is my favorite food. Category:Korean food\n",
      "\n",
      "Food:I love pasta; it's my favorite comfort food after work. Category:Italian food\n",
      "\n",
      "Food:Chocolate is easy to gain weight food. Category:dessert\n",
      "\n",
      "Food:Sipping an Americano, contemplating weight, a mindful morning routine begins. Category:Coffee\n",
      "\n",
      "Food: Sushi is my favorite choice for party food\n"
     ]
    }
   ],
   "source": [
    "example_selector = NGramOverlapExampleSelector(\n",
    "    examples=examples, example_prompt=example_prompt, threshold=-0.2\n",
    ")\n",
    "dynamic_prompt = FewShotPromptTemplate(\n",
    "    example_selector=example_selector,\n",
    "    example_prompt=example_prompt,\n",
    "    prefix=\"What is the category in the food? .\",\n",
    "    suffix=\"Food: {food}\",\n",
    "    input_variables=[\"food\"],\n",
    ")\n",
    "\n",
    "output = dynamic_prompt.format(food=\"Sushi is my favorite choice for party food\")\n",
    "print(output)"
   ]
  },
  {
   "cell_type": "markdown",
   "id": "3417a85f-5aa3-47ce-9775-198b0095e5ec",
   "metadata": {},
   "source": [
    "# Similarity based"
   ]
  },
  {
   "cell_type": "code",
   "execution_count": 13,
   "id": "e81dc596-b838-421a-a648-d438d64605b3",
   "metadata": {
    "tags": []
   },
   "outputs": [
    {
     "name": "stdout",
     "output_type": "stream",
     "text": [
      "Collecting langchain-chroma\n",
      "  Downloading langchain_chroma-0.1.4-py3-none-any.whl.metadata (1.6 kB)\n",
      "Requirement already satisfied: chromadb!=0.5.4,!=0.5.5,<0.6.0,>=0.4.0 in /Users/jhj/.pyenv/versions/langchain-quickstart-version-up/lib/python3.12/site-packages (from langchain-chroma) (0.5.15)\n",
      "Requirement already satisfied: fastapi<1,>=0.95.2 in /Users/jhj/.pyenv/versions/langchain-quickstart-version-up/lib/python3.12/site-packages (from langchain-chroma) (0.115.2)\n",
      "Requirement already satisfied: langchain-core<0.4,>=0.1.40 in /Users/jhj/.pyenv/versions/langchain-quickstart-version-up/lib/python3.12/site-packages (from langchain-chroma) (0.3.12)\n",
      "Requirement already satisfied: numpy<2.0.0,>=1.26.0 in /Users/jhj/.pyenv/versions/langchain-quickstart-version-up/lib/python3.12/site-packages (from langchain-chroma) (1.26.4)\n",
      "Requirement already satisfied: build>=1.0.3 in /Users/jhj/.pyenv/versions/langchain-quickstart-version-up/lib/python3.12/site-packages (from chromadb!=0.5.4,!=0.5.5,<0.6.0,>=0.4.0->langchain-chroma) (1.2.2.post1)\n",
      "Requirement already satisfied: pydantic>=1.9 in /Users/jhj/.pyenv/versions/langchain-quickstart-version-up/lib/python3.12/site-packages (from chromadb!=0.5.4,!=0.5.5,<0.6.0,>=0.4.0->langchain-chroma) (2.9.2)\n",
      "Requirement already satisfied: chroma-hnswlib==0.7.6 in /Users/jhj/.pyenv/versions/langchain-quickstart-version-up/lib/python3.12/site-packages (from chromadb!=0.5.4,!=0.5.5,<0.6.0,>=0.4.0->langchain-chroma) (0.7.6)\n",
      "Requirement already satisfied: uvicorn>=0.18.3 in /Users/jhj/.pyenv/versions/langchain-quickstart-version-up/lib/python3.12/site-packages (from uvicorn[standard]>=0.18.3->chromadb!=0.5.4,!=0.5.5,<0.6.0,>=0.4.0->langchain-chroma) (0.32.0)\n",
      "Requirement already satisfied: posthog>=2.4.0 in /Users/jhj/.pyenv/versions/langchain-quickstart-version-up/lib/python3.12/site-packages (from chromadb!=0.5.4,!=0.5.5,<0.6.0,>=0.4.0->langchain-chroma) (3.7.0)\n",
      "Requirement already satisfied: typing-extensions>=4.5.0 in /Users/jhj/.pyenv/versions/langchain-quickstart-version-up/lib/python3.12/site-packages (from chromadb!=0.5.4,!=0.5.5,<0.6.0,>=0.4.0->langchain-chroma) (4.12.2)\n",
      "Requirement already satisfied: onnxruntime>=1.14.1 in /Users/jhj/.pyenv/versions/langchain-quickstart-version-up/lib/python3.12/site-packages (from chromadb!=0.5.4,!=0.5.5,<0.6.0,>=0.4.0->langchain-chroma) (1.19.2)\n",
      "Requirement already satisfied: opentelemetry-api>=1.2.0 in /Users/jhj/.pyenv/versions/langchain-quickstart-version-up/lib/python3.12/site-packages (from chromadb!=0.5.4,!=0.5.5,<0.6.0,>=0.4.0->langchain-chroma) (1.27.0)\n",
      "Requirement already satisfied: opentelemetry-exporter-otlp-proto-grpc>=1.2.0 in /Users/jhj/.pyenv/versions/langchain-quickstart-version-up/lib/python3.12/site-packages (from chromadb!=0.5.4,!=0.5.5,<0.6.0,>=0.4.0->langchain-chroma) (1.27.0)\n",
      "Requirement already satisfied: opentelemetry-instrumentation-fastapi>=0.41b0 in /Users/jhj/.pyenv/versions/langchain-quickstart-version-up/lib/python3.12/site-packages (from chromadb!=0.5.4,!=0.5.5,<0.6.0,>=0.4.0->langchain-chroma) (0.48b0)\n",
      "Requirement already satisfied: opentelemetry-sdk>=1.2.0 in /Users/jhj/.pyenv/versions/langchain-quickstart-version-up/lib/python3.12/site-packages (from chromadb!=0.5.4,!=0.5.5,<0.6.0,>=0.4.0->langchain-chroma) (1.27.0)\n",
      "Requirement already satisfied: tokenizers>=0.13.2 in /Users/jhj/.pyenv/versions/langchain-quickstart-version-up/lib/python3.12/site-packages (from chromadb!=0.5.4,!=0.5.5,<0.6.0,>=0.4.0->langchain-chroma) (0.20.1)\n",
      "Requirement already satisfied: pypika>=0.48.9 in /Users/jhj/.pyenv/versions/langchain-quickstart-version-up/lib/python3.12/site-packages (from chromadb!=0.5.4,!=0.5.5,<0.6.0,>=0.4.0->langchain-chroma) (0.48.9)\n",
      "Requirement already satisfied: tqdm>=4.65.0 in /Users/jhj/.pyenv/versions/langchain-quickstart-version-up/lib/python3.12/site-packages (from chromadb!=0.5.4,!=0.5.5,<0.6.0,>=0.4.0->langchain-chroma) (4.66.5)\n",
      "Requirement already satisfied: overrides>=7.3.1 in /Users/jhj/.pyenv/versions/langchain-quickstart-version-up/lib/python3.12/site-packages (from chromadb!=0.5.4,!=0.5.5,<0.6.0,>=0.4.0->langchain-chroma) (7.7.0)\n",
      "Requirement already satisfied: importlib-resources in /Users/jhj/.pyenv/versions/langchain-quickstart-version-up/lib/python3.12/site-packages (from chromadb!=0.5.4,!=0.5.5,<0.6.0,>=0.4.0->langchain-chroma) (6.4.5)\n",
      "Requirement already satisfied: grpcio>=1.58.0 in /Users/jhj/.pyenv/versions/langchain-quickstart-version-up/lib/python3.12/site-packages (from chromadb!=0.5.4,!=0.5.5,<0.6.0,>=0.4.0->langchain-chroma) (1.67.0)\n",
      "Requirement already satisfied: bcrypt>=4.0.1 in /Users/jhj/.pyenv/versions/langchain-quickstart-version-up/lib/python3.12/site-packages (from chromadb!=0.5.4,!=0.5.5,<0.6.0,>=0.4.0->langchain-chroma) (4.2.0)\n",
      "Requirement already satisfied: typer>=0.9.0 in /Users/jhj/.pyenv/versions/langchain-quickstart-version-up/lib/python3.12/site-packages (from chromadb!=0.5.4,!=0.5.5,<0.6.0,>=0.4.0->langchain-chroma) (0.12.5)\n",
      "Requirement already satisfied: kubernetes>=28.1.0 in /Users/jhj/.pyenv/versions/langchain-quickstart-version-up/lib/python3.12/site-packages (from chromadb!=0.5.4,!=0.5.5,<0.6.0,>=0.4.0->langchain-chroma) (31.0.0)\n",
      "Requirement already satisfied: tenacity>=8.2.3 in /Users/jhj/.pyenv/versions/langchain-quickstart-version-up/lib/python3.12/site-packages (from chromadb!=0.5.4,!=0.5.5,<0.6.0,>=0.4.0->langchain-chroma) (9.0.0)\n",
      "Requirement already satisfied: PyYAML>=6.0.0 in /Users/jhj/.pyenv/versions/langchain-quickstart-version-up/lib/python3.12/site-packages (from chromadb!=0.5.4,!=0.5.5,<0.6.0,>=0.4.0->langchain-chroma) (6.0.2)\n",
      "Requirement already satisfied: mmh3>=4.0.1 in /Users/jhj/.pyenv/versions/langchain-quickstart-version-up/lib/python3.12/site-packages (from chromadb!=0.5.4,!=0.5.5,<0.6.0,>=0.4.0->langchain-chroma) (5.0.1)\n",
      "Requirement already satisfied: orjson>=3.9.12 in /Users/jhj/.pyenv/versions/langchain-quickstart-version-up/lib/python3.12/site-packages (from chromadb!=0.5.4,!=0.5.5,<0.6.0,>=0.4.0->langchain-chroma) (3.10.9)\n",
      "Requirement already satisfied: httpx>=0.27.0 in /Users/jhj/.pyenv/versions/langchain-quickstart-version-up/lib/python3.12/site-packages (from chromadb!=0.5.4,!=0.5.5,<0.6.0,>=0.4.0->langchain-chroma) (0.27.2)\n",
      "Requirement already satisfied: rich>=10.11.0 in /Users/jhj/.pyenv/versions/langchain-quickstart-version-up/lib/python3.12/site-packages (from chromadb!=0.5.4,!=0.5.5,<0.6.0,>=0.4.0->langchain-chroma) (13.9.2)\n",
      "Requirement already satisfied: starlette<0.41.0,>=0.37.2 in /Users/jhj/.pyenv/versions/langchain-quickstart-version-up/lib/python3.12/site-packages (from fastapi<1,>=0.95.2->langchain-chroma) (0.40.0)\n",
      "Requirement already satisfied: jsonpatch<2.0,>=1.33 in /Users/jhj/.pyenv/versions/langchain-quickstart-version-up/lib/python3.12/site-packages (from langchain-core<0.4,>=0.1.40->langchain-chroma) (1.33)\n",
      "Requirement already satisfied: langsmith<0.2.0,>=0.1.125 in /Users/jhj/.pyenv/versions/langchain-quickstart-version-up/lib/python3.12/site-packages (from langchain-core<0.4,>=0.1.40->langchain-chroma) (0.1.136)\n",
      "Requirement already satisfied: packaging<25,>=23.2 in /Users/jhj/.pyenv/versions/langchain-quickstart-version-up/lib/python3.12/site-packages (from langchain-core<0.4,>=0.1.40->langchain-chroma) (24.1)\n",
      "Requirement already satisfied: pyproject_hooks in /Users/jhj/.pyenv/versions/langchain-quickstart-version-up/lib/python3.12/site-packages (from build>=1.0.3->chromadb!=0.5.4,!=0.5.5,<0.6.0,>=0.4.0->langchain-chroma) (1.2.0)\n",
      "Requirement already satisfied: anyio in /Users/jhj/.pyenv/versions/langchain-quickstart-version-up/lib/python3.12/site-packages (from httpx>=0.27.0->chromadb!=0.5.4,!=0.5.5,<0.6.0,>=0.4.0->langchain-chroma) (4.6.2.post1)\n",
      "Requirement already satisfied: certifi in /Users/jhj/.pyenv/versions/langchain-quickstart-version-up/lib/python3.12/site-packages (from httpx>=0.27.0->chromadb!=0.5.4,!=0.5.5,<0.6.0,>=0.4.0->langchain-chroma) (2024.8.30)\n",
      "Requirement already satisfied: httpcore==1.* in /Users/jhj/.pyenv/versions/langchain-quickstart-version-up/lib/python3.12/site-packages (from httpx>=0.27.0->chromadb!=0.5.4,!=0.5.5,<0.6.0,>=0.4.0->langchain-chroma) (1.0.6)\n",
      "Requirement already satisfied: idna in /Users/jhj/.pyenv/versions/langchain-quickstart-version-up/lib/python3.12/site-packages (from httpx>=0.27.0->chromadb!=0.5.4,!=0.5.5,<0.6.0,>=0.4.0->langchain-chroma) (3.10)\n",
      "Requirement already satisfied: sniffio in /Users/jhj/.pyenv/versions/langchain-quickstart-version-up/lib/python3.12/site-packages (from httpx>=0.27.0->chromadb!=0.5.4,!=0.5.5,<0.6.0,>=0.4.0->langchain-chroma) (1.3.1)\n",
      "Requirement already satisfied: h11<0.15,>=0.13 in /Users/jhj/.pyenv/versions/langchain-quickstart-version-up/lib/python3.12/site-packages (from httpcore==1.*->httpx>=0.27.0->chromadb!=0.5.4,!=0.5.5,<0.6.0,>=0.4.0->langchain-chroma) (0.14.0)\n",
      "Requirement already satisfied: jsonpointer>=1.9 in /Users/jhj/.pyenv/versions/langchain-quickstart-version-up/lib/python3.12/site-packages (from jsonpatch<2.0,>=1.33->langchain-core<0.4,>=0.1.40->langchain-chroma) (3.0.0)\n",
      "Requirement already satisfied: six>=1.9.0 in /Users/jhj/.pyenv/versions/langchain-quickstart-version-up/lib/python3.12/site-packages (from kubernetes>=28.1.0->chromadb!=0.5.4,!=0.5.5,<0.6.0,>=0.4.0->langchain-chroma) (1.16.0)\n",
      "Requirement already satisfied: python-dateutil>=2.5.3 in /Users/jhj/.pyenv/versions/langchain-quickstart-version-up/lib/python3.12/site-packages (from kubernetes>=28.1.0->chromadb!=0.5.4,!=0.5.5,<0.6.0,>=0.4.0->langchain-chroma) (2.9.0.post0)\n",
      "Requirement already satisfied: google-auth>=1.0.1 in /Users/jhj/.pyenv/versions/langchain-quickstart-version-up/lib/python3.12/site-packages (from kubernetes>=28.1.0->chromadb!=0.5.4,!=0.5.5,<0.6.0,>=0.4.0->langchain-chroma) (2.35.0)\n",
      "Requirement already satisfied: websocket-client!=0.40.0,!=0.41.*,!=0.42.*,>=0.32.0 in /Users/jhj/.pyenv/versions/langchain-quickstart-version-up/lib/python3.12/site-packages (from kubernetes>=28.1.0->chromadb!=0.5.4,!=0.5.5,<0.6.0,>=0.4.0->langchain-chroma) (1.8.0)\n",
      "Requirement already satisfied: requests in /Users/jhj/.pyenv/versions/langchain-quickstart-version-up/lib/python3.12/site-packages (from kubernetes>=28.1.0->chromadb!=0.5.4,!=0.5.5,<0.6.0,>=0.4.0->langchain-chroma) (2.32.3)\n",
      "Requirement already satisfied: requests-oauthlib in /Users/jhj/.pyenv/versions/langchain-quickstart-version-up/lib/python3.12/site-packages (from kubernetes>=28.1.0->chromadb!=0.5.4,!=0.5.5,<0.6.0,>=0.4.0->langchain-chroma) (2.0.0)\n",
      "Requirement already satisfied: oauthlib>=3.2.2 in /Users/jhj/.pyenv/versions/langchain-quickstart-version-up/lib/python3.12/site-packages (from kubernetes>=28.1.0->chromadb!=0.5.4,!=0.5.5,<0.6.0,>=0.4.0->langchain-chroma) (3.2.2)\n",
      "Requirement already satisfied: urllib3>=1.24.2 in /Users/jhj/.pyenv/versions/langchain-quickstart-version-up/lib/python3.12/site-packages (from kubernetes>=28.1.0->chromadb!=0.5.4,!=0.5.5,<0.6.0,>=0.4.0->langchain-chroma) (2.2.3)\n",
      "Requirement already satisfied: durationpy>=0.7 in /Users/jhj/.pyenv/versions/langchain-quickstart-version-up/lib/python3.12/site-packages (from kubernetes>=28.1.0->chromadb!=0.5.4,!=0.5.5,<0.6.0,>=0.4.0->langchain-chroma) (0.9)\n",
      "Requirement already satisfied: requests-toolbelt<2.0.0,>=1.0.0 in /Users/jhj/.pyenv/versions/langchain-quickstart-version-up/lib/python3.12/site-packages (from langsmith<0.2.0,>=0.1.125->langchain-core<0.4,>=0.1.40->langchain-chroma) (1.0.0)\n",
      "Requirement already satisfied: coloredlogs in /Users/jhj/.pyenv/versions/langchain-quickstart-version-up/lib/python3.12/site-packages (from onnxruntime>=1.14.1->chromadb!=0.5.4,!=0.5.5,<0.6.0,>=0.4.0->langchain-chroma) (15.0.1)\n",
      "Requirement already satisfied: flatbuffers in /Users/jhj/.pyenv/versions/langchain-quickstart-version-up/lib/python3.12/site-packages (from onnxruntime>=1.14.1->chromadb!=0.5.4,!=0.5.5,<0.6.0,>=0.4.0->langchain-chroma) (24.3.25)\n",
      "Requirement already satisfied: protobuf in /Users/jhj/.pyenv/versions/langchain-quickstart-version-up/lib/python3.12/site-packages (from onnxruntime>=1.14.1->chromadb!=0.5.4,!=0.5.5,<0.6.0,>=0.4.0->langchain-chroma) (4.25.5)\n",
      "Requirement already satisfied: sympy in /Users/jhj/.pyenv/versions/langchain-quickstart-version-up/lib/python3.12/site-packages (from onnxruntime>=1.14.1->chromadb!=0.5.4,!=0.5.5,<0.6.0,>=0.4.0->langchain-chroma) (1.13.3)\n",
      "Requirement already satisfied: deprecated>=1.2.6 in /Users/jhj/.pyenv/versions/langchain-quickstart-version-up/lib/python3.12/site-packages (from opentelemetry-api>=1.2.0->chromadb!=0.5.4,!=0.5.5,<0.6.0,>=0.4.0->langchain-chroma) (1.2.14)\n",
      "Requirement already satisfied: importlib-metadata<=8.4.0,>=6.0 in /Users/jhj/.pyenv/versions/langchain-quickstart-version-up/lib/python3.12/site-packages (from opentelemetry-api>=1.2.0->chromadb!=0.5.4,!=0.5.5,<0.6.0,>=0.4.0->langchain-chroma) (8.4.0)\n",
      "Requirement already satisfied: googleapis-common-protos~=1.52 in /Users/jhj/.pyenv/versions/langchain-quickstart-version-up/lib/python3.12/site-packages (from opentelemetry-exporter-otlp-proto-grpc>=1.2.0->chromadb!=0.5.4,!=0.5.5,<0.6.0,>=0.4.0->langchain-chroma) (1.65.0)\n",
      "Requirement already satisfied: opentelemetry-exporter-otlp-proto-common==1.27.0 in /Users/jhj/.pyenv/versions/langchain-quickstart-version-up/lib/python3.12/site-packages (from opentelemetry-exporter-otlp-proto-grpc>=1.2.0->chromadb!=0.5.4,!=0.5.5,<0.6.0,>=0.4.0->langchain-chroma) (1.27.0)\n",
      "Requirement already satisfied: opentelemetry-proto==1.27.0 in /Users/jhj/.pyenv/versions/langchain-quickstart-version-up/lib/python3.12/site-packages (from opentelemetry-exporter-otlp-proto-grpc>=1.2.0->chromadb!=0.5.4,!=0.5.5,<0.6.0,>=0.4.0->langchain-chroma) (1.27.0)\n",
      "Requirement already satisfied: opentelemetry-instrumentation-asgi==0.48b0 in /Users/jhj/.pyenv/versions/langchain-quickstart-version-up/lib/python3.12/site-packages (from opentelemetry-instrumentation-fastapi>=0.41b0->chromadb!=0.5.4,!=0.5.5,<0.6.0,>=0.4.0->langchain-chroma) (0.48b0)\n",
      "Requirement already satisfied: opentelemetry-instrumentation==0.48b0 in /Users/jhj/.pyenv/versions/langchain-quickstart-version-up/lib/python3.12/site-packages (from opentelemetry-instrumentation-fastapi>=0.41b0->chromadb!=0.5.4,!=0.5.5,<0.6.0,>=0.4.0->langchain-chroma) (0.48b0)\n",
      "Requirement already satisfied: opentelemetry-semantic-conventions==0.48b0 in /Users/jhj/.pyenv/versions/langchain-quickstart-version-up/lib/python3.12/site-packages (from opentelemetry-instrumentation-fastapi>=0.41b0->chromadb!=0.5.4,!=0.5.5,<0.6.0,>=0.4.0->langchain-chroma) (0.48b0)\n",
      "Requirement already satisfied: opentelemetry-util-http==0.48b0 in /Users/jhj/.pyenv/versions/langchain-quickstart-version-up/lib/python3.12/site-packages (from opentelemetry-instrumentation-fastapi>=0.41b0->chromadb!=0.5.4,!=0.5.5,<0.6.0,>=0.4.0->langchain-chroma) (0.48b0)\n",
      "Requirement already satisfied: setuptools>=16.0 in /Users/jhj/.pyenv/versions/langchain-quickstart-version-up/lib/python3.12/site-packages (from opentelemetry-instrumentation==0.48b0->opentelemetry-instrumentation-fastapi>=0.41b0->chromadb!=0.5.4,!=0.5.5,<0.6.0,>=0.4.0->langchain-chroma) (75.2.0)\n",
      "Requirement already satisfied: wrapt<2.0.0,>=1.0.0 in /Users/jhj/.pyenv/versions/langchain-quickstart-version-up/lib/python3.12/site-packages (from opentelemetry-instrumentation==0.48b0->opentelemetry-instrumentation-fastapi>=0.41b0->chromadb!=0.5.4,!=0.5.5,<0.6.0,>=0.4.0->langchain-chroma) (1.16.0)\n",
      "Requirement already satisfied: asgiref~=3.0 in /Users/jhj/.pyenv/versions/langchain-quickstart-version-up/lib/python3.12/site-packages (from opentelemetry-instrumentation-asgi==0.48b0->opentelemetry-instrumentation-fastapi>=0.41b0->chromadb!=0.5.4,!=0.5.5,<0.6.0,>=0.4.0->langchain-chroma) (3.8.1)\n",
      "Requirement already satisfied: monotonic>=1.5 in /Users/jhj/.pyenv/versions/langchain-quickstart-version-up/lib/python3.12/site-packages (from posthog>=2.4.0->chromadb!=0.5.4,!=0.5.5,<0.6.0,>=0.4.0->langchain-chroma) (1.6)\n",
      "Requirement already satisfied: backoff>=1.10.0 in /Users/jhj/.pyenv/versions/langchain-quickstart-version-up/lib/python3.12/site-packages (from posthog>=2.4.0->chromadb!=0.5.4,!=0.5.5,<0.6.0,>=0.4.0->langchain-chroma) (2.2.1)\n",
      "Requirement already satisfied: annotated-types>=0.6.0 in /Users/jhj/.pyenv/versions/langchain-quickstart-version-up/lib/python3.12/site-packages (from pydantic>=1.9->chromadb!=0.5.4,!=0.5.5,<0.6.0,>=0.4.0->langchain-chroma) (0.7.0)\n",
      "Requirement already satisfied: pydantic-core==2.23.4 in /Users/jhj/.pyenv/versions/langchain-quickstart-version-up/lib/python3.12/site-packages (from pydantic>=1.9->chromadb!=0.5.4,!=0.5.5,<0.6.0,>=0.4.0->langchain-chroma) (2.23.4)\n",
      "Requirement already satisfied: markdown-it-py>=2.2.0 in /Users/jhj/.pyenv/versions/langchain-quickstart-version-up/lib/python3.12/site-packages (from rich>=10.11.0->chromadb!=0.5.4,!=0.5.5,<0.6.0,>=0.4.0->langchain-chroma) (3.0.0)\n",
      "Requirement already satisfied: pygments<3.0.0,>=2.13.0 in /Users/jhj/.pyenv/versions/langchain-quickstart-version-up/lib/python3.12/site-packages (from rich>=10.11.0->chromadb!=0.5.4,!=0.5.5,<0.6.0,>=0.4.0->langchain-chroma) (2.18.0)\n",
      "Requirement already satisfied: huggingface-hub<1.0,>=0.16.4 in /Users/jhj/.pyenv/versions/langchain-quickstart-version-up/lib/python3.12/site-packages (from tokenizers>=0.13.2->chromadb!=0.5.4,!=0.5.5,<0.6.0,>=0.4.0->langchain-chroma) (0.26.1)\n",
      "Requirement already satisfied: click>=8.0.0 in /Users/jhj/.pyenv/versions/langchain-quickstart-version-up/lib/python3.12/site-packages (from typer>=0.9.0->chromadb!=0.5.4,!=0.5.5,<0.6.0,>=0.4.0->langchain-chroma) (8.1.7)\n",
      "Requirement already satisfied: shellingham>=1.3.0 in /Users/jhj/.pyenv/versions/langchain-quickstart-version-up/lib/python3.12/site-packages (from typer>=0.9.0->chromadb!=0.5.4,!=0.5.5,<0.6.0,>=0.4.0->langchain-chroma) (1.5.4)\n",
      "Requirement already satisfied: httptools>=0.5.0 in /Users/jhj/.pyenv/versions/langchain-quickstart-version-up/lib/python3.12/site-packages (from uvicorn[standard]>=0.18.3->chromadb!=0.5.4,!=0.5.5,<0.6.0,>=0.4.0->langchain-chroma) (0.6.4)\n",
      "Requirement already satisfied: python-dotenv>=0.13 in /Users/jhj/.pyenv/versions/langchain-quickstart-version-up/lib/python3.12/site-packages (from uvicorn[standard]>=0.18.3->chromadb!=0.5.4,!=0.5.5,<0.6.0,>=0.4.0->langchain-chroma) (1.0.1)\n",
      "Requirement already satisfied: uvloop!=0.15.0,!=0.15.1,>=0.14.0 in /Users/jhj/.pyenv/versions/langchain-quickstart-version-up/lib/python3.12/site-packages (from uvicorn[standard]>=0.18.3->chromadb!=0.5.4,!=0.5.5,<0.6.0,>=0.4.0->langchain-chroma) (0.21.0)\n",
      "Requirement already satisfied: watchfiles>=0.13 in /Users/jhj/.pyenv/versions/langchain-quickstart-version-up/lib/python3.12/site-packages (from uvicorn[standard]>=0.18.3->chromadb!=0.5.4,!=0.5.5,<0.6.0,>=0.4.0->langchain-chroma) (0.24.0)\n",
      "Requirement already satisfied: websockets>=10.4 in /Users/jhj/.pyenv/versions/langchain-quickstart-version-up/lib/python3.12/site-packages (from uvicorn[standard]>=0.18.3->chromadb!=0.5.4,!=0.5.5,<0.6.0,>=0.4.0->langchain-chroma) (13.1)\n",
      "Requirement already satisfied: cachetools<6.0,>=2.0.0 in /Users/jhj/.pyenv/versions/langchain-quickstart-version-up/lib/python3.12/site-packages (from google-auth>=1.0.1->kubernetes>=28.1.0->chromadb!=0.5.4,!=0.5.5,<0.6.0,>=0.4.0->langchain-chroma) (5.5.0)\n",
      "Requirement already satisfied: pyasn1-modules>=0.2.1 in /Users/jhj/.pyenv/versions/langchain-quickstart-version-up/lib/python3.12/site-packages (from google-auth>=1.0.1->kubernetes>=28.1.0->chromadb!=0.5.4,!=0.5.5,<0.6.0,>=0.4.0->langchain-chroma) (0.4.1)\n",
      "Requirement already satisfied: rsa<5,>=3.1.4 in /Users/jhj/.pyenv/versions/langchain-quickstart-version-up/lib/python3.12/site-packages (from google-auth>=1.0.1->kubernetes>=28.1.0->chromadb!=0.5.4,!=0.5.5,<0.6.0,>=0.4.0->langchain-chroma) (4.9)\n",
      "Requirement already satisfied: filelock in /Users/jhj/.pyenv/versions/langchain-quickstart-version-up/lib/python3.12/site-packages (from huggingface-hub<1.0,>=0.16.4->tokenizers>=0.13.2->chromadb!=0.5.4,!=0.5.5,<0.6.0,>=0.4.0->langchain-chroma) (3.16.1)\n",
      "Requirement already satisfied: fsspec>=2023.5.0 in /Users/jhj/.pyenv/versions/langchain-quickstart-version-up/lib/python3.12/site-packages (from huggingface-hub<1.0,>=0.16.4->tokenizers>=0.13.2->chromadb!=0.5.4,!=0.5.5,<0.6.0,>=0.4.0->langchain-chroma) (2024.10.0)\n",
      "Requirement already satisfied: zipp>=0.5 in /Users/jhj/.pyenv/versions/langchain-quickstart-version-up/lib/python3.12/site-packages (from importlib-metadata<=8.4.0,>=6.0->opentelemetry-api>=1.2.0->chromadb!=0.5.4,!=0.5.5,<0.6.0,>=0.4.0->langchain-chroma) (3.20.2)\n",
      "Requirement already satisfied: mdurl~=0.1 in /Users/jhj/.pyenv/versions/langchain-quickstart-version-up/lib/python3.12/site-packages (from markdown-it-py>=2.2.0->rich>=10.11.0->chromadb!=0.5.4,!=0.5.5,<0.6.0,>=0.4.0->langchain-chroma) (0.1.2)\n",
      "Requirement already satisfied: charset-normalizer<4,>=2 in /Users/jhj/.pyenv/versions/langchain-quickstart-version-up/lib/python3.12/site-packages (from requests->kubernetes>=28.1.0->chromadb!=0.5.4,!=0.5.5,<0.6.0,>=0.4.0->langchain-chroma) (3.4.0)\n",
      "Requirement already satisfied: humanfriendly>=9.1 in /Users/jhj/.pyenv/versions/langchain-quickstart-version-up/lib/python3.12/site-packages (from coloredlogs->onnxruntime>=1.14.1->chromadb!=0.5.4,!=0.5.5,<0.6.0,>=0.4.0->langchain-chroma) (10.0)\n",
      "Requirement already satisfied: mpmath<1.4,>=1.1.0 in /Users/jhj/.pyenv/versions/langchain-quickstart-version-up/lib/python3.12/site-packages (from sympy->onnxruntime>=1.14.1->chromadb!=0.5.4,!=0.5.5,<0.6.0,>=0.4.0->langchain-chroma) (1.3.0)\n",
      "Requirement already satisfied: pyasn1<0.7.0,>=0.4.6 in /Users/jhj/.pyenv/versions/langchain-quickstart-version-up/lib/python3.12/site-packages (from pyasn1-modules>=0.2.1->google-auth>=1.0.1->kubernetes>=28.1.0->chromadb!=0.5.4,!=0.5.5,<0.6.0,>=0.4.0->langchain-chroma) (0.6.1)\n",
      "Downloading langchain_chroma-0.1.4-py3-none-any.whl (10 kB)\n",
      "Installing collected packages: langchain-chroma\n",
      "Successfully installed langchain-chroma-0.1.4\n",
      "Note: you may need to restart the kernel to use updated packages.\n"
     ]
    }
   ],
   "source": [
    "%pip install langchain-chroma==0.1.4"
   ]
  },
  {
   "cell_type": "code",
   "execution_count": 14,
   "id": "23c1d721-2cc8-4840-897d-1bc1b07cf227",
   "metadata": {
    "tags": []
   },
   "outputs": [
    {
     "name": "stdout",
     "output_type": "stream",
     "text": [
      "What is the category of the input? .\n",
      "\n",
      "Input:BBQ Category:food\n",
      "\n",
      "input: Sushi\n"
     ]
    }
   ],
   "source": [
    "from langchain_openai import OpenAIEmbeddings\n",
    "from langchain_core.prompts import FewShotPromptTemplate, PromptTemplate\n",
    "from langchain_core.example_selectors.semantic_similarity import SemanticSimilarityExampleSelector\n",
    "from langchain_chroma import Chroma\n",
    "\n",
    "import os\n",
    "\n",
    "os.environ[\"OPENAI_API_KEY\"] = \"{YOUR_OPENAI_KEY}\"\n",
    "\n",
    "examples = [\n",
    "    {\"input\": \"Happy.\", \"category\": \"emotion\"},\n",
    "    {\"input\": \"BBQ\", \"category\": \"food\"},\n",
    "    {\"input\": \"Golf\", \"category\": \"Sports\"},\n",
    "    {\"input\": \"Student\", \"category\": \"Person\"},\n",
    "]\n",
    "\n",
    "example_prompt = PromptTemplate(\n",
    "    template=\"Input:{input} Category:{category}\", input_variables=[\"input\", \"category\"]\n",
    ")\n",
    "example_selector = SemanticSimilarityExampleSelector.from_examples(\n",
    "    examples,\n",
    "    OpenAIEmbeddings(),\n",
    "    Chroma,\n",
    "    k=1,\n",
    ")\n",
    "dynamic_prompt = FewShotPromptTemplate(\n",
    "    example_selector=example_selector,\n",
    "    example_prompt=example_prompt,\n",
    "    prefix=\"What is the category of the input? .\",\n",
    "    suffix=\"input: {input}\",\n",
    "    input_variables=[\"input\"],\n",
    ")\n",
    "\n",
    "output = dynamic_prompt.format(input=\"Sushi\")\n",
    "print(output)"
   ]
  },
  {
   "cell_type": "markdown",
   "id": "c7a7e214-e25e-4925-9ba1-0daeef4af30f",
   "metadata": {},
   "source": [
    "## MMR Selector"
   ]
  },
  {
   "cell_type": "code",
   "execution_count": 16,
   "id": "d1a52788-76a6-4dd6-9e61-f9b4ad57f7a5",
   "metadata": {
    "tags": []
   },
   "outputs": [
    {
     "name": "stderr",
     "output_type": "stream",
     "text": [
      "Number of requested results 20 is greater than number of elements in index 9, updating n_results = 9\n"
     ]
    },
    {
     "name": "stdout",
     "output_type": "stream",
     "text": [
      "Input:Please summarize the weather news.\n",
      " Summary:Today's weather: Sunny skies, mild temperatures, and a gentle breeze. Enjoy the pleasant conditions throughout the day!\n",
      "\n",
      "Input:What is stock market trend?\n",
      " Summary:Investor optimism grows amid easing global trade tensions\n",
      "\n",
      "input: I want to know the economy trends and weather this week.\n",
      "Summary:\n"
     ]
    }
   ],
   "source": [
    "from langchain_openai import OpenAIEmbeddings\n",
    "from langchain_core.prompts import FewShotPromptTemplate, PromptTemplate\n",
    "from langchain_core.example_selectors.semantic_similarity import (\n",
    "    MaxMarginalRelevanceExampleSelector,\n",
    ")\n",
    "from langchain_chroma import Chroma\n",
    "\n",
    "import os\n",
    "\n",
    "os.environ[\"OPENAI_API_KEY\"] = \"{YOUR_OPENAI_KEY}\"\n",
    "\n",
    "examples = [\n",
    "    {\n",
    "        \"input\": \"Please summarize the weather news.\\n\",\n",
    "        \"summary\": \"Today's weather: Sunny skies, mild temperatures,\"\n",
    "        \" and a gentle breeze. Enjoy the pleasant conditions throughout the day!\",\n",
    "    },\n",
    "    {\n",
    "        \"input\": \"Please summarize the economy news.\\n\",\n",
    "        \"summary\": \"Global stocks rise on positive economic data;\"\n",
    "        \"inflation concerns persist. Tech sector outperforms; central banks closely monitor.\",\n",
    "    },\n",
    "    {\n",
    "        \"input\": \"Please summarize retail news.\\n\",\n",
    "        \"summary\": \"Major retailer announces record-breaking sales during holiday shopping season\",\n",
    "    },\n",
    "    {\n",
    "        \"input\": \"What is stock market trend?\\n\",\n",
    "        \"summary\": \"Investor optimism grows amid easing global trade tensions\",\n",
    "    },\n",
    "    {\n",
    "        \"input\": \"Typhoon related news.\\n\",\n",
    "        \"summary\": \"IAirports and schools close ahead of approaching typhoon threat\",\n",
    "    },\n",
    "]\n",
    "\n",
    "example_prompt = PromptTemplate(\n",
    "    template=\"Input:{input} Summary:{summary}\", input_variables=[\"input\", \"summary\"]\n",
    ")\n",
    "example_selector = MaxMarginalRelevanceExampleSelector.from_examples(\n",
    "    examples,\n",
    "    OpenAIEmbeddings(),\n",
    "    Chroma,\n",
    "    k=2,\n",
    ")\n",
    "dynamic_prompt = FewShotPromptTemplate(\n",
    "    example_selector=example_selector,\n",
    "    example_prompt=example_prompt,\n",
    "    suffix=\"input: {input}\\nSummary:\",\n",
    "    prefix=\"\",\n",
    "    input_variables=[\"input\"],\n",
    ")\n",
    "\n",
    "output = dynamic_prompt.format(\n",
    "    input=\"I want to know the economy trends and weather this week.\"\n",
    ")\n",
    "print(output)"
   ]
  }
 ],
 "metadata": {
  "kernelspec": {
   "display_name": "Python 3 (ipykernel)",
   "language": "python",
   "name": "python3"
  },
  "language_info": {
   "codemirror_mode": {
    "name": "ipython",
    "version": 3
   },
   "file_extension": ".py",
   "mimetype": "text/x-python",
   "name": "python",
   "nbconvert_exporter": "python",
   "pygments_lexer": "ipython3",
   "version": "3.12.6"
  }
 },
 "nbformat": 4,
 "nbformat_minor": 5
}
