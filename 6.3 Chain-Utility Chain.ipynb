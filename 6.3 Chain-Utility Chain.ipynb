{
 "cells": [
  {
   "cell_type": "markdown",
   "id": "b54abd0a-c3de-45b2-8ce6-751d650ba6ec",
   "metadata": {},
   "source": [
    "# IMDB DataSet Retriever"
   ]
  },
  {
   "cell_type": "markdown",
   "id": "2989b9f0-c5aa-4a74-8fb0-7534b36191a4",
   "metadata": {},
   "source": [
    "## Download IMDB Data and load into Pandas"
   ]
  },
  {
   "cell_type": "code",
   "execution_count": 2,
   "id": "5792c99a-d63c-4a4a-998e-38b03460b7bb",
   "metadata": {
    "tags": []
   },
   "outputs": [
    {
     "name": "stdout",
     "output_type": "stream",
     "text": [
      "  % Total    % Received % Xferd  Average Speed   Time    Time     Time  Current\n",
      "                                 Dload  Upload   Total   Spent    Left  Speed\n",
      "100  175M  100  175M    0     0  41.9M      0  0:00:04  0:00:04 --:--:-- 41.9MM      0  0:00:04  0:00:02  0:00:02 40.1M\n",
      "  % Total    % Received % Xferd  Average Speed   Time    Time     Time  Current\n",
      "                                 Dload  Upload   Total   Spent    Left  Speed\n",
      "100 6854k  100 6854k    0     0  24.9M      0 --:--:-- --:--:-- --:--:-- 24.9M\n"
     ]
    }
   ],
   "source": [
    "!curl -o title.basics.tsv.gz https://datasets.imdbws.com/title.basics.tsv.gz\n",
    "!curl -o title.ratings.tsv.gz https://datasets.imdbws.com/title.ratings.tsv.gz"
   ]
  },
  {
   "cell_type": "code",
   "execution_count": 13,
   "id": "19fdbe4c-ae2a-423c-a7d5-00141e5e5299",
   "metadata": {
    "tags": []
   },
   "outputs": [
    {
     "data": {
      "text/html": [
       "<div>\n",
       "<style scoped>\n",
       "    .dataframe tbody tr th:only-of-type {\n",
       "        vertical-align: middle;\n",
       "    }\n",
       "\n",
       "    .dataframe tbody tr th {\n",
       "        vertical-align: top;\n",
       "    }\n",
       "\n",
       "    .dataframe thead th {\n",
       "        text-align: right;\n",
       "    }\n",
       "</style>\n",
       "<table border=\"1\" class=\"dataframe\">\n",
       "  <thead>\n",
       "    <tr style=\"text-align: right;\">\n",
       "      <th></th>\n",
       "      <th>tconst</th>\n",
       "      <th>titleType</th>\n",
       "      <th>primaryTitle</th>\n",
       "      <th>originalTitle</th>\n",
       "      <th>isAdult</th>\n",
       "      <th>startYear</th>\n",
       "      <th>endYear</th>\n",
       "      <th>runtimeMinutes</th>\n",
       "      <th>genres</th>\n",
       "      <th>averageRating</th>\n",
       "      <th>numVotes</th>\n",
       "    </tr>\n",
       "  </thead>\n",
       "  <tbody>\n",
       "    <tr>\n",
       "      <th>779540</th>\n",
       "      <td>tt1683657</td>\n",
       "      <td>tvEpisode</td>\n",
       "      <td>Jersey Shore</td>\n",
       "      <td>Jersey Shore</td>\n",
       "      <td>0.0</td>\n",
       "      <td>2010.0</td>\n",
       "      <td>NaN</td>\n",
       "      <td>22</td>\n",
       "      <td>Reality-TV</td>\n",
       "      <td>8.4</td>\n",
       "      <td>48</td>\n",
       "    </tr>\n",
       "    <tr>\n",
       "      <th>170640</th>\n",
       "      <td>tt0281379</td>\n",
       "      <td>tvEpisode</td>\n",
       "      <td>Dance of the Scorpions</td>\n",
       "      <td>Dance of the Scorpions</td>\n",
       "      <td>0.0</td>\n",
       "      <td>1997.0</td>\n",
       "      <td>NaN</td>\n",
       "      <td>80</td>\n",
       "      <td>Crime,Drama,Mystery</td>\n",
       "      <td>8.2</td>\n",
       "      <td>75</td>\n",
       "    </tr>\n",
       "    <tr>\n",
       "      <th>879731</th>\n",
       "      <td>tt21265550</td>\n",
       "      <td>movie</td>\n",
       "      <td>A Cut Above</td>\n",
       "      <td>A Cut Above</td>\n",
       "      <td>0.0</td>\n",
       "      <td>2022.0</td>\n",
       "      <td>NaN</td>\n",
       "      <td>90</td>\n",
       "      <td>Comedy</td>\n",
       "      <td>4.7</td>\n",
       "      <td>199</td>\n",
       "    </tr>\n",
       "    <tr>\n",
       "      <th>1265981</th>\n",
       "      <td>tt6829484</td>\n",
       "      <td>tvEpisode</td>\n",
       "      <td>Bloods Rising</td>\n",
       "      <td>Bloods Rising</td>\n",
       "      <td>0.0</td>\n",
       "      <td>2017.0</td>\n",
       "      <td>NaN</td>\n",
       "      <td>42</td>\n",
       "      <td>Reality-TV</td>\n",
       "      <td>7.2</td>\n",
       "      <td>40</td>\n",
       "    </tr>\n",
       "    <tr>\n",
       "      <th>1278399</th>\n",
       "      <td>tt7082530</td>\n",
       "      <td>tvEpisode</td>\n",
       "      <td>Morning</td>\n",
       "      <td>Morning</td>\n",
       "      <td>0.0</td>\n",
       "      <td>2019.0</td>\n",
       "      <td>NaN</td>\n",
       "      <td>NaN</td>\n",
       "      <td>Crime,Drama,Mystery</td>\n",
       "      <td>9.4</td>\n",
       "      <td>7</td>\n",
       "    </tr>\n",
       "  </tbody>\n",
       "</table>\n",
       "</div>"
      ],
      "text/plain": [
       "             tconst  titleType            primaryTitle  \\\n",
       "779540    tt1683657  tvEpisode            Jersey Shore   \n",
       "170640    tt0281379  tvEpisode  Dance of the Scorpions   \n",
       "879731   tt21265550      movie             A Cut Above   \n",
       "1265981   tt6829484  tvEpisode           Bloods Rising   \n",
       "1278399   tt7082530  tvEpisode                 Morning   \n",
       "\n",
       "                  originalTitle  isAdult  startYear  endYear runtimeMinutes  \\\n",
       "779540             Jersey Shore      0.0     2010.0      NaN             22   \n",
       "170640   Dance of the Scorpions      0.0     1997.0      NaN             80   \n",
       "879731              A Cut Above      0.0     2022.0      NaN             90   \n",
       "1265981           Bloods Rising      0.0     2017.0      NaN             42   \n",
       "1278399                 Morning      0.0     2019.0      NaN            NaN   \n",
       "\n",
       "                      genres  averageRating  numVotes  \n",
       "779540            Reality-TV            8.4        48  \n",
       "170640   Crime,Drama,Mystery            8.2        75  \n",
       "879731                Comedy            4.7       199  \n",
       "1265981           Reality-TV            7.2        40  \n",
       "1278399  Crime,Drama,Mystery            9.4         7  "
      ]
     },
     "execution_count": 13,
     "metadata": {},
     "output_type": "execute_result"
    }
   ],
   "source": [
    "import gzip, shutil\n",
    "import pandas as pd\n",
    "\n",
    "with gzip.open('title.basics.tsv.gz', 'rb') as f_in:\n",
    "    with open('title.basics.tsv', 'wb') as f_out:\n",
    "        shutil.copyfileobj(f_in, f_out)\n",
    "        \n",
    "with gzip.open('title.ratings.tsv.gz', 'rb') as f_in:\n",
    "    with open('title.ratings.tsv', 'wb') as f_out:\n",
    "        shutil.copyfileobj(f_in, f_out)\n",
    "        \n",
    "basics = pd.read_csv('title.basics.tsv', sep='\\t',\n",
    "    low_memory=False, na_values=['\\\\N'])\n",
    "ratings = pd.read_csv('title.ratings.tsv', sep='\\t',\n",
    "    low_memory=False, na_values=['\\\\N'])\n",
    "full_data = pd.merge(basics, ratings, on=\"tconst\")\n",
    "samples = full_data.sample(n=100,random_state=42)\n",
    "samples.head()\n",
    "        "
   ]
  },
  {
   "cell_type": "code",
   "execution_count": 7,
   "id": "7919f83a-ebb0-4433-ae15-539a41e03fdc",
   "metadata": {
    "tags": []
   },
   "outputs": [
    {
     "name": "stdout",
     "output_type": "stream",
     "text": [
      "100\n"
     ]
    }
   ],
   "source": [
    "print(samples.shape[0])"
   ]
  },
  {
   "cell_type": "markdown",
   "id": "f700f684-826d-4c64-accf-d8c387648e32",
   "metadata": {},
   "source": [
    "## Load data from Pandas to SQLLite"
   ]
  },
  {
   "cell_type": "code",
   "execution_count": 8,
   "id": "2dd2c1d2-4f8c-44f7-ac2b-985f54f857e7",
   "metadata": {
    "tags": []
   },
   "outputs": [
    {
     "name": "stdout",
     "output_type": "stream",
     "text": [
      "        tconst  titleType                       primaryTitle  \\\n",
      "0    tt1683657  tvEpisode                       Jersey Shore   \n",
      "1    tt0281379  tvEpisode             Dance of the Scorpions   \n",
      "2   tt21265550      movie                        A Cut Above   \n",
      "3    tt6829484  tvEpisode                      Bloods Rising   \n",
      "4    tt7082530  tvEpisode                            Morning   \n",
      "..         ...        ...                                ...   \n",
      "95   tt0862974  tvEpisode                    Hayaku ikitee'!   \n",
      "96   tt5911540      movie                             Dangal   \n",
      "97   tt1838593    tvMovie                       Madison High   \n",
      "98   tt0034389      movie              Whistling in the Dark   \n",
      "99   tt1346874      video  A Brief History of Flying Saucers   \n",
      "\n",
      "                        originalTitle  isAdult  startYear  endYear  \\\n",
      "0                        Jersey Shore      0.0     2010.0      NaN   \n",
      "1              Dance of the Scorpions      0.0     1997.0      NaN   \n",
      "2                         A Cut Above      0.0     2022.0      NaN   \n",
      "3                       Bloods Rising      0.0     2017.0      NaN   \n",
      "4                             Morning      0.0     2019.0      NaN   \n",
      "..                                ...      ...        ...      ...   \n",
      "95                    Hayaku ikitee'!      0.0     2004.0      NaN   \n",
      "96                             Dangal      0.0     2013.0      NaN   \n",
      "97                       Madison High      0.0     2012.0      NaN   \n",
      "98              Whistling in the Dark      0.0     1941.0      NaN   \n",
      "99  A Brief History of Flying Saucers      0.0     2008.0      NaN   \n",
      "\n",
      "   runtimeMinutes                  genres  averageRating  numVotes  \n",
      "0              22              Reality-TV            8.4        48  \n",
      "1              80     Crime,Drama,Mystery            8.2        75  \n",
      "2              90                  Comedy            4.7       199  \n",
      "3              42              Reality-TV            7.2        40  \n",
      "4            None     Crime,Drama,Mystery            9.4         7  \n",
      "..            ...                     ...            ...       ...  \n",
      "95             23  Action,Animation,Drama            7.6        84  \n",
      "96           None                  Action            4.5        24  \n",
      "97           None    Drama,Family,Musical            7.6        25  \n",
      "98             78    Comedy,Crime,Mystery            6.7      1088  \n",
      "99             34       Documentary,Short            5.6        16  \n",
      "\n",
      "[100 rows x 11 columns]\n"
     ]
    }
   ],
   "source": [
    "import pandas as pd\n",
    "import sqlite3\n",
    "\n",
    "# SQLite 데이터베이스 연결 및 커서 생성\n",
    "conn = sqlite3.connect('example.db')\n",
    "cursor = conn.cursor()\n",
    "\n",
    "# 데이터프레임을 SQLite 테이블로 저장\n",
    "samples.to_sql('my_table', conn, index=False, if_exists='replace')\n",
    "\n",
    "# 테이블에 저장된 데이터 출력\n",
    "query = \"SELECT * FROM my_table\"\n",
    "result = pd.read_sql_query(query, conn)\n",
    "print(result)\n",
    "\n",
    "# 연결 종료\n",
    "conn.close()\n"
   ]
  },
  {
   "cell_type": "markdown",
   "id": "db34eb0e-9de9-43d4-ab8a-a14c219f4ddd",
   "metadata": {},
   "source": [
    "## Generate the SQL query by using LLM"
   ]
  },
  {
   "cell_type": "code",
   "execution_count": 19,
   "id": "bd69cf37-81c7-4f18-a913-786b97587c2d",
   "metadata": {
    "tags": []
   },
   "outputs": [
    {
     "name": "stdout",
     "output_type": "stream",
     "text": [
      "SELECT \"primaryTitle\" FROM my_table WHERE \"titleType\" = 'movie' AND \"averageRating\" >= 8.0 AND \"startYear\" >= 2008 ORDER BY \"averageRating\" DESC LIMIT 20;\n"
     ]
    }
   ],
   "source": [
    "from langchain.llms import OpenAI\n",
    "from langchain.chains import create_sql_query_chain\n",
    "from langchain_community.utilities import SQLDatabase\n",
    "from langchain.schema import StrOutputParser\n",
    "\n",
    "OPEN_AI_APIKEY=\"{YOUR_OPENAI_KEY}\"\n",
    "model = OpenAI(openai_api_key=OPEN_AI_APIKEY)\n",
    "\n",
    "db = SQLDatabase.from_uri(\"sqlite:///example.db\")\n",
    "chain = create_sql_query_chain(model, db,k=20) |  StrOutputParser()\n",
    "result = chain.invoke({\"question\": \n",
    "                         \"\"\"Please provide a list of  movies that have an averageRating of 8.0 or higher \n",
    "                         and have been commercially available since 2008.\"\"\"})\n",
    "print(result)"
   ]
  },
  {
   "cell_type": "code",
   "execution_count": null,
   "id": "de97cd53-62ae-4cf8-947c-11e111b96bcb",
   "metadata": {},
   "outputs": [],
   "source": []
  }
 ],
 "metadata": {
  "kernelspec": {
   "display_name": "Python 3 (ipykernel)",
   "language": "python",
   "name": "python3"
  },
  "language_info": {
   "codemirror_mode": {
    "name": "ipython",
    "version": 3
   },
   "file_extension": ".py",
   "mimetype": "text/x-python",
   "name": "python",
   "nbconvert_exporter": "python",
   "pygments_lexer": "ipython3",
   "version": "3.11.4"
  }
 },
 "nbformat": 4,
 "nbformat_minor": 5
}
