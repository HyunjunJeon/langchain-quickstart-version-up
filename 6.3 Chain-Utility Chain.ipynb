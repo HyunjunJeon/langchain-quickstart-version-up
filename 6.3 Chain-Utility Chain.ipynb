{
 "cells": [
  {
   "cell_type": "markdown",
   "id": "b54abd0a-c3de-45b2-8ce6-751d650ba6ec",
   "metadata": {},
   "source": [
    "# IMDB DataSet Retriever"
   ]
  },
  {
   "cell_type": "markdown",
   "id": "2989b9f0-c5aa-4a74-8fb0-7534b36191a4",
   "metadata": {},
   "source": [
    "## Download IMDB Data and load into Pandas"
   ]
  },
  {
   "cell_type": "code",
   "execution_count": 1,
   "id": "5792c99a-d63c-4a4a-998e-38b03460b7bb",
   "metadata": {
    "tags": []
   },
   "outputs": [
    {
     "name": "stdout",
     "output_type": "stream",
     "text": [
      "  % Total    % Received % Xferd  Average Speed   Time    Time     Time  Current\n",
      "                                 Dload  Upload   Total   Spent    Left  Speed\n",
      "100  187M  100  187M    0     0  65.6M      0  0:00:02  0:00:02 --:--:-- 65.6M\n",
      "  % Total    % Received % Xferd  Average Speed   Time    Time     Time  Current\n",
      "                                 Dload  Upload   Total   Spent    Left  Speed\n",
      "100 7320k  100 7320k    0     0  51.4M      0 --:--:-- --:--:-- --:--:-- 51.8M\n"
     ]
    }
   ],
   "source": [
    "!curl -o title.basics.tsv.gz https://datasets.imdbws.com/title.basics.tsv.gz\n",
    "!curl -o title.ratings.tsv.gz https://datasets.imdbws.com/title.ratings.tsv.gz"
   ]
  },
  {
   "cell_type": "code",
   "execution_count": 3,
   "id": "993ee8a2",
   "metadata": {},
   "outputs": [
    {
     "name": "stdout",
     "output_type": "stream",
     "text": [
      "Requirement already satisfied: pandas in /Users/jhj/.pyenv/versions/langchain-quickstart-version-up/lib/python3.12/site-packages (2.2.3)\n",
      "Requirement already satisfied: numpy>=1.26.0 in /Users/jhj/.pyenv/versions/langchain-quickstart-version-up/lib/python3.12/site-packages (from pandas) (1.26.4)\n",
      "Requirement already satisfied: python-dateutil>=2.8.2 in /Users/jhj/.pyenv/versions/langchain-quickstart-version-up/lib/python3.12/site-packages (from pandas) (2.9.0.post0)\n",
      "Requirement already satisfied: pytz>=2020.1 in /Users/jhj/.pyenv/versions/langchain-quickstart-version-up/lib/python3.12/site-packages (from pandas) (2024.2)\n",
      "Requirement already satisfied: tzdata>=2022.7 in /Users/jhj/.pyenv/versions/langchain-quickstart-version-up/lib/python3.12/site-packages (from pandas) (2024.2)\n",
      "Requirement already satisfied: six>=1.5 in /Users/jhj/.pyenv/versions/langchain-quickstart-version-up/lib/python3.12/site-packages (from python-dateutil>=2.8.2->pandas) (1.16.0)\n",
      "Note: you may need to restart the kernel to use updated packages.\n"
     ]
    }
   ],
   "source": [
    "%pip install pandas"
   ]
  },
  {
   "cell_type": "code",
   "execution_count": 4,
   "id": "19fdbe4c-ae2a-423c-a7d5-00141e5e5299",
   "metadata": {
    "tags": []
   },
   "outputs": [
    {
     "data": {
      "text/html": [
       "<div>\n",
       "<style scoped>\n",
       "    .dataframe tbody tr th:only-of-type {\n",
       "        vertical-align: middle;\n",
       "    }\n",
       "\n",
       "    .dataframe tbody tr th {\n",
       "        vertical-align: top;\n",
       "    }\n",
       "\n",
       "    .dataframe thead th {\n",
       "        text-align: right;\n",
       "    }\n",
       "</style>\n",
       "<table border=\"1\" class=\"dataframe\">\n",
       "  <thead>\n",
       "    <tr style=\"text-align: right;\">\n",
       "      <th></th>\n",
       "      <th>tconst</th>\n",
       "      <th>titleType</th>\n",
       "      <th>primaryTitle</th>\n",
       "      <th>originalTitle</th>\n",
       "      <th>isAdult</th>\n",
       "      <th>startYear</th>\n",
       "      <th>endYear</th>\n",
       "      <th>runtimeMinutes</th>\n",
       "      <th>genres</th>\n",
       "      <th>averageRating</th>\n",
       "      <th>numVotes</th>\n",
       "    </tr>\n",
       "  </thead>\n",
       "  <tbody>\n",
       "    <tr>\n",
       "      <th>1233913</th>\n",
       "      <td>tt4902180</td>\n",
       "      <td>tvEpisode</td>\n",
       "      <td>The Birth of the Free Market</td>\n",
       "      <td>The Birth of the Free Market</td>\n",
       "      <td>0.0</td>\n",
       "      <td>2014.0</td>\n",
       "      <td>NaN</td>\n",
       "      <td>320</td>\n",
       "      <td>Documentary,History</td>\n",
       "      <td>6.9</td>\n",
       "      <td>9</td>\n",
       "    </tr>\n",
       "    <tr>\n",
       "      <th>189343</th>\n",
       "      <td>tt0312012</td>\n",
       "      <td>video</td>\n",
       "      <td>We're Coming to Help</td>\n",
       "      <td>We're Coming to Help</td>\n",
       "      <td>0.0</td>\n",
       "      <td>2002.0</td>\n",
       "      <td>NaN</td>\n",
       "      <td>51</td>\n",
       "      <td>Drama,Sci-Fi</td>\n",
       "      <td>6.0</td>\n",
       "      <td>49</td>\n",
       "    </tr>\n",
       "    <tr>\n",
       "      <th>1473704</th>\n",
       "      <td>tt9420822</td>\n",
       "      <td>video</td>\n",
       "      <td>WSU 2nd Anniversary Show</td>\n",
       "      <td>WSU 2nd Anniversary Show</td>\n",
       "      <td>0.0</td>\n",
       "      <td>2009.0</td>\n",
       "      <td>NaN</td>\n",
       "      <td>123</td>\n",
       "      <td>Game-Show,Sport,Talk-Show</td>\n",
       "      <td>9.0</td>\n",
       "      <td>10</td>\n",
       "    </tr>\n",
       "    <tr>\n",
       "      <th>119891</th>\n",
       "      <td>tt0173675</td>\n",
       "      <td>tvMiniSeries</td>\n",
       "      <td>Bitva za Moskvu</td>\n",
       "      <td>Bitva za Moskvu</td>\n",
       "      <td>0.0</td>\n",
       "      <td>1985.0</td>\n",
       "      <td>1985.0</td>\n",
       "      <td>358</td>\n",
       "      <td>Drama,History,War</td>\n",
       "      <td>7.3</td>\n",
       "      <td>486</td>\n",
       "    </tr>\n",
       "    <tr>\n",
       "      <th>1103324</th>\n",
       "      <td>tt3188128</td>\n",
       "      <td>tvEpisode</td>\n",
       "      <td>Extreme Howdy's Makeover</td>\n",
       "      <td>Extreme Howdy's Makeover</td>\n",
       "      <td>0.0</td>\n",
       "      <td>2013.0</td>\n",
       "      <td>NaN</td>\n",
       "      <td>21</td>\n",
       "      <td>Comedy,Family</td>\n",
       "      <td>7.5</td>\n",
       "      <td>229</td>\n",
       "    </tr>\n",
       "  </tbody>\n",
       "</table>\n",
       "</div>"
      ],
      "text/plain": [
       "            tconst     titleType                  primaryTitle  \\\n",
       "1233913  tt4902180     tvEpisode  The Birth of the Free Market   \n",
       "189343   tt0312012         video          We're Coming to Help   \n",
       "1473704  tt9420822         video      WSU 2nd Anniversary Show   \n",
       "119891   tt0173675  tvMiniSeries               Bitva za Moskvu   \n",
       "1103324  tt3188128     tvEpisode      Extreme Howdy's Makeover   \n",
       "\n",
       "                        originalTitle  isAdult  startYear  endYear  \\\n",
       "1233913  The Birth of the Free Market      0.0     2014.0      NaN   \n",
       "189343           We're Coming to Help      0.0     2002.0      NaN   \n",
       "1473704      WSU 2nd Anniversary Show      0.0     2009.0      NaN   \n",
       "119891                Bitva za Moskvu      0.0     1985.0   1985.0   \n",
       "1103324      Extreme Howdy's Makeover      0.0     2013.0      NaN   \n",
       "\n",
       "        runtimeMinutes                     genres  averageRating  numVotes  \n",
       "1233913            320        Documentary,History            6.9         9  \n",
       "189343              51               Drama,Sci-Fi            6.0        49  \n",
       "1473704            123  Game-Show,Sport,Talk-Show            9.0        10  \n",
       "119891             358          Drama,History,War            7.3       486  \n",
       "1103324             21              Comedy,Family            7.5       229  "
      ]
     },
     "execution_count": 4,
     "metadata": {},
     "output_type": "execute_result"
    }
   ],
   "source": [
    "import gzip, shutil\n",
    "import pandas as pd\n",
    "\n",
    "with gzip.open(\"title.basics.tsv.gz\", \"rb\") as f_in:\n",
    "    with open(\"title.basics.tsv\", \"wb\") as f_out:\n",
    "        shutil.copyfileobj(f_in, f_out)\n",
    "\n",
    "with gzip.open(\"title.ratings.tsv.gz\", \"rb\") as f_in:\n",
    "    with open(\"title.ratings.tsv\", \"wb\") as f_out:\n",
    "        shutil.copyfileobj(f_in, f_out)\n",
    "\n",
    "basics = pd.read_csv(\"title.basics.tsv\", sep=\"\\t\", low_memory=False, na_values=[\"\\\\N\"])\n",
    "ratings = pd.read_csv(\n",
    "    \"title.ratings.tsv\", sep=\"\\t\", low_memory=False, na_values=[\"\\\\N\"]\n",
    ")\n",
    "full_data = pd.merge(basics, ratings, on=\"tconst\")\n",
    "samples = full_data.sample(n=100, random_state=42)\n",
    "samples.head()"
   ]
  },
  {
   "cell_type": "code",
   "execution_count": 5,
   "id": "7919f83a-ebb0-4433-ae15-539a41e03fdc",
   "metadata": {
    "tags": []
   },
   "outputs": [
    {
     "name": "stdout",
     "output_type": "stream",
     "text": [
      "100\n"
     ]
    }
   ],
   "source": [
    "print(samples.shape[0])"
   ]
  },
  {
   "cell_type": "markdown",
   "id": "f700f684-826d-4c64-accf-d8c387648e32",
   "metadata": {},
   "source": [
    "## Load data from Pandas to SQLLite"
   ]
  },
  {
   "cell_type": "code",
   "execution_count": 6,
   "id": "2dd2c1d2-4f8c-44f7-ac2b-985f54f857e7",
   "metadata": {
    "tags": []
   },
   "outputs": [
    {
     "name": "stdout",
     "output_type": "stream",
     "text": [
      "       tconst     titleType                           primaryTitle  \\\n",
      "0   tt4902180     tvEpisode           The Birth of the Free Market   \n",
      "1   tt0312012         video                   We're Coming to Help   \n",
      "2   tt9420822         video               WSU 2nd Anniversary Show   \n",
      "3   tt0173675  tvMiniSeries                        Bitva za Moskvu   \n",
      "4   tt3188128     tvEpisode               Extreme Howdy's Makeover   \n",
      "..        ...           ...                                    ...   \n",
      "95  tt0036034         movie                    The Living Magoroku   \n",
      "96  tt1647733     tvEpisode                Little Miss Nightingale   \n",
      "97  tt1190404     tvEpisode                          The Agreement   \n",
      "98  tt0402991         short                     The Empty Building   \n",
      "99  tt1251591     tvEpisode  No Beads, No Babes, No Bourbon Street   \n",
      "\n",
      "                            originalTitle  isAdult  startYear  endYear  \\\n",
      "0            The Birth of the Free Market      0.0     2014.0      NaN   \n",
      "1                    We're Coming to Help      0.0     2002.0      NaN   \n",
      "2                WSU 2nd Anniversary Show      0.0     2009.0      NaN   \n",
      "3                         Bitva za Moskvu      0.0     1985.0   1985.0   \n",
      "4                Extreme Howdy's Makeover      0.0     2013.0      NaN   \n",
      "..                                    ...      ...        ...      ...   \n",
      "95                     Ikite iru Magoroku      0.0     1943.0      NaN   \n",
      "96                Little Miss Nightingale      0.0     1967.0      NaN   \n",
      "97                          The Agreement      0.0     1963.0      NaN   \n",
      "98                     The Empty Building      0.0     2004.0      NaN   \n",
      "99  No Beads, No Babes, No Bourbon Street      0.0     2003.0      NaN   \n",
      "\n",
      "   runtimeMinutes                     genres  averageRating  numVotes  \n",
      "0             320        Documentary,History            6.9         9  \n",
      "1              51               Drama,Sci-Fi            6.0        49  \n",
      "2             123  Game-Show,Sport,Talk-Show            9.0        10  \n",
      "3             358          Drama,History,War            7.3       486  \n",
      "4              21              Comedy,Family            7.5       229  \n",
      "..            ...                        ...            ...       ...  \n",
      "95             89                      Drama            6.0       156  \n",
      "96             60           Adventure,Family            6.2         9  \n",
      "97             30     Adventure,Drama,Family            8.0        16  \n",
      "98             42                Drama,Short            7.7       194  \n",
      "99             26                Documentary            7.9        28  \n",
      "\n",
      "[100 rows x 11 columns]\n"
     ]
    }
   ],
   "source": [
    "import pandas as pd\n",
    "import sqlite3\n",
    "\n",
    "# SQLite 데이터베이스 연결 및 커서 생성\n",
    "conn = sqlite3.connect(\"example.db\")\n",
    "cursor = conn.cursor()\n",
    "\n",
    "# 데이터프레임을 SQLite 테이블로 저장\n",
    "samples.to_sql(\"my_table\", conn, index=False, if_exists=\"replace\")\n",
    "\n",
    "# 테이블에 저장된 데이터 출력\n",
    "query = \"SELECT * FROM my_table\"\n",
    "result = pd.read_sql_query(query, conn)\n",
    "print(result)\n",
    "\n",
    "# 연결 종료\n",
    "conn.close()"
   ]
  },
  {
   "cell_type": "markdown",
   "id": "db34eb0e-9de9-43d4-ab8a-a14c219f4ddd",
   "metadata": {},
   "source": [
    "## Generate the SQL query by using LLM"
   ]
  },
  {
   "cell_type": "code",
   "execution_count": 9,
   "id": "bd69cf37-81c7-4f18-a913-786b97587c2d",
   "metadata": {
    "tags": []
   },
   "outputs": [
    {
     "name": "stdout",
     "output_type": "stream",
     "text": [
      "SQLQuery: SELECT \"tconst\", \"primaryTitle\", \"averageRating\", \"startYear\" FROM my_table WHERE \"averageRating\" >= 8.0 AND \"startYear\" >= 2008 LIMIT 20;\n"
     ]
    }
   ],
   "source": [
    "from langchain_openai import ChatOpenAI\n",
    "from langchain_community.utilities import SQLDatabase\n",
    "from langchain_core.output_parsers import StrOutputParser\n",
    "from langchain.chains.sql_database.query import create_sql_query_chain   \n",
    "\n",
    "OPEN_AI_APIKEY = \"{YOUR_OPENAI_KEY}\"\n",
    "model = ChatOpenAI(api_key=OPEN_AI_APIKEY)\n",
    "\n",
    "db = SQLDatabase.from_uri(\"sqlite:///example.db\")\n",
    "chain = create_sql_query_chain(model, db, k=20) | StrOutputParser()\n",
    "result = chain.invoke(\n",
    "    {\n",
    "        \"question\": \"\"\"Please provide a list of  movies that have an averageRating of 8.0 or higher \n",
    "                         and have been commercially available since 2008.\"\"\"\n",
    "    }\n",
    ")\n",
    "print(result)"
   ]
  }
 ],
 "metadata": {
  "kernelspec": {
   "display_name": "Python 3 (ipykernel)",
   "language": "python",
   "name": "python3"
  },
  "language_info": {
   "codemirror_mode": {
    "name": "ipython",
    "version": 3
   },
   "file_extension": ".py",
   "mimetype": "text/x-python",
   "name": "python",
   "nbconvert_exporter": "python",
   "pygments_lexer": "ipython3",
   "version": "3.12.6"
  }
 },
 "nbformat": 4,
 "nbformat_minor": 5
}
