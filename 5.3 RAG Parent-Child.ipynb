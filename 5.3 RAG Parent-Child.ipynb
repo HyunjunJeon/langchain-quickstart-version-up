{
 "cells": [
  {
   "cell_type": "markdown",
   "id": "0026f224-e59f-4366-815a-d6e14ee80dbf",
   "metadata": {},
   "source": [
    "# Parent Child Retriever"
   ]
  },
  {
   "cell_type": "code",
   "execution_count": 3,
   "id": "8794ded4-9529-4446-8264-34a3268c9a0b",
   "metadata": {
    "tags": []
   },
   "outputs": [
    {
     "name": "stdout",
     "output_type": "stream",
     "text": [
      "['Korea Transport.txt', 'Korean food.txt', 'Korean tourist destination.txt', 'Korea things todo.txt']\n"
     ]
    }
   ],
   "source": [
    "import os\n",
    "from langchain_community.document_loaders import TextLoader\n",
    "from langchain_core.stores import InMemoryStore\n",
    "from langchain_text_splitters.character import RecursiveCharacterTextSplitter\n",
    "from langchain_community.document_loaders.text import TextLoader\n",
    "from langchain.retrievers.parent_document_retriever import ParentDocumentRetriever\n",
    "from langchain_openai import OpenAIEmbeddings, ChatOpenAI\n",
    "from langchain_pinecone import PineconeVectorStore\n",
    "from pinecone import Pinecone, ServerlessSpec\n",
    "\n",
    "# load docs\n",
    "text_dir = \"./Korea info\"\n",
    "files = os.listdir(text_dir)\n",
    "txt_files = [file for file in files if file.endswith(\".txt\")]\n",
    "\n",
    "docs = []\n",
    "print(files)\n",
    "for file in txt_files:\n",
    "    docs.extend(TextLoader(text_dir + \"/\" + file).load())\n",
    "\n",
    "# create embedding API and llm\n",
    "os.environ[\"OPENAI_API_KEY\"] = \"{YOUR_OPENAI_KEY}\"\n",
    "embedding = OpenAIEmbeddings()\n",
    "llm = ChatOpenAI(model=\"gpt-4o-mini\", temperature=0)\n",
    "\n",
    "# Connect database\n",
    "pc = Pinecone(embedding=embedding, api_key=\"{YOUR_PINECONE_APIKEY}\")\n",
    "pc.create_index(\n",
    "    name=\"terry-korea\",\n",
    "    dimension=1536, # Replace with your model dimensions\n",
    "    metric=\"cosine\", # Replace with your model metric\n",
    "    spec=ServerlessSpec(\n",
    "        cloud=\"aws\",\n",
    "        region=\"us-east-1\"\n",
    "    ) \n",
    ")\n",
    "index = pc.Index(\"terry-korea\")\n",
    "vectordb = PineconeVectorStore(index=index, embedding=embedding)\n",
    "\n",
    "# create text splitter\n",
    "child_splitter = RecursiveCharacterTextSplitter(\n",
    "    # Set a really small chunk size, just to show.\n",
    "    chunk_size=400,\n",
    "    chunk_overlap=20,\n",
    "    length_function=len,\n",
    ")\n",
    "\n",
    "# The storage layer for the parent documents\n",
    "store = InMemoryStore()\n",
    "retriever = ParentDocumentRetriever(\n",
    "    vectorstore=vectordb,\n",
    "    docstore=store,\n",
    "    child_splitter=child_splitter,\n",
    ")\n",
    "retriever.add_documents(docs, ids=None)"
   ]
  },
  {
   "cell_type": "code",
   "execution_count": 4,
   "id": "4eed4a15-b75c-4db2-b1f9-a3ee8cdb3cd2",
   "metadata": {
    "tags": []
   },
   "outputs": [
    {
     "name": "stdout",
     "output_type": "stream",
     "text": [
      "[Document(id='afa5bc6e-eee6-45e3-bd73-a74979ee73ff', metadata={'doc_id': '00d526b4-ca98-4e32-9ff6-e4ce6b6c33d1', 'source': './Korea info/Korea things todo.txt'}, page_content='18. Learn Korean Culture - Dive into cultural immersion by learning age old handicrafts like pottery making or folk crafts like knotting fabric at camps designed to teach traditional practices at locales like Korean Folk Villages with talented elder masters imparting insightful customs through these time treasured arts.'), Document(id='a24a570c-7cf6-4df9-b08f-2e0605cb3272', metadata={'doc_id': 'ca5b6891-3fdd-41ff-87f3-eeddb0045ee1', 'source': './Korea info/Korea Transport.txt'}, page_content=\"I'm happy to provide any other public transportation information to help visitors get around South Korea's amazing sites with ease and enjoyment! Let me know if you need any other recommendations or advice.\"), Document(id='850b0d55-48b0-448d-aa9f-38bdd783cdbf', metadata={'doc_id': '00d526b4-ca98-4e32-9ff6-e4ce6b6c33d1', 'source': './Korea info/Korea things todo.txt'}, page_content=\"20. Indulge in a Templestay - Often tucked among mountain terrain, Korea's serene Buddhist temples open their doors to visitors interested in experiencing meditation, finding inner calm and trying vegetarian temple fare during an extended few days focused on self reflection enhanced through tranquil natural environments promoting peace of mind.\"), Document(id='6399abbf-c899-4a50-b70b-36b8fc3e24a0', metadata={'doc_id': '00d526b4-ca98-4e32-9ff6-e4ce6b6c33d1', 'source': './Korea info/Korea things todo.txt'}, page_content=\"8. Learn Taekwondo - Experience traditional martial arts firsthand by visiting the Taekwondowon dojo complex or Kukkiwon World Taekwondo Headquarters to observe professional demonstrations, dine at their restaurants or arrange customized programs catered toward learning about Korea's traditional fighting skills, philosophy and etiquette.\")]\n"
     ]
    }
   ],
   "source": [
    "# retrieve chunk\n",
    "from IPython.display import JSON\n",
    "\n",
    "query = \"What I can do in Korea ?\"\n",
    "sub_docs = vectordb.similarity_search(query)\n",
    "print(sub_docs)"
   ]
  },
  {
   "cell_type": "code",
   "execution_count": 6,
   "id": "216dd4ca-b58f-4413-aa42-25744c3ec6d5",
   "metadata": {
    "tags": []
   },
   "outputs": [
    {
     "data": {
      "application/json": "",
      "text/plain": [
       "<IPython.core.display.JSON object>"
      ]
     },
     "execution_count": 6,
     "metadata": {
      "application/json": {
       "expanded": false,
       "root": "root"
      }
     },
     "output_type": "execute_result"
    }
   ],
   "source": [
    "# Retrieve full document\n",
    "retrieved_docs = retriever.invoke(\"query\")\n",
    "JSON(retrieved_docs)"
   ]
  },
  {
   "cell_type": "markdown",
   "id": "560bfb33-4cc2-4f70-bc47-b43b56cdc94e",
   "metadata": {},
   "source": [
    "# Large chunk retriever"
   ]
  },
  {
   "cell_type": "code",
   "execution_count": 7,
   "id": "2472156e-c630-41ae-b967-0846ec23f153",
   "metadata": {
    "tags": []
   },
   "outputs": [
    {
     "name": "stdout",
     "output_type": "stream",
     "text": [
      "['Korea Transport.txt', 'Korean food.txt', 'Korean tourist destination.txt', 'Korea things todo.txt']\n"
     ]
    }
   ],
   "source": [
    "import os\n",
    "from langchain_community.document_loaders import TextLoader\n",
    "from langchain_core.stores import InMemoryStore\n",
    "from langchain_text_splitters.character import RecursiveCharacterTextSplitter\n",
    "from langchain_community.document_loaders.text import TextLoader\n",
    "from langchain.retrievers.parent_document_retriever import ParentDocumentRetriever\n",
    "from langchain_openai import OpenAIEmbeddings, ChatOpenAI\n",
    "from langchain_pinecone import PineconeVectorStore\n",
    "from pinecone import Pinecone\n",
    "\n",
    "# load docs\n",
    "text_dir = \"./Korea info\"\n",
    "files = os.listdir(text_dir)\n",
    "txt_files = [file for file in files if file.endswith(\".txt\")]\n",
    "\n",
    "docs = []\n",
    "print(files)\n",
    "for file in txt_files:\n",
    "    docs.extend(TextLoader(text_dir + \"/\" + file).load())\n",
    "\n",
    "# create embedding API and llm\n",
    "os.environ[\"OPENAI_API_KEY\"] = \"{YOUR_OPENAI_KEY}\"\n",
    "embedding = OpenAIEmbeddings()\n",
    "llm = ChatOpenAI(model=\"gpt-4o-mini\", temperature=0)\n",
    "\n",
    "# Connect database\n",
    "pc = Pinecone(embedding=embedding, api_key=\"{YOUR_PINECONE_APIKEY}\")\n",
    "index = pc.Index(\"terry-korea\")\n",
    "vectordb = PineconeVectorStore(index=index, embedding=embedding)\n",
    "\n",
    "# create text splitter\n",
    "parent_splitter = RecursiveCharacterTextSplitter(chunk_size=2000)\n",
    "child_splitter = RecursiveCharacterTextSplitter(\n",
    "    # Set a really small chunk size, just to show.\n",
    "    chunk_size=400,\n",
    "    chunk_overlap=20,\n",
    "    length_function=len,\n",
    ")\n",
    "\n",
    "# The storage layer for the parent documents\n",
    "store = InMemoryStore()\n",
    "retriever = ParentDocumentRetriever(\n",
    "    vectorstore=vectordb,\n",
    "    docstore=store,\n",
    "    child_splitter=child_splitter,\n",
    "    parent_splitter=parent_splitter,\n",
    ")\n",
    "retriever.add_documents(docs, ids=None)"
   ]
  },
  {
   "cell_type": "code",
   "execution_count": 8,
   "id": "251a1f21-8060-48ed-9c38-f8c6fda73faa",
   "metadata": {
    "tags": []
   },
   "outputs": [
    {
     "data": {
      "text/plain": [
       "<IPython.core.display.JSON object>"
      ]
     },
     "execution_count": 8,
     "metadata": {
      "application/json": {
       "expanded": false,
       "root": "root"
      }
     },
     "output_type": "execute_result"
    }
   ],
   "source": [
    "query = \"What I can do in Korea ?\"\n",
    "sub_docs = vectordb.similarity_search(query)\n",
    "JSON(sub_docs)"
   ]
  },
  {
   "cell_type": "code",
   "execution_count": 30,
   "id": "2c7b5ad7-aec5-40d6-b4bf-b6a6e905d475",
   "metadata": {
    "tags": []
   },
   "outputs": [
    {
     "data": {
      "application/json": [
       [
        [
         "page_content",
         "25. Gwanghwamun Square - Located in the heart of Seoul facing the main gate of Gyeongbokgung Palace, this public square serves as a popular venue for cultural events, festivals, holiday celebrations by hosting concerts, art installations and exhibitions. The area also contains statues honoring Korean heroes Admiral Yi Sunsin and King Sejong the Great.  \n\n26. Korean Folk Village - Located in Yongin city, this large traditional heritage museum originated in 1974 and realistically recreates Korean rural life in ancient villages and towns like during the Joseon era. Through displays and live demonstrations by actors, visitors can glimpse at Korea's traditional lifestyles like shamanism, mask dances, horseback riding, archery and more. \n\n27. Boseong Tea Fields - Located near Boseong County, this area contains sprawling green tea fields lining picturesque hillsides that turn brilliant shades during harvest seasons. Visitors can enjoy majestic mountain views while walking the greenery aprons between rows, visit nearby green tea factories and sample various types like green tea ice cream.\n\n28. Suncheon Bay Ecological Park - Designated as Korea’s first Ramsar Wetland of International Importance protection site in 2006, this estuary reserve located near Suncheon City home to about 400 species plants and over 150 bird species that flock during migration seasons due to its tidal flats rich in marine life. Activities include birdwatching, walking trails, bike paths with scenic views of fields, reed beds and hills.\n\n29. Songwol-dong Fairytale Village - Located in Seoul, this whimsical complex is a candy colored tourist attraction made up of imaginative storybook themed buildings perfect for photos ops. Visitors will be delighted strolling among the European-style medieval towers, vivid facades, quirky sculptures like giant stsuffed animals, offering a whimsical fantasy world escape from the city."
        ],
        [
         "metadata",
         {
          "source": "./Korea info/Korean tourist destination.txt"
         }
        ],
        [
         "type",
         "Document"
        ]
       ]
      ],
      "text/plain": [
       "<IPython.core.display.JSON object>"
      ]
     },
     "execution_count": 30,
     "metadata": {
      "application/json": {
       "expanded": false,
       "root": "root"
      }
     },
     "output_type": "execute_result"
    }
   ],
   "source": [
    "retrieved_docs = retriever.get_relevant_documents(\"query\")\n",
    "JSON(retrieved_docs)"
   ]
  },
  {
   "cell_type": "code",
   "execution_count": 9,
   "id": "61888062-8aef-455a-9788-db1c6981c978",
   "metadata": {
    "tags": []
   },
   "outputs": [
    {
     "name": "stdout",
     "output_type": "stream",
     "text": [
      "14958\n"
     ]
    }
   ],
   "source": [
    "print(len(retrieved_docs[0].page_content))"
   ]
  }
 ],
 "metadata": {
  "kernelspec": {
   "display_name": "Python 3 (ipykernel)",
   "language": "python",
   "name": "python3"
  },
  "language_info": {
   "codemirror_mode": {
    "name": "ipython",
    "version": 3
   },
   "file_extension": ".py",
   "mimetype": "text/x-python",
   "name": "python",
   "nbconvert_exporter": "python",
   "pygments_lexer": "ipython3",
   "version": "3.12.6"
  }
 },
 "nbformat": 4,
 "nbformat_minor": 5
}
