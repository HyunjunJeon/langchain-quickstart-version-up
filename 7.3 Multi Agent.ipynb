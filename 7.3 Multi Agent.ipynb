{
 "cells": [
  {
   "cell_type": "code",
   "execution_count": 4,
   "id": "01b9274e-9a46-4009-b9c0-eaff82addc33",
   "metadata": {
    "tags": []
   },
   "outputs": [
    {
     "name": "stdout",
     "output_type": "stream",
     "text": [
      "Requirement already satisfied: wikipedia in /Users/terrycho/anaconda3/lib/python3.11/site-packages (1.4.0)\n",
      "Requirement already satisfied: beautifulsoup4 in /Users/terrycho/anaconda3/lib/python3.11/site-packages (from wikipedia) (4.12.2)\n",
      "Requirement already satisfied: requests<3.0.0,>=2.0.0 in /Users/terrycho/.local/lib/python3.11/site-packages (from wikipedia) (2.31.0)\n",
      "Requirement already satisfied: charset-normalizer<4,>=2 in /Users/terrycho/.local/lib/python3.11/site-packages (from requests<3.0.0,>=2.0.0->wikipedia) (3.3.2)\n",
      "Requirement already satisfied: idna<4,>=2.5 in /Users/terrycho/.local/lib/python3.11/site-packages (from requests<3.0.0,>=2.0.0->wikipedia) (3.6)\n",
      "Requirement already satisfied: urllib3<3,>=1.21.1 in /Users/terrycho/anaconda3/lib/python3.11/site-packages (from requests<3.0.0,>=2.0.0->wikipedia) (1.26.18)\n",
      "Requirement already satisfied: certifi>=2017.4.17 in /Users/terrycho/.local/lib/python3.11/site-packages (from requests<3.0.0,>=2.0.0->wikipedia) (2023.11.17)\n",
      "Requirement already satisfied: soupsieve>1.2 in /Users/terrycho/anaconda3/lib/python3.11/site-packages (from beautifulsoup4->wikipedia) (2.4)\n",
      "Collecting youtube_search\n",
      "  Downloading youtube_search-2.1.2-py3-none-any.whl (3.4 kB)\n",
      "Requirement already satisfied: requests in /Users/terrycho/.local/lib/python3.11/site-packages (from youtube_search) (2.31.0)\n",
      "Requirement already satisfied: charset-normalizer<4,>=2 in /Users/terrycho/.local/lib/python3.11/site-packages (from requests->youtube_search) (3.3.2)\n",
      "Requirement already satisfied: idna<4,>=2.5 in /Users/terrycho/.local/lib/python3.11/site-packages (from requests->youtube_search) (3.6)\n",
      "Requirement already satisfied: urllib3<3,>=1.21.1 in /Users/terrycho/anaconda3/lib/python3.11/site-packages (from requests->youtube_search) (1.26.18)\n",
      "Requirement already satisfied: certifi>=2017.4.17 in /Users/terrycho/.local/lib/python3.11/site-packages (from requests->youtube_search) (2023.11.17)\n",
      "Installing collected packages: youtube_search\n",
      "Successfully installed youtube_search-2.1.2\n"
     ]
    }
   ],
   "source": [
    "!pip install wikipedia\n",
    "!pip install youtube_search\n"
   ]
  },
  {
   "cell_type": "code",
   "execution_count": 1,
   "id": "33cb6775-e826-43db-ad6c-3f2e67b3a4e4",
   "metadata": {
    "tags": []
   },
   "outputs": [
    {
     "name": "stderr",
     "output_type": "stream",
     "text": [
      "/Users/terrycho/anaconda3/lib/python3.11/site-packages/langchain_core/_api/deprecation.py:117: LangChainDeprecationWarning: The class `langchain_community.llms.openai.OpenAI` was deprecated in langchain-community 0.0.10 and will be removed in 0.2.0. An updated version of the class exists in the langchain-openai package and should be used instead. To use it run `pip install -U langchain-openai` and import as `from langchain_openai import OpenAI`.\n",
      "  warn_deprecated(\n"
     ]
    },
    {
     "name": "stdout",
     "output_type": "stream",
     "text": [
      "\n",
      "\n",
      "\u001b[1m> Entering new AgentExecutor chain...\u001b[0m\n",
      "\u001b[32;1m\u001b[1;3m This is a specific question about a historical event, so using Wikipedia Search may be the best option.\n",
      "Action: Wikipedia Search\n",
      "Action Input: \"Korean War\"\u001b[0m\u001b[38;5;200m\u001b[1;3mPage: Korean War\n",
      "Summary: The Korean War was fought between North Korea and South Korea from 1950 to 1953. The war began on 25 June 1950 when North Korea invaded South Korea. The war ceased with an armistice on 27 July 1953. North Korea was supported by China and the Soviet Union while South Korea was supported by the United States and the United Nations (UN).\n",
      "In 1910, the Empire of Japan annexed Korea as a colony for 35 years until its surrender at the end of World War II on 15 August 1945. The United States and the Soviet Union liberated and then divided Korea along the 38th parallel into two zones of occupation. The Soviets administered the northern zone, and the Americans administered the southern zone. In 1948, as a result of Cold War tensions, the occupation zones became two sovereign states. A communist state, the Democratic People's Republic of Korea, was established in the north in Pyongyang led by Premier Kim Il Sung, while a capitalist state, the Republic of Korea, was established in the south in Seoul led by President Syngman Rhee. Both states claimed to be the sole legitimate government of all of Korea and neither accepted the 38th parallel border as permanent.\n",
      "The years prior to North Korea's invasion of South Korea were marked by border clashes between the two countries and a revolt in South Korea that was abetted by Pyongyang. After failed attempts to unify the Koreas, North Korean forces (Korean People's Army or KPA) crossed the 38th parallel on 25 June 1950 into South Korea. The United Nations Security Council denounced North Korea's actions and authorized the formation of the United Nations Command and the dispatch of forces to South Korea to repel the invasion. The Soviet Union was boycotting the UN for recognizing Taiwan (Republic of China) as China, and the People's Republic of China was not recognized by the UN, so neither could support their ally North Korea at the Security Council meeting. Twenty-one countries of the United Nations eventually contributed to the UN force, with the United States providing around 90% of the military personnel.After the first two months of war, the South Korean army (ROKA) and hastily dispatched American forces were on the point of defeat, retreating to a small area behind a defensive line known as the Pusan Perimeter. In September 1950, a risky amphibious UN counteroffensive was launched at Incheon, cutting off KPA troops and supply lines in South Korea. Those who escaped envelopment and capture were forced back north. UN forces then invaded North Korea in October 1950 and moved rapidly towards the Yalu River—the border with China—but on 19 October 1950, Chinese forces - the People's Volunteer Army (PVA) - crossed the Yalu and entered the war. The UN retreated from North Korea following the PVA's First Phase Offensive and the Second Phase Offensive. China along with their North Korean and Soviet allies pressed their offensive, invading the South and capturing Seoul by early January 1951. A UN force recaptured the city from them, and the communist forces were pushed back to positions around the 38th parallel following PVA's abortive Fifth Phase Offensive. After this, the front which was close to where the war had started stabilized, and the last two years were a war of attrition.\n",
      "The combat ended on 27 July 1953 when the Korean Armistice Agreement was signed. The agreement paused hostilities on the Korean peninsula, allowed the exchange of prisoners, and created the Korean Demilitarized Zone (DMZ) as the new border between North and South Korea. The Korean War was a major conflict of the Cold War and among the most destructive conflicts of the modern era, with approximately 3 million war fatalities and a larger proportional civilian death toll than World War II or the Vietnam War. It resulted in the destruction of virtually all of Korea's major cities, with thousands of massacres committed by both sides—including the mass killing of tens of thousands of suspected communist\u001b[0m\u001b[32;1m\u001b[1;3m This provides a thorough overview of the Korean War, but it may be helpful to also look at specific battles or events during the war for more details.\n",
      "Action: Wikipedia Search\n",
      "Action Input: \"Battles of the Korean War\"\u001b[0m\u001b[38;5;200m\u001b[1;3mPage: Korean War\n",
      "Summary: The Korean War was fought between North Korea and South Korea from 1950 to 1953. The war began on 25 June 1950 when North Korea invaded South Korea. The war ceased with an armistice on 27 July 1953. North Korea was supported by China and the Soviet Union while South Korea was supported by the United States and the United Nations (UN).\n",
      "In 1910, the Empire of Japan annexed Korea as a colony for 35 years until its surrender at the end of World War II on 15 August 1945. The United States and the Soviet Union liberated and then divided Korea along the 38th parallel into two zones of occupation. The Soviets administered the northern zone, and the Americans administered the southern zone. In 1948, as a result of Cold War tensions, the occupation zones became two sovereign states. A communist state, the Democratic People's Republic of Korea, was established in the north in Pyongyang led by Premier Kim Il Sung, while a capitalist state, the Republic of Korea, was established in the south in Seoul led by President Syngman Rhee. Both states claimed to be the sole legitimate government of all of Korea and neither accepted the 38th parallel border as permanent.\n",
      "The years prior to North Korea's invasion of South Korea were marked by border clashes between the two countries and a revolt in South Korea that was abetted by Pyongyang. After failed attempts to unify the Koreas, North Korean forces (Korean People's Army or KPA) crossed the 38th parallel on 25 June 1950 into South Korea. The United Nations Security Council denounced North Korea's actions and authorized the formation of the United Nations Command and the dispatch of forces to South Korea to repel the invasion. The Soviet Union was boycotting the UN for recognizing Taiwan (Republic of China) as China, and the People's Republic of China was not recognized by the UN, so neither could support their ally North Korea at the Security Council meeting. Twenty-one countries of the United Nations eventually contributed to the UN force, with the United States providing around 90% of the military personnel.After the first two months of war, the South Korean army (ROKA) and hastily dispatched American forces were on the point of defeat, retreating to a small area behind a defensive line known as the Pusan Perimeter. In September 1950, a risky amphibious UN counteroffensive was launched at Incheon, cutting off KPA troops and supply lines in South Korea. Those who escaped envelopment and capture were forced back north. UN forces then invaded North Korea in October 1950 and moved rapidly towards the Yalu River—the border with China—but on 19 October 1950, Chinese forces - the People's Volunteer Army (PVA) - crossed the Yalu and entered the war. The UN retreated from North Korea following the PVA's First Phase Offensive and the Second Phase Offensive. China along with their North Korean and Soviet allies pressed their offensive, invading the South and capturing Seoul by early January 1951. A UN force recaptured the city from them, and the communist forces were pushed back to positions around the 38th parallel following PVA's abortive Fifth Phase Offensive. After this, the front which was close to where the war had started stabilized, and the last two years were a war of attrition.\n",
      "The combat ended on 27 July 1953 when the Korean Armistice Agreement was signed. The agreement paused hostilities on the Korean peninsula, allowed the exchange of prisoners, and created the Korean Demilitarized Zone (DMZ) as the new border between North and South Korea. The Korean War was a major conflict of the Cold War and among the most destructive conflicts of the modern era, with approximately 3 million war fatalities and a larger proportional civilian death toll than World War II or the Vietnam War. It resulted in the destruction of virtually all of Korea's major cities, with thousands of massacres committed by both sides—including the mass killing of tens of thousands of suspected communist\u001b[0m\u001b[32;1m\u001b[1;3m This provides a thorough overview of the battles during the Korean War, but it may also be helpful to look at specific events during the war for more details.\n",
      "Action: Wikipedia Search\n",
      "Action Input: \"Events of the Korean War\"\u001b[0m\u001b[38;5;200m\u001b[1;3mPage: Korean War\n",
      "Summary: The Korean War was fought between North Korea and South Korea from 1950 to 1953. The war began on 25 June 1950 when North Korea invaded South Korea. The war ceased with an armistice on 27 July 1953. North Korea was supported by China and the Soviet Union while South Korea was supported by the United States and the United Nations (UN).\n",
      "In 1910, the Empire of Japan annexed Korea as a colony for 35 years until its surrender at the end of World War II on 15 August 1945. The United States and the Soviet Union liberated and then divided Korea along the 38th parallel into two zones of occupation. The Soviets administered the northern zone, and the Americans administered the southern zone. In 1948, as a result of Cold War tensions, the occupation zones became two sovereign states. A communist state, the Democratic People's Republic of Korea, was established in the north in Pyongyang led by Premier Kim Il Sung, while a capitalist state, the Republic of Korea, was established in the south in Seoul led by President Syngman Rhee. Both states claimed to be the sole legitimate government of all of Korea and neither accepted the 38th parallel border as permanent.\n",
      "The years prior to North Korea's invasion of South Korea were marked by border clashes between the two countries and a revolt in South Korea that was abetted by Pyongyang. After failed attempts to unify the Koreas, North Korean forces (Korean People's Army or KPA) crossed the 38th parallel on 25 June 1950 into South Korea. The United Nations Security Council denounced North Korea's actions and authorized the formation of the United Nations Command and the dispatch of forces to South Korea to repel the invasion. The Soviet Union was boycotting the UN for recognizing Taiwan (Republic of China) as China, and the People's Republic of China was not recognized by the UN, so neither could support their ally North Korea at the Security Council meeting. Twenty-one countries of the United Nations eventually contributed to the UN force, with the United States providing around 90% of the military personnel.After the first two months of war, the South Korean army (ROKA) and hastily dispatched American forces were on the point of defeat, retreating to a small area behind a defensive line known as the Pusan Perimeter. In September 1950, a risky amphibious UN counteroffensive was launched at Incheon, cutting off KPA troops and supply lines in South Korea. Those who escaped envelopment and capture were forced back north. UN forces then invaded North Korea in October 1950 and moved rapidly towards the Yalu River—the border with China—but on 19 October 1950, Chinese forces - the People's Volunteer Army (PVA) - crossed the Yalu and entered the war. The UN retreated from North Korea following the PVA's First Phase Offensive and the Second Phase Offensive. China along with their North Korean and Soviet allies pressed their offensive, invading the South and capturing Seoul by early January 1951. A UN force recaptured the city from them, and the communist forces were pushed back to positions around the 38th parallel following PVA's abortive Fifth Phase Offensive. After this, the front which was close to where the war had started stabilized, and the last two years were a war of attrition.\n",
      "The combat ended on 27 July 1953 when the Korean Armistice Agreement was signed. The agreement paused hostilities on the Korean peninsula, allowed the exchange of prisoners, and created the Korean Demilitarized Zone (DMZ) as the new border between North and South Korea. The Korean War was a major conflict of the Cold War and among the most destructive conflicts of the modern era, with approximately 3 million war fatalities and a larger proportional civilian death toll than World War II or the Vietnam War. It resulted in the destruction of virtually all of Korea's major cities, with thousands of massacres committed by both sides—including the mass killing of tens of thousands of suspected communist\u001b[0m"
     ]
    },
    {
     "ename": "ValueError",
     "evalue": "An output parsing error occurred. In order to pass this error back to the agent and have it try again, pass `handle_parsing_errors=True` to the AgentExecutor. This is the error: Could not parse LLM output: ` This provides a thorough overview of the events during the Korean War. The final answer is that the Korean War was fought between North Korea and South Korea from 1950 to 1953, resulting in an armistice on 27 July 1953 and the division of Korea into two sovereign states. It was a major conflict of the Cold War and caused significant destruction and loss of life.`",
     "output_type": "error",
     "traceback": [
      "\u001b[0;31m---------------------------------------------------------------------------\u001b[0m",
      "\u001b[0;31mOutputParserException\u001b[0m                     Traceback (most recent call last)",
      "File \u001b[0;32m~/anaconda3/lib/python3.11/site-packages/langchain/agents/agent.py:1125\u001b[0m, in \u001b[0;36mAgentExecutor._iter_next_step\u001b[0;34m(self, name_to_tool_map, color_mapping, inputs, intermediate_steps, run_manager)\u001b[0m\n\u001b[1;32m   1124\u001b[0m     \u001b[38;5;66;03m# Call the LLM to see what to do.\u001b[39;00m\n\u001b[0;32m-> 1125\u001b[0m     output \u001b[38;5;241m=\u001b[39m \u001b[38;5;28mself\u001b[39m\u001b[38;5;241m.\u001b[39magent\u001b[38;5;241m.\u001b[39mplan(\n\u001b[1;32m   1126\u001b[0m         intermediate_steps,\n\u001b[1;32m   1127\u001b[0m         callbacks\u001b[38;5;241m=\u001b[39mrun_manager\u001b[38;5;241m.\u001b[39mget_child() \u001b[38;5;28;01mif\u001b[39;00m run_manager \u001b[38;5;28;01melse\u001b[39;00m \u001b[38;5;28;01mNone\u001b[39;00m,\n\u001b[1;32m   1128\u001b[0m         \u001b[38;5;241m*\u001b[39m\u001b[38;5;241m*\u001b[39minputs,\n\u001b[1;32m   1129\u001b[0m     )\n\u001b[1;32m   1130\u001b[0m \u001b[38;5;28;01mexcept\u001b[39;00m OutputParserException \u001b[38;5;28;01mas\u001b[39;00m e:\n",
      "File \u001b[0;32m~/anaconda3/lib/python3.11/site-packages/langchain/agents/agent.py:387\u001b[0m, in \u001b[0;36mRunnableAgent.plan\u001b[0;34m(self, intermediate_steps, callbacks, **kwargs)\u001b[0m\n\u001b[1;32m    386\u001b[0m final_output: Any \u001b[38;5;241m=\u001b[39m \u001b[38;5;28;01mNone\u001b[39;00m\n\u001b[0;32m--> 387\u001b[0m \u001b[38;5;28;01mfor\u001b[39;00m chunk \u001b[38;5;129;01min\u001b[39;00m \u001b[38;5;28mself\u001b[39m\u001b[38;5;241m.\u001b[39mrunnable\u001b[38;5;241m.\u001b[39mstream(inputs, config\u001b[38;5;241m=\u001b[39m{\u001b[38;5;124m\"\u001b[39m\u001b[38;5;124mcallbacks\u001b[39m\u001b[38;5;124m\"\u001b[39m: callbacks}):\n\u001b[1;32m    388\u001b[0m     \u001b[38;5;28;01mif\u001b[39;00m final_output \u001b[38;5;129;01mis\u001b[39;00m \u001b[38;5;28;01mNone\u001b[39;00m:\n",
      "File \u001b[0;32m~/anaconda3/lib/python3.11/site-packages/langchain_core/runnables/base.py:2424\u001b[0m, in \u001b[0;36mRunnableSequence.stream\u001b[0;34m(self, input, config, **kwargs)\u001b[0m\n\u001b[1;32m   2418\u001b[0m \u001b[38;5;28;01mdef\u001b[39;00m \u001b[38;5;21mstream\u001b[39m(\n\u001b[1;32m   2419\u001b[0m     \u001b[38;5;28mself\u001b[39m,\n\u001b[1;32m   2420\u001b[0m     \u001b[38;5;28minput\u001b[39m: Input,\n\u001b[1;32m   2421\u001b[0m     config: Optional[RunnableConfig] \u001b[38;5;241m=\u001b[39m \u001b[38;5;28;01mNone\u001b[39;00m,\n\u001b[1;32m   2422\u001b[0m     \u001b[38;5;241m*\u001b[39m\u001b[38;5;241m*\u001b[39mkwargs: Optional[Any],\n\u001b[1;32m   2423\u001b[0m ) \u001b[38;5;241m-\u001b[39m\u001b[38;5;241m>\u001b[39m Iterator[Output]:\n\u001b[0;32m-> 2424\u001b[0m     \u001b[38;5;28;01myield from\u001b[39;00m \u001b[38;5;28mself\u001b[39m\u001b[38;5;241m.\u001b[39mtransform(\u001b[38;5;28miter\u001b[39m([\u001b[38;5;28minput\u001b[39m]), config, \u001b[38;5;241m*\u001b[39m\u001b[38;5;241m*\u001b[39mkwargs)\n",
      "File \u001b[0;32m~/anaconda3/lib/python3.11/site-packages/langchain_core/runnables/base.py:2411\u001b[0m, in \u001b[0;36mRunnableSequence.transform\u001b[0;34m(self, input, config, **kwargs)\u001b[0m\n\u001b[1;32m   2405\u001b[0m \u001b[38;5;28;01mdef\u001b[39;00m \u001b[38;5;21mtransform\u001b[39m(\n\u001b[1;32m   2406\u001b[0m     \u001b[38;5;28mself\u001b[39m,\n\u001b[1;32m   2407\u001b[0m     \u001b[38;5;28minput\u001b[39m: Iterator[Input],\n\u001b[1;32m   2408\u001b[0m     config: Optional[RunnableConfig] \u001b[38;5;241m=\u001b[39m \u001b[38;5;28;01mNone\u001b[39;00m,\n\u001b[1;32m   2409\u001b[0m     \u001b[38;5;241m*\u001b[39m\u001b[38;5;241m*\u001b[39mkwargs: Optional[Any],\n\u001b[1;32m   2410\u001b[0m ) \u001b[38;5;241m-\u001b[39m\u001b[38;5;241m>\u001b[39m Iterator[Output]:\n\u001b[0;32m-> 2411\u001b[0m     \u001b[38;5;28;01myield from\u001b[39;00m \u001b[38;5;28mself\u001b[39m\u001b[38;5;241m.\u001b[39m_transform_stream_with_config(\n\u001b[1;32m   2412\u001b[0m         \u001b[38;5;28minput\u001b[39m,\n\u001b[1;32m   2413\u001b[0m         \u001b[38;5;28mself\u001b[39m\u001b[38;5;241m.\u001b[39m_transform,\n\u001b[1;32m   2414\u001b[0m         patch_config(config, run_name\u001b[38;5;241m=\u001b[39m(config \u001b[38;5;129;01mor\u001b[39;00m {})\u001b[38;5;241m.\u001b[39mget(\u001b[38;5;124m\"\u001b[39m\u001b[38;5;124mrun_name\u001b[39m\u001b[38;5;124m\"\u001b[39m) \u001b[38;5;129;01mor\u001b[39;00m \u001b[38;5;28mself\u001b[39m\u001b[38;5;241m.\u001b[39mname),\n\u001b[1;32m   2415\u001b[0m         \u001b[38;5;241m*\u001b[39m\u001b[38;5;241m*\u001b[39mkwargs,\n\u001b[1;32m   2416\u001b[0m     )\n",
      "File \u001b[0;32m~/anaconda3/lib/python3.11/site-packages/langchain_core/runnables/base.py:1497\u001b[0m, in \u001b[0;36mRunnable._transform_stream_with_config\u001b[0;34m(self, input, transformer, config, run_type, **kwargs)\u001b[0m\n\u001b[1;32m   1496\u001b[0m \u001b[38;5;28;01mwhile\u001b[39;00m \u001b[38;5;28;01mTrue\u001b[39;00m:\n\u001b[0;32m-> 1497\u001b[0m     chunk: Output \u001b[38;5;241m=\u001b[39m context\u001b[38;5;241m.\u001b[39mrun(\u001b[38;5;28mnext\u001b[39m, iterator)  \u001b[38;5;66;03m# type: ignore\u001b[39;00m\n\u001b[1;32m   1498\u001b[0m     \u001b[38;5;28;01myield\u001b[39;00m chunk\n",
      "File \u001b[0;32m~/anaconda3/lib/python3.11/site-packages/langchain_core/runnables/base.py:2375\u001b[0m, in \u001b[0;36mRunnableSequence._transform\u001b[0;34m(self, input, run_manager, config)\u001b[0m\n\u001b[1;32m   2367\u001b[0m     final_pipeline \u001b[38;5;241m=\u001b[39m step\u001b[38;5;241m.\u001b[39mtransform(\n\u001b[1;32m   2368\u001b[0m         final_pipeline,\n\u001b[1;32m   2369\u001b[0m         patch_config(\n\u001b[0;32m   (...)\u001b[0m\n\u001b[1;32m   2372\u001b[0m         ),\n\u001b[1;32m   2373\u001b[0m     )\n\u001b[0;32m-> 2375\u001b[0m \u001b[38;5;28;01mfor\u001b[39;00m output \u001b[38;5;129;01min\u001b[39;00m final_pipeline:\n\u001b[1;32m   2376\u001b[0m     \u001b[38;5;28;01myield\u001b[39;00m output\n",
      "File \u001b[0;32m~/anaconda3/lib/python3.11/site-packages/langchain_core/runnables/base.py:1045\u001b[0m, in \u001b[0;36mRunnable.transform\u001b[0;34m(self, input, config, **kwargs)\u001b[0m\n\u001b[1;32m   1044\u001b[0m \u001b[38;5;28;01mif\u001b[39;00m got_first_val:\n\u001b[0;32m-> 1045\u001b[0m     \u001b[38;5;28;01myield from\u001b[39;00m \u001b[38;5;28mself\u001b[39m\u001b[38;5;241m.\u001b[39mstream(final, config, \u001b[38;5;241m*\u001b[39m\u001b[38;5;241m*\u001b[39mkwargs)\n",
      "File \u001b[0;32m~/anaconda3/lib/python3.11/site-packages/langchain_core/runnables/base.py:580\u001b[0m, in \u001b[0;36mRunnable.stream\u001b[0;34m(self, input, config, **kwargs)\u001b[0m\n\u001b[1;32m    576\u001b[0m \u001b[38;5;250m\u001b[39m\u001b[38;5;124;03m\"\"\"\u001b[39;00m\n\u001b[1;32m    577\u001b[0m \u001b[38;5;124;03mDefault implementation of stream, which calls invoke.\u001b[39;00m\n\u001b[1;32m    578\u001b[0m \u001b[38;5;124;03mSubclasses should override this method if they support streaming output.\u001b[39;00m\n\u001b[1;32m    579\u001b[0m \u001b[38;5;124;03m\"\"\"\u001b[39;00m\n\u001b[0;32m--> 580\u001b[0m \u001b[38;5;28;01myield\u001b[39;00m \u001b[38;5;28mself\u001b[39m\u001b[38;5;241m.\u001b[39minvoke(\u001b[38;5;28minput\u001b[39m, config, \u001b[38;5;241m*\u001b[39m\u001b[38;5;241m*\u001b[39mkwargs)\n",
      "File \u001b[0;32m~/anaconda3/lib/python3.11/site-packages/langchain_core/output_parsers/base.py:176\u001b[0m, in \u001b[0;36mBaseOutputParser.invoke\u001b[0;34m(self, input, config)\u001b[0m\n\u001b[1;32m    175\u001b[0m \u001b[38;5;28;01melse\u001b[39;00m:\n\u001b[0;32m--> 176\u001b[0m     \u001b[38;5;28;01mreturn\u001b[39;00m \u001b[38;5;28mself\u001b[39m\u001b[38;5;241m.\u001b[39m_call_with_config(\n\u001b[1;32m    177\u001b[0m         \u001b[38;5;28;01mlambda\u001b[39;00m inner_input: \u001b[38;5;28mself\u001b[39m\u001b[38;5;241m.\u001b[39mparse_result([Generation(text\u001b[38;5;241m=\u001b[39minner_input)]),\n\u001b[1;32m    178\u001b[0m         \u001b[38;5;28minput\u001b[39m,\n\u001b[1;32m    179\u001b[0m         config,\n\u001b[1;32m    180\u001b[0m         run_type\u001b[38;5;241m=\u001b[39m\u001b[38;5;124m\"\u001b[39m\u001b[38;5;124mparser\u001b[39m\u001b[38;5;124m\"\u001b[39m,\n\u001b[1;32m    181\u001b[0m     )\n",
      "File \u001b[0;32m~/anaconda3/lib/python3.11/site-packages/langchain_core/runnables/base.py:1246\u001b[0m, in \u001b[0;36mRunnable._call_with_config\u001b[0;34m(self, func, input, config, run_type, **kwargs)\u001b[0m\n\u001b[1;32m   1243\u001b[0m     context\u001b[38;5;241m.\u001b[39mrun(var_child_runnable_config\u001b[38;5;241m.\u001b[39mset, child_config)\n\u001b[1;32m   1244\u001b[0m     output \u001b[38;5;241m=\u001b[39m cast(\n\u001b[1;32m   1245\u001b[0m         Output,\n\u001b[0;32m-> 1246\u001b[0m         context\u001b[38;5;241m.\u001b[39mrun(\n\u001b[1;32m   1247\u001b[0m             call_func_with_variable_args,\n\u001b[1;32m   1248\u001b[0m             func,  \u001b[38;5;66;03m# type: ignore[arg-type]\u001b[39;00m\n\u001b[1;32m   1249\u001b[0m             \u001b[38;5;28minput\u001b[39m,  \u001b[38;5;66;03m# type: ignore[arg-type]\u001b[39;00m\n\u001b[1;32m   1250\u001b[0m             config,\n\u001b[1;32m   1251\u001b[0m             run_manager,\n\u001b[1;32m   1252\u001b[0m             \u001b[38;5;241m*\u001b[39m\u001b[38;5;241m*\u001b[39mkwargs,\n\u001b[1;32m   1253\u001b[0m         ),\n\u001b[1;32m   1254\u001b[0m     )\n\u001b[1;32m   1255\u001b[0m \u001b[38;5;28;01mexcept\u001b[39;00m \u001b[38;5;167;01mBaseException\u001b[39;00m \u001b[38;5;28;01mas\u001b[39;00m e:\n",
      "File \u001b[0;32m~/anaconda3/lib/python3.11/site-packages/langchain_core/runnables/config.py:326\u001b[0m, in \u001b[0;36mcall_func_with_variable_args\u001b[0;34m(func, input, config, run_manager, **kwargs)\u001b[0m\n\u001b[1;32m    325\u001b[0m     kwargs[\u001b[38;5;124m\"\u001b[39m\u001b[38;5;124mrun_manager\u001b[39m\u001b[38;5;124m\"\u001b[39m] \u001b[38;5;241m=\u001b[39m run_manager\n\u001b[0;32m--> 326\u001b[0m \u001b[38;5;28;01mreturn\u001b[39;00m func(\u001b[38;5;28minput\u001b[39m, \u001b[38;5;241m*\u001b[39m\u001b[38;5;241m*\u001b[39mkwargs)\n",
      "File \u001b[0;32m~/anaconda3/lib/python3.11/site-packages/langchain_core/output_parsers/base.py:177\u001b[0m, in \u001b[0;36mBaseOutputParser.invoke.<locals>.<lambda>\u001b[0;34m(inner_input)\u001b[0m\n\u001b[1;32m    175\u001b[0m \u001b[38;5;28;01melse\u001b[39;00m:\n\u001b[1;32m    176\u001b[0m     \u001b[38;5;28;01mreturn\u001b[39;00m \u001b[38;5;28mself\u001b[39m\u001b[38;5;241m.\u001b[39m_call_with_config(\n\u001b[0;32m--> 177\u001b[0m         \u001b[38;5;28;01mlambda\u001b[39;00m inner_input: \u001b[38;5;28mself\u001b[39m\u001b[38;5;241m.\u001b[39mparse_result([Generation(text\u001b[38;5;241m=\u001b[39minner_input)]),\n\u001b[1;32m    178\u001b[0m         \u001b[38;5;28minput\u001b[39m,\n\u001b[1;32m    179\u001b[0m         config,\n\u001b[1;32m    180\u001b[0m         run_type\u001b[38;5;241m=\u001b[39m\u001b[38;5;124m\"\u001b[39m\u001b[38;5;124mparser\u001b[39m\u001b[38;5;124m\"\u001b[39m,\n\u001b[1;32m    181\u001b[0m     )\n",
      "File \u001b[0;32m~/anaconda3/lib/python3.11/site-packages/langchain_core/output_parsers/base.py:219\u001b[0m, in \u001b[0;36mBaseOutputParser.parse_result\u001b[0;34m(self, result, partial)\u001b[0m\n\u001b[1;32m    207\u001b[0m \u001b[38;5;250m\u001b[39m\u001b[38;5;124;03m\"\"\"Parse a list of candidate model Generations into a specific format.\u001b[39;00m\n\u001b[1;32m    208\u001b[0m \n\u001b[1;32m    209\u001b[0m \u001b[38;5;124;03mThe return value is parsed from only the first Generation in the result, which\u001b[39;00m\n\u001b[0;32m   (...)\u001b[0m\n\u001b[1;32m    217\u001b[0m \u001b[38;5;124;03m    Structured output.\u001b[39;00m\n\u001b[1;32m    218\u001b[0m \u001b[38;5;124;03m\"\"\"\u001b[39;00m\n\u001b[0;32m--> 219\u001b[0m \u001b[38;5;28;01mreturn\u001b[39;00m \u001b[38;5;28mself\u001b[39m\u001b[38;5;241m.\u001b[39mparse(result[\u001b[38;5;241m0\u001b[39m]\u001b[38;5;241m.\u001b[39mtext)\n",
      "File \u001b[0;32m~/anaconda3/lib/python3.11/site-packages/langchain/agents/output_parsers/react_single_input.py:75\u001b[0m, in \u001b[0;36mReActSingleInputOutputParser.parse\u001b[0;34m(self, text)\u001b[0m\n\u001b[1;32m     74\u001b[0m \u001b[38;5;28;01mif\u001b[39;00m \u001b[38;5;129;01mnot\u001b[39;00m re\u001b[38;5;241m.\u001b[39msearch(\u001b[38;5;124mr\u001b[39m\u001b[38;5;124m\"\u001b[39m\u001b[38;5;124mAction\u001b[39m\u001b[38;5;124m\\\u001b[39m\u001b[38;5;124ms*\u001b[39m\u001b[38;5;124m\\\u001b[39m\u001b[38;5;124md*\u001b[39m\u001b[38;5;124m\\\u001b[39m\u001b[38;5;124ms*:[\u001b[39m\u001b[38;5;124m\\\u001b[39m\u001b[38;5;124ms]*(.*?)\u001b[39m\u001b[38;5;124m\"\u001b[39m, text, re\u001b[38;5;241m.\u001b[39mDOTALL):\n\u001b[0;32m---> 75\u001b[0m     \u001b[38;5;28;01mraise\u001b[39;00m OutputParserException(\n\u001b[1;32m     76\u001b[0m         \u001b[38;5;124mf\u001b[39m\u001b[38;5;124m\"\u001b[39m\u001b[38;5;124mCould not parse LLM output: `\u001b[39m\u001b[38;5;132;01m{\u001b[39;00mtext\u001b[38;5;132;01m}\u001b[39;00m\u001b[38;5;124m`\u001b[39m\u001b[38;5;124m\"\u001b[39m,\n\u001b[1;32m     77\u001b[0m         observation\u001b[38;5;241m=\u001b[39mMISSING_ACTION_AFTER_THOUGHT_ERROR_MESSAGE,\n\u001b[1;32m     78\u001b[0m         llm_output\u001b[38;5;241m=\u001b[39mtext,\n\u001b[1;32m     79\u001b[0m         send_to_llm\u001b[38;5;241m=\u001b[39m\u001b[38;5;28;01mTrue\u001b[39;00m,\n\u001b[1;32m     80\u001b[0m     )\n\u001b[1;32m     81\u001b[0m \u001b[38;5;28;01melif\u001b[39;00m \u001b[38;5;129;01mnot\u001b[39;00m re\u001b[38;5;241m.\u001b[39msearch(\n\u001b[1;32m     82\u001b[0m     \u001b[38;5;124mr\u001b[39m\u001b[38;5;124m\"\u001b[39m\u001b[38;5;124m[\u001b[39m\u001b[38;5;124m\\\u001b[39m\u001b[38;5;124ms]*Action\u001b[39m\u001b[38;5;124m\\\u001b[39m\u001b[38;5;124ms*\u001b[39m\u001b[38;5;124m\\\u001b[39m\u001b[38;5;124md*\u001b[39m\u001b[38;5;124m\\\u001b[39m\u001b[38;5;124ms*Input\u001b[39m\u001b[38;5;124m\\\u001b[39m\u001b[38;5;124ms*\u001b[39m\u001b[38;5;124m\\\u001b[39m\u001b[38;5;124md*\u001b[39m\u001b[38;5;124m\\\u001b[39m\u001b[38;5;124ms*:[\u001b[39m\u001b[38;5;124m\\\u001b[39m\u001b[38;5;124ms]*(.*)\u001b[39m\u001b[38;5;124m\"\u001b[39m, text, re\u001b[38;5;241m.\u001b[39mDOTALL\n\u001b[1;32m     83\u001b[0m ):\n",
      "\u001b[0;31mOutputParserException\u001b[0m: Could not parse LLM output: ` This provides a thorough overview of the events during the Korean War. The final answer is that the Korean War was fought between North Korea and South Korea from 1950 to 1953, resulting in an armistice on 27 July 1953 and the division of Korea into two sovereign states. It was a major conflict of the Cold War and caused significant destruction and loss of life.`",
      "\nDuring handling of the above exception, another exception occurred:\n",
      "\u001b[0;31mValueError\u001b[0m                                Traceback (most recent call last)",
      "Cell \u001b[0;32mIn[1], line 76\u001b[0m\n\u001b[1;32m     69\u001b[0m agent \u001b[38;5;241m=\u001b[39m create_react_agent(model,tools,prompt) \n\u001b[1;32m     70\u001b[0m agent_executor \u001b[38;5;241m=\u001b[39m AgentExecutor(\n\u001b[1;32m     71\u001b[0m     agent\u001b[38;5;241m=\u001b[39magent,\n\u001b[1;32m     72\u001b[0m     tools\u001b[38;5;241m=\u001b[39mtools,\n\u001b[1;32m     73\u001b[0m     verbose\u001b[38;5;241m=\u001b[39m\u001b[38;5;28;01mTrue\u001b[39;00m,\n\u001b[1;32m     74\u001b[0m     return_intermediate_steps\u001b[38;5;241m=\u001b[39m\u001b[38;5;28;01mTrue\u001b[39;00m,\n\u001b[1;32m     75\u001b[0m )\n\u001b[0;32m---> 76\u001b[0m response \u001b[38;5;241m=\u001b[39m agent_executor\u001b[38;5;241m.\u001b[39minvoke({\u001b[38;5;124m\"\u001b[39m\u001b[38;5;124minput\u001b[39m\u001b[38;5;124m\"\u001b[39m: \u001b[38;5;124m\"\u001b[39m\u001b[38;5;124mTell me about Korean war with details ?\u001b[39m\u001b[38;5;124m\"\u001b[39m})\n",
      "File \u001b[0;32m~/anaconda3/lib/python3.11/site-packages/langchain/chains/base.py:162\u001b[0m, in \u001b[0;36mChain.invoke\u001b[0;34m(self, input, config, **kwargs)\u001b[0m\n\u001b[1;32m    160\u001b[0m \u001b[38;5;28;01mexcept\u001b[39;00m \u001b[38;5;167;01mBaseException\u001b[39;00m \u001b[38;5;28;01mas\u001b[39;00m e:\n\u001b[1;32m    161\u001b[0m     run_manager\u001b[38;5;241m.\u001b[39mon_chain_error(e)\n\u001b[0;32m--> 162\u001b[0m     \u001b[38;5;28;01mraise\u001b[39;00m e\n\u001b[1;32m    163\u001b[0m run_manager\u001b[38;5;241m.\u001b[39mon_chain_end(outputs)\n\u001b[1;32m    164\u001b[0m final_outputs: Dict[\u001b[38;5;28mstr\u001b[39m, Any] \u001b[38;5;241m=\u001b[39m \u001b[38;5;28mself\u001b[39m\u001b[38;5;241m.\u001b[39mprep_outputs(\n\u001b[1;32m    165\u001b[0m     inputs, outputs, return_only_outputs\n\u001b[1;32m    166\u001b[0m )\n",
      "File \u001b[0;32m~/anaconda3/lib/python3.11/site-packages/langchain/chains/base.py:156\u001b[0m, in \u001b[0;36mChain.invoke\u001b[0;34m(self, input, config, **kwargs)\u001b[0m\n\u001b[1;32m    149\u001b[0m run_manager \u001b[38;5;241m=\u001b[39m callback_manager\u001b[38;5;241m.\u001b[39mon_chain_start(\n\u001b[1;32m    150\u001b[0m     dumpd(\u001b[38;5;28mself\u001b[39m),\n\u001b[1;32m    151\u001b[0m     inputs,\n\u001b[1;32m    152\u001b[0m     name\u001b[38;5;241m=\u001b[39mrun_name,\n\u001b[1;32m    153\u001b[0m )\n\u001b[1;32m    154\u001b[0m \u001b[38;5;28;01mtry\u001b[39;00m:\n\u001b[1;32m    155\u001b[0m     outputs \u001b[38;5;241m=\u001b[39m (\n\u001b[0;32m--> 156\u001b[0m         \u001b[38;5;28mself\u001b[39m\u001b[38;5;241m.\u001b[39m_call(inputs, run_manager\u001b[38;5;241m=\u001b[39mrun_manager)\n\u001b[1;32m    157\u001b[0m         \u001b[38;5;28;01mif\u001b[39;00m new_arg_supported\n\u001b[1;32m    158\u001b[0m         \u001b[38;5;28;01melse\u001b[39;00m \u001b[38;5;28mself\u001b[39m\u001b[38;5;241m.\u001b[39m_call(inputs)\n\u001b[1;32m    159\u001b[0m     )\n\u001b[1;32m    160\u001b[0m \u001b[38;5;28;01mexcept\u001b[39;00m \u001b[38;5;167;01mBaseException\u001b[39;00m \u001b[38;5;28;01mas\u001b[39;00m e:\n\u001b[1;32m    161\u001b[0m     run_manager\u001b[38;5;241m.\u001b[39mon_chain_error(e)\n",
      "File \u001b[0;32m~/anaconda3/lib/python3.11/site-packages/langchain/agents/agent.py:1391\u001b[0m, in \u001b[0;36mAgentExecutor._call\u001b[0;34m(self, inputs, run_manager)\u001b[0m\n\u001b[1;32m   1389\u001b[0m \u001b[38;5;66;03m# We now enter the agent loop (until it returns something).\u001b[39;00m\n\u001b[1;32m   1390\u001b[0m \u001b[38;5;28;01mwhile\u001b[39;00m \u001b[38;5;28mself\u001b[39m\u001b[38;5;241m.\u001b[39m_should_continue(iterations, time_elapsed):\n\u001b[0;32m-> 1391\u001b[0m     next_step_output \u001b[38;5;241m=\u001b[39m \u001b[38;5;28mself\u001b[39m\u001b[38;5;241m.\u001b[39m_take_next_step(\n\u001b[1;32m   1392\u001b[0m         name_to_tool_map,\n\u001b[1;32m   1393\u001b[0m         color_mapping,\n\u001b[1;32m   1394\u001b[0m         inputs,\n\u001b[1;32m   1395\u001b[0m         intermediate_steps,\n\u001b[1;32m   1396\u001b[0m         run_manager\u001b[38;5;241m=\u001b[39mrun_manager,\n\u001b[1;32m   1397\u001b[0m     )\n\u001b[1;32m   1398\u001b[0m     \u001b[38;5;28;01mif\u001b[39;00m \u001b[38;5;28misinstance\u001b[39m(next_step_output, AgentFinish):\n\u001b[1;32m   1399\u001b[0m         \u001b[38;5;28;01mreturn\u001b[39;00m \u001b[38;5;28mself\u001b[39m\u001b[38;5;241m.\u001b[39m_return(\n\u001b[1;32m   1400\u001b[0m             next_step_output, intermediate_steps, run_manager\u001b[38;5;241m=\u001b[39mrun_manager\n\u001b[1;32m   1401\u001b[0m         )\n",
      "File \u001b[0;32m~/anaconda3/lib/python3.11/site-packages/langchain/agents/agent.py:1097\u001b[0m, in \u001b[0;36mAgentExecutor._take_next_step\u001b[0;34m(self, name_to_tool_map, color_mapping, inputs, intermediate_steps, run_manager)\u001b[0m\n\u001b[1;32m   1088\u001b[0m \u001b[38;5;28;01mdef\u001b[39;00m \u001b[38;5;21m_take_next_step\u001b[39m(\n\u001b[1;32m   1089\u001b[0m     \u001b[38;5;28mself\u001b[39m,\n\u001b[1;32m   1090\u001b[0m     name_to_tool_map: Dict[\u001b[38;5;28mstr\u001b[39m, BaseTool],\n\u001b[0;32m   (...)\u001b[0m\n\u001b[1;32m   1094\u001b[0m     run_manager: Optional[CallbackManagerForChainRun] \u001b[38;5;241m=\u001b[39m \u001b[38;5;28;01mNone\u001b[39;00m,\n\u001b[1;32m   1095\u001b[0m ) \u001b[38;5;241m-\u001b[39m\u001b[38;5;241m>\u001b[39m Union[AgentFinish, List[Tuple[AgentAction, \u001b[38;5;28mstr\u001b[39m]]]:\n\u001b[1;32m   1096\u001b[0m     \u001b[38;5;28;01mreturn\u001b[39;00m \u001b[38;5;28mself\u001b[39m\u001b[38;5;241m.\u001b[39m_consume_next_step(\n\u001b[0;32m-> 1097\u001b[0m         [\n\u001b[1;32m   1098\u001b[0m             a\n\u001b[1;32m   1099\u001b[0m             \u001b[38;5;28;01mfor\u001b[39;00m a \u001b[38;5;129;01min\u001b[39;00m \u001b[38;5;28mself\u001b[39m\u001b[38;5;241m.\u001b[39m_iter_next_step(\n\u001b[1;32m   1100\u001b[0m                 name_to_tool_map,\n\u001b[1;32m   1101\u001b[0m                 color_mapping,\n\u001b[1;32m   1102\u001b[0m                 inputs,\n\u001b[1;32m   1103\u001b[0m                 intermediate_steps,\n\u001b[1;32m   1104\u001b[0m                 run_manager,\n\u001b[1;32m   1105\u001b[0m             )\n\u001b[1;32m   1106\u001b[0m         ]\n\u001b[1;32m   1107\u001b[0m     )\n",
      "File \u001b[0;32m~/anaconda3/lib/python3.11/site-packages/langchain/agents/agent.py:1097\u001b[0m, in \u001b[0;36m<listcomp>\u001b[0;34m(.0)\u001b[0m\n\u001b[1;32m   1088\u001b[0m \u001b[38;5;28;01mdef\u001b[39;00m \u001b[38;5;21m_take_next_step\u001b[39m(\n\u001b[1;32m   1089\u001b[0m     \u001b[38;5;28mself\u001b[39m,\n\u001b[1;32m   1090\u001b[0m     name_to_tool_map: Dict[\u001b[38;5;28mstr\u001b[39m, BaseTool],\n\u001b[0;32m   (...)\u001b[0m\n\u001b[1;32m   1094\u001b[0m     run_manager: Optional[CallbackManagerForChainRun] \u001b[38;5;241m=\u001b[39m \u001b[38;5;28;01mNone\u001b[39;00m,\n\u001b[1;32m   1095\u001b[0m ) \u001b[38;5;241m-\u001b[39m\u001b[38;5;241m>\u001b[39m Union[AgentFinish, List[Tuple[AgentAction, \u001b[38;5;28mstr\u001b[39m]]]:\n\u001b[1;32m   1096\u001b[0m     \u001b[38;5;28;01mreturn\u001b[39;00m \u001b[38;5;28mself\u001b[39m\u001b[38;5;241m.\u001b[39m_consume_next_step(\n\u001b[0;32m-> 1097\u001b[0m         [\n\u001b[1;32m   1098\u001b[0m             a\n\u001b[1;32m   1099\u001b[0m             \u001b[38;5;28;01mfor\u001b[39;00m a \u001b[38;5;129;01min\u001b[39;00m \u001b[38;5;28mself\u001b[39m\u001b[38;5;241m.\u001b[39m_iter_next_step(\n\u001b[1;32m   1100\u001b[0m                 name_to_tool_map,\n\u001b[1;32m   1101\u001b[0m                 color_mapping,\n\u001b[1;32m   1102\u001b[0m                 inputs,\n\u001b[1;32m   1103\u001b[0m                 intermediate_steps,\n\u001b[1;32m   1104\u001b[0m                 run_manager,\n\u001b[1;32m   1105\u001b[0m             )\n\u001b[1;32m   1106\u001b[0m         ]\n\u001b[1;32m   1107\u001b[0m     )\n",
      "File \u001b[0;32m~/anaconda3/lib/python3.11/site-packages/langchain/agents/agent.py:1136\u001b[0m, in \u001b[0;36mAgentExecutor._iter_next_step\u001b[0;34m(self, name_to_tool_map, color_mapping, inputs, intermediate_steps, run_manager)\u001b[0m\n\u001b[1;32m   1134\u001b[0m     raise_error \u001b[38;5;241m=\u001b[39m \u001b[38;5;28;01mFalse\u001b[39;00m\n\u001b[1;32m   1135\u001b[0m \u001b[38;5;28;01mif\u001b[39;00m raise_error:\n\u001b[0;32m-> 1136\u001b[0m     \u001b[38;5;28;01mraise\u001b[39;00m \u001b[38;5;167;01mValueError\u001b[39;00m(\n\u001b[1;32m   1137\u001b[0m         \u001b[38;5;124m\"\u001b[39m\u001b[38;5;124mAn output parsing error occurred. \u001b[39m\u001b[38;5;124m\"\u001b[39m\n\u001b[1;32m   1138\u001b[0m         \u001b[38;5;124m\"\u001b[39m\u001b[38;5;124mIn order to pass this error back to the agent and have it try \u001b[39m\u001b[38;5;124m\"\u001b[39m\n\u001b[1;32m   1139\u001b[0m         \u001b[38;5;124m\"\u001b[39m\u001b[38;5;124magain, pass `handle_parsing_errors=True` to the AgentExecutor. \u001b[39m\u001b[38;5;124m\"\u001b[39m\n\u001b[1;32m   1140\u001b[0m         \u001b[38;5;124mf\u001b[39m\u001b[38;5;124m\"\u001b[39m\u001b[38;5;124mThis is the error: \u001b[39m\u001b[38;5;132;01m{\u001b[39;00m\u001b[38;5;28mstr\u001b[39m(e)\u001b[38;5;132;01m}\u001b[39;00m\u001b[38;5;124m\"\u001b[39m\n\u001b[1;32m   1141\u001b[0m     )\n\u001b[1;32m   1142\u001b[0m text \u001b[38;5;241m=\u001b[39m \u001b[38;5;28mstr\u001b[39m(e)\n\u001b[1;32m   1143\u001b[0m \u001b[38;5;28;01mif\u001b[39;00m \u001b[38;5;28misinstance\u001b[39m(\u001b[38;5;28mself\u001b[39m\u001b[38;5;241m.\u001b[39mhandle_parsing_errors, \u001b[38;5;28mbool\u001b[39m):\n",
      "\u001b[0;31mValueError\u001b[0m: An output parsing error occurred. In order to pass this error back to the agent and have it try again, pass `handle_parsing_errors=True` to the AgentExecutor. This is the error: Could not parse LLM output: ` This provides a thorough overview of the events during the Korean War. The final answer is that the Korean War was fought between North Korea and South Korea from 1950 to 1953, resulting in an armistice on 27 July 1953 and the division of Korea into two sovereign states. It was a major conflict of the Cold War and caused significant destruction and loss of life.`"
     ]
    }
   ],
   "source": [
    "from langchain.llms.openai import OpenAI\n",
    "from langchain.utilities import GoogleSerperAPIWrapper\n",
    "from langchain.agents import initialize_agent, Tool\n",
    "from langchain.agents import AgentType\n",
    "from langchain_core.prompts import PromptTemplate\n",
    "from langchain.agents import AgentExecutor, create_react_agent\n",
    "from langchain.tools import YouTubeSearchTool\n",
    "from langchain.tools import WikipediaQueryRun\n",
    "from langchain.utilities import WikipediaAPIWrapper\n",
    "\n",
    "import os\n",
    "\n",
    "os.environ[\"LANGCHAIN_TRACING_V2\"]=\"true\"\n",
    "os.environ[\"LANGCHAIN_ENDPOINT\"]=\"https://api.smith.langchain.com\"\n",
    "os.environ[\"LANGCHAIN_API_KEY\"]=\"{YOUR_LANGCHAIN_APIKEY}\"\n",
    "os.environ[\"LANGCHAIN_PROJECT\"]=\"{YOUR_LANGSMITH_PROJECT}\"\n",
    "os.environ[\"OPENAI_API_KEY\"] = \"{YOUR_OPENAI_KEY}\"\n",
    "os.environ[\"SERPER_API_KEY\"] = \"YOU_SERPER_APIKEY\"\n",
    "\n",
    "model = OpenAI()\n",
    "\n",
    "search = GoogleSerperAPIWrapper()\n",
    "youtube = YouTubeSearchTool()\n",
    "wikipedia = WikipediaQueryRun(api_wrapper=WikipediaAPIWrapper())\n",
    "\n",
    "tools = [\n",
    "    Tool(\n",
    "        name=\"Google Search\",\n",
    "        func=search.run,\n",
    "        description=\"useful for when you need to ask with search\",\n",
    "        verbose=True\n",
    "    ),\n",
    "    Tool(\n",
    "        name=\"Youtube Search\",\n",
    "        func=youtube.run,\n",
    "        description=\"useful for when the user explicitly asks you to look on Youtube\",\n",
    "        verbose=True\n",
    "    ),\n",
    "    Tool(\n",
    "       name=\"Wikipedia Search\",\n",
    "       func=wikipedia.run,\n",
    "       description=\"Useful when users request historical moments.\",\n",
    "   )\n",
    "    \n",
    "]\n",
    "\n",
    "template = '''Answer the following questions as best you can. You have access to the following tools:\n",
    "\n",
    "{tools}\n",
    "\n",
    "Use the following format:\n",
    "\n",
    "Question: the input question you must answer\n",
    "Thought: you should always think about what to do\n",
    "Action: the action to take, should be one of [{tool_names}]\n",
    "Action Input: the input to the action\n",
    "Observation: the result of the action\n",
    "... (this Thought/Action/Action Input/Observation can repeat N times)\n",
    "Thought: I now know the final answer\n",
    "Final Answer: the final answer to the original input question\n",
    "\n",
    "Begin!\n",
    "\n",
    "Question: {input}\n",
    "Thought:{agent_scratchpad}'''\n",
    "\n",
    "prompt = PromptTemplate.from_template(template)\n",
    "\n",
    "agent = create_react_agent(model,tools,prompt) \n",
    "agent_executor = AgentExecutor(\n",
    "    agent=agent,\n",
    "    tools=tools,\n",
    "    verbose=True,\n",
    "    return_intermediate_steps=True,\n",
    ")\n",
    "response = agent_executor.invoke({\"input\": \"Tell me about Korean war with details ?\"})"
   ]
  },
  {
   "cell_type": "code",
   "execution_count": 9,
   "id": "5367db58-73a1-4f4b-9519-625eea33a738",
   "metadata": {
    "tags": []
   },
   "outputs": [
    {
     "name": "stdout",
     "output_type": "stream",
     "text": [
      "\n",
      "\n",
      "\u001b[1m> Entering new AgentExecutor chain...\u001b[0m\n",
      "\u001b[32;1m\u001b[1;3m I should use Youtube Search since the user is explicitly asking for videos.\n",
      "Action: Youtube Search\n",
      "Action Input: Korean War\u001b[0m\u001b[33;1m\u001b[1;3m['https://www.youtube.com/watch?v=yxaegqvl4aE&pp=ygUKS29yZWFuIFdhcg%3D%3D', 'https://www.youtube.com/watch?v=ViVGj58kt34&pp=ygUKS29yZWFuIFdhcg%3D%3D']\u001b[0m\u001b[32;1m\u001b[1;3mI now know the final answer\n",
      "Final Answer: ['https://www.youtube.com/watch?v=yxaegqvl4aE&pp=ygUKS29yZWFuIFdhcg%3D%3D', 'https://www.youtube.com/watch?v=ViVGj58kt34&pp=ygUKS29yZWFuIFdhcg%3D%3D']\u001b[0m\n",
      "\n",
      "\u001b[1m> Finished chain.\u001b[0m\n"
     ]
    },
    {
     "data": {
      "text/plain": [
       "{'input': 'Can you recommend videos about Korean war ?',\n",
       " 'output': \"['https://www.youtube.com/watch?v=yxaegqvl4aE&pp=ygUKS29yZWFuIFdhcg%3D%3D', 'https://www.youtube.com/watch?v=ViVGj58kt34&pp=ygUKS29yZWFuIFdhcg%3D%3D']\",\n",
       " 'intermediate_steps': [(AgentAction(tool='Youtube Search', tool_input='Korean War', log=' I should use Youtube Search since the user is explicitly asking for videos.\\nAction: Youtube Search\\nAction Input: Korean War'),\n",
       "   \"['https://www.youtube.com/watch?v=yxaegqvl4aE&pp=ygUKS29yZWFuIFdhcg%3D%3D', 'https://www.youtube.com/watch?v=ViVGj58kt34&pp=ygUKS29yZWFuIFdhcg%3D%3D']\")]}"
      ]
     },
     "execution_count": 9,
     "metadata": {},
     "output_type": "execute_result"
    }
   ],
   "source": [
    "agent_executor.invoke({\"input\": \"Can you recommend videos about Korean war ?\"})"
   ]
  },
  {
   "cell_type": "code",
   "execution_count": null,
   "id": "dfe7ceb8-ebbb-44c4-8ec3-4c1d81987a8d",
   "metadata": {},
   "outputs": [],
   "source": []
  }
 ],
 "metadata": {
  "kernelspec": {
   "display_name": "Python 3 (ipykernel)",
   "language": "python",
   "name": "python3"
  },
  "language_info": {
   "codemirror_mode": {
    "name": "ipython",
    "version": 3
   },
   "file_extension": ".py",
   "mimetype": "text/x-python",
   "name": "python",
   "nbconvert_exporter": "python",
   "pygments_lexer": "ipython3",
   "version": "3.11.4"
  }
 },
 "nbformat": 4,
 "nbformat_minor": 5
}
