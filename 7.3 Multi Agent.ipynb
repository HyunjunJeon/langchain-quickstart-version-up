{
 "cells": [
  {
   "cell_type": "code",
   "execution_count": 2,
   "id": "33cb6775-e826-43db-ad6c-3f2e67b3a4e4",
   "metadata": {
    "tags": []
   },
   "outputs": [
    {
     "name": "stdout",
     "output_type": "stream",
     "text": [
      "\n",
      "\n",
      "\u001b[1m> Entering new AgentExecutor chain...\u001b[0m\n",
      "\u001b[32;1m\u001b[1;3mTo provide a comprehensive overview of the Korean War, I should gather detailed historical information about its causes, major events, and outcomes. A Wikipedia search would be a good starting point for this type of information. \n",
      "\n",
      "Action: Wikipedia Search  \n",
      "Action Input: \"Korean War\"  \u001b[0m\u001b[38;5;200m\u001b[1;3mPage: Korean War\n",
      "Summary: The Korean War (25 June 1950 – 27 July 1953) was an armed conflict on the Korean Peninsula fought between North Korea (Democratic People's Republic of Korea; DPRK) and South Korea (Republic of Korea; ROK) and their allies. North Korea was supported by the People's Republic of China and the Soviet Union, while South Korea was supported by the United Nations Command (UNC) led by the United States. Fighting ended in 1953 with an armistice, with no treaty signed.\n",
      "After the end of World War II in 1945, Korea, which had been a Japanese colony for 35 years, was divided by the Soviet Union and the US into two occupation zones at the 38th parallel, with plans for a future independent state. Due to political disagreements and influence from their backers, the zones formed their own governments in 1948. The DPRK was led by Kim Il Sung in Pyongyang, and the ROK by Syngman Rhee in Seoul; both claimed to be the sole legitimate government of all of Korea and engaged in limited battles. On 25 June 1950, the Korean People's Army (KPA), equipped and trained by the Soviets, launched an invasion of the south. In the absence of the Soviet Union, the UN Security Council denounced the attack and recommended countries to repel the invasion. UN forces comprised 21 countries, with the US providing around 90% of military personnel.\n",
      "After two months, the Republic of Korea Army (ROKA) and its allies were nearly defeated, holding onto only the Pusan Perimeter. In September 1950, however, UN forces landed at Inchon, cutting off KPA troops and supply lines. They invaded North Korea in October 1950 and advanced towards the Yalu River—the border with China. On 19 October 1950, the Chinese People's Volunteer Army (PVA) crossed the Yalu and entered the war. UN forces retreated from North Korea in December, following the PVA's first and second offensive. Communist forces captured Seoul again in January 1951 before losing it two months later. Following the abortive Chinese spring offensive, they were pushed back to the 38th parallel, and the final two years of the fighting turned into a war of attrition.\n",
      "The combat ended on 27 July 1953 when the Korean Armistice Agreement was signed, allowing the exchange of prisoners and creating the Korean Demilitarized Zone (DMZ). The conflict displaced millions of people, inflicting 3 million fatalities and a larger proportion of civilian deaths than World War II or the Vietnam War. Alleged war crimes include the killing of suspected communists by Seoul and the torture and starvation of prisoners of war by the North Koreans. North Korea became one of the most heavily bombed countries in history, and virtually all of Korea's major cities were destroyed. No peace treaty was ever signed, making the war a frozen conflict.\n",
      "\n",
      "Page: War crimes in the Korean War\n",
      "Summary: The Korean War was a major conflict of the Cold War and among the most destructive conflicts of the modern era, with approximately 3 million killed, most of whom were civilians. It resulted in the destruction of virtually all of Korea's major cities, with thousands of massacres committed by both sides—including the mass killing of tens of thousands of suspected communists by the South Korean government, and the torture and starvation of prisoners of war by the North Koreans. North Korea became among the most heavily bombed countries in history.\n",
      "\n",
      "\n",
      "\n",
      "Page: North Korea in the Korean War\n",
      "Summary: The Korean War started when North Korea invaded South Korea, and ended on July 27, 1953, with the armistice creating the well-known Korean Demilitarized Zone.\n",
      "\n",
      "\u001b[0m\u001b[32;1m\u001b[1;3mI have gathered detailed information about the Korean War, including its causes, major events, and outcomes. \n",
      "\n",
      "Final Answer: The Korean War (25 June 1950 – 27 July 1953) was an armed conflict on the Korean Peninsula between North Korea (DPRK) and South Korea (ROK), along with their respective allies. The war began when North Korea invaded South Korea, leading to a response from the United Nations, primarily supported by the United States. The conflict resulted in significant casualties, with approximately 3 million fatalities, most of whom were civilians. The war ended with an armistice agreement, creating the Korean Demilitarized Zone (DMZ), but no formal peace treaty was signed, leaving the conflict unresolved. The war caused widespread destruction, displacing millions and leading to numerous war crimes committed by both sides.\u001b[0m\n",
      "\n",
      "\u001b[1m> Finished chain.\u001b[0m\n"
     ]
    }
   ],
   "source": [
    "from langchain_openai import ChatOpenAI\n",
    "from langchain_community.utilities import GoogleSerperAPIWrapper\n",
    "from langchain.agents import Tool, create_react_agent, AgentExecutor\n",
    "from langchain_core.prompts import PromptTemplate\n",
    "from langchain.tools import YouTubeSearchTool\n",
    "from langchain.tools import WikipediaQueryRun\n",
    "from langchain.utilities import WikipediaAPIWrapper\n",
    "\n",
    "import os\n",
    "\n",
    "os.environ[\"LANGCHAIN_TRACING_V2\"] = \"true\"\n",
    "os.environ[\"LANGCHAIN_ENDPOINT\"] = \"https://api.smith.langchain.com\"\n",
    "os.environ[\"LANGCHAIN_API_KEY\"] = \"{YOUR_LANGCHAIN_APIKEY}\"\n",
    "os.environ[\"LANGCHAIN_PROJECT\"] = \"{YOUR_LANGSMITH_PROJECT}\"\n",
    "os.environ[\"OPENAI_API_KEY\"] = \"{YOUR_OPENAI_KEY}\"\n",
    "os.environ[\"SERPER_API_KEY\"] = \"{YOUR_SERPER_APIKEY}\"\n",
    "\n",
    "model = ChatOpenAI(model=\"gpt-4o-mini\", temperature=0)\n",
    "\n",
    "search = GoogleSerperAPIWrapper()\n",
    "youtube = YouTubeSearchTool()\n",
    "wikipedia = WikipediaQueryRun(api_wrapper=WikipediaAPIWrapper())\n",
    "\n",
    "tools = [\n",
    "    Tool(\n",
    "        name=\"Google Search\",\n",
    "        func=search.run,\n",
    "        description=\"useful for when you need to ask with search\",\n",
    "        verbose=True,\n",
    "    ),\n",
    "    Tool(\n",
    "        name=\"Youtube Search\",\n",
    "        func=youtube.run,\n",
    "        description=\"useful for when the user explicitly asks you to look on Youtube\",\n",
    "        verbose=True,\n",
    "    ),\n",
    "    Tool(\n",
    "        name=\"Wikipedia Search\",\n",
    "        func=wikipedia.run,\n",
    "        description=\"Useful when users request historical moments.\",\n",
    "    ),\n",
    "]\n",
    "\n",
    "template = \"\"\"Answer the following questions as best you can. You have access to the following tools:\n",
    "\n",
    "{tools}\n",
    "\n",
    "Use the following format:\n",
    "\n",
    "Question: the input question you must answer\n",
    "Thought: you should always think about what to do\n",
    "Action: the action to take, should be one of [{tool_names}]\n",
    "Action Input: the input to the action\n",
    "Observation: the result of the action\n",
    "... (this Thought/Action/Action Input/Observation can repeat N times)\n",
    "Thought: I now know the final answer\n",
    "Final Answer: the final answer to the original input question\n",
    "\n",
    "Begin!\n",
    "\n",
    "Question: {input}\n",
    "Thought:{agent_scratchpad}\"\"\"\n",
    "\n",
    "prompt = PromptTemplate.from_template(template)\n",
    "\n",
    "agent = create_react_agent(model, tools, prompt)\n",
    "agent_executor = AgentExecutor(\n",
    "    agent=agent,\n",
    "    tools=tools,\n",
    "    verbose=True,\n",
    "    return_intermediate_steps=True,\n",
    ")\n",
    "response = agent_executor.invoke({\"input\": \"Tell me about Korean war with details ?\"})"
   ]
  },
  {
   "cell_type": "code",
   "execution_count": 3,
   "id": "5367db58-73a1-4f4b-9519-625eea33a738",
   "metadata": {
    "tags": []
   },
   "outputs": [
    {
     "name": "stdout",
     "output_type": "stream",
     "text": [
      "\n",
      "\n",
      "\u001b[1m> Entering new AgentExecutor chain...\u001b[0m\n",
      "\u001b[32;1m\u001b[1;3mI should look for videos that provide information or insights about the Korean War. This could include documentaries, historical analyses, or personal accounts. \n",
      "Action: Youtube Search\n",
      "Action Input: \"Korean War documentary\"\u001b[0m\u001b[33;1m\u001b[1;3m['https://www.youtube.com/watch?v=CoZexC7M4hM&pp=ygUWS29yZWFuIFdhciBkb2N1bWVudGFyeQ%3D%3D', 'https://www.youtube.com/watch?v=ViVGj58kt34&pp=ugMICgJrbxABGAHKBRZLb3JlYW4gV2FyIGRvY3VtZW50YXJ5']\u001b[0m\u001b[32;1m\u001b[1;3mI have found some videos that provide insights into the Korean War, including documentaries that cover various aspects of the conflict. \n",
      "\n",
      "Action: Youtube Search\n",
      "Action Input: \"Korean War overview\"\u001b[0m\u001b[33;1m\u001b[1;3m['https://www.youtube.com/watch?v=yxaegqvl4aE&pp=ygUTS29yZWFuIFdhciBvdmVydmlldw%3D%3D', 'https://www.youtube.com/watch?v=z0oKvKVtsZc&pp=ygUTS29yZWFuIFdhciBvdmVydmlldw%3D%3D']\u001b[0m\u001b[32;1m\u001b[1;3mI have found additional videos that provide an overview of the Korean War, which could be useful for someone looking to understand the conflict more broadly.\n",
      "\n",
      "Action: Youtube Search  \n",
      "Action Input: \"Korean War history\"  \u001b[0m\u001b[33;1m\u001b[1;3m['https://www.youtube.com/watch?v=yxaegqvl4aE&pp=ygUSS29yZWFuIFdhciBoaXN0b3J5', 'https://www.youtube.com/watch?v=h1wFrXKanC0&pp=ygUSS29yZWFuIFdhciBoaXN0b3J5']\u001b[0m\u001b[32;1m\u001b[1;3mI have found more videos that delve into the history of the Korean War, providing a deeper understanding of the events and context surrounding the conflict.\n",
      "\n",
      "Final Answer: Here are some recommended videos about the Korean War:\n",
      "1. [Korean War Documentary](https://www.youtube.com/watch?v=CoZexC7M4hM)\n",
      "2. [Korean War Overview](https://www.youtube.com/watch?v=yxaegqvl4aE)\n",
      "3. [Korean War History](https://www.youtube.com/watch?v=h1wFrXKanC0)\n",
      "\n",
      "These videos cover various aspects of the war, including documentaries, overviews, and historical analyses.\u001b[0m\n",
      "\n",
      "\u001b[1m> Finished chain.\u001b[0m\n"
     ]
    },
    {
     "data": {
      "text/plain": [
       "{'input': 'Can you recommend videos about Korean war ?',\n",
       " 'output': 'Here are some recommended videos about the Korean War:\\n1. [Korean War Documentary](https://www.youtube.com/watch?v=CoZexC7M4hM)\\n2. [Korean War Overview](https://www.youtube.com/watch?v=yxaegqvl4aE)\\n3. [Korean War History](https://www.youtube.com/watch?v=h1wFrXKanC0)\\n\\nThese videos cover various aspects of the war, including documentaries, overviews, and historical analyses.',\n",
       " 'intermediate_steps': [(AgentAction(tool='Youtube Search', tool_input='Korean War documentary', log='I should look for videos that provide information or insights about the Korean War. This could include documentaries, historical analyses, or personal accounts. \\nAction: Youtube Search\\nAction Input: \"Korean War documentary\"'),\n",
       "   \"['https://www.youtube.com/watch?v=CoZexC7M4hM&pp=ygUWS29yZWFuIFdhciBkb2N1bWVudGFyeQ%3D%3D', 'https://www.youtube.com/watch?v=ViVGj58kt34&pp=ugMICgJrbxABGAHKBRZLb3JlYW4gV2FyIGRvY3VtZW50YXJ5']\"),\n",
       "  (AgentAction(tool='Youtube Search', tool_input='Korean War overview', log='I have found some videos that provide insights into the Korean War, including documentaries that cover various aspects of the conflict. \\n\\nAction: Youtube Search\\nAction Input: \"Korean War overview\"'),\n",
       "   \"['https://www.youtube.com/watch?v=yxaegqvl4aE&pp=ygUTS29yZWFuIFdhciBvdmVydmlldw%3D%3D', 'https://www.youtube.com/watch?v=z0oKvKVtsZc&pp=ygUTS29yZWFuIFdhciBvdmVydmlldw%3D%3D']\"),\n",
       "  (AgentAction(tool='Youtube Search', tool_input='Korean War history', log='I have found additional videos that provide an overview of the Korean War, which could be useful for someone looking to understand the conflict more broadly.\\n\\nAction: Youtube Search  \\nAction Input: \"Korean War history\"  '),\n",
       "   \"['https://www.youtube.com/watch?v=yxaegqvl4aE&pp=ygUSS29yZWFuIFdhciBoaXN0b3J5', 'https://www.youtube.com/watch?v=h1wFrXKanC0&pp=ygUSS29yZWFuIFdhciBoaXN0b3J5']\")]}"
      ]
     },
     "execution_count": 3,
     "metadata": {},
     "output_type": "execute_result"
    }
   ],
   "source": [
    "agent_executor.invoke({\"input\": \"Can you recommend videos about Korean war ?\"})"
   ]
  }
 ],
 "metadata": {
  "kernelspec": {
   "display_name": "Python 3 (ipykernel)",
   "language": "python",
   "name": "python3"
  },
  "language_info": {
   "codemirror_mode": {
    "name": "ipython",
    "version": 3
   },
   "file_extension": ".py",
   "mimetype": "text/x-python",
   "name": "python",
   "nbconvert_exporter": "python",
   "pygments_lexer": "ipython3",
   "version": "3.12.6"
  }
 },
 "nbformat": 4,
 "nbformat_minor": 5
}
