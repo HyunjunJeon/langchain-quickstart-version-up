{
 "cells": [
  {
   "cell_type": "code",
   "execution_count": 10,
   "id": "17184f5f-c33f-40a5-80ee-46efc7d42c0b",
   "metadata": {
    "tags": []
   },
   "outputs": [
    {
     "name": "stdout",
     "output_type": "stream",
     "text": [
      "Requirement already satisfied: langchain_experimental in /Users/terrycho/anaconda3/lib/python3.11/site-packages (0.0.17)\n",
      "Requirement already satisfied: langchain>=0.0.239 in /Users/terrycho/anaconda3/lib/python3.11/site-packages (from langchain_experimental) (0.0.287)\n",
      "Requirement already satisfied: PyYAML>=5.3 in /Users/terrycho/anaconda3/lib/python3.11/site-packages (from langchain>=0.0.239->langchain_experimental) (6.0)\n",
      "Requirement already satisfied: SQLAlchemy<3,>=1.4 in /Users/terrycho/anaconda3/lib/python3.11/site-packages (from langchain>=0.0.239->langchain_experimental) (1.4.39)\n",
      "Requirement already satisfied: aiohttp<4.0.0,>=3.8.3 in /Users/terrycho/anaconda3/lib/python3.11/site-packages (from langchain>=0.0.239->langchain_experimental) (3.8.3)\n",
      "Requirement already satisfied: dataclasses-json<0.6.0,>=0.5.7 in /Users/terrycho/anaconda3/lib/python3.11/site-packages (from langchain>=0.0.239->langchain_experimental) (0.5.14)\n",
      "Requirement already satisfied: langsmith<0.1.0,>=0.0.21 in /Users/terrycho/anaconda3/lib/python3.11/site-packages (from langchain>=0.0.239->langchain_experimental) (0.0.36)\n",
      "Requirement already satisfied: numexpr<3.0.0,>=2.8.4 in /Users/terrycho/anaconda3/lib/python3.11/site-packages (from langchain>=0.0.239->langchain_experimental) (2.8.4)\n",
      "Requirement already satisfied: numpy<2,>=1 in /Users/terrycho/anaconda3/lib/python3.11/site-packages (from langchain>=0.0.239->langchain_experimental) (1.24.3)\n",
      "Requirement already satisfied: pydantic<3,>=1 in /Users/terrycho/anaconda3/lib/python3.11/site-packages (from langchain>=0.0.239->langchain_experimental) (2.3.0)\n",
      "Requirement already satisfied: requests<3,>=2 in /Users/terrycho/anaconda3/lib/python3.11/site-packages (from langchain>=0.0.239->langchain_experimental) (2.31.0)\n",
      "Requirement already satisfied: tenacity<9.0.0,>=8.1.0 in /Users/terrycho/anaconda3/lib/python3.11/site-packages (from langchain>=0.0.239->langchain_experimental) (8.2.2)\n",
      "Requirement already satisfied: attrs>=17.3.0 in /Users/terrycho/anaconda3/lib/python3.11/site-packages (from aiohttp<4.0.0,>=3.8.3->langchain>=0.0.239->langchain_experimental) (22.1.0)\n",
      "Requirement already satisfied: charset-normalizer<3.0,>=2.0 in /Users/terrycho/anaconda3/lib/python3.11/site-packages (from aiohttp<4.0.0,>=3.8.3->langchain>=0.0.239->langchain_experimental) (2.0.4)\n",
      "Requirement already satisfied: multidict<7.0,>=4.5 in /Users/terrycho/anaconda3/lib/python3.11/site-packages (from aiohttp<4.0.0,>=3.8.3->langchain>=0.0.239->langchain_experimental) (6.0.2)\n",
      "Requirement already satisfied: async-timeout<5.0,>=4.0.0a3 in /Users/terrycho/anaconda3/lib/python3.11/site-packages (from aiohttp<4.0.0,>=3.8.3->langchain>=0.0.239->langchain_experimental) (4.0.2)\n",
      "Requirement already satisfied: yarl<2.0,>=1.0 in /Users/terrycho/anaconda3/lib/python3.11/site-packages (from aiohttp<4.0.0,>=3.8.3->langchain>=0.0.239->langchain_experimental) (1.8.1)\n",
      "Requirement already satisfied: frozenlist>=1.1.1 in /Users/terrycho/anaconda3/lib/python3.11/site-packages (from aiohttp<4.0.0,>=3.8.3->langchain>=0.0.239->langchain_experimental) (1.3.3)\n",
      "Requirement already satisfied: aiosignal>=1.1.2 in /Users/terrycho/anaconda3/lib/python3.11/site-packages (from aiohttp<4.0.0,>=3.8.3->langchain>=0.0.239->langchain_experimental) (1.2.0)\n",
      "Requirement already satisfied: marshmallow<4.0.0,>=3.18.0 in /Users/terrycho/anaconda3/lib/python3.11/site-packages (from dataclasses-json<0.6.0,>=0.5.7->langchain>=0.0.239->langchain_experimental) (3.20.1)\n",
      "Requirement already satisfied: typing-inspect<1,>=0.4.0 in /Users/terrycho/anaconda3/lib/python3.11/site-packages (from dataclasses-json<0.6.0,>=0.5.7->langchain>=0.0.239->langchain_experimental) (0.9.0)\n",
      "Requirement already satisfied: annotated-types>=0.4.0 in /Users/terrycho/anaconda3/lib/python3.11/site-packages (from pydantic<3,>=1->langchain>=0.0.239->langchain_experimental) (0.5.0)\n",
      "Requirement already satisfied: pydantic-core==2.6.3 in /Users/terrycho/anaconda3/lib/python3.11/site-packages (from pydantic<3,>=1->langchain>=0.0.239->langchain_experimental) (2.6.3)\n",
      "Requirement already satisfied: typing-extensions>=4.6.1 in /Users/terrycho/anaconda3/lib/python3.11/site-packages (from pydantic<3,>=1->langchain>=0.0.239->langchain_experimental) (4.7.1)\n",
      "Requirement already satisfied: idna<4,>=2.5 in /Users/terrycho/anaconda3/lib/python3.11/site-packages (from requests<3,>=2->langchain>=0.0.239->langchain_experimental) (3.4)\n",
      "Requirement already satisfied: urllib3<3,>=1.21.1 in /Users/terrycho/anaconda3/lib/python3.11/site-packages (from requests<3,>=2->langchain>=0.0.239->langchain_experimental) (1.26.16)\n",
      "Requirement already satisfied: certifi>=2017.4.17 in /Users/terrycho/anaconda3/lib/python3.11/site-packages (from requests<3,>=2->langchain>=0.0.239->langchain_experimental) (2023.7.22)\n",
      "Requirement already satisfied: greenlet!=0.4.17 in /Users/terrycho/anaconda3/lib/python3.11/site-packages (from SQLAlchemy<3,>=1.4->langchain>=0.0.239->langchain_experimental) (2.0.1)\n",
      "Requirement already satisfied: packaging>=17.0 in /Users/terrycho/anaconda3/lib/python3.11/site-packages (from marshmallow<4.0.0,>=3.18.0->dataclasses-json<0.6.0,>=0.5.7->langchain>=0.0.239->langchain_experimental) (23.0)\n",
      "Requirement already satisfied: mypy-extensions>=0.3.0 in /Users/terrycho/anaconda3/lib/python3.11/site-packages (from typing-inspect<1,>=0.4.0->dataclasses-json<0.6.0,>=0.5.7->langchain>=0.0.239->langchain_experimental) (0.4.3)\n",
      "Collecting google-search-results\n",
      "  Downloading google_search_results-2.4.2.tar.gz (18 kB)\n",
      "  Preparing metadata (setup.py) ... \u001b[?25ldone\n",
      "\u001b[?25hRequirement already satisfied: requests in /Users/terrycho/anaconda3/lib/python3.11/site-packages (from google-search-results) (2.31.0)\n",
      "Requirement already satisfied: charset-normalizer<4,>=2 in /Users/terrycho/anaconda3/lib/python3.11/site-packages (from requests->google-search-results) (2.0.4)\n",
      "Requirement already satisfied: idna<4,>=2.5 in /Users/terrycho/anaconda3/lib/python3.11/site-packages (from requests->google-search-results) (3.4)\n",
      "Requirement already satisfied: urllib3<3,>=1.21.1 in /Users/terrycho/anaconda3/lib/python3.11/site-packages (from requests->google-search-results) (1.26.16)\n",
      "Requirement already satisfied: certifi>=2017.4.17 in /Users/terrycho/anaconda3/lib/python3.11/site-packages (from requests->google-search-results) (2023.7.22)\n",
      "Building wheels for collected packages: google-search-results\n",
      "  Building wheel for google-search-results (setup.py) ... \u001b[?25ldone\n",
      "\u001b[?25h  Created wheel for google-search-results: filename=google_search_results-2.4.2-py3-none-any.whl size=32003 sha256=b5a09359a9606a54c1f692b8a53ba082adbaa47933088bac2bef043b351ce94e\n",
      "  Stored in directory: /Users/terrycho/Library/Caches/pip/wheels/6e/42/3e/aeb691b02cb7175ec70e2da04b5658d4739d2b41e5f73cd06f\n",
      "Successfully built google-search-results\n",
      "Installing collected packages: google-search-results\n",
      "Successfully installed google-search-results-2.4.2\n"
     ]
    }
   ],
   "source": [
    "#for plan and executor\n",
    "!pip install langchain_experimental\n",
    "# for serpAPI\n",
    "!pip install google-search-results "
   ]
  },
  {
   "cell_type": "code",
   "execution_count": 7,
   "id": "2a667ddd-3edf-4480-95db-b20300008b79",
   "metadata": {
    "tags": []
   },
   "outputs": [],
   "source": [
    "from langchain.chat_models import ChatOpenAI\n",
    "from langchain_experimental.plan_and_execute import PlanAndExecute, load_agent_executor, load_chat_planner\n",
    "from langchain.llms import OpenAI\n",
    "from langchain import SerpAPIWrapper\n",
    "from langchain.agents.tools import Tool\n",
    "from langchain import LLMMathChain"
   ]
  },
  {
   "cell_type": "markdown",
   "id": "7fe744d0-e5a3-408e-826a-aae0c1830a5b",
   "metadata": {},
   "source": [
    "# define tools"
   ]
  },
  {
   "cell_type": "code",
   "execution_count": 14,
   "id": "266ca84e-d7e6-4fe1-9b1a-443cbab84fb9",
   "metadata": {
    "tags": []
   },
   "outputs": [
    {
     "name": "stdout",
     "output_type": "stream",
     "text": [
      "\n",
      "\n",
      "\u001b[1m> Entering new PlanAndExecute chain...\u001b[0m\n",
      "steps=[Step(value=\"Search for information about Leo DiCaprio's girlfriend.\"), Step(value='Find her current age.'), Step(value='Calculate her current age raised to the 0.43 power.'), Step(value=\"Given the above steps taken, respond to the user's original question.\\n\\n\")]\n",
      "\n",
      "\u001b[1m> Entering new AgentExecutor chain...\u001b[0m\n",
      "\u001b[32;1m\u001b[1;3mThought: I can use the Search tool to find information about Leo DiCaprio's girlfriend.\n",
      "\n",
      "Action:\n",
      "```{\"action\": \"Search\", \"action_input\": \"Leo DiCaprio girlfriend\"}```\u001b[0m\n",
      "\n",
      "\u001b[1m> Finished chain.\u001b[0m\n",
      "*****\n",
      "\n",
      "Step: Search for information about Leo DiCaprio's girlfriend.\n",
      "\n",
      "Response: Thought: I can use the Search tool to find information about Leo DiCaprio's girlfriend.\n",
      "\n",
      "Action:\n",
      "```{\"action\": \"Search\", \"action_input\": \"Leo DiCaprio girlfriend\"}```\n",
      "\n",
      "\u001b[1m> Entering new AgentExecutor chain...\u001b[0m\n",
      "\u001b[32;1m\u001b[1;3mThought: To find Leo DiCaprio's girlfriend's current age, I can search for information about her and see if her age is mentioned. Let me use the Search tool to find this information.\n",
      "\n",
      "Action:\n",
      "```{\"action\": \"Search\", \"action_input\": \"Leo DiCaprio girlfriend age\"}```\u001b[0m\n",
      "\n",
      "\u001b[1m> Finished chain.\u001b[0m\n",
      "*****\n",
      "\n",
      "Step: Find her current age.\n",
      "\n",
      "Response: Thought: To find Leo DiCaprio's girlfriend's current age, I can search for information about her and see if her age is mentioned. Let me use the Search tool to find this information.\n",
      "\n",
      "Action:\n",
      "```{\"action\": \"Search\", \"action_input\": \"Leo DiCaprio girlfriend age\"}```\n",
      "\n",
      "\u001b[1m> Entering new AgentExecutor chain...\u001b[0m\n",
      "\u001b[32;1m\u001b[1;3mThought: To calculate Leo DiCaprio's girlfriend's current age raised to the 0.43 power, I can use the Calculator tool. \n",
      "\n",
      "Action:\n",
      "```{\"action\": \"Calculator\", \"action_input\": \"age ^ 0.43\"}```\u001b[0m\n",
      "\n",
      "\u001b[1m> Finished chain.\u001b[0m\n",
      "*****\n",
      "\n",
      "Step: Calculate her current age raised to the 0.43 power.\n",
      "\n",
      "Response: Thought: To calculate Leo DiCaprio's girlfriend's current age raised to the 0.43 power, I can use the Calculator tool. \n",
      "\n",
      "Action:\n",
      "```{\"action\": \"Calculator\", \"action_input\": \"age ^ 0.43\"}```\n",
      "\n",
      "\u001b[1m> Entering new AgentExecutor chain...\u001b[0m\n",
      "\u001b[32;1m\u001b[1;3mAction:\n",
      "```\n",
      "{\n",
      "  \"action\": \"Final Answer\",\n",
      "  \"action_input\": \"Leo DiCaprio's girlfriend is Camila Morrone.\"\n",
      "}\n",
      "```\u001b[0m\n",
      "\n",
      "\u001b[1m> Finished chain.\u001b[0m\n",
      "*****\n",
      "\n",
      "Step: Given the above steps taken, respond to the user's original question.\n",
      "\n",
      "\n",
      "\n",
      "Response: Leo DiCaprio's girlfriend is Camila Morrone.\n",
      "\u001b[1m> Finished chain.\u001b[0m\n"
     ]
    },
    {
     "data": {
      "text/plain": [
       "\"Leo DiCaprio's girlfriend is Camila Morrone.\""
      ]
     },
     "execution_count": 14,
     "metadata": {},
     "output_type": "execute_result"
    }
   ],
   "source": [
    "# SearpAPI needs API key, you can sign in the site and api key https://serpapi.com/users/welcome\n",
    "search = SerpAPIWrapper(serpapi_api_key=\"373a2e2893aa390091fcc7c15e90f4f8434f888d89794d30a4f40dedf8b57648\")\n",
    "llm = OpenAI(temperature=0,openai_api_key=\"{YOUR_OPENAI_KEY}\")\n",
    "llm_math_chain = LLMMathChain.from_llm(llm=llm, verbose=True)\n",
    "tools = [\n",
    "    Tool(\n",
    "        name = \"Search\",\n",
    "        func=search.run,\n",
    "        description=\"useful for when you need to answer questions about current events\"\n",
    "    ),\n",
    "    Tool(\n",
    "        name=\"Calculator\",\n",
    "        func=llm_math_chain.run,\n",
    "        description=\"useful for when you need to answer questions about math\"\n",
    "    ),\n",
    "]\n",
    "\n",
    "model = ChatOpenAI(openai_api_key=\"{YOUR_OPENAI_KEY}\",temperature=0)\n",
    "planner = load_chat_planner(model)\n",
    "executor = load_agent_executor(model, tools, verbose=True)\n",
    "agent = PlanAndExecute(planner=planner, executor=executor, verbose=True)\n",
    "\n",
    "agent.run(\"Who is Leo DiCaprio's girlfriend? What is her current age raised to the 0.43 power?\")"
   ]
  },
  {
   "cell_type": "code",
   "execution_count": null,
   "id": "2d4b773f-6e41-4d5c-a0b7-5b2ad2dab185",
   "metadata": {},
   "outputs": [],
   "source": []
  }
 ],
 "metadata": {
  "kernelspec": {
   "display_name": "Python 3 (ipykernel)",
   "language": "python",
   "name": "python3"
  },
  "language_info": {
   "codemirror_mode": {
    "name": "ipython",
    "version": 3
   },
   "file_extension": ".py",
   "mimetype": "text/x-python",
   "name": "python",
   "nbconvert_exporter": "python",
   "pygments_lexer": "ipython3",
   "version": "3.11.4"
  }
 },
 "nbformat": 4,
 "nbformat_minor": 5
}
