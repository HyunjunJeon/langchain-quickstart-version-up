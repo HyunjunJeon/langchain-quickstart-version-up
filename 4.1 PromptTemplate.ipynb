{
 "cells": [
  {
   "cell_type": "code",
   "execution_count": 5,
   "id": "86d6905a-961f-4772-b874-5fbea31642e3",
   "metadata": {
    "tags": []
   },
   "outputs": [
    {
     "name": "stdout",
     "output_type": "stream",
     "text": [
      "Tell me a famous place in seoul in 300 characters.\n",
      "content='Gyeongbokgung Palace, the largest of the Five Grand Palaces in Seoul, is a stunning example of traditional Korean architecture. Built in 1395, it served as the main royal palace of the Joseon Dynasty. Visitors can explore its beautiful gardens, watch the changing of the guard ceremony, and visit the National Palace Museum of Korea nearby.' additional_kwargs={'refusal': None} response_metadata={'token_usage': {'completion_tokens': 71, 'prompt_tokens': 20, 'total_tokens': 91, 'completion_tokens_details': {'audio_tokens': None, 'reasoning_tokens': 0}, 'prompt_tokens_details': {'audio_tokens': None, 'cached_tokens': 0}}, 'model_name': 'gpt-4o-mini-2024-07-18', 'system_fingerprint': 'fp_482c22a7bc', 'finish_reason': 'stop', 'logprobs': None} id='run-0259b877-7e24-4a34-9594-74092db24531-0' usage_metadata={'input_tokens': 20, 'output_tokens': 71, 'total_tokens': 91, 'input_token_details': {'cache_read': 0}, 'output_token_details': {'reasoning': 0}}\n",
      "\n",
      "\n",
      "Tell me a popular reastaurant in San francisco in 300 characters.\n",
      "content='One popular restaurant in San Francisco is \"Tacko,\" known for its vibrant atmosphere and delicious tacos. Located in the Marina District, it offers a variety of creative taco options, fresh ingredients, and a great selection of craft beers. The lively decor and friendly service make it a favorite spot for locals and visitors alike.' additional_kwargs={'refusal': None} response_metadata={'token_usage': {'completion_tokens': 64, 'prompt_tokens': 23, 'total_tokens': 87, 'completion_tokens_details': {'audio_tokens': None, 'reasoning_tokens': 0}, 'prompt_tokens_details': {'audio_tokens': None, 'cached_tokens': 0}}, 'model_name': 'gpt-4o-mini-2024-07-18', 'system_fingerprint': 'fp_482c22a7bc', 'finish_reason': 'stop', 'logprobs': None} id='run-96465aca-75fb-45dd-8347-8d925725c93b-0' usage_metadata={'input_tokens': 23, 'output_tokens': 64, 'total_tokens': 87, 'input_token_details': {'cache_read': 0}, 'output_token_details': {'reasoning': 0}}\n",
      "\n",
      "\n"
     ]
    }
   ],
   "source": [
    "# LLM Prompt Template sample\n",
    "from langchain_core.prompts import PromptTemplate\n",
    "from langchain_openai import ChatOpenAI\n",
    "\n",
    "llm = ChatOpenAI(model=\"gpt-4o-mini\", api_key=\"{YOUR_OPENAI_KEY}\")\n",
    "\n",
    "template = PromptTemplate.from_template(\n",
    "    \"Tell me a {adjective} {topic} in {city} in 300 characters.\"\n",
    ")\n",
    "prompt = template.format(adjective=\"famous\", topic=\"place\", city=\"seoul\")\n",
    "print(prompt)\n",
    "print(llm.invoke(prompt))\n",
    "print(\"\\n\")\n",
    "\n",
    "prompt = template.format(adjective=\"popular\", topic=\"reastaurant\", city=\"San francisco\")\n",
    "print(prompt)\n",
    "print(llm.invoke(prompt))\n",
    "print(\"\\n\")"
   ]
  },
  {
   "cell_type": "markdown",
   "id": "c5080dd5-4c67-499c-8dd2-ab436ada5a52",
   "metadata": {},
   "source": [
    "# Template Serialization"
   ]
  },
  {
   "cell_type": "code",
   "execution_count": 6,
   "id": "746227f8-c750-4db3-9900-7b40b632e55e",
   "metadata": {
    "tags": []
   },
   "outputs": [],
   "source": [
    "from langchain_core.prompts import PromptTemplate\n",
    "\n",
    "template = PromptTemplate.from_template(\n",
    "    \"Tell me a {adjective} {topic} in {city} in 300 characters.\"\n",
    ")\n",
    "template.save(\"template.json\")"
   ]
  },
  {
   "cell_type": "code",
   "execution_count": 7,
   "id": "17af71bf-5826-49a9-98f7-e984d7a01212",
   "metadata": {
    "tags": []
   },
   "outputs": [
    {
     "name": "stdout",
     "output_type": "stream",
     "text": [
      "{\n",
      "    \"name\": null,\n",
      "    \"input_variables\": [\n",
      "        \"adjective\",\n",
      "        \"city\",\n",
      "        \"topic\"\n",
      "    ],\n",
      "    \"optional_variables\": [],\n",
      "    \"output_parser\": null,\n",
      "    \"partial_variables\": {},\n",
      "    \"metadata\": null,\n",
      "    \"tags\": null,\n",
      "    \"template\": \"Tell me a {adjective} {topic} in {city} in 300 characters.\",\n",
      "    \"template_format\": \"f-string\",\n",
      "    \"validate_template\": false,\n",
      "    \"_type\": \"prompt\"\n",
      "}"
     ]
    }
   ],
   "source": [
    "!cat template.json"
   ]
  },
  {
   "cell_type": "code",
   "execution_count": 8,
   "id": "462c8633-fc1a-4acc-b57e-4936c0f22042",
   "metadata": {
    "tags": []
   },
   "outputs": [
    {
     "name": "stdout",
     "output_type": "stream",
     "text": [
      "Tell me a popular cafe in San francisco in 300 characters.\n"
     ]
    }
   ],
   "source": [
    "from langchain_core.prompts import load_prompt\n",
    "\n",
    "loaded_template = load_prompt(\"template.json\")\n",
    "prompt = loaded_template.format(adjective=\"popular\", topic=\"cafe\", city=\"San francisco\")\n",
    "print(prompt)"
   ]
  },
  {
   "cell_type": "markdown",
   "id": "9065d69e-180a-48b9-ad93-7a49ecdfc8a2",
   "metadata": {},
   "source": [
    "# Chat Prompt"
   ]
  },
  {
   "cell_type": "code",
   "execution_count": 10,
   "id": "c67a91dd-7dce-426b-a918-42ab79579499",
   "metadata": {
    "tags": []
   },
   "outputs": [
    {
     "name": "stdout",
     "output_type": "stream",
     "text": [
      "Prompt : [SystemMessage(content='You are a tour guide.', additional_kwargs={}, response_metadata={}), HumanMessage(content=\"I'm planning to visit Korea.\", additional_kwargs={}, response_metadata={}), AIMessage(content=\"I'm tour guide for Korea.\", additional_kwargs={}, response_metadata={}), HumanMessage(content='What is top5 best place to go there?', additional_kwargs={}, response_metadata={})]\n",
      "------------------------------\n",
      "content='Korea is a beautiful country with a rich history and vibrant culture. Here are the top five places you should consider visiting:\\n\\n1. **Seoul**: The capital city is a must-visit, blending modern skyscrapers with historic palaces. Don\\'t miss Gyeongbokgung Palace, Bukchon Hanok Village, and the bustling streets of Myeongdong for shopping and street food. The N Seoul Tower offers stunning views of the city.\\n\\n2. **Busan**: Known for its beautiful beaches, Busan is a coastal city that offers a different vibe from Seoul. Visit Haeundae Beach, the picturesque Gamcheon Culture Village, and the Jagalchi Fish Market for fresh seafood.\\n\\n3. **Gyeongju**: Often referred to as \"the museum without walls,\" Gyeongju is rich in history and was the capital of the ancient Silla Kingdom. Explore the UNESCO World Heritage Sites, including Bulguksa Temple and Seokguram Grotto, as well as the ancient tombs in Tumuli Park.\\n\\n4. **Jeju Island**: A popular vacation spot, Jeju Island is known for its stunning natural beauty, including Hallasan Mountain, beautiful beaches, and unique volcanic landscapes. Don’t miss the Manjanggul Lava Tube and the scenic Seongsan Ilchulbong (Sunrise Peak).\\n\\n5. **Incheon**: While often just a transit point due to its international airport, Incheon has attractions like Songdo International Business District, which features modern architecture and parks. The Incheon Chinatown and the peaceful Incheon Grand Park are also worth a visit.\\n\\nEach of these places offers a unique glimpse into Korea\\'s culture, history, and natural beauty. Enjoy your trip!' additional_kwargs={'refusal': None} response_metadata={'token_usage': {'completion_tokens': 354, 'prompt_tokens': 47, 'total_tokens': 401, 'completion_tokens_details': {'audio_tokens': None, 'reasoning_tokens': 0}, 'prompt_tokens_details': {'audio_tokens': None, 'cached_tokens': 0}}, 'model_name': 'gpt-4o-mini-2024-07-18', 'system_fingerprint': 'fp_482c22a7bc', 'finish_reason': 'stop', 'logprobs': None} id='run-963ad465-891a-4993-9cc1-b9caa2b1d41e-0' usage_metadata={'input_tokens': 47, 'output_tokens': 354, 'total_tokens': 401, 'input_token_details': {'cache_read': 0}, 'output_token_details': {'reasoning': 0}}\n"
     ]
    }
   ],
   "source": [
    "from langchain_openai import ChatOpenAI\n",
    "from langchain_core.prompts import ChatPromptTemplate\n",
    "\n",
    "chat = ChatOpenAI(model=\"gpt-4o-mini\", api_key=\"{YOUR_OPENAI_KEY}\")\n",
    "\n",
    "chat_template = ChatPromptTemplate.from_messages(\n",
    "    [\n",
    "        (\"system\", \"You are a tour guide.\"),\n",
    "        (\"human\", \"I'm planning to visit {Country}.\"),\n",
    "        (\"ai\", \"I'm tour guide for {Country}.\"),\n",
    "        (\"human\", \"{user_input}\"),\n",
    "    ]\n",
    ")\n",
    "\n",
    "prompt = chat_template.format_messages(\n",
    "    Country=\"Korea\", user_input=\"What is top5 best place to go there?\"\n",
    ")\n",
    "\n",
    "print(\"Prompt :\", prompt)\n",
    "print(\"-\" * 30)\n",
    "\n",
    "aiMessage = chat.invoke(prompt)\n",
    "print(aiMessage)"
   ]
  },
  {
   "cell_type": "markdown",
   "id": "cf092c91-558f-4f35-ab0c-251e4caaf55a",
   "metadata": {},
   "source": [
    "# Prompt Composition"
   ]
  },
  {
   "cell_type": "code",
   "execution_count": 11,
   "id": "f7c7c09f-044d-4fb7-b76b-1199264154e4",
   "metadata": {
    "tags": []
   },
   "outputs": [
    {
     "data": {
      "text/plain": [
       "'You are tour guide for KoreaPlease tell me about famous place to visit in Korea'"
      ]
     },
     "execution_count": 11,
     "metadata": {},
     "output_type": "execute_result"
    }
   ],
   "source": [
    "from langchain_core.prompts import PromptTemplate\n",
    "\n",
    "role_prompt = PromptTemplate.from_template(\"You are tour guide for {country}\")\n",
    "question_prompt = PromptTemplate.from_template(\n",
    "    \"Please tell me about {interest} in {country}\"\n",
    ")\n",
    "\n",
    "full_prompt = role_prompt + question_prompt\n",
    "full_prompt.format(country=\"Korea\", interest=\"famous place to visit\")"
   ]
  },
  {
   "cell_type": "markdown",
   "id": "c3e584d4-d5b8-48aa-a170-23229fb0083d",
   "metadata": {},
   "source": [
    "# Pipeline prompt template"
   ]
  },
  {
   "cell_type": "code",
   "execution_count": 15,
   "id": "68b07c7e-6a44-41c9-9baa-8dfde209a6e2",
   "metadata": {
    "tags": []
   },
   "outputs": [
    {
     "name": "stdout",
     "output_type": "stream",
     "text": [
      "You are tour guide for Korea\n",
      "\n",
      "Please tell me about famous place to visit in Korea\n",
      "\n",
      "Please do not reply with anything other than information related to travel to Korea and reply “I cannot answer.”\n",
      "\n"
     ]
    }
   ],
   "source": [
    "from langchain_core.prompts import PipelinePromptTemplate\n",
    "from langchain_core.prompts import PromptTemplate\n",
    "\n",
    "full_template = \"\"\"{role}\n",
    "\n",
    "{question}\n",
    "\n",
    "Please do not reply with anything other than information related to travel to {country} and reply “I cannot answer.”\n",
    "\"\"\"\n",
    "\n",
    "full_prompt = PromptTemplate.from_template(full_template)\n",
    "role_prompt = PromptTemplate.from_template(\"You are tour guide for {country}\")\n",
    "question_prompt = PromptTemplate.from_template(\n",
    "    \"Please tell me about {interest} in {country}\"\n",
    ")\n",
    "\n",
    "# composition\n",
    "input_prompts = [(\"role\", role_prompt), (\"question\", question_prompt)]\n",
    "pipeline_prompt = PipelinePromptTemplate(\n",
    "    final_prompt=full_prompt, pipeline_prompts=input_prompts\n",
    ")\n",
    "\n",
    "prompt_text = pipeline_prompt.format(country=\"Korea\", interest=\"famous place to visit\")\n",
    "\n",
    "print(prompt_text)"
   ]
  },
  {
   "cell_type": "markdown",
   "id": "370f8fba-694c-4de7-89a3-669771d6eff6",
   "metadata": {},
   "source": [
    "# Prompt Serialization"
   ]
  },
  {
   "cell_type": "code",
   "execution_count": 14,
   "id": "0a3f6f5f-fb55-41bc-8356-7a352d125dd3",
   "metadata": {
    "tags": []
   },
   "outputs": [
    {
     "data": {
      "text/plain": [
       "{'lc': 1,\n",
       " 'type': 'constructor',\n",
       " 'id': ['langchain', 'prompts', 'pipeline', 'PipelinePromptTemplate'],\n",
       " 'kwargs': {'input_variables': ['country', 'interest'],\n",
       "  'final_prompt': PromptTemplate(input_variables=['country', 'question', 'role'], input_types={}, partial_variables={}, template='{role}\\n\\n{question}\\n\\nPlease do not reply with anything other than information related to travel to {country} and reply “I cannot answer.”\\n'),\n",
       "  'pipeline_prompts': [('role',\n",
       "    PromptTemplate(input_variables=['country'], input_types={}, partial_variables={}, template='You are tour guide for {country}')),\n",
       "   ('question',\n",
       "    PromptTemplate(input_variables=['country', 'interest'], input_types={}, partial_variables={}, template='Please tell me about {interest} in {country}'))]},\n",
       " 'name': 'PipelinePromptTemplate'}"
      ]
     },
     "execution_count": 14,
     "metadata": {},
     "output_type": "execute_result"
    }
   ],
   "source": [
    "pipeline_prompt.to_json()"
   ]
  },
  {
   "cell_type": "markdown",
   "id": "e8d049ec-d8a2-4e8d-b50a-167dc1345e69",
   "metadata": {},
   "source": [
    "# Partial prompt templates"
   ]
  },
  {
   "cell_type": "code",
   "execution_count": 16,
   "id": "720e89a7-8b52-47c1-84c9-335f07b2e4b4",
   "metadata": {
    "tags": []
   },
   "outputs": [
    {
     "name": "stdout",
     "output_type": "stream",
     "text": [
      "What is famous food in Seoul?\n"
     ]
    }
   ],
   "source": [
    "from langchain_core.prompts import PromptTemplate\n",
    "\n",
    "prompt = PromptTemplate(\n",
    "    template=\"What is famous {topic} in {city}?\", input_variables=[\"topic\", \"city\"]\n",
    ")\n",
    "partial_prompt = prompt.partial(city=\"Seoul\")\n",
    "print(partial_prompt.format(topic=\"food\"))"
   ]
  },
  {
   "cell_type": "code",
   "execution_count": 17,
   "id": "c6ade122-18cd-44b5-9704-28c601d4503e",
   "metadata": {
    "tags": []
   },
   "outputs": [
    {
     "name": "stdout",
     "output_type": "stream",
     "text": [
      "What is famous food in Seoul?\n"
     ]
    }
   ],
   "source": [
    "from langchain_core.prompts import PromptTemplate\n",
    "\n",
    "prompt = PromptTemplate(\n",
    "    template=\"What is famous {topic} in {city}?\",\n",
    "    input_variables=[\"topic\"],\n",
    "    partial_variables={\"city\": \"seoul\"},\n",
    ")\n",
    "partial_prompt = prompt.partial(city=\"Seoul\")\n",
    "print(partial_prompt.format(topic=\"food\"))"
   ]
  }
 ],
 "metadata": {
  "kernelspec": {
   "display_name": "Python 3 (ipykernel)",
   "language": "python",
   "name": "python3"
  },
  "language_info": {
   "codemirror_mode": {
    "name": "ipython",
    "version": 3
   },
   "file_extension": ".py",
   "mimetype": "text/x-python",
   "name": "python",
   "nbconvert_exporter": "python",
   "pygments_lexer": "ipython3",
   "version": "3.12.6"
  }
 },
 "nbformat": 4,
 "nbformat_minor": 5
}
