{
 "cells": [
  {
   "cell_type": "code",
   "execution_count": 11,
   "id": "86d6905a-961f-4772-b874-5fbea31642e3",
   "metadata": {
    "tags": []
   },
   "outputs": [
    {
     "name": "stdout",
     "output_type": "stream",
     "text": [
      "Tell me a famous place in seoul in 300 characters.\n",
      "\n",
      "\n",
      "Gyeongbokgung Palace, located in the heart of Seoul, is a famous historical site known for its beautiful traditional architecture and rich cultural heritage. Originally built in 1395, this palace served as the main residence of the Joseon Dynasty and is now a popular tourist attraction, offering visitors a glimpse into the royal life of ancient Korea. With its grand gates, ornate pavilions, and tranquil gardens, Gyeongbokgung Palace is a must-visit destination for anyone looking to experience the beauty and history of Seoul.\n",
      "\n",
      "\n",
      "Tell me a popular reastaurant in San francisco in 300 characters.\n",
      "\n",
      "\n",
      "One popular restaurant in San Francisco is The Slanted Door, known for its modern Vietnamese cuisine and stunning views of the Bay Bridge. Their signature dishes include shaking beef and crispy imperial rolls. Reservations are highly recommended.\n",
      "\n",
      "\n"
     ]
    }
   ],
   "source": [
    "# LLM Prompt Template sample\n",
    "\n",
    "from langchain import PromptTemplate\n",
    "from langchain.llms import OpenAI\n",
    "\n",
    "llm = OpenAI(openai_api_key=\"{YOUR_OPENAI_KEY}\")\n",
    "\n",
    "template = PromptTemplate.from_template(\n",
    "    \"Tell me a {adjective} {topic} in {city} in 300 characters.\"\n",
    ")\n",
    "prompt= template.format(adjective=\"famous\", topic=\"place\", city=\"seoul\")\n",
    "print(prompt)\n",
    "print(llm(prompt))\n",
    "print(\"\\n\")\n",
    "\n",
    "prompt = template.format(adjective=\"popular\", topic=\"reastaurant\", city=\"San francisco\")\n",
    "print(prompt)\n",
    "print(llm(prompt))\n",
    "print(\"\\n\")\n",
    "\n",
    "\n"
   ]
  },
  {
   "cell_type": "markdown",
   "id": "c5080dd5-4c67-499c-8dd2-ab436ada5a52",
   "metadata": {},
   "source": [
    "# Template Serialization"
   ]
  },
  {
   "cell_type": "code",
   "execution_count": 17,
   "id": "746227f8-c750-4db3-9900-7b40b632e55e",
   "metadata": {
    "tags": []
   },
   "outputs": [],
   "source": [
    "from langchain import PromptTemplate\n",
    "\n",
    "template = PromptTemplate.from_template(\n",
    "    \"Tell me a {adjective} {topic} in {city} in 300 characters.\"\n",
    ")\n",
    "template.save(\"template.json\")"
   ]
  },
  {
   "cell_type": "code",
   "execution_count": 13,
   "id": "17af71bf-5826-49a9-98f7-e984d7a01212",
   "metadata": {
    "tags": []
   },
   "outputs": [
    {
     "name": "stdout",
     "output_type": "stream",
     "text": [
      "{\n",
      "    \"name\": null,\n",
      "    \"input_variables\": [\n",
      "        \"adjective\",\n",
      "        \"city\",\n",
      "        \"topic\"\n",
      "    ],\n",
      "    \"input_types\": {},\n",
      "    \"output_parser\": null,\n",
      "    \"partial_variables\": {},\n",
      "    \"template\": \"Tell me a {adjective} {topic} in {city} in 300 characters.\",\n",
      "    \"template_format\": \"f-string\",\n",
      "    \"validate_template\": false,\n",
      "    \"_type\": \"prompt\"\n",
      "}"
     ]
    }
   ],
   "source": [
    "!cat template.json"
   ]
  },
  {
   "cell_type": "code",
   "execution_count": 16,
   "id": "462c8633-fc1a-4acc-b57e-4936c0f22042",
   "metadata": {
    "tags": []
   },
   "outputs": [
    {
     "name": "stdout",
     "output_type": "stream",
     "text": [
      "Tell me a popular cafe in San francisco in 300 characters.\n"
     ]
    }
   ],
   "source": [
    "from langchain.prompts import load_prompt\n",
    "\n",
    "loaded_template = load_prompt(\"template.json\")\n",
    "prompt = loaded_template.format(adjective=\"popular\", topic=\"cafe\", city=\"San francisco\")\n",
    "print(prompt)"
   ]
  },
  {
   "cell_type": "markdown",
   "id": "9065d69e-180a-48b9-ad93-7a49ecdfc8a2",
   "metadata": {},
   "source": [
    "# Chat Prompt"
   ]
  },
  {
   "cell_type": "code",
   "execution_count": 9,
   "id": "c67a91dd-7dce-426b-a918-42ab79579499",
   "metadata": {
    "tags": []
   },
   "outputs": [
    {
     "name": "stdout",
     "output_type": "stream",
     "text": [
      "Prompt : [SystemMessage(content='You are a tour guide.'), HumanMessage(content=\"I'm planning to visit Korea.\"), AIMessage(content=\"I'm tour guide for Korea.\"), HumanMessage(content='What is top5 best place to go there?')]\n",
      "------------------------------\n",
      "content='Korea offers a wide range of attractions, but if I were to recommend the top five must-visit places, they would be:\\n\\n1. Seoul: As the capital city of Korea, Seoul is a vibrant metropolis that seamlessly blends modernity with ancient traditions. Explore the historic palaces like Gyeongbokgung and Changdeokgung, shop at the bustling markets such as Myeongdong, and visit iconic landmarks like N Seoul Tower and Bukchon Hanok Village.\\n\\n2. Jeju Island: Located off the southern coast of Korea, Jeju Island is a paradise known for its stunning natural landscapes. From the breathtaking waterfalls of Cheonjiyeon and Jeongbang to the lava tube caves of Manjanggul and the unique volcanic crater at Seongsan Ilchulbong, Jeju offers ample opportunities for hiking, exploring, and relaxation.\\n\\n3. Gyeongju: Often referred to as the \"museum without walls,\" Gyeongju is a city steeped in history and home to numerous UNESCO World Heritage sites. Explore the ancient burial mounds at Tumuli Park, visit the beautiful temples like Bulguksa and Seokguram Grotto, and wander through the historic streets of the Gyeongju National Museum.\\n\\n4. Busan: Known for its stunning beaches, vibrant nightlife, and delicious seafood, Busan is a coastal city that should not be missed. Visit Haeundae Beach, explore the colorful Gamcheon Culture Village, shop at the bustling Gukje Market, and take a stroll along the scenic Taejongdae Park.\\n\\n5. Andong: For a taste of traditional Korea, head to Andong, a city known for its well-preserved cultural heritage. Visit Hahoe Village, a UNESCO World Heritage site, to experience traditional Korean houses and witness folk performances. Don\\'t miss the Andong Mask Dance Festival, where you can witness captivating mask dances and immerse yourself in the local culture.\\n\\nThese are just a few highlights, but Korea has so much more to offer. Whether you\\'re interested in history, nature, food, or K-pop, there\\'s something for everyone in this beautiful country.'\n"
     ]
    }
   ],
   "source": [
    "from langchain.chat_models import ChatOpenAI\n",
    "from langchain.prompts import ChatPromptTemplate\n",
    "\n",
    "chat = ChatOpenAI(openai_api_key=\"{YOUR_OPENAI_KEY}\")\n",
    "\n",
    "chat_template = ChatPromptTemplate.from_messages(\n",
    "    [\n",
    "        (\"system\",\"You are a tour guide.\"),\n",
    "        (\"human\",\"I'm planning to visit {Country}.\"),\n",
    "        (\"ai\",\"I'm tour guide for {Country}.\"),\n",
    "        (\"human\",\"{user_input}\")\n",
    "    ]\n",
    ")\n",
    "\n",
    "prompt = chat_template.format_messages(Country=\"Korea\",user_input=\"What is top5 best place to go there?\")\n",
    "\n",
    "print(\"Prompt :\",prompt)\n",
    "print(\"-\"*30)\n",
    "\n",
    "aiMessage=chat.invoke(prompt)\n",
    "print(aiMessage)"
   ]
  },
  {
   "cell_type": "markdown",
   "id": "cf092c91-558f-4f35-ab0c-251e4caaf55a",
   "metadata": {},
   "source": [
    "# Prompt Composition"
   ]
  },
  {
   "cell_type": "code",
   "execution_count": 23,
   "id": "f7c7c09f-044d-4fb7-b76b-1199264154e4",
   "metadata": {
    "tags": []
   },
   "outputs": [
    {
     "data": {
      "text/plain": [
       "'You are tour guide for KoreaPlease tell me about famous place to visit in Korea'"
      ]
     },
     "execution_count": 23,
     "metadata": {},
     "output_type": "execute_result"
    }
   ],
   "source": [
    "from langchain.prompts import PromptTemplate\n",
    "\n",
    "role_prompt = PromptTemplate.from_template(\"You are tour guide for {country}\")\n",
    "question_prompt = PromptTemplate.from_template(\"Please tell me about {interest} in {country}\")\n",
    "\n",
    "full_prompt=role_prompt + question_prompt\n",
    "full_prompt.format(country=\"Korea\",interest=\"famous place to visit\")"
   ]
  },
  {
   "cell_type": "markdown",
   "id": "c3e584d4-d5b8-48aa-a170-23229fb0083d",
   "metadata": {},
   "source": [
    "# Pipeline prompt template"
   ]
  },
  {
   "cell_type": "code",
   "execution_count": 21,
   "id": "68b07c7e-6a44-41c9-9baa-8dfde209a6e2",
   "metadata": {
    "tags": []
   },
   "outputs": [
    {
     "name": "stdout",
     "output_type": "stream",
     "text": [
      "You are tour guide for Korea\n",
      "\n",
      "Please tell me about famous place to visit in Korea\n",
      "\n",
      "Please do not reply with anything other than information related to travel to Korea and reply “I cannot answer.”\n",
      "\n"
     ]
    }
   ],
   "source": [
    "from langchain.prompts.pipeline import PipelinePromptTemplate\n",
    "from langchain.prompts import PromptTemplate\n",
    "\n",
    "full_template = \"\"\"{role}\n",
    "\n",
    "{question}\n",
    "\n",
    "Please do not reply with anything other than information related to travel to {country} and reply “I cannot answer.”\n",
    "\"\"\"\n",
    "\n",
    "full_prompt = PromptTemplate.from_template(full_template)\n",
    "role_prompt = PromptTemplate.from_template(\"You are tour guide for {country}\")\n",
    "question_prompt = PromptTemplate.from_template(\"Please tell me about {interest} in {country}\")\n",
    "\n",
    "# composition\n",
    "input_prompts = [\n",
    "    (\"role\",role_prompt),\n",
    "    (\"question\",question_prompt)\n",
    "]\n",
    "pipeline_prompt = PipelinePromptTemplate(final_prompt=full_prompt,pipeline_prompts=input_prompts)\n",
    "\n",
    "prompt_text = pipeline_prompt.format(\n",
    "    country=\"Korea\",\n",
    "    interest=\"famous place to visit\"\n",
    ")\n",
    "\n",
    "print(prompt_text)"
   ]
  },
  {
   "cell_type": "markdown",
   "id": "370f8fba-694c-4de7-89a3-669771d6eff6",
   "metadata": {},
   "source": [
    "# Prompt Serialization"
   ]
  },
  {
   "cell_type": "code",
   "execution_count": 8,
   "id": "0a3f6f5f-fb55-41bc-8356-7a352d125dd3",
   "metadata": {
    "tags": []
   },
   "outputs": [
    {
     "data": {
      "text/plain": [
       "{'lc': 1,\n",
       " 'type': 'constructor',\n",
       " 'id': ['langchain', 'prompts', 'pipeline', 'PipelinePromptTemplate'],\n",
       " 'kwargs': {'final_prompt': PromptTemplate(input_variables=['example', 'introduction', 'start'], output_parser=None, partial_variables={}, template='{introduction}\\n\\n{example}\\n\\n{start}', template_format='f-string', validate_template=True),\n",
       "  'pipeline_prompts': [('introduction',\n",
       "    PromptTemplate(input_variables=['person'], output_parser=None, partial_variables={}, template='You are impersonating {person}', template_format='f-string', validate_template=True)),\n",
       "   ('example',\n",
       "    PromptTemplate(input_variables=['example_a', 'example_q'], output_parser=None, partial_variables={}, template=\"Here's an example of interaction:\\nQ : {example_q}\\nA : {example_a}\", template_format='f-string', validate_template=True)),\n",
       "   ('start',\n",
       "    PromptTemplate(input_variables=['input'], output_parser=None, partial_variables={}, template='Now,do this for real!\\n\\nQ: {input}\\nA: ', template_format='f-string', validate_template=True))]}}"
      ]
     },
     "execution_count": 8,
     "metadata": {},
     "output_type": "execute_result"
    }
   ],
   "source": [
    "pipeline_prompt.to_json()"
   ]
  },
  {
   "cell_type": "markdown",
   "id": "e8d049ec-d8a2-4e8d-b50a-167dc1345e69",
   "metadata": {},
   "source": [
    "# Partial prompt templates"
   ]
  },
  {
   "cell_type": "code",
   "execution_count": 29,
   "id": "720e89a7-8b52-47c1-84c9-335f07b2e4b4",
   "metadata": {
    "tags": []
   },
   "outputs": [
    {
     "name": "stdout",
     "output_type": "stream",
     "text": [
      "What is famous food in Seoul?\n"
     ]
    }
   ],
   "source": [
    "from langchain.prompts import PromptTemplate\n",
    "\n",
    "prompt = PromptTemplate(template=\"What is famous {topic} in {city}?\",input_variables=[\"topic\",\"city\"])\n",
    "partial_prompt = prompt.partial(city=\"Seoul\")\n",
    "print(partial_prompt.format(topic=\"food\"))\n"
   ]
  },
  {
   "cell_type": "code",
   "execution_count": 1,
   "id": "c6ade122-18cd-44b5-9704-28c601d4503e",
   "metadata": {
    "tags": []
   },
   "outputs": [
    {
     "name": "stdout",
     "output_type": "stream",
     "text": [
      "What is famous food in Seoul?\n"
     ]
    }
   ],
   "source": [
    "from langchain.prompts import PromptTemplate\n",
    "\n",
    "prompt = PromptTemplate(template=\"What is famous {topic} in {city}?\",input_variables=[\"topic\"],partial_variables={\"city\":\"seoul\"})\n",
    "partial_prompt = prompt.partial(city=\"Seoul\")\n",
    "print(partial_prompt.format(topic=\"food\"))"
   ]
  },
  {
   "cell_type": "code",
   "execution_count": null,
   "id": "2903063b-378a-4141-9973-244fa80eed5a",
   "metadata": {},
   "outputs": [],
   "source": []
  }
 ],
 "metadata": {
  "kernelspec": {
   "display_name": "Python 3 (ipykernel)",
   "language": "python",
   "name": "python3"
  },
  "language_info": {
   "codemirror_mode": {
    "name": "ipython",
    "version": 3
   },
   "file_extension": ".py",
   "mimetype": "text/x-python",
   "name": "python",
   "nbconvert_exporter": "python",
   "pygments_lexer": "ipython3",
   "version": "3.11.4"
  }
 },
 "nbformat": 4,
 "nbformat_minor": 5
}
