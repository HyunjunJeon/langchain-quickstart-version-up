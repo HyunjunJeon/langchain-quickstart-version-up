{
 "cells": [
  {
   "cell_type": "code",
   "execution_count": 1,
   "id": "3f781335-75f0-4be0-8d5a-07e5936ba29e",
   "metadata": {
    "tags": []
   },
   "outputs": [
    {
     "name": "stdout",
     "output_type": "stream",
     "text": [
      "Collecting langchain\n",
      "  Downloading langchain-0.3.4-py3-none-any.whl.metadata (7.1 kB)\n",
      "Collecting PyYAML>=5.3 (from langchain)\n",
      "  Downloading PyYAML-6.0.2-cp312-cp312-macosx_11_0_arm64.whl.metadata (2.1 kB)\n",
      "Collecting SQLAlchemy<3,>=1.4 (from langchain)\n",
      "  Downloading SQLAlchemy-2.0.36-cp312-cp312-macosx_11_0_arm64.whl.metadata (9.7 kB)\n",
      "Collecting aiohttp<4.0.0,>=3.8.3 (from langchain)\n",
      "  Downloading aiohttp-3.10.10-cp312-cp312-macosx_11_0_arm64.whl.metadata (7.6 kB)\n",
      "Collecting langchain-core<0.4.0,>=0.3.12 (from langchain)\n",
      "  Downloading langchain_core-0.3.12-py3-none-any.whl.metadata (6.3 kB)\n",
      "Collecting langchain-text-splitters<0.4.0,>=0.3.0 (from langchain)\n",
      "  Downloading langchain_text_splitters-0.3.0-py3-none-any.whl.metadata (2.3 kB)\n",
      "Collecting langsmith<0.2.0,>=0.1.17 (from langchain)\n",
      "  Downloading langsmith-0.1.136-py3-none-any.whl.metadata (13 kB)\n",
      "Collecting numpy<2.0.0,>=1.26.0 (from langchain)\n",
      "  Downloading numpy-1.26.4-cp312-cp312-macosx_11_0_arm64.whl.metadata (61 kB)\n",
      "Collecting pydantic<3.0.0,>=2.7.4 (from langchain)\n",
      "  Downloading pydantic-2.9.2-py3-none-any.whl.metadata (149 kB)\n",
      "Collecting requests<3,>=2 (from langchain)\n",
      "  Using cached requests-2.32.3-py3-none-any.whl.metadata (4.6 kB)\n",
      "Collecting tenacity!=8.4.0,<10,>=8.1.0 (from langchain)\n",
      "  Using cached tenacity-9.0.0-py3-none-any.whl.metadata (1.2 kB)\n",
      "Collecting aiohappyeyeballs>=2.3.0 (from aiohttp<4.0.0,>=3.8.3->langchain)\n",
      "  Downloading aiohappyeyeballs-2.4.3-py3-none-any.whl.metadata (6.1 kB)\n",
      "Collecting aiosignal>=1.1.2 (from aiohttp<4.0.0,>=3.8.3->langchain)\n",
      "  Using cached aiosignal-1.3.1-py3-none-any.whl.metadata (4.0 kB)\n",
      "Collecting attrs>=17.3.0 (from aiohttp<4.0.0,>=3.8.3->langchain)\n",
      "  Downloading attrs-24.2.0-py3-none-any.whl.metadata (11 kB)\n",
      "Collecting frozenlist>=1.1.1 (from aiohttp<4.0.0,>=3.8.3->langchain)\n",
      "  Downloading frozenlist-1.4.1-cp312-cp312-macosx_11_0_arm64.whl.metadata (12 kB)\n",
      "Collecting multidict<7.0,>=4.5 (from aiohttp<4.0.0,>=3.8.3->langchain)\n",
      "  Downloading multidict-6.1.0-cp312-cp312-macosx_11_0_arm64.whl.metadata (5.0 kB)\n",
      "Collecting yarl<2.0,>=1.12.0 (from aiohttp<4.0.0,>=3.8.3->langchain)\n",
      "  Downloading yarl-1.16.0-cp312-cp312-macosx_11_0_arm64.whl.metadata (63 kB)\n",
      "Collecting jsonpatch<2.0,>=1.33 (from langchain-core<0.4.0,>=0.3.12->langchain)\n",
      "  Using cached jsonpatch-1.33-py2.py3-none-any.whl.metadata (3.0 kB)\n",
      "Requirement already satisfied: packaging<25,>=23.2 in /Users/jhj/.pyenv/versions/3.12.6/envs/langchain-quickstart-version-up/lib/python3.12/site-packages (from langchain-core<0.4.0,>=0.3.12->langchain) (24.1)\n",
      "Collecting typing-extensions>=4.7 (from langchain-core<0.4.0,>=0.3.12->langchain)\n",
      "  Using cached typing_extensions-4.12.2-py3-none-any.whl.metadata (3.0 kB)\n",
      "Collecting httpx<1,>=0.23.0 (from langsmith<0.2.0,>=0.1.17->langchain)\n",
      "  Downloading httpx-0.27.2-py3-none-any.whl.metadata (7.1 kB)\n",
      "Collecting orjson<4.0.0,>=3.9.14 (from langsmith<0.2.0,>=0.1.17->langchain)\n",
      "  Downloading orjson-3.10.9-cp312-cp312-macosx_10_15_x86_64.macosx_11_0_arm64.macosx_10_15_universal2.whl.metadata (50 kB)\n",
      "Collecting requests-toolbelt<2.0.0,>=1.0.0 (from langsmith<0.2.0,>=0.1.17->langchain)\n",
      "  Using cached requests_toolbelt-1.0.0-py2.py3-none-any.whl.metadata (14 kB)\n",
      "Collecting annotated-types>=0.6.0 (from pydantic<3.0.0,>=2.7.4->langchain)\n",
      "  Using cached annotated_types-0.7.0-py3-none-any.whl.metadata (15 kB)\n",
      "Collecting pydantic-core==2.23.4 (from pydantic<3.0.0,>=2.7.4->langchain)\n",
      "  Downloading pydantic_core-2.23.4-cp312-cp312-macosx_11_0_arm64.whl.metadata (6.6 kB)\n",
      "Collecting charset-normalizer<4,>=2 (from requests<3,>=2->langchain)\n",
      "  Downloading charset_normalizer-3.4.0-cp312-cp312-macosx_11_0_arm64.whl.metadata (34 kB)\n",
      "Collecting idna<4,>=2.5 (from requests<3,>=2->langchain)\n",
      "  Downloading idna-3.10-py3-none-any.whl.metadata (10 kB)\n",
      "Collecting urllib3<3,>=1.21.1 (from requests<3,>=2->langchain)\n",
      "  Downloading urllib3-2.2.3-py3-none-any.whl.metadata (6.5 kB)\n",
      "Collecting certifi>=2017.4.17 (from requests<3,>=2->langchain)\n",
      "  Using cached certifi-2024.8.30-py3-none-any.whl.metadata (2.2 kB)\n",
      "Collecting anyio (from httpx<1,>=0.23.0->langsmith<0.2.0,>=0.1.17->langchain)\n",
      "  Downloading anyio-4.6.2.post1-py3-none-any.whl.metadata (4.7 kB)\n",
      "Collecting httpcore==1.* (from httpx<1,>=0.23.0->langsmith<0.2.0,>=0.1.17->langchain)\n",
      "  Downloading httpcore-1.0.6-py3-none-any.whl.metadata (21 kB)\n",
      "Collecting sniffio (from httpx<1,>=0.23.0->langsmith<0.2.0,>=0.1.17->langchain)\n",
      "  Using cached sniffio-1.3.1-py3-none-any.whl.metadata (3.9 kB)\n",
      "Collecting h11<0.15,>=0.13 (from httpcore==1.*->httpx<1,>=0.23.0->langsmith<0.2.0,>=0.1.17->langchain)\n",
      "  Using cached h11-0.14.0-py3-none-any.whl.metadata (8.2 kB)\n",
      "Collecting jsonpointer>=1.9 (from jsonpatch<2.0,>=1.33->langchain-core<0.4.0,>=0.3.12->langchain)\n",
      "  Using cached jsonpointer-3.0.0-py2.py3-none-any.whl.metadata (2.3 kB)\n",
      "Collecting propcache>=0.2.0 (from yarl<2.0,>=1.12.0->aiohttp<4.0.0,>=3.8.3->langchain)\n",
      "  Downloading propcache-0.2.0-cp312-cp312-macosx_11_0_arm64.whl.metadata (7.7 kB)\n",
      "Downloading langchain-0.3.4-py3-none-any.whl (1.0 MB)\n",
      "\u001b[2K   \u001b[90m━━━━━━━━━━━━━━━━━━━━━━━━━━━━━━━━━━━━━━━━\u001b[0m \u001b[32m1.0/1.0 MB\u001b[0m \u001b[31m15.8 MB/s\u001b[0m eta \u001b[36m0:00:00\u001b[0m\n",
      "\u001b[?25hDownloading aiohttp-3.10.10-cp312-cp312-macosx_11_0_arm64.whl (390 kB)\n",
      "Downloading langchain_core-0.3.12-py3-none-any.whl (407 kB)\n",
      "Downloading langchain_text_splitters-0.3.0-py3-none-any.whl (25 kB)\n",
      "Downloading langsmith-0.1.136-py3-none-any.whl (296 kB)\n",
      "Downloading numpy-1.26.4-cp312-cp312-macosx_11_0_arm64.whl (13.7 MB)\n",
      "\u001b[2K   \u001b[90m━━━━━━━━━━━━━━━━━━━━━━━━━━━━━━━━━━━━━━━━\u001b[0m \u001b[32m13.7/13.7 MB\u001b[0m \u001b[31m77.1 MB/s\u001b[0m eta \u001b[36m0:00:00\u001b[0m\n",
      "\u001b[?25hDownloading pydantic-2.9.2-py3-none-any.whl (434 kB)\n",
      "Downloading pydantic_core-2.23.4-cp312-cp312-macosx_11_0_arm64.whl (1.8 MB)\n",
      "\u001b[2K   \u001b[90m━━━━━━━━━━━━━━━━━━━━━━━━━━━━━━━━━━━━━━━━\u001b[0m \u001b[32m1.8/1.8 MB\u001b[0m \u001b[31m62.4 MB/s\u001b[0m eta \u001b[36m0:00:00\u001b[0m\n",
      "\u001b[?25hDownloading PyYAML-6.0.2-cp312-cp312-macosx_11_0_arm64.whl (173 kB)\n",
      "Using cached requests-2.32.3-py3-none-any.whl (64 kB)\n",
      "Downloading SQLAlchemy-2.0.36-cp312-cp312-macosx_11_0_arm64.whl (2.1 MB)\n",
      "\u001b[2K   \u001b[90m━━━━━━━━━━━━━━━━━━━━━━━━━━━━━━━━━━━━━━━━\u001b[0m \u001b[32m2.1/2.1 MB\u001b[0m \u001b[31m16.4 MB/s\u001b[0m eta \u001b[36m0:00:00\u001b[0m\n",
      "\u001b[?25hUsing cached tenacity-9.0.0-py3-none-any.whl (28 kB)\n",
      "Downloading aiohappyeyeballs-2.4.3-py3-none-any.whl (14 kB)\n",
      "Using cached aiosignal-1.3.1-py3-none-any.whl (7.6 kB)\n",
      "Using cached annotated_types-0.7.0-py3-none-any.whl (13 kB)\n",
      "Downloading attrs-24.2.0-py3-none-any.whl (63 kB)\n",
      "Using cached certifi-2024.8.30-py3-none-any.whl (167 kB)\n",
      "Downloading charset_normalizer-3.4.0-cp312-cp312-macosx_11_0_arm64.whl (119 kB)\n",
      "Downloading frozenlist-1.4.1-cp312-cp312-macosx_11_0_arm64.whl (51 kB)\n",
      "Downloading httpx-0.27.2-py3-none-any.whl (76 kB)\n",
      "Downloading httpcore-1.0.6-py3-none-any.whl (78 kB)\n",
      "Downloading idna-3.10-py3-none-any.whl (70 kB)\n",
      "Using cached jsonpatch-1.33-py2.py3-none-any.whl (12 kB)\n",
      "Downloading multidict-6.1.0-cp312-cp312-macosx_11_0_arm64.whl (29 kB)\n",
      "Downloading orjson-3.10.9-cp312-cp312-macosx_10_15_x86_64.macosx_11_0_arm64.macosx_10_15_universal2.whl (270 kB)\n",
      "Using cached requests_toolbelt-1.0.0-py2.py3-none-any.whl (54 kB)\n",
      "Using cached typing_extensions-4.12.2-py3-none-any.whl (37 kB)\n",
      "Downloading urllib3-2.2.3-py3-none-any.whl (126 kB)\n",
      "Downloading yarl-1.16.0-cp312-cp312-macosx_11_0_arm64.whl (91 kB)\n",
      "Using cached jsonpointer-3.0.0-py2.py3-none-any.whl (7.6 kB)\n",
      "Downloading propcache-0.2.0-cp312-cp312-macosx_11_0_arm64.whl (45 kB)\n",
      "Downloading anyio-4.6.2.post1-py3-none-any.whl (90 kB)\n",
      "Using cached sniffio-1.3.1-py3-none-any.whl (10 kB)\n",
      "Using cached h11-0.14.0-py3-none-any.whl (58 kB)\n",
      "Installing collected packages: urllib3, typing-extensions, tenacity, sniffio, PyYAML, propcache, orjson, numpy, multidict, jsonpointer, idna, h11, frozenlist, charset-normalizer, certifi, attrs, annotated-types, aiohappyeyeballs, yarl, SQLAlchemy, requests, pydantic-core, jsonpatch, httpcore, anyio, aiosignal, requests-toolbelt, pydantic, httpx, aiohttp, langsmith, langchain-core, langchain-text-splitters, langchain\n",
      "Successfully installed PyYAML-6.0.2 SQLAlchemy-2.0.36 aiohappyeyeballs-2.4.3 aiohttp-3.10.10 aiosignal-1.3.1 annotated-types-0.7.0 anyio-4.6.2.post1 attrs-24.2.0 certifi-2024.8.30 charset-normalizer-3.4.0 frozenlist-1.4.1 h11-0.14.0 httpcore-1.0.6 httpx-0.27.2 idna-3.10 jsonpatch-1.33 jsonpointer-3.0.0 langchain-0.3.4 langchain-core-0.3.12 langchain-text-splitters-0.3.0 langsmith-0.1.136 multidict-6.1.0 numpy-1.26.4 orjson-3.10.9 propcache-0.2.0 pydantic-2.9.2 pydantic-core-2.23.4 requests-2.32.3 requests-toolbelt-1.0.0 sniffio-1.3.1 tenacity-9.0.0 typing-extensions-4.12.2 urllib3-2.2.3 yarl-1.16.0\n",
      "Python 3.12.6\n"
     ]
    }
   ],
   "source": [
    "!pip install langchain==0.3.4  # Base: 2024-10-22\n",
    "!python -V"
   ]
  },
  {
   "cell_type": "code",
   "execution_count": 2,
   "id": "3866c7ee",
   "metadata": {},
   "outputs": [
    {
     "name": "stdout",
     "output_type": "stream",
     "text": [
      "Collecting langchain-openai\n",
      "  Downloading langchain_openai-0.2.3-py3-none-any.whl.metadata (2.6 kB)\n",
      "Requirement already satisfied: langchain-core<0.4.0,>=0.3.12 in /Users/jhj/.pyenv/versions/3.12.6/envs/langchain-quickstart-version-up/lib/python3.12/site-packages (from langchain-openai) (0.3.12)\n",
      "Collecting openai<2.0.0,>=1.52.0 (from langchain-openai)\n",
      "  Downloading openai-1.52.0-py3-none-any.whl.metadata (24 kB)\n",
      "Collecting tiktoken<1,>=0.7 (from langchain-openai)\n",
      "  Downloading tiktoken-0.8.0-cp312-cp312-macosx_11_0_arm64.whl.metadata (6.6 kB)\n",
      "Requirement already satisfied: PyYAML>=5.3 in /Users/jhj/.pyenv/versions/3.12.6/envs/langchain-quickstart-version-up/lib/python3.12/site-packages (from langchain-core<0.4.0,>=0.3.12->langchain-openai) (6.0.2)\n",
      "Requirement already satisfied: jsonpatch<2.0,>=1.33 in /Users/jhj/.pyenv/versions/3.12.6/envs/langchain-quickstart-version-up/lib/python3.12/site-packages (from langchain-core<0.4.0,>=0.3.12->langchain-openai) (1.33)\n",
      "Requirement already satisfied: langsmith<0.2.0,>=0.1.125 in /Users/jhj/.pyenv/versions/3.12.6/envs/langchain-quickstart-version-up/lib/python3.12/site-packages (from langchain-core<0.4.0,>=0.3.12->langchain-openai) (0.1.136)\n",
      "Requirement already satisfied: packaging<25,>=23.2 in /Users/jhj/.pyenv/versions/3.12.6/envs/langchain-quickstart-version-up/lib/python3.12/site-packages (from langchain-core<0.4.0,>=0.3.12->langchain-openai) (24.1)\n",
      "Requirement already satisfied: pydantic<3.0.0,>=2.7.4 in /Users/jhj/.pyenv/versions/3.12.6/envs/langchain-quickstart-version-up/lib/python3.12/site-packages (from langchain-core<0.4.0,>=0.3.12->langchain-openai) (2.9.2)\n",
      "Requirement already satisfied: tenacity!=8.4.0,<10.0.0,>=8.1.0 in /Users/jhj/.pyenv/versions/3.12.6/envs/langchain-quickstart-version-up/lib/python3.12/site-packages (from langchain-core<0.4.0,>=0.3.12->langchain-openai) (9.0.0)\n",
      "Requirement already satisfied: typing-extensions>=4.7 in /Users/jhj/.pyenv/versions/3.12.6/envs/langchain-quickstart-version-up/lib/python3.12/site-packages (from langchain-core<0.4.0,>=0.3.12->langchain-openai) (4.12.2)\n",
      "Requirement already satisfied: anyio<5,>=3.5.0 in /Users/jhj/.pyenv/versions/3.12.6/envs/langchain-quickstart-version-up/lib/python3.12/site-packages (from openai<2.0.0,>=1.52.0->langchain-openai) (4.6.2.post1)\n",
      "Collecting distro<2,>=1.7.0 (from openai<2.0.0,>=1.52.0->langchain-openai)\n",
      "  Using cached distro-1.9.0-py3-none-any.whl.metadata (6.8 kB)\n",
      "Requirement already satisfied: httpx<1,>=0.23.0 in /Users/jhj/.pyenv/versions/3.12.6/envs/langchain-quickstart-version-up/lib/python3.12/site-packages (from openai<2.0.0,>=1.52.0->langchain-openai) (0.27.2)\n",
      "Collecting jiter<1,>=0.4.0 (from openai<2.0.0,>=1.52.0->langchain-openai)\n",
      "  Downloading jiter-0.6.1-cp312-cp312-macosx_11_0_arm64.whl.metadata (5.2 kB)\n",
      "Requirement already satisfied: sniffio in /Users/jhj/.pyenv/versions/3.12.6/envs/langchain-quickstart-version-up/lib/python3.12/site-packages (from openai<2.0.0,>=1.52.0->langchain-openai) (1.3.1)\n",
      "Collecting tqdm>4 (from openai<2.0.0,>=1.52.0->langchain-openai)\n",
      "  Downloading tqdm-4.66.5-py3-none-any.whl.metadata (57 kB)\n",
      "Collecting regex>=2022.1.18 (from tiktoken<1,>=0.7->langchain-openai)\n",
      "  Downloading regex-2024.9.11-cp312-cp312-macosx_11_0_arm64.whl.metadata (40 kB)\n",
      "Requirement already satisfied: requests>=2.26.0 in /Users/jhj/.pyenv/versions/3.12.6/envs/langchain-quickstart-version-up/lib/python3.12/site-packages (from tiktoken<1,>=0.7->langchain-openai) (2.32.3)\n",
      "Requirement already satisfied: idna>=2.8 in /Users/jhj/.pyenv/versions/3.12.6/envs/langchain-quickstart-version-up/lib/python3.12/site-packages (from anyio<5,>=3.5.0->openai<2.0.0,>=1.52.0->langchain-openai) (3.10)\n",
      "Requirement already satisfied: certifi in /Users/jhj/.pyenv/versions/3.12.6/envs/langchain-quickstart-version-up/lib/python3.12/site-packages (from httpx<1,>=0.23.0->openai<2.0.0,>=1.52.0->langchain-openai) (2024.8.30)\n",
      "Requirement already satisfied: httpcore==1.* in /Users/jhj/.pyenv/versions/3.12.6/envs/langchain-quickstart-version-up/lib/python3.12/site-packages (from httpx<1,>=0.23.0->openai<2.0.0,>=1.52.0->langchain-openai) (1.0.6)\n",
      "Requirement already satisfied: h11<0.15,>=0.13 in /Users/jhj/.pyenv/versions/3.12.6/envs/langchain-quickstart-version-up/lib/python3.12/site-packages (from httpcore==1.*->httpx<1,>=0.23.0->openai<2.0.0,>=1.52.0->langchain-openai) (0.14.0)\n",
      "Requirement already satisfied: jsonpointer>=1.9 in /Users/jhj/.pyenv/versions/3.12.6/envs/langchain-quickstart-version-up/lib/python3.12/site-packages (from jsonpatch<2.0,>=1.33->langchain-core<0.4.0,>=0.3.12->langchain-openai) (3.0.0)\n",
      "Requirement already satisfied: orjson<4.0.0,>=3.9.14 in /Users/jhj/.pyenv/versions/3.12.6/envs/langchain-quickstart-version-up/lib/python3.12/site-packages (from langsmith<0.2.0,>=0.1.125->langchain-core<0.4.0,>=0.3.12->langchain-openai) (3.10.9)\n",
      "Requirement already satisfied: requests-toolbelt<2.0.0,>=1.0.0 in /Users/jhj/.pyenv/versions/3.12.6/envs/langchain-quickstart-version-up/lib/python3.12/site-packages (from langsmith<0.2.0,>=0.1.125->langchain-core<0.4.0,>=0.3.12->langchain-openai) (1.0.0)\n",
      "Requirement already satisfied: annotated-types>=0.6.0 in /Users/jhj/.pyenv/versions/3.12.6/envs/langchain-quickstart-version-up/lib/python3.12/site-packages (from pydantic<3.0.0,>=2.7.4->langchain-core<0.4.0,>=0.3.12->langchain-openai) (0.7.0)\n",
      "Requirement already satisfied: pydantic-core==2.23.4 in /Users/jhj/.pyenv/versions/3.12.6/envs/langchain-quickstart-version-up/lib/python3.12/site-packages (from pydantic<3.0.0,>=2.7.4->langchain-core<0.4.0,>=0.3.12->langchain-openai) (2.23.4)\n",
      "Requirement already satisfied: charset-normalizer<4,>=2 in /Users/jhj/.pyenv/versions/3.12.6/envs/langchain-quickstart-version-up/lib/python3.12/site-packages (from requests>=2.26.0->tiktoken<1,>=0.7->langchain-openai) (3.4.0)\n",
      "Requirement already satisfied: urllib3<3,>=1.21.1 in /Users/jhj/.pyenv/versions/3.12.6/envs/langchain-quickstart-version-up/lib/python3.12/site-packages (from requests>=2.26.0->tiktoken<1,>=0.7->langchain-openai) (2.2.3)\n",
      "Downloading langchain_openai-0.2.3-py3-none-any.whl (49 kB)\n",
      "Downloading openai-1.52.0-py3-none-any.whl (386 kB)\n",
      "Downloading tiktoken-0.8.0-cp312-cp312-macosx_11_0_arm64.whl (982 kB)\n",
      "\u001b[2K   \u001b[90m━━━━━━━━━━━━━━━━━━━━━━━━━━━━━━━━━━━━━━━━\u001b[0m \u001b[32m982.6/982.6 kB\u001b[0m \u001b[31m38.1 MB/s\u001b[0m eta \u001b[36m0:00:00\u001b[0m\n",
      "\u001b[?25hUsing cached distro-1.9.0-py3-none-any.whl (20 kB)\n",
      "Downloading jiter-0.6.1-cp312-cp312-macosx_11_0_arm64.whl (300 kB)\n",
      "Downloading regex-2024.9.11-cp312-cp312-macosx_11_0_arm64.whl (284 kB)\n",
      "Downloading tqdm-4.66.5-py3-none-any.whl (78 kB)\n",
      "Installing collected packages: tqdm, regex, jiter, distro, tiktoken, openai, langchain-openai\n",
      "Successfully installed distro-1.9.0 jiter-0.6.1 langchain-openai-0.2.3 openai-1.52.0 regex-2024.9.11 tiktoken-0.8.0 tqdm-4.66.5\n"
     ]
    }
   ],
   "source": [
    "!pip install langchain_openai==0.2.3"
   ]
  },
  {
   "cell_type": "code",
   "execution_count": 7,
   "id": "ec3c3133-b11c-4316-9307-69cbdb60a3d6",
   "metadata": {
    "tags": []
   },
   "outputs": [
    {
     "data": {
      "text/plain": [
       "AIMessage(content='Here are five popular Korean restaurants in the Bay Area known for their delicious dishes and positive reviews:\\n\\n1. **Sunnyside Korean BBQ** (San Francisco) - Known for its all-you-can-eat options and a wide variety of marinated meats and traditional sides.\\n\\n2. **Kang Ho Dong Baekjeong** (San Francisco) - Famous for its high-quality meats, great service, and vibrant atmosphere. It’s a favorite among BBQ enthusiasts.\\n\\n3. **Hanjip** (Los Angeles) - While technically in Los Angeles, it’s often mentioned in Bay Area discussions for its modern take on traditional Korean BBQ and innovative dishes.\\n\\n4. **Tofu House** (South San Francisco) - A well-loved spot specializing in Korean comfort food like soft tofu stews (sundubu jjigae), bibimbap, and bulgogi.\\n\\n5. **Chong Qing** (Santa Clara) - Though it leans towards Sichuan cuisine, it offers a unique blend of flavors and includes some Korean BBQ options that are quite popular.\\n\\nMake sure to check their current status, hours, and offerings, as things may change. Enjoy your dining experience!', additional_kwargs={'refusal': None}, response_metadata={'token_usage': {'completion_tokens': 237, 'prompt_tokens': 20, 'total_tokens': 257, 'completion_tokens_details': {'audio_tokens': None, 'reasoning_tokens': 0}, 'prompt_tokens_details': {'audio_tokens': None, 'cached_tokens': 0}}, 'model_name': 'gpt-4o-mini-2024-07-18', 'system_fingerprint': 'fp_482c22a7bc', 'finish_reason': 'stop', 'logprobs': None}, id='run-7ba60690-2cb5-4063-a63c-6ffb14beb2ba-0', usage_metadata={'input_tokens': 20, 'output_tokens': 237, 'total_tokens': 257, 'input_token_details': {'cache_read': 0}, 'output_token_details': {'reasoning': 0}})"
      ]
     },
     "execution_count": 7,
     "metadata": {},
     "output_type": "execute_result"
    }
   ],
   "source": [
    "# LLM Prompt Template sample\n",
    "from langchain_openai import ChatOpenAI\n",
    "\n",
    "# OpenAI ChatGPT LLM Inistialization part\n",
    "# Changed: OpenAI -> ChatOpenAI (The /v1/completion endpoint has been deprecated.)\n",
    "llm = ChatOpenAI(\n",
    "    api_key=\"{YOUR-OPENAI-API-KEY}\",\n",
    "    model_name=\"gpt-4o-mini\",\n",
    "    temperature=0.8,\n",
    ")\n",
    "question = \"What is top 5 Korean reastaurant in BayArea?\"\n",
    "answer = llm.invoke(question)\n",
    "answer"
   ]
  },
  {
   "cell_type": "code",
   "execution_count": 8,
   "id": "8cf33853-8282-4b5d-9b66-9e6775a0abbc",
   "metadata": {
    "tags": []
   },
   "outputs": [
    {
     "data": {
      "text/plain": [
       "ChatOpenAI(client=<openai.resources.chat.completions.Completions object at 0x117f3a090>, async_client=<openai.resources.chat.completions.AsyncCompletions object at 0x117f3b890>, root_client=<openai.OpenAI object at 0x1164ebe60>, root_async_client=<openai.AsyncOpenAI object at 0x117f3a0c0>, model_name='gpt-4o-mini', temperature=0.8, model_kwargs={}, openai_api_key=SecretStr('**********'))"
      ]
     },
     "execution_count": 8,
     "metadata": {},
     "output_type": "execute_result"
    }
   ],
   "source": [
    "llm"
   ]
  },
  {
   "cell_type": "code",
   "execution_count": 9,
   "id": "5b9df8a6-d5ee-4414-87c6-174b2a5cdc6a",
   "metadata": {
    "tags": []
   },
   "outputs": [
    {
     "name": "stdout",
     "output_type": "stream",
     "text": [
      "Collecting langchain-google-vertexai\n",
      "  Downloading langchain_google_vertexai-2.0.5-py3-none-any.whl.metadata (3.8 kB)\n",
      "Collecting google-cloud-aiplatform<2.0.0,>=1.69.0 (from langchain-google-vertexai)\n",
      "  Downloading google_cloud_aiplatform-1.70.0-py2.py3-none-any.whl.metadata (32 kB)\n",
      "Collecting google-cloud-storage<3.0.0,>=2.18.0 (from langchain-google-vertexai)\n",
      "  Downloading google_cloud_storage-2.18.2-py2.py3-none-any.whl.metadata (9.1 kB)\n",
      "Requirement already satisfied: httpx<0.28.0,>=0.27.0 in /Users/jhj/.pyenv/versions/3.12.6/envs/langchain-quickstart-version-up/lib/python3.12/site-packages (from langchain-google-vertexai) (0.27.2)\n",
      "Collecting httpx-sse<0.5.0,>=0.4.0 (from langchain-google-vertexai)\n",
      "  Using cached httpx_sse-0.4.0-py3-none-any.whl.metadata (9.0 kB)\n",
      "Requirement already satisfied: langchain-core<0.4,>=0.3.0 in /Users/jhj/.pyenv/versions/3.12.6/envs/langchain-quickstart-version-up/lib/python3.12/site-packages (from langchain-google-vertexai) (0.3.12)\n",
      "Requirement already satisfied: pydantic<3,>=2 in /Users/jhj/.pyenv/versions/3.12.6/envs/langchain-quickstart-version-up/lib/python3.12/site-packages (from langchain-google-vertexai) (2.9.2)\n",
      "Collecting google-api-core!=2.0.*,!=2.1.*,!=2.2.*,!=2.3.*,!=2.4.*,!=2.5.*,!=2.6.*,!=2.7.*,<3.0.0dev,>=1.34.1 (from google-api-core[grpc]!=2.0.*,!=2.1.*,!=2.2.*,!=2.3.*,!=2.4.*,!=2.5.*,!=2.6.*,!=2.7.*,<3.0.0dev,>=1.34.1->google-cloud-aiplatform<2.0.0,>=1.69.0->langchain-google-vertexai)\n",
      "  Downloading google_api_core-2.21.0-py3-none-any.whl.metadata (2.8 kB)\n",
      "Collecting google-auth<3.0.0dev,>=2.14.1 (from google-cloud-aiplatform<2.0.0,>=1.69.0->langchain-google-vertexai)\n",
      "  Downloading google_auth-2.35.0-py2.py3-none-any.whl.metadata (4.7 kB)\n",
      "Collecting proto-plus<2.0.0dev,>=1.22.3 (from google-cloud-aiplatform<2.0.0,>=1.69.0->langchain-google-vertexai)\n",
      "  Using cached proto_plus-1.24.0-py3-none-any.whl.metadata (2.2 kB)\n",
      "Collecting protobuf!=4.21.0,!=4.21.1,!=4.21.2,!=4.21.3,!=4.21.4,!=4.21.5,<6.0.0dev,>=3.20.2 (from google-cloud-aiplatform<2.0.0,>=1.69.0->langchain-google-vertexai)\n",
      "  Downloading protobuf-5.28.2-cp38-abi3-macosx_10_9_universal2.whl.metadata (592 bytes)\n",
      "Requirement already satisfied: packaging>=14.3 in /Users/jhj/.pyenv/versions/3.12.6/envs/langchain-quickstart-version-up/lib/python3.12/site-packages (from google-cloud-aiplatform<2.0.0,>=1.69.0->langchain-google-vertexai) (24.1)\n",
      "Collecting google-cloud-bigquery!=3.20.0,<4.0.0dev,>=1.15.0 (from google-cloud-aiplatform<2.0.0,>=1.69.0->langchain-google-vertexai)\n",
      "  Downloading google_cloud_bigquery-3.26.0-py2.py3-none-any.whl.metadata (8.7 kB)\n",
      "Collecting google-cloud-resource-manager<3.0.0dev,>=1.3.3 (from google-cloud-aiplatform<2.0.0,>=1.69.0->langchain-google-vertexai)\n",
      "  Downloading google_cloud_resource_manager-1.12.5-py2.py3-none-any.whl.metadata (5.3 kB)\n",
      "Collecting shapely<3.0.0dev (from google-cloud-aiplatform<2.0.0,>=1.69.0->langchain-google-vertexai)\n",
      "  Downloading shapely-2.0.6-cp312-cp312-macosx_11_0_arm64.whl.metadata (7.0 kB)\n",
      "Collecting docstring-parser<1 (from google-cloud-aiplatform<2.0.0,>=1.69.0->langchain-google-vertexai)\n",
      "  Downloading docstring_parser-0.16-py3-none-any.whl.metadata (3.0 kB)\n",
      "Collecting google-cloud-core<3.0dev,>=2.3.0 (from google-cloud-storage<3.0.0,>=2.18.0->langchain-google-vertexai)\n",
      "  Downloading google_cloud_core-2.4.1-py2.py3-none-any.whl.metadata (2.7 kB)\n",
      "Collecting google-resumable-media>=2.7.2 (from google-cloud-storage<3.0.0,>=2.18.0->langchain-google-vertexai)\n",
      "  Downloading google_resumable_media-2.7.2-py2.py3-none-any.whl.metadata (2.2 kB)\n",
      "Requirement already satisfied: requests<3.0.0dev,>=2.18.0 in /Users/jhj/.pyenv/versions/3.12.6/envs/langchain-quickstart-version-up/lib/python3.12/site-packages (from google-cloud-storage<3.0.0,>=2.18.0->langchain-google-vertexai) (2.32.3)\n",
      "Collecting google-crc32c<2.0dev,>=1.0 (from google-cloud-storage<3.0.0,>=2.18.0->langchain-google-vertexai)\n",
      "  Downloading google_crc32c-1.6.0-cp312-cp312-macosx_12_0_arm64.whl.metadata (2.3 kB)\n",
      "Requirement already satisfied: anyio in /Users/jhj/.pyenv/versions/3.12.6/envs/langchain-quickstart-version-up/lib/python3.12/site-packages (from httpx<0.28.0,>=0.27.0->langchain-google-vertexai) (4.6.2.post1)\n",
      "Requirement already satisfied: certifi in /Users/jhj/.pyenv/versions/3.12.6/envs/langchain-quickstart-version-up/lib/python3.12/site-packages (from httpx<0.28.0,>=0.27.0->langchain-google-vertexai) (2024.8.30)\n",
      "Requirement already satisfied: httpcore==1.* in /Users/jhj/.pyenv/versions/3.12.6/envs/langchain-quickstart-version-up/lib/python3.12/site-packages (from httpx<0.28.0,>=0.27.0->langchain-google-vertexai) (1.0.6)\n",
      "Requirement already satisfied: idna in /Users/jhj/.pyenv/versions/3.12.6/envs/langchain-quickstart-version-up/lib/python3.12/site-packages (from httpx<0.28.0,>=0.27.0->langchain-google-vertexai) (3.10)\n",
      "Requirement already satisfied: sniffio in /Users/jhj/.pyenv/versions/3.12.6/envs/langchain-quickstart-version-up/lib/python3.12/site-packages (from httpx<0.28.0,>=0.27.0->langchain-google-vertexai) (1.3.1)\n",
      "Requirement already satisfied: h11<0.15,>=0.13 in /Users/jhj/.pyenv/versions/3.12.6/envs/langchain-quickstart-version-up/lib/python3.12/site-packages (from httpcore==1.*->httpx<0.28.0,>=0.27.0->langchain-google-vertexai) (0.14.0)\n",
      "Requirement already satisfied: PyYAML>=5.3 in /Users/jhj/.pyenv/versions/3.12.6/envs/langchain-quickstart-version-up/lib/python3.12/site-packages (from langchain-core<0.4,>=0.3.0->langchain-google-vertexai) (6.0.2)\n",
      "Requirement already satisfied: jsonpatch<2.0,>=1.33 in /Users/jhj/.pyenv/versions/3.12.6/envs/langchain-quickstart-version-up/lib/python3.12/site-packages (from langchain-core<0.4,>=0.3.0->langchain-google-vertexai) (1.33)\n",
      "Requirement already satisfied: langsmith<0.2.0,>=0.1.125 in /Users/jhj/.pyenv/versions/3.12.6/envs/langchain-quickstart-version-up/lib/python3.12/site-packages (from langchain-core<0.4,>=0.3.0->langchain-google-vertexai) (0.1.136)\n",
      "Requirement already satisfied: tenacity!=8.4.0,<10.0.0,>=8.1.0 in /Users/jhj/.pyenv/versions/3.12.6/envs/langchain-quickstart-version-up/lib/python3.12/site-packages (from langchain-core<0.4,>=0.3.0->langchain-google-vertexai) (9.0.0)\n",
      "Requirement already satisfied: typing-extensions>=4.7 in /Users/jhj/.pyenv/versions/3.12.6/envs/langchain-quickstart-version-up/lib/python3.12/site-packages (from langchain-core<0.4,>=0.3.0->langchain-google-vertexai) (4.12.2)\n",
      "Requirement already satisfied: annotated-types>=0.6.0 in /Users/jhj/.pyenv/versions/3.12.6/envs/langchain-quickstart-version-up/lib/python3.12/site-packages (from pydantic<3,>=2->langchain-google-vertexai) (0.7.0)\n",
      "Requirement already satisfied: pydantic-core==2.23.4 in /Users/jhj/.pyenv/versions/3.12.6/envs/langchain-quickstart-version-up/lib/python3.12/site-packages (from pydantic<3,>=2->langchain-google-vertexai) (2.23.4)\n",
      "Collecting googleapis-common-protos<2.0.dev0,>=1.56.2 (from google-api-core!=2.0.*,!=2.1.*,!=2.2.*,!=2.3.*,!=2.4.*,!=2.5.*,!=2.6.*,!=2.7.*,<3.0.0dev,>=1.34.1->google-api-core[grpc]!=2.0.*,!=2.1.*,!=2.2.*,!=2.3.*,!=2.4.*,!=2.5.*,!=2.6.*,!=2.7.*,<3.0.0dev,>=1.34.1->google-cloud-aiplatform<2.0.0,>=1.69.0->langchain-google-vertexai)\n",
      "  Downloading googleapis_common_protos-1.65.0-py2.py3-none-any.whl.metadata (1.5 kB)\n",
      "Collecting grpcio<2.0dev,>=1.33.2 (from google-api-core[grpc]!=2.0.*,!=2.1.*,!=2.2.*,!=2.3.*,!=2.4.*,!=2.5.*,!=2.6.*,!=2.7.*,<3.0.0dev,>=1.34.1->google-cloud-aiplatform<2.0.0,>=1.69.0->langchain-google-vertexai)\n",
      "  Downloading grpcio-1.67.0-cp312-cp312-macosx_10_9_universal2.whl.metadata (3.9 kB)\n",
      "Collecting grpcio-status<2.0.dev0,>=1.33.2 (from google-api-core[grpc]!=2.0.*,!=2.1.*,!=2.2.*,!=2.3.*,!=2.4.*,!=2.5.*,!=2.6.*,!=2.7.*,<3.0.0dev,>=1.34.1->google-cloud-aiplatform<2.0.0,>=1.69.0->langchain-google-vertexai)\n",
      "  Downloading grpcio_status-1.67.0-py3-none-any.whl.metadata (1.1 kB)\n",
      "Collecting cachetools<6.0,>=2.0.0 (from google-auth<3.0.0dev,>=2.14.1->google-cloud-aiplatform<2.0.0,>=1.69.0->langchain-google-vertexai)\n",
      "  Downloading cachetools-5.5.0-py3-none-any.whl.metadata (5.3 kB)\n",
      "Collecting pyasn1-modules>=0.2.1 (from google-auth<3.0.0dev,>=2.14.1->google-cloud-aiplatform<2.0.0,>=1.69.0->langchain-google-vertexai)\n",
      "  Downloading pyasn1_modules-0.4.1-py3-none-any.whl.metadata (3.5 kB)\n",
      "Collecting rsa<5,>=3.1.4 (from google-auth<3.0.0dev,>=2.14.1->google-cloud-aiplatform<2.0.0,>=1.69.0->langchain-google-vertexai)\n",
      "  Downloading rsa-4.9-py3-none-any.whl.metadata (4.2 kB)\n",
      "Requirement already satisfied: python-dateutil<3.0dev,>=2.7.3 in /Users/jhj/.pyenv/versions/3.12.6/envs/langchain-quickstart-version-up/lib/python3.12/site-packages (from google-cloud-bigquery!=3.20.0,<4.0.0dev,>=1.15.0->google-cloud-aiplatform<2.0.0,>=1.69.0->langchain-google-vertexai) (2.9.0.post0)\n",
      "Collecting grpc-google-iam-v1<1.0.0dev,>=0.12.4 (from google-cloud-resource-manager<3.0.0dev,>=1.3.3->google-cloud-aiplatform<2.0.0,>=1.69.0->langchain-google-vertexai)\n",
      "  Downloading grpc_google_iam_v1-0.13.1-py2.py3-none-any.whl.metadata (3.3 kB)\n",
      "Requirement already satisfied: jsonpointer>=1.9 in /Users/jhj/.pyenv/versions/3.12.6/envs/langchain-quickstart-version-up/lib/python3.12/site-packages (from jsonpatch<2.0,>=1.33->langchain-core<0.4,>=0.3.0->langchain-google-vertexai) (3.0.0)\n",
      "Requirement already satisfied: orjson<4.0.0,>=3.9.14 in /Users/jhj/.pyenv/versions/3.12.6/envs/langchain-quickstart-version-up/lib/python3.12/site-packages (from langsmith<0.2.0,>=0.1.125->langchain-core<0.4,>=0.3.0->langchain-google-vertexai) (3.10.9)\n",
      "Requirement already satisfied: requests-toolbelt<2.0.0,>=1.0.0 in /Users/jhj/.pyenv/versions/3.12.6/envs/langchain-quickstart-version-up/lib/python3.12/site-packages (from langsmith<0.2.0,>=0.1.125->langchain-core<0.4,>=0.3.0->langchain-google-vertexai) (1.0.0)\n",
      "Requirement already satisfied: charset-normalizer<4,>=2 in /Users/jhj/.pyenv/versions/3.12.6/envs/langchain-quickstart-version-up/lib/python3.12/site-packages (from requests<3.0.0dev,>=2.18.0->google-cloud-storage<3.0.0,>=2.18.0->langchain-google-vertexai) (3.4.0)\n",
      "Requirement already satisfied: urllib3<3,>=1.21.1 in /Users/jhj/.pyenv/versions/3.12.6/envs/langchain-quickstart-version-up/lib/python3.12/site-packages (from requests<3.0.0dev,>=2.18.0->google-cloud-storage<3.0.0,>=2.18.0->langchain-google-vertexai) (2.2.3)\n",
      "Requirement already satisfied: numpy<3,>=1.14 in /Users/jhj/.pyenv/versions/3.12.6/envs/langchain-quickstart-version-up/lib/python3.12/site-packages (from shapely<3.0.0dev->google-cloud-aiplatform<2.0.0,>=1.69.0->langchain-google-vertexai) (1.26.4)\n",
      "Collecting pyasn1<0.7.0,>=0.4.6 (from pyasn1-modules>=0.2.1->google-auth<3.0.0dev,>=2.14.1->google-cloud-aiplatform<2.0.0,>=1.69.0->langchain-google-vertexai)\n",
      "  Downloading pyasn1-0.6.1-py3-none-any.whl.metadata (8.4 kB)\n",
      "Requirement already satisfied: six>=1.5 in /Users/jhj/.pyenv/versions/3.12.6/envs/langchain-quickstart-version-up/lib/python3.12/site-packages (from python-dateutil<3.0dev,>=2.7.3->google-cloud-bigquery!=3.20.0,<4.0.0dev,>=1.15.0->google-cloud-aiplatform<2.0.0,>=1.69.0->langchain-google-vertexai) (1.16.0)\n",
      "Downloading langchain_google_vertexai-2.0.5-py3-none-any.whl (88 kB)\n",
      "Downloading google_cloud_aiplatform-1.70.0-py2.py3-none-any.whl (5.3 MB)\n",
      "\u001b[2K   \u001b[90m━━━━━━━━━━━━━━━━━━━━━━━━━━━━━━━━━━━━━━━━\u001b[0m \u001b[32m5.3/5.3 MB\u001b[0m \u001b[31m58.3 MB/s\u001b[0m eta \u001b[36m0:00:00\u001b[0m\n",
      "\u001b[?25hDownloading google_cloud_storage-2.18.2-py2.py3-none-any.whl (130 kB)\n",
      "Using cached httpx_sse-0.4.0-py3-none-any.whl (7.8 kB)\n",
      "Downloading docstring_parser-0.16-py3-none-any.whl (36 kB)\n",
      "Downloading google_api_core-2.21.0-py3-none-any.whl (156 kB)\n",
      "Downloading google_auth-2.35.0-py2.py3-none-any.whl (208 kB)\n",
      "Downloading google_cloud_bigquery-3.26.0-py2.py3-none-any.whl (239 kB)\n",
      "Downloading google_cloud_core-2.4.1-py2.py3-none-any.whl (29 kB)\n",
      "Downloading google_cloud_resource_manager-1.12.5-py2.py3-none-any.whl (341 kB)\n",
      "Downloading google_crc32c-1.6.0-cp312-cp312-macosx_12_0_arm64.whl (30 kB)\n",
      "Downloading google_resumable_media-2.7.2-py2.py3-none-any.whl (81 kB)\n",
      "Using cached proto_plus-1.24.0-py3-none-any.whl (50 kB)\n",
      "Downloading protobuf-5.28.2-cp38-abi3-macosx_10_9_universal2.whl (414 kB)\n",
      "Downloading shapely-2.0.6-cp312-cp312-macosx_11_0_arm64.whl (1.3 MB)\n",
      "\u001b[2K   \u001b[90m━━━━━━━━━━━━━━━━━━━━━━━━━━━━━━━━━━━━━━━━\u001b[0m \u001b[32m1.3/1.3 MB\u001b[0m \u001b[31m38.2 MB/s\u001b[0m eta \u001b[36m0:00:00\u001b[0m\n",
      "\u001b[?25hDownloading cachetools-5.5.0-py3-none-any.whl (9.5 kB)\n",
      "Downloading googleapis_common_protos-1.65.0-py2.py3-none-any.whl (220 kB)\n",
      "Downloading grpc_google_iam_v1-0.13.1-py2.py3-none-any.whl (24 kB)\n",
      "Downloading grpcio-1.67.0-cp312-cp312-macosx_10_9_universal2.whl (11.0 MB)\n",
      "\u001b[2K   \u001b[90m━━━━━━━━━━━━━━━━━━━━━━━━━━━━━━━━━━━━━━━━\u001b[0m \u001b[32m11.0/11.0 MB\u001b[0m \u001b[31m26.9 MB/s\u001b[0m eta \u001b[36m0:00:00\u001b[0m \u001b[36m0:00:01\u001b[0m\n",
      "\u001b[?25hDownloading grpcio_status-1.67.0-py3-none-any.whl (14 kB)\n",
      "Downloading pyasn1_modules-0.4.1-py3-none-any.whl (181 kB)\n",
      "Downloading rsa-4.9-py3-none-any.whl (34 kB)\n",
      "Downloading pyasn1-0.6.1-py3-none-any.whl (83 kB)\n",
      "Installing collected packages: shapely, pyasn1, protobuf, httpx-sse, grpcio, google-crc32c, docstring-parser, cachetools, rsa, pyasn1-modules, proto-plus, googleapis-common-protos, google-resumable-media, grpcio-status, google-auth, grpc-google-iam-v1, google-api-core, google-cloud-core, google-cloud-storage, google-cloud-resource-manager, google-cloud-bigquery, google-cloud-aiplatform, langchain-google-vertexai\n",
      "Successfully installed cachetools-5.5.0 docstring-parser-0.16 google-api-core-2.21.0 google-auth-2.35.0 google-cloud-aiplatform-1.70.0 google-cloud-bigquery-3.26.0 google-cloud-core-2.4.1 google-cloud-resource-manager-1.12.5 google-cloud-storage-2.18.2 google-crc32c-1.6.0 google-resumable-media-2.7.2 googleapis-common-protos-1.65.0 grpc-google-iam-v1-0.13.1 grpcio-1.67.0 grpcio-status-1.67.0 httpx-sse-0.4.0 langchain-google-vertexai-2.0.5 proto-plus-1.24.0 protobuf-5.28.2 pyasn1-0.6.1 pyasn1-modules-0.4.1 rsa-4.9 shapely-2.0.6\n"
     ]
    }
   ],
   "source": [
    "!pip install --upgrade langchain-google-vertexai # vertexai(Google Cloud AI Platform) "
   ]
  },
  {
   "cell_type": "code",
   "execution_count": 16,
   "id": "b7346e03-19c3-4a02-83bf-9632e34f2246",
   "metadata": {
    "tags": []
   },
   "outputs": [
    {
     "data": {
      "text/plain": [
       "AIMessage(content='I can\\'t provide a definitive \"top 5\" list of Korean restaurants in the Bay Area. Here\\'s why:\\n\\n* **Subjectivity:** Taste is subjective! What one person considers the best Korean restaurant might be completely different from another\\'s preference. \\n* **Variety:** The Bay Area has a huge and diverse Korean food scene, ranging from traditional to modern, casual to upscale. \\n* **Location:** The \"best\" restaurant for you depends on where you are in the Bay Area. \\n\\n**Instead of a top 5, I can offer some suggestions based on different categories:**\\n\\n**For Traditional Korean Food:**\\n\\n* **O\\'Dang Korean Restaurant (San Francisco):** Known for its authentic and flavorful dishes, especially their bibimbap and bulgogi.\\n* **Hanam Pig House (San Francisco):** A popular spot for Korean BBQ, with a wide selection of meats and banchan (side dishes).\\n* **Goryeo Korean Restaurant (San Francisco):** Offers a classic Korean dining experience with dishes like kimchi jjigae (kimchi stew) and japchae (glass noodles).\\n\\n**For Modern Korean Cuisine:**\\n\\n* **Mosu (San Francisco):** A Michelin-starred restaurant that elevates Korean flavors with modern techniques and presentations.\\n* **Sorrel (San Francisco):** Offers a tasting menu that showcases Korean ingredients and flavors in a creative and innovative way.\\n\\n**For Casual Korean Food:**\\n\\n* **Lee\\'s Sandwiches (Multiple Locations):** A popular chain known for its delicious banh mi sandwiches, which have a Korean twist.\\n* **BCD Tofu House (Multiple Locations):** A popular spot for Korean tofu soup, with various options to choose from.\\n\\n**To find the best Korean restaurants for you, I recommend:**\\n\\n* **Checking online reviews:** Websites like Yelp, Google Maps, and Zagat can provide insights from other diners.\\n* **Reading food blogs and articles:** Many food publications and bloggers specialize in Korean cuisine and can offer recommendations.\\n* **Asking friends and locals:** Get recommendations from people who know the Bay Area\\'s Korean food scene.\\n\\nEnjoy exploring the delicious world of Korean food in the Bay Area! \\n', additional_kwargs={}, response_metadata={'is_blocked': False, 'safety_ratings': [{'category': 'HARM_CATEGORY_HATE_SPEECH', 'probability_label': 'NEGLIGIBLE', 'blocked': False, 'severity': 'HARM_SEVERITY_NEGLIGIBLE'}, {'category': 'HARM_CATEGORY_DANGEROUS_CONTENT', 'probability_label': 'NEGLIGIBLE', 'blocked': False, 'severity': 'HARM_SEVERITY_NEGLIGIBLE'}, {'category': 'HARM_CATEGORY_HARASSMENT', 'probability_label': 'NEGLIGIBLE', 'blocked': False, 'severity': 'HARM_SEVERITY_NEGLIGIBLE'}, {'category': 'HARM_CATEGORY_SEXUALLY_EXPLICIT', 'probability_label': 'NEGLIGIBLE', 'blocked': False, 'severity': 'HARM_SEVERITY_NEGLIGIBLE'}], 'usage_metadata': {'prompt_token_count': 14, 'candidates_token_count': 457, 'total_token_count': 471, 'cached_content_token_count': 0}, 'finish_reason': 'STOP'}, id='run-8fcbb1c2-0d67-4ef3-8295-cf17ac2d22d4-0', usage_metadata={'input_tokens': 14, 'output_tokens': 457, 'total_tokens': 471})"
      ]
     },
     "execution_count": 16,
     "metadata": {},
     "output_type": "execute_result"
    }
   ],
   "source": [
    "import os\n",
    "from langchain_google_vertexai import ChatVertexAI\n",
    "\n",
    "# Google Cloud Credentials Set up\n",
    "os.environ[\"GOOGLE_APPLICATION_CREDENTIALS\"] = \"{YOUR-VERTEX-AI-CREDENTIALS}.json\"\n",
    "\n",
    "llm = ChatVertexAI(\n",
    "    model=\"gemini-1.5-flash\",\n",
    "    temperature=0,\n",
    "    max_tokens=None,\n",
    "    max_retries=1,\n",
    "    stop=None,\n",
    ")\n",
    "question = \"What is top 5 Korean reastaurant in BayArea?\"\n",
    "answer = llm.invoke(question)\n",
    "answer"
   ]
  },
  {
   "cell_type": "code",
   "execution_count": 17,
   "id": "bb2cf6aa-dd50-430d-82e3-81992950d70c",
   "metadata": {},
   "outputs": [
    {
     "data": {
      "text/plain": [
       "ChatVertexAI(client=<google.cloud.aiplatform_v1beta1.services.prediction_service.client.PredictionServiceClient object at 0x12f323920>, project='onelineai-vertex-only-notdel', max_retries=1, model_name='gemini-1.5-flash', full_model_name='projects/onelineai-vertex-only-notdel/locations/us-central1/publishers/google/models/gemini-1.5-flash', client_options=ClientOptions: {'api_endpoint': 'us-central1-aiplatform.googleapis.com', 'client_cert_source': None, 'client_encrypted_cert_source': None, 'quota_project_id': None, 'credentials_file': None, 'scopes': None, 'api_key': None, 'api_audience': None, 'universe_domain': None}, default_metadata=(), temperature=0.0, model_family=<GoogleModelFamily.GEMINI_ADVANCED: '2'>)"
      ]
     },
     "execution_count": 17,
     "metadata": {},
     "output_type": "execute_result"
    }
   ],
   "source": [
    "llm"
   ]
  },
  {
   "cell_type": "markdown",
   "id": "dd763544-b3e7-4967-a683-b80ca3cd9e80",
   "metadata": {},
   "source": [
    "# Gemini"
   ]
  },
  {
   "cell_type": "code",
   "execution_count": 18,
   "id": "fee2cd09-575d-4733-adf2-f1c52534a4e4",
   "metadata": {
    "tags": []
   },
   "outputs": [
    {
     "name": "stdout",
     "output_type": "stream",
     "text": [
      "Collecting langchain-google-genai\n",
      "  Downloading langchain_google_genai-2.0.1-py3-none-any.whl.metadata (3.9 kB)\n",
      "Collecting google-generativeai<0.9.0,>=0.8.0 (from langchain-google-genai)\n",
      "  Downloading google_generativeai-0.8.3-py3-none-any.whl.metadata (3.9 kB)\n",
      "Requirement already satisfied: langchain-core<0.4,>=0.3.0 in /Users/jhj/.pyenv/versions/3.12.6/envs/langchain-quickstart-version-up/lib/python3.12/site-packages (from langchain-google-genai) (0.3.12)\n",
      "Requirement already satisfied: pydantic<3,>=2 in /Users/jhj/.pyenv/versions/3.12.6/envs/langchain-quickstart-version-up/lib/python3.12/site-packages (from langchain-google-genai) (2.9.2)\n",
      "Collecting google-ai-generativelanguage==0.6.10 (from google-generativeai<0.9.0,>=0.8.0->langchain-google-genai)\n",
      "  Downloading google_ai_generativelanguage-0.6.10-py3-none-any.whl.metadata (5.6 kB)\n",
      "Requirement already satisfied: google-api-core in /Users/jhj/.pyenv/versions/3.12.6/envs/langchain-quickstart-version-up/lib/python3.12/site-packages (from google-generativeai<0.9.0,>=0.8.0->langchain-google-genai) (2.21.0)\n",
      "Collecting google-api-python-client (from google-generativeai<0.9.0,>=0.8.0->langchain-google-genai)\n",
      "  Downloading google_api_python_client-2.149.0-py2.py3-none-any.whl.metadata (6.7 kB)\n",
      "Requirement already satisfied: google-auth>=2.15.0 in /Users/jhj/.pyenv/versions/3.12.6/envs/langchain-quickstart-version-up/lib/python3.12/site-packages (from google-generativeai<0.9.0,>=0.8.0->langchain-google-genai) (2.35.0)\n",
      "Requirement already satisfied: protobuf in /Users/jhj/.pyenv/versions/3.12.6/envs/langchain-quickstart-version-up/lib/python3.12/site-packages (from google-generativeai<0.9.0,>=0.8.0->langchain-google-genai) (5.28.2)\n",
      "Requirement already satisfied: tqdm in /Users/jhj/.pyenv/versions/3.12.6/envs/langchain-quickstart-version-up/lib/python3.12/site-packages (from google-generativeai<0.9.0,>=0.8.0->langchain-google-genai) (4.66.5)\n",
      "Requirement already satisfied: typing-extensions in /Users/jhj/.pyenv/versions/3.12.6/envs/langchain-quickstart-version-up/lib/python3.12/site-packages (from google-generativeai<0.9.0,>=0.8.0->langchain-google-genai) (4.12.2)\n",
      "Requirement already satisfied: proto-plus<2.0.0dev,>=1.22.3 in /Users/jhj/.pyenv/versions/3.12.6/envs/langchain-quickstart-version-up/lib/python3.12/site-packages (from google-ai-generativelanguage==0.6.10->google-generativeai<0.9.0,>=0.8.0->langchain-google-genai) (1.24.0)\n",
      "Requirement already satisfied: PyYAML>=5.3 in /Users/jhj/.pyenv/versions/3.12.6/envs/langchain-quickstart-version-up/lib/python3.12/site-packages (from langchain-core<0.4,>=0.3.0->langchain-google-genai) (6.0.2)\n",
      "Requirement already satisfied: jsonpatch<2.0,>=1.33 in /Users/jhj/.pyenv/versions/3.12.6/envs/langchain-quickstart-version-up/lib/python3.12/site-packages (from langchain-core<0.4,>=0.3.0->langchain-google-genai) (1.33)\n",
      "Requirement already satisfied: langsmith<0.2.0,>=0.1.125 in /Users/jhj/.pyenv/versions/3.12.6/envs/langchain-quickstart-version-up/lib/python3.12/site-packages (from langchain-core<0.4,>=0.3.0->langchain-google-genai) (0.1.136)\n",
      "Requirement already satisfied: packaging<25,>=23.2 in /Users/jhj/.pyenv/versions/3.12.6/envs/langchain-quickstart-version-up/lib/python3.12/site-packages (from langchain-core<0.4,>=0.3.0->langchain-google-genai) (24.1)\n",
      "Requirement already satisfied: tenacity!=8.4.0,<10.0.0,>=8.1.0 in /Users/jhj/.pyenv/versions/3.12.6/envs/langchain-quickstart-version-up/lib/python3.12/site-packages (from langchain-core<0.4,>=0.3.0->langchain-google-genai) (9.0.0)\n",
      "Requirement already satisfied: annotated-types>=0.6.0 in /Users/jhj/.pyenv/versions/3.12.6/envs/langchain-quickstart-version-up/lib/python3.12/site-packages (from pydantic<3,>=2->langchain-google-genai) (0.7.0)\n",
      "Requirement already satisfied: pydantic-core==2.23.4 in /Users/jhj/.pyenv/versions/3.12.6/envs/langchain-quickstart-version-up/lib/python3.12/site-packages (from pydantic<3,>=2->langchain-google-genai) (2.23.4)\n",
      "Requirement already satisfied: googleapis-common-protos<2.0.dev0,>=1.56.2 in /Users/jhj/.pyenv/versions/3.12.6/envs/langchain-quickstart-version-up/lib/python3.12/site-packages (from google-api-core->google-generativeai<0.9.0,>=0.8.0->langchain-google-genai) (1.65.0)\n",
      "Requirement already satisfied: requests<3.0.0.dev0,>=2.18.0 in /Users/jhj/.pyenv/versions/3.12.6/envs/langchain-quickstart-version-up/lib/python3.12/site-packages (from google-api-core->google-generativeai<0.9.0,>=0.8.0->langchain-google-genai) (2.32.3)\n",
      "Requirement already satisfied: cachetools<6.0,>=2.0.0 in /Users/jhj/.pyenv/versions/3.12.6/envs/langchain-quickstart-version-up/lib/python3.12/site-packages (from google-auth>=2.15.0->google-generativeai<0.9.0,>=0.8.0->langchain-google-genai) (5.5.0)\n",
      "Requirement already satisfied: pyasn1-modules>=0.2.1 in /Users/jhj/.pyenv/versions/3.12.6/envs/langchain-quickstart-version-up/lib/python3.12/site-packages (from google-auth>=2.15.0->google-generativeai<0.9.0,>=0.8.0->langchain-google-genai) (0.4.1)\n",
      "Requirement already satisfied: rsa<5,>=3.1.4 in /Users/jhj/.pyenv/versions/3.12.6/envs/langchain-quickstart-version-up/lib/python3.12/site-packages (from google-auth>=2.15.0->google-generativeai<0.9.0,>=0.8.0->langchain-google-genai) (4.9)\n",
      "Requirement already satisfied: jsonpointer>=1.9 in /Users/jhj/.pyenv/versions/3.12.6/envs/langchain-quickstart-version-up/lib/python3.12/site-packages (from jsonpatch<2.0,>=1.33->langchain-core<0.4,>=0.3.0->langchain-google-genai) (3.0.0)\n",
      "Requirement already satisfied: httpx<1,>=0.23.0 in /Users/jhj/.pyenv/versions/3.12.6/envs/langchain-quickstart-version-up/lib/python3.12/site-packages (from langsmith<0.2.0,>=0.1.125->langchain-core<0.4,>=0.3.0->langchain-google-genai) (0.27.2)\n",
      "Requirement already satisfied: orjson<4.0.0,>=3.9.14 in /Users/jhj/.pyenv/versions/3.12.6/envs/langchain-quickstart-version-up/lib/python3.12/site-packages (from langsmith<0.2.0,>=0.1.125->langchain-core<0.4,>=0.3.0->langchain-google-genai) (3.10.9)\n",
      "Requirement already satisfied: requests-toolbelt<2.0.0,>=1.0.0 in /Users/jhj/.pyenv/versions/3.12.6/envs/langchain-quickstart-version-up/lib/python3.12/site-packages (from langsmith<0.2.0,>=0.1.125->langchain-core<0.4,>=0.3.0->langchain-google-genai) (1.0.0)\n",
      "Collecting httplib2<1.dev0,>=0.19.0 (from google-api-python-client->google-generativeai<0.9.0,>=0.8.0->langchain-google-genai)\n",
      "  Using cached httplib2-0.22.0-py3-none-any.whl.metadata (2.6 kB)\n",
      "Collecting google-auth-httplib2<1.0.0,>=0.2.0 (from google-api-python-client->google-generativeai<0.9.0,>=0.8.0->langchain-google-genai)\n",
      "  Using cached google_auth_httplib2-0.2.0-py2.py3-none-any.whl.metadata (2.2 kB)\n",
      "Collecting uritemplate<5,>=3.0.1 (from google-api-python-client->google-generativeai<0.9.0,>=0.8.0->langchain-google-genai)\n",
      "  Using cached uritemplate-4.1.1-py2.py3-none-any.whl.metadata (2.9 kB)\n",
      "Requirement already satisfied: grpcio<2.0dev,>=1.33.2 in /Users/jhj/.pyenv/versions/3.12.6/envs/langchain-quickstart-version-up/lib/python3.12/site-packages (from google-api-core[grpc]!=2.0.*,!=2.1.*,!=2.10.*,!=2.2.*,!=2.3.*,!=2.4.*,!=2.5.*,!=2.6.*,!=2.7.*,!=2.8.*,!=2.9.*,<3.0.0dev,>=1.34.1->google-ai-generativelanguage==0.6.10->google-generativeai<0.9.0,>=0.8.0->langchain-google-genai) (1.67.0)\n",
      "Requirement already satisfied: grpcio-status<2.0.dev0,>=1.33.2 in /Users/jhj/.pyenv/versions/3.12.6/envs/langchain-quickstart-version-up/lib/python3.12/site-packages (from google-api-core[grpc]!=2.0.*,!=2.1.*,!=2.10.*,!=2.2.*,!=2.3.*,!=2.4.*,!=2.5.*,!=2.6.*,!=2.7.*,!=2.8.*,!=2.9.*,<3.0.0dev,>=1.34.1->google-ai-generativelanguage==0.6.10->google-generativeai<0.9.0,>=0.8.0->langchain-google-genai) (1.67.0)\n",
      "Collecting pyparsing!=3.0.0,!=3.0.1,!=3.0.2,!=3.0.3,<4,>=2.4.2 (from httplib2<1.dev0,>=0.19.0->google-api-python-client->google-generativeai<0.9.0,>=0.8.0->langchain-google-genai)\n",
      "  Downloading pyparsing-3.2.0-py3-none-any.whl.metadata (5.0 kB)\n",
      "Requirement already satisfied: anyio in /Users/jhj/.pyenv/versions/3.12.6/envs/langchain-quickstart-version-up/lib/python3.12/site-packages (from httpx<1,>=0.23.0->langsmith<0.2.0,>=0.1.125->langchain-core<0.4,>=0.3.0->langchain-google-genai) (4.6.2.post1)\n",
      "Requirement already satisfied: certifi in /Users/jhj/.pyenv/versions/3.12.6/envs/langchain-quickstart-version-up/lib/python3.12/site-packages (from httpx<1,>=0.23.0->langsmith<0.2.0,>=0.1.125->langchain-core<0.4,>=0.3.0->langchain-google-genai) (2024.8.30)\n",
      "Requirement already satisfied: httpcore==1.* in /Users/jhj/.pyenv/versions/3.12.6/envs/langchain-quickstart-version-up/lib/python3.12/site-packages (from httpx<1,>=0.23.0->langsmith<0.2.0,>=0.1.125->langchain-core<0.4,>=0.3.0->langchain-google-genai) (1.0.6)\n",
      "Requirement already satisfied: idna in /Users/jhj/.pyenv/versions/3.12.6/envs/langchain-quickstart-version-up/lib/python3.12/site-packages (from httpx<1,>=0.23.0->langsmith<0.2.0,>=0.1.125->langchain-core<0.4,>=0.3.0->langchain-google-genai) (3.10)\n",
      "Requirement already satisfied: sniffio in /Users/jhj/.pyenv/versions/3.12.6/envs/langchain-quickstart-version-up/lib/python3.12/site-packages (from httpx<1,>=0.23.0->langsmith<0.2.0,>=0.1.125->langchain-core<0.4,>=0.3.0->langchain-google-genai) (1.3.1)\n",
      "Requirement already satisfied: h11<0.15,>=0.13 in /Users/jhj/.pyenv/versions/3.12.6/envs/langchain-quickstart-version-up/lib/python3.12/site-packages (from httpcore==1.*->httpx<1,>=0.23.0->langsmith<0.2.0,>=0.1.125->langchain-core<0.4,>=0.3.0->langchain-google-genai) (0.14.0)\n",
      "Requirement already satisfied: pyasn1<0.7.0,>=0.4.6 in /Users/jhj/.pyenv/versions/3.12.6/envs/langchain-quickstart-version-up/lib/python3.12/site-packages (from pyasn1-modules>=0.2.1->google-auth>=2.15.0->google-generativeai<0.9.0,>=0.8.0->langchain-google-genai) (0.6.1)\n",
      "Requirement already satisfied: charset-normalizer<4,>=2 in /Users/jhj/.pyenv/versions/3.12.6/envs/langchain-quickstart-version-up/lib/python3.12/site-packages (from requests<3.0.0.dev0,>=2.18.0->google-api-core->google-generativeai<0.9.0,>=0.8.0->langchain-google-genai) (3.4.0)\n",
      "Requirement already satisfied: urllib3<3,>=1.21.1 in /Users/jhj/.pyenv/versions/3.12.6/envs/langchain-quickstart-version-up/lib/python3.12/site-packages (from requests<3.0.0.dev0,>=2.18.0->google-api-core->google-generativeai<0.9.0,>=0.8.0->langchain-google-genai) (2.2.3)\n",
      "Downloading langchain_google_genai-2.0.1-py3-none-any.whl (40 kB)\n",
      "Downloading google_generativeai-0.8.3-py3-none-any.whl (160 kB)\n",
      "Downloading google_ai_generativelanguage-0.6.10-py3-none-any.whl (760 kB)\n",
      "\u001b[2K   \u001b[90m━━━━━━━━━━━━━━━━━━━━━━━━━━━━━━━━━━━━━━━━\u001b[0m \u001b[32m760.0/760.0 kB\u001b[0m \u001b[31m42.2 MB/s\u001b[0m eta \u001b[36m0:00:00\u001b[0m\n",
      "\u001b[?25hDownloading google_api_python_client-2.149.0-py2.py3-none-any.whl (12.3 MB)\n",
      "\u001b[2K   \u001b[90m━━━━━━━━━━━━━━━━━━━━━━━━━━━━━━━━━━━━━━━━\u001b[0m \u001b[32m12.3/12.3 MB\u001b[0m \u001b[31m63.4 MB/s\u001b[0m eta \u001b[36m0:00:00\u001b[0m\n",
      "\u001b[?25hUsing cached google_auth_httplib2-0.2.0-py2.py3-none-any.whl (9.3 kB)\n",
      "Using cached httplib2-0.22.0-py3-none-any.whl (96 kB)\n",
      "Using cached uritemplate-4.1.1-py2.py3-none-any.whl (10 kB)\n",
      "Downloading pyparsing-3.2.0-py3-none-any.whl (106 kB)\n",
      "Installing collected packages: uritemplate, pyparsing, httplib2, google-auth-httplib2, google-api-python-client, google-ai-generativelanguage, google-generativeai, langchain-google-genai\n",
      "Successfully installed google-ai-generativelanguage-0.6.10 google-api-python-client-2.149.0 google-auth-httplib2-0.2.0 google-generativeai-0.8.3 httplib2-0.22.0 langchain-google-genai-2.0.1 pyparsing-3.2.0 uritemplate-4.1.1\n"
     ]
    }
   ],
   "source": [
    "!pip install -U  langchain-google-genai # langchain-google-genai(When used with Google AI Studio)"
   ]
  },
  {
   "cell_type": "code",
   "execution_count": 19,
   "id": "82f74a32-2100-4964-b1a2-440a78e81c5b",
   "metadata": {
    "tags": []
   },
   "outputs": [
    {
     "name": "stderr",
     "output_type": "stream",
     "text": [
      "/Users/jhj/.pyenv/versions/langchain-quickstart-version-up/lib/python3.12/site-packages/tqdm/auto.py:21: TqdmWarning: IProgress not found. Please update jupyter and ipywidgets. See https://ipywidgets.readthedocs.io/en/stable/user_install.html\n",
      "  from .autonotebook import tqdm as notebook_tqdm\n"
     ]
    },
    {
     "data": {
      "text/plain": [
       "\"Google Gemini AI is Google's next-generation foundation model, designed to be multimodal, highly efficient, and built for integration across Google's products and services. While still under development, here's what we know so far:\\n\\n**Key Features:**\\n\\n* **Multimodal:** Unlike some previous models focused primarily on text, Gemini is being built from the ground up to handle different types of information, including text, code, images, audio, and video. This allows for more versatile and natural interactions.\\n* **Efficiency:** Google emphasizes Gemini's efficiency, aiming for fast performance and scalability across various devices and applications.\\n* **Integration:** Gemini is intended to be deeply integrated into Google's ecosystem, enhancing products like Search, Assistant, Ads, and more.\\n* **Advanced Reasoning and Tool Use:**  Early demonstrations suggest Gemini possesses strong reasoning capabilities and can effectively use tools like calculators and code interpreters.\\n\\n**Potential Applications:**\\n\\nGemini's multimodal nature opens up a wide range of potential applications, including:\\n\\n* **Enhanced Search:** Understanding images and videos alongside text could lead to more accurate and comprehensive search results.\\n* **More Natural Assistants:**  Gemini could power virtual assistants capable of understanding and responding to complex requests involving multiple modalities.\\n* **Content Creation:**  From generating realistic images and videos to composing music and writing different kinds of creative content, Gemini could revolutionize content creation.\\n* **Improved Accessibility:**  Gemini's multimodal capabilities could make technology more accessible to people with disabilities.\\n\\n**Current Status:**\\n\\nAs of right now, Gemini is still under development and not yet publicly available. Google has released limited demonstrations showcasing its capabilities, but wider access and specific release dates remain unknown.\\n\\n**Competition:**\\n\\nGemini enters a competitive landscape of large language models, including OpenAI's GPT series and others. Its multimodal focus and integration with Google's vast resources position it as a potentially significant player in the field.\\n\\n**Overall:**\\n\\nGoogle Gemini AI represents an ambitious effort to create a highly capable and versatile foundation model. Its multimodal nature, focus on efficiency, and integration with Google's ecosystem hold the potential to significantly impact various industries and aspects of our lives. However, it's still early in its development, and its full capabilities and impact remain to be seen.\\n\""
      ]
     },
     "execution_count": 19,
     "metadata": {},
     "output_type": "execute_result"
    }
   ],
   "source": [
    "from langchain_google_genai import ChatGoogleGenerativeAI\n",
    "import os\n",
    "\n",
    "os.environ[\"GOOGLE_API_KEY\"] = \"{YOUR_GOOGLE_API_KEY}\"\n",
    "\n",
    "# setup the gemini pro\n",
    "gemini_llm = ChatGoogleGenerativeAI(model=\"gemini-1.5-pro\", temperature=0.3)\n",
    "\n",
    "result = gemini_llm.invoke(\"what is google gemini ai?\")\n",
    "result.content"
   ]
  }
 ],
 "metadata": {
  "kernelspec": {
   "display_name": "Python 3 (ipykernel)",
   "language": "python",
   "name": "python3"
  },
  "language_info": {
   "codemirror_mode": {
    "name": "ipython",
    "version": 3
   },
   "file_extension": ".py",
   "mimetype": "text/x-python",
   "name": "python",
   "nbconvert_exporter": "python",
   "pygments_lexer": "ipython3",
   "version": "3.12.6"
  }
 },
 "nbformat": 4,
 "nbformat_minor": 5
}
