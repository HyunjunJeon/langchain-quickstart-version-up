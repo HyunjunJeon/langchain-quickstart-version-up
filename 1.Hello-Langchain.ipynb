{
 "cells": [
  {
   "cell_type": "code",
   "execution_count": 3,
   "id": "3f781335-75f0-4be0-8d5a-07e5936ba29e",
   "metadata": {
    "tags": []
   },
   "outputs": [
    {
     "name": "stdout",
     "output_type": "stream",
     "text": [
      "Collecting langchain==0.1.0\n",
      "  Obtaining dependency information for langchain==0.1.0 from https://files.pythonhosted.org/packages/23/98/c70fac0f1b3193ced86013b563119c27c68ac26b684815f407555224108d/langchain-0.1.0-py3-none-any.whl.metadata\n",
      "  Using cached langchain-0.1.0-py3-none-any.whl.metadata (13 kB)\n",
      "Requirement already satisfied: PyYAML>=5.3 in /Users/terrycho/.local/lib/python3.11/site-packages (from langchain==0.1.0) (6.0.1)\n",
      "Requirement already satisfied: SQLAlchemy<3,>=1.4 in /Users/terrycho/.local/lib/python3.11/site-packages (from langchain==0.1.0) (2.0.23)\n",
      "Requirement already satisfied: aiohttp<4.0.0,>=3.8.3 in /Users/terrycho/.local/lib/python3.11/site-packages (from langchain==0.1.0) (3.9.1)\n",
      "Requirement already satisfied: dataclasses-json<0.7,>=0.5.7 in /Users/terrycho/.local/lib/python3.11/site-packages (from langchain==0.1.0) (0.6.3)\n",
      "Requirement already satisfied: jsonpatch<2.0,>=1.33 in /Users/terrycho/.local/lib/python3.11/site-packages (from langchain==0.1.0) (1.33)\n",
      "Requirement already satisfied: langchain-community<0.1,>=0.0.9 in /Users/terrycho/anaconda3/lib/python3.11/site-packages (from langchain==0.1.0) (0.0.17)\n",
      "Requirement already satisfied: langchain-core<0.2,>=0.1.7 in /Users/terrycho/anaconda3/lib/python3.11/site-packages (from langchain==0.1.0) (0.1.18)\n",
      "Requirement already satisfied: langsmith<0.1.0,>=0.0.77 in /Users/terrycho/anaconda3/lib/python3.11/site-packages (from langchain==0.1.0) (0.0.86)\n",
      "Requirement already satisfied: numpy<2,>=1 in /Users/terrycho/.local/lib/python3.11/site-packages (from langchain==0.1.0) (1.26.2)\n",
      "Requirement already satisfied: pydantic<3,>=1 in /Users/terrycho/.local/lib/python3.11/site-packages (from langchain==0.1.0) (2.5.2)\n",
      "Requirement already satisfied: requests<3,>=2 in /Users/terrycho/.local/lib/python3.11/site-packages (from langchain==0.1.0) (2.31.0)\n",
      "Requirement already satisfied: tenacity<9.0.0,>=8.1.0 in /Users/terrycho/.local/lib/python3.11/site-packages (from langchain==0.1.0) (8.2.3)\n",
      "Requirement already satisfied: attrs>=17.3.0 in /Users/terrycho/.local/lib/python3.11/site-packages (from aiohttp<4.0.0,>=3.8.3->langchain==0.1.0) (23.1.0)\n",
      "Requirement already satisfied: multidict<7.0,>=4.5 in /Users/terrycho/.local/lib/python3.11/site-packages (from aiohttp<4.0.0,>=3.8.3->langchain==0.1.0) (6.0.4)\n",
      "Requirement already satisfied: yarl<2.0,>=1.0 in /Users/terrycho/.local/lib/python3.11/site-packages (from aiohttp<4.0.0,>=3.8.3->langchain==0.1.0) (1.9.4)\n",
      "Requirement already satisfied: frozenlist>=1.1.1 in /Users/terrycho/.local/lib/python3.11/site-packages (from aiohttp<4.0.0,>=3.8.3->langchain==0.1.0) (1.4.1)\n",
      "Requirement already satisfied: aiosignal>=1.1.2 in /Users/terrycho/.local/lib/python3.11/site-packages (from aiohttp<4.0.0,>=3.8.3->langchain==0.1.0) (1.3.1)\n",
      "Requirement already satisfied: marshmallow<4.0.0,>=3.18.0 in /Users/terrycho/.local/lib/python3.11/site-packages (from dataclasses-json<0.7,>=0.5.7->langchain==0.1.0) (3.20.1)\n",
      "Requirement already satisfied: typing-inspect<1,>=0.4.0 in /Users/terrycho/.local/lib/python3.11/site-packages (from dataclasses-json<0.7,>=0.5.7->langchain==0.1.0) (0.9.0)\n",
      "Requirement already satisfied: jsonpointer>=1.9 in /Users/terrycho/.local/lib/python3.11/site-packages (from jsonpatch<2.0,>=1.33->langchain==0.1.0) (2.4)\n",
      "Requirement already satisfied: anyio<5,>=3 in /Users/terrycho/.local/lib/python3.11/site-packages (from langchain-core<0.2,>=0.1.7->langchain==0.1.0) (4.2.0)\n",
      "Requirement already satisfied: packaging<24.0,>=23.2 in /Users/terrycho/.local/lib/python3.11/site-packages (from langchain-core<0.2,>=0.1.7->langchain==0.1.0) (23.2)\n",
      "Requirement already satisfied: annotated-types>=0.4.0 in /Users/terrycho/.local/lib/python3.11/site-packages (from pydantic<3,>=1->langchain==0.1.0) (0.6.0)\n",
      "Requirement already satisfied: pydantic-core==2.14.5 in /Users/terrycho/.local/lib/python3.11/site-packages (from pydantic<3,>=1->langchain==0.1.0) (2.14.5)\n",
      "Requirement already satisfied: typing-extensions>=4.6.1 in /Users/terrycho/.local/lib/python3.11/site-packages (from pydantic<3,>=1->langchain==0.1.0) (4.9.0)\n",
      "Requirement already satisfied: charset-normalizer<4,>=2 in /Users/terrycho/.local/lib/python3.11/site-packages (from requests<3,>=2->langchain==0.1.0) (3.3.2)\n",
      "Requirement already satisfied: idna<4,>=2.5 in /Users/terrycho/.local/lib/python3.11/site-packages (from requests<3,>=2->langchain==0.1.0) (3.6)\n",
      "Requirement already satisfied: urllib3<3,>=1.21.1 in /Users/terrycho/anaconda3/lib/python3.11/site-packages (from requests<3,>=2->langchain==0.1.0) (2.2.0)\n",
      "Requirement already satisfied: certifi>=2017.4.17 in /Users/terrycho/.local/lib/python3.11/site-packages (from requests<3,>=2->langchain==0.1.0) (2023.11.17)\n",
      "Requirement already satisfied: greenlet!=0.4.17 in /Users/terrycho/.local/lib/python3.11/site-packages (from SQLAlchemy<3,>=1.4->langchain==0.1.0) (3.0.2)\n",
      "Requirement already satisfied: sniffio>=1.1 in /Users/terrycho/.local/lib/python3.11/site-packages (from anyio<5,>=3->langchain-core<0.2,>=0.1.7->langchain==0.1.0) (1.3.0)\n",
      "Requirement already satisfied: mypy-extensions>=0.3.0 in /Users/terrycho/.local/lib/python3.11/site-packages (from typing-inspect<1,>=0.4.0->dataclasses-json<0.7,>=0.5.7->langchain==0.1.0) (1.0.0)\n",
      "Using cached langchain-0.1.0-py3-none-any.whl (797 kB)\n",
      "Installing collected packages: langchain\n",
      "  Attempting uninstall: langchain\n",
      "    Found existing installation: langchain 0.1.5\n",
      "    Uninstalling langchain-0.1.5:\n",
      "      Successfully uninstalled langchain-0.1.5\n",
      "Successfully installed langchain-0.1.0\n",
      "Python 3.11.4\n"
     ]
    }
   ],
   "source": [
    "!pip install langchain==0.1.0\n",
    "!python -V"
   ]
  },
  {
   "cell_type": "code",
   "execution_count": 2,
   "id": "ec3c3133-b11c-4316-9307-69cbdb60a3d6",
   "metadata": {
    "tags": []
   },
   "outputs": [
    {
     "name": "stdout",
     "output_type": "stream",
     "text": [
      "\n",
      "\n",
      "1. Han Il Kwan - San Francisco\n",
      "2. Gen Korean BBQ House - San Jose\n",
      "3. Surisan - San Francisco\n",
      "4. Gung Ho Korean BBQ - San Francisco \n",
      "5. Tofu House - Berkeley\n"
     ]
    }
   ],
   "source": [
    "# LLM Prompt Template sample\n",
    "\n",
    "from langchain.llms import OpenAI\n",
    "\n",
    "# OpenAI ChatGPT LLM Inistialization part\n",
    "llm = OpenAI(\n",
    "    openai_api_key=\"{YOUR_OPENAI_KEY}\",\n",
    "    model_name=\"gpt-3.5-turbo-instruct\",\n",
    "    temperature=0.8,\n",
    ")\n",
    "question = \"What is top 5 Korean reastaurant in BayArea?\"\n",
    "answer = llm(question)\n",
    "print(answer)"
   ]
  },
  {
   "cell_type": "code",
   "execution_count": 3,
   "id": "8cf33853-8282-4b5d-9b66-9e6775a0abbc",
   "metadata": {
    "tags": []
   },
   "outputs": [
    {
     "data": {
      "text/plain": [
       "OpenAI(client=<openai.resources.completions.Completions object at 0x117463d10>, async_client=<openai.resources.completions.AsyncCompletions object at 0x11749f710>, temperature=0.8, openai_api_key='{YOUR_OPENAI_KEY}', openai_proxy='')"
      ]
     },
     "execution_count": 3,
     "metadata": {},
     "output_type": "execute_result"
    }
   ],
   "source": [
    "llm"
   ]
  },
  {
   "cell_type": "code",
   "execution_count": 4,
   "id": "6257f985-b815-4762-b3dc-f033d94ca2fc",
   "metadata": {
    "tags": []
   },
   "outputs": [
    {
     "name": "stdout",
     "output_type": "stream",
     "text": [
      "Requirement already satisfied: langchain in /Users/terrycho/anaconda3/lib/python3.11/site-packages (0.1.0)\n",
      "Requirement already satisfied: PyYAML>=5.3 in /Users/terrycho/.local/lib/python3.11/site-packages (from langchain) (6.0.1)\n",
      "Requirement already satisfied: SQLAlchemy<3,>=1.4 in /Users/terrycho/.local/lib/python3.11/site-packages (from langchain) (2.0.23)\n",
      "Requirement already satisfied: aiohttp<4.0.0,>=3.8.3 in /Users/terrycho/.local/lib/python3.11/site-packages (from langchain) (3.9.1)\n",
      "Requirement already satisfied: dataclasses-json<0.7,>=0.5.7 in /Users/terrycho/.local/lib/python3.11/site-packages (from langchain) (0.6.3)\n",
      "Requirement already satisfied: jsonpatch<2.0,>=1.33 in /Users/terrycho/.local/lib/python3.11/site-packages (from langchain) (1.33)\n",
      "Requirement already satisfied: langchain-community<0.1,>=0.0.9 in /Users/terrycho/anaconda3/lib/python3.11/site-packages (from langchain) (0.0.17)\n",
      "Requirement already satisfied: langchain-core<0.2,>=0.1.7 in /Users/terrycho/anaconda3/lib/python3.11/site-packages (from langchain) (0.1.18)\n",
      "Requirement already satisfied: langsmith<0.1.0,>=0.0.77 in /Users/terrycho/anaconda3/lib/python3.11/site-packages (from langchain) (0.0.86)\n",
      "Requirement already satisfied: numpy<2,>=1 in /Users/terrycho/.local/lib/python3.11/site-packages (from langchain) (1.26.2)\n",
      "Requirement already satisfied: pydantic<3,>=1 in /Users/terrycho/.local/lib/python3.11/site-packages (from langchain) (2.5.2)\n",
      "Requirement already satisfied: requests<3,>=2 in /Users/terrycho/.local/lib/python3.11/site-packages (from langchain) (2.31.0)\n",
      "Requirement already satisfied: tenacity<9.0.0,>=8.1.0 in /Users/terrycho/.local/lib/python3.11/site-packages (from langchain) (8.2.3)\n",
      "Requirement already satisfied: attrs>=17.3.0 in /Users/terrycho/.local/lib/python3.11/site-packages (from aiohttp<4.0.0,>=3.8.3->langchain) (23.1.0)\n",
      "Requirement already satisfied: multidict<7.0,>=4.5 in /Users/terrycho/.local/lib/python3.11/site-packages (from aiohttp<4.0.0,>=3.8.3->langchain) (6.0.4)\n",
      "Requirement already satisfied: yarl<2.0,>=1.0 in /Users/terrycho/.local/lib/python3.11/site-packages (from aiohttp<4.0.0,>=3.8.3->langchain) (1.9.4)\n",
      "Requirement already satisfied: frozenlist>=1.1.1 in /Users/terrycho/.local/lib/python3.11/site-packages (from aiohttp<4.0.0,>=3.8.3->langchain) (1.4.1)\n",
      "Requirement already satisfied: aiosignal>=1.1.2 in /Users/terrycho/.local/lib/python3.11/site-packages (from aiohttp<4.0.0,>=3.8.3->langchain) (1.3.1)\n",
      "Requirement already satisfied: marshmallow<4.0.0,>=3.18.0 in /Users/terrycho/.local/lib/python3.11/site-packages (from dataclasses-json<0.7,>=0.5.7->langchain) (3.20.1)\n",
      "Requirement already satisfied: typing-inspect<1,>=0.4.0 in /Users/terrycho/.local/lib/python3.11/site-packages (from dataclasses-json<0.7,>=0.5.7->langchain) (0.9.0)\n",
      "Requirement already satisfied: jsonpointer>=1.9 in /Users/terrycho/.local/lib/python3.11/site-packages (from jsonpatch<2.0,>=1.33->langchain) (2.4)\n",
      "Requirement already satisfied: anyio<5,>=3 in /Users/terrycho/.local/lib/python3.11/site-packages (from langchain-core<0.2,>=0.1.7->langchain) (4.2.0)\n",
      "Requirement already satisfied: packaging<24.0,>=23.2 in /Users/terrycho/.local/lib/python3.11/site-packages (from langchain-core<0.2,>=0.1.7->langchain) (23.2)\n",
      "Requirement already satisfied: annotated-types>=0.4.0 in /Users/terrycho/.local/lib/python3.11/site-packages (from pydantic<3,>=1->langchain) (0.6.0)\n",
      "Requirement already satisfied: pydantic-core==2.14.5 in /Users/terrycho/.local/lib/python3.11/site-packages (from pydantic<3,>=1->langchain) (2.14.5)\n",
      "Requirement already satisfied: typing-extensions>=4.6.1 in /Users/terrycho/.local/lib/python3.11/site-packages (from pydantic<3,>=1->langchain) (4.9.0)\n",
      "Requirement already satisfied: charset-normalizer<4,>=2 in /Users/terrycho/.local/lib/python3.11/site-packages (from requests<3,>=2->langchain) (3.3.2)\n",
      "Requirement already satisfied: idna<4,>=2.5 in /Users/terrycho/.local/lib/python3.11/site-packages (from requests<3,>=2->langchain) (3.6)\n",
      "Requirement already satisfied: urllib3<3,>=1.21.1 in /Users/terrycho/anaconda3/lib/python3.11/site-packages (from requests<3,>=2->langchain) (2.2.0)\n",
      "Requirement already satisfied: certifi>=2017.4.17 in /Users/terrycho/.local/lib/python3.11/site-packages (from requests<3,>=2->langchain) (2023.11.17)\n",
      "Requirement already satisfied: greenlet!=0.4.17 in /Users/terrycho/.local/lib/python3.11/site-packages (from SQLAlchemy<3,>=1.4->langchain) (3.0.2)\n",
      "Requirement already satisfied: sniffio>=1.1 in /Users/terrycho/.local/lib/python3.11/site-packages (from anyio<5,>=3->langchain-core<0.2,>=0.1.7->langchain) (1.3.0)\n",
      "Requirement already satisfied: mypy-extensions>=0.3.0 in /Users/terrycho/.local/lib/python3.11/site-packages (from typing-inspect<1,>=0.4.0->dataclasses-json<0.7,>=0.5.7->langchain) (1.0.0)\n"
     ]
    }
   ],
   "source": [
    "!pip install google-cloud-aiplatform>=1.38\n",
    "!pip install --user langchain"
   ]
  },
  {
   "cell_type": "code",
   "execution_count": 5,
   "id": "b91f6f1d-781c-4f43-9dfb-ff67afd27c9d",
   "metadata": {},
   "outputs": [
    {
     "name": "stdout",
     "output_type": "stream",
     "text": [
      "env: GOOGLE_APPLICATION_CREDENTIALS=/Users/terrycho/Downloads/terrycho-autopilot-745e16a0e2ae.json\n"
     ]
    }
   ],
   "source": [
    "%env GOOGLE_APPLICATION_CREDENTIALS=/Users/terrycho/Downloads/terrycho-autopilot-745e16a0e2ae.json\n",
    "#No quote \"\""
   ]
  },
  {
   "cell_type": "code",
   "execution_count": 6,
   "id": "5b9df8a6-d5ee-4414-87c6-174b2a5cdc6a",
   "metadata": {
    "tags": []
   },
   "outputs": [
    {
     "name": "stdout",
     "output_type": "stream",
     "text": [
      "Requirement already satisfied: google-cloud-aiplatform in /Users/terrycho/anaconda3/lib/python3.11/site-packages (1.40.0)\n",
      "Collecting google-cloud-aiplatform\n",
      "  Obtaining dependency information for google-cloud-aiplatform from https://files.pythonhosted.org/packages/81/6d/a4d0dc0712fcbdc7371875be7e7f9b73a1903f997a209272e5c7723e431c/google_cloud_aiplatform-1.47.0-py2.py3-none-any.whl.metadata\n",
      "  Downloading google_cloud_aiplatform-1.47.0-py2.py3-none-any.whl.metadata (30 kB)\n",
      "Requirement already satisfied: google-api-core[grpc]!=2.0.*,!=2.1.*,!=2.2.*,!=2.3.*,!=2.4.*,!=2.5.*,!=2.6.*,!=2.7.*,<3.0.0dev,>=1.34.1 in /Users/terrycho/anaconda3/lib/python3.11/site-packages (from google-cloud-aiplatform) (2.15.0)\n",
      "Requirement already satisfied: google-auth<3.0.0dev,>=2.14.1 in /Users/terrycho/anaconda3/lib/python3.11/site-packages (from google-cloud-aiplatform) (2.25.2)\n",
      "Requirement already satisfied: proto-plus<2.0.0dev,>=1.22.0 in /Users/terrycho/anaconda3/lib/python3.11/site-packages (from google-cloud-aiplatform) (1.23.0)\n",
      "Requirement already satisfied: protobuf!=3.20.0,!=3.20.1,!=4.21.0,!=4.21.1,!=4.21.2,!=4.21.3,!=4.21.4,!=4.21.5,<5.0.0dev,>=3.19.5 in /Users/terrycho/anaconda3/lib/python3.11/site-packages (from google-cloud-aiplatform) (4.25.1)\n",
      "Requirement already satisfied: packaging>=14.3 in /Users/terrycho/.local/lib/python3.11/site-packages (from google-cloud-aiplatform) (23.2)\n",
      "Requirement already satisfied: google-cloud-storage<3.0.0dev,>=1.32.0 in /Users/terrycho/anaconda3/lib/python3.11/site-packages (from google-cloud-aiplatform) (2.14.0)\n",
      "Requirement already satisfied: google-cloud-bigquery!=3.20.0,<4.0.0dev,>=1.15.0 in /Users/terrycho/anaconda3/lib/python3.11/site-packages (from google-cloud-aiplatform) (3.14.0)\n",
      "Requirement already satisfied: google-cloud-resource-manager<3.0.0dev,>=1.3.3 in /Users/terrycho/anaconda3/lib/python3.11/site-packages (from google-cloud-aiplatform) (1.11.0)\n",
      "Requirement already satisfied: shapely<3.0.0dev in /Users/terrycho/anaconda3/lib/python3.11/site-packages (from google-cloud-aiplatform) (2.0.2)\n",
      "Requirement already satisfied: pydantic<3 in /Users/terrycho/.local/lib/python3.11/site-packages (from google-cloud-aiplatform) (2.5.2)\n",
      "Collecting docstring-parser<1 (from google-cloud-aiplatform)\n",
      "  Obtaining dependency information for docstring-parser<1 from https://files.pythonhosted.org/packages/d5/7c/e9fcff7623954d86bdc17782036cbf715ecab1bec4847c008557affe1ca8/docstring_parser-0.16-py3-none-any.whl.metadata\n",
      "  Downloading docstring_parser-0.16-py3-none-any.whl.metadata (3.0 kB)\n",
      "Requirement already satisfied: googleapis-common-protos<2.0.dev0,>=1.56.2 in /Users/terrycho/anaconda3/lib/python3.11/site-packages (from google-api-core[grpc]!=2.0.*,!=2.1.*,!=2.2.*,!=2.3.*,!=2.4.*,!=2.5.*,!=2.6.*,!=2.7.*,<3.0.0dev,>=1.34.1->google-cloud-aiplatform) (1.62.0)\n",
      "Requirement already satisfied: requests<3.0.0.dev0,>=2.18.0 in /Users/terrycho/.local/lib/python3.11/site-packages (from google-api-core[grpc]!=2.0.*,!=2.1.*,!=2.2.*,!=2.3.*,!=2.4.*,!=2.5.*,!=2.6.*,!=2.7.*,<3.0.0dev,>=1.34.1->google-cloud-aiplatform) (2.31.0)\n",
      "Requirement already satisfied: grpcio<2.0dev,>=1.33.2 in /Users/terrycho/anaconda3/lib/python3.11/site-packages (from google-api-core[grpc]!=2.0.*,!=2.1.*,!=2.2.*,!=2.3.*,!=2.4.*,!=2.5.*,!=2.6.*,!=2.7.*,<3.0.0dev,>=1.34.1->google-cloud-aiplatform) (1.60.0)\n",
      "Requirement already satisfied: grpcio-status<2.0.dev0,>=1.33.2 in /Users/terrycho/anaconda3/lib/python3.11/site-packages (from google-api-core[grpc]!=2.0.*,!=2.1.*,!=2.2.*,!=2.3.*,!=2.4.*,!=2.5.*,!=2.6.*,!=2.7.*,<3.0.0dev,>=1.34.1->google-cloud-aiplatform) (1.60.0)\n",
      "Requirement already satisfied: cachetools<6.0,>=2.0.0 in /Users/terrycho/anaconda3/lib/python3.11/site-packages (from google-auth<3.0.0dev,>=2.14.1->google-cloud-aiplatform) (5.3.2)\n",
      "Requirement already satisfied: pyasn1-modules>=0.2.1 in /Users/terrycho/anaconda3/lib/python3.11/site-packages (from google-auth<3.0.0dev,>=2.14.1->google-cloud-aiplatform) (0.2.8)\n",
      "Requirement already satisfied: rsa<5,>=3.1.4 in /Users/terrycho/anaconda3/lib/python3.11/site-packages (from google-auth<3.0.0dev,>=2.14.1->google-cloud-aiplatform) (4.9)\n",
      "Requirement already satisfied: google-cloud-core<3.0.0dev,>=1.6.0 in /Users/terrycho/anaconda3/lib/python3.11/site-packages (from google-cloud-bigquery!=3.20.0,<4.0.0dev,>=1.15.0->google-cloud-aiplatform) (2.4.1)\n",
      "Requirement already satisfied: google-resumable-media<3.0dev,>=0.6.0 in /Users/terrycho/anaconda3/lib/python3.11/site-packages (from google-cloud-bigquery!=3.20.0,<4.0.0dev,>=1.15.0->google-cloud-aiplatform) (2.6.0)\n",
      "Requirement already satisfied: python-dateutil<3.0dev,>=2.7.2 in /Users/terrycho/anaconda3/lib/python3.11/site-packages (from google-cloud-bigquery!=3.20.0,<4.0.0dev,>=1.15.0->google-cloud-aiplatform) (2.8.2)\n",
      "Requirement already satisfied: grpc-google-iam-v1<1.0.0dev,>=0.12.4 in /Users/terrycho/anaconda3/lib/python3.11/site-packages (from google-cloud-resource-manager<3.0.0dev,>=1.3.3->google-cloud-aiplatform) (0.13.0)\n",
      "Requirement already satisfied: google-crc32c<2.0dev,>=1.0 in /Users/terrycho/anaconda3/lib/python3.11/site-packages (from google-cloud-storage<3.0.0dev,>=1.32.0->google-cloud-aiplatform) (1.5.0)\n",
      "Requirement already satisfied: annotated-types>=0.4.0 in /Users/terrycho/.local/lib/python3.11/site-packages (from pydantic<3->google-cloud-aiplatform) (0.6.0)\n",
      "Requirement already satisfied: pydantic-core==2.14.5 in /Users/terrycho/.local/lib/python3.11/site-packages (from pydantic<3->google-cloud-aiplatform) (2.14.5)\n",
      "Requirement already satisfied: typing-extensions>=4.6.1 in /Users/terrycho/.local/lib/python3.11/site-packages (from pydantic<3->google-cloud-aiplatform) (4.9.0)\n",
      "Requirement already satisfied: numpy>=1.14 in /Users/terrycho/.local/lib/python3.11/site-packages (from shapely<3.0.0dev->google-cloud-aiplatform) (1.26.2)\n",
      "Requirement already satisfied: pyasn1<0.5.0,>=0.4.6 in /Users/terrycho/anaconda3/lib/python3.11/site-packages (from pyasn1-modules>=0.2.1->google-auth<3.0.0dev,>=2.14.1->google-cloud-aiplatform) (0.4.8)\n",
      "Requirement already satisfied: six>=1.5 in /Users/terrycho/anaconda3/lib/python3.11/site-packages (from python-dateutil<3.0dev,>=2.7.2->google-cloud-bigquery!=3.20.0,<4.0.0dev,>=1.15.0->google-cloud-aiplatform) (1.16.0)\n",
      "Requirement already satisfied: charset-normalizer<4,>=2 in /Users/terrycho/.local/lib/python3.11/site-packages (from requests<3.0.0.dev0,>=2.18.0->google-api-core[grpc]!=2.0.*,!=2.1.*,!=2.2.*,!=2.3.*,!=2.4.*,!=2.5.*,!=2.6.*,!=2.7.*,<3.0.0dev,>=1.34.1->google-cloud-aiplatform) (3.3.2)\n",
      "Requirement already satisfied: idna<4,>=2.5 in /Users/terrycho/.local/lib/python3.11/site-packages (from requests<3.0.0.dev0,>=2.18.0->google-api-core[grpc]!=2.0.*,!=2.1.*,!=2.2.*,!=2.3.*,!=2.4.*,!=2.5.*,!=2.6.*,!=2.7.*,<3.0.0dev,>=1.34.1->google-cloud-aiplatform) (3.6)\n",
      "Requirement already satisfied: urllib3<3,>=1.21.1 in /Users/terrycho/anaconda3/lib/python3.11/site-packages (from requests<3.0.0.dev0,>=2.18.0->google-api-core[grpc]!=2.0.*,!=2.1.*,!=2.2.*,!=2.3.*,!=2.4.*,!=2.5.*,!=2.6.*,!=2.7.*,<3.0.0dev,>=1.34.1->google-cloud-aiplatform) (2.2.0)\n",
      "Requirement already satisfied: certifi>=2017.4.17 in /Users/terrycho/.local/lib/python3.11/site-packages (from requests<3.0.0.dev0,>=2.18.0->google-api-core[grpc]!=2.0.*,!=2.1.*,!=2.2.*,!=2.3.*,!=2.4.*,!=2.5.*,!=2.6.*,!=2.7.*,<3.0.0dev,>=1.34.1->google-cloud-aiplatform) (2023.11.17)\n",
      "Downloading google_cloud_aiplatform-1.47.0-py2.py3-none-any.whl (4.8 MB)\n",
      "\u001b[2K   \u001b[90m━━━━━━━━━━━━━━━━━━━━━━━━━━━━━━━━━━━━━━━━\u001b[0m \u001b[32m4.8/4.8 MB\u001b[0m \u001b[31m32.4 MB/s\u001b[0m eta \u001b[36m0:00:00\u001b[0m00:01\u001b[0m00:01\u001b[0m\n",
      "\u001b[?25hDownloading docstring_parser-0.16-py3-none-any.whl (36 kB)\n",
      "Installing collected packages: docstring-parser, google-cloud-aiplatform\n",
      "  Attempting uninstall: google-cloud-aiplatform\n",
      "    Found existing installation: google-cloud-aiplatform 1.40.0\n",
      "    Uninstalling google-cloud-aiplatform-1.40.0:\n",
      "      Successfully uninstalled google-cloud-aiplatform-1.40.0\n",
      "Successfully installed docstring-parser-0.16 google-cloud-aiplatform-1.47.0\n",
      "Requirement already satisfied: langchain-core in /Users/terrycho/anaconda3/lib/python3.11/site-packages (0.1.18)\n",
      "Collecting langchain-core\n",
      "  Obtaining dependency information for langchain-core from https://files.pythonhosted.org/packages/1d/93/0f6969c7d8a9cd220e600d10ccc16a8e5f1f27e55310ae077d8c3bc8d354/langchain_core-0.1.42-py3-none-any.whl.metadata\n",
      "  Downloading langchain_core-0.1.42-py3-none-any.whl.metadata (5.9 kB)\n",
      "Requirement already satisfied: langchain-google-vertexai in /Users/terrycho/anaconda3/lib/python3.11/site-packages (0.0.3)\n",
      "Collecting langchain-google-vertexai\n",
      "  Obtaining dependency information for langchain-google-vertexai from https://files.pythonhosted.org/packages/dc/97/c934602bc36bb0f835352546f6334c5c8d25fd0f06b5df00a879f5f9daca/langchain_google_vertexai-1.0.1-py3-none-any.whl.metadata\n",
      "  Downloading langchain_google_vertexai-1.0.1-py3-none-any.whl.metadata (3.7 kB)\n",
      "Requirement already satisfied: PyYAML>=5.3 in /Users/terrycho/.local/lib/python3.11/site-packages (from langchain-core) (6.0.1)\n",
      "Requirement already satisfied: jsonpatch<2.0,>=1.33 in /Users/terrycho/.local/lib/python3.11/site-packages (from langchain-core) (1.33)\n",
      "Collecting langsmith<0.2.0,>=0.1.0 (from langchain-core)\n",
      "  Obtaining dependency information for langsmith<0.2.0,>=0.1.0 from https://files.pythonhosted.org/packages/d8/e1/915944a1017a811762b07259b188100f04f887199a71f7d2cd801ac1216a/langsmith-0.1.47-py3-none-any.whl.metadata\n",
      "  Downloading langsmith-0.1.47-py3-none-any.whl.metadata (13 kB)\n",
      "Requirement already satisfied: packaging<24.0,>=23.2 in /Users/terrycho/.local/lib/python3.11/site-packages (from langchain-core) (23.2)\n",
      "Requirement already satisfied: pydantic<3,>=1 in /Users/terrycho/.local/lib/python3.11/site-packages (from langchain-core) (2.5.2)\n",
      "Requirement already satisfied: tenacity<9.0.0,>=8.1.0 in /Users/terrycho/.local/lib/python3.11/site-packages (from langchain-core) (8.2.3)\n",
      "Requirement already satisfied: google-cloud-aiplatform<2.0.0,>=1.47.0 in /Users/terrycho/anaconda3/lib/python3.11/site-packages (from langchain-google-vertexai) (1.47.0)\n",
      "Requirement already satisfied: google-cloud-storage<3.0.0,>=2.14.0 in /Users/terrycho/anaconda3/lib/python3.11/site-packages (from langchain-google-vertexai) (2.14.0)\n",
      "Requirement already satisfied: types-protobuf<5.0.0.0,>=4.24.0.4 in /Users/terrycho/anaconda3/lib/python3.11/site-packages (from langchain-google-vertexai) (4.24.0.20240129)\n",
      "Requirement already satisfied: types-requests<3.0.0,>=2.31.0 in /Users/terrycho/anaconda3/lib/python3.11/site-packages (from langchain-google-vertexai) (2.31.0.20240125)\n",
      "Requirement already satisfied: google-api-core[grpc]!=2.0.*,!=2.1.*,!=2.2.*,!=2.3.*,!=2.4.*,!=2.5.*,!=2.6.*,!=2.7.*,<3.0.0dev,>=1.34.1 in /Users/terrycho/anaconda3/lib/python3.11/site-packages (from google-cloud-aiplatform<2.0.0,>=1.47.0->langchain-google-vertexai) (2.15.0)\n",
      "Requirement already satisfied: google-auth<3.0.0dev,>=2.14.1 in /Users/terrycho/anaconda3/lib/python3.11/site-packages (from google-cloud-aiplatform<2.0.0,>=1.47.0->langchain-google-vertexai) (2.25.2)\n",
      "Requirement already satisfied: proto-plus<2.0.0dev,>=1.22.0 in /Users/terrycho/anaconda3/lib/python3.11/site-packages (from google-cloud-aiplatform<2.0.0,>=1.47.0->langchain-google-vertexai) (1.23.0)\n",
      "Requirement already satisfied: protobuf!=3.20.0,!=3.20.1,!=4.21.0,!=4.21.1,!=4.21.2,!=4.21.3,!=4.21.4,!=4.21.5,<5.0.0dev,>=3.19.5 in /Users/terrycho/anaconda3/lib/python3.11/site-packages (from google-cloud-aiplatform<2.0.0,>=1.47.0->langchain-google-vertexai) (4.25.1)\n",
      "Requirement already satisfied: google-cloud-bigquery!=3.20.0,<4.0.0dev,>=1.15.0 in /Users/terrycho/anaconda3/lib/python3.11/site-packages (from google-cloud-aiplatform<2.0.0,>=1.47.0->langchain-google-vertexai) (3.14.0)\n",
      "Requirement already satisfied: google-cloud-resource-manager<3.0.0dev,>=1.3.3 in /Users/terrycho/anaconda3/lib/python3.11/site-packages (from google-cloud-aiplatform<2.0.0,>=1.47.0->langchain-google-vertexai) (1.11.0)\n",
      "Requirement already satisfied: shapely<3.0.0dev in /Users/terrycho/anaconda3/lib/python3.11/site-packages (from google-cloud-aiplatform<2.0.0,>=1.47.0->langchain-google-vertexai) (2.0.2)\n",
      "Requirement already satisfied: docstring-parser<1 in /Users/terrycho/anaconda3/lib/python3.11/site-packages (from google-cloud-aiplatform<2.0.0,>=1.47.0->langchain-google-vertexai) (0.16)\n",
      "Requirement already satisfied: google-cloud-core<3.0dev,>=2.3.0 in /Users/terrycho/anaconda3/lib/python3.11/site-packages (from google-cloud-storage<3.0.0,>=2.14.0->langchain-google-vertexai) (2.4.1)\n",
      "Requirement already satisfied: google-resumable-media>=2.6.0 in /Users/terrycho/anaconda3/lib/python3.11/site-packages (from google-cloud-storage<3.0.0,>=2.14.0->langchain-google-vertexai) (2.6.0)\n",
      "Requirement already satisfied: requests<3.0.0dev,>=2.18.0 in /Users/terrycho/.local/lib/python3.11/site-packages (from google-cloud-storage<3.0.0,>=2.14.0->langchain-google-vertexai) (2.31.0)\n",
      "Requirement already satisfied: google-crc32c<2.0dev,>=1.0 in /Users/terrycho/anaconda3/lib/python3.11/site-packages (from google-cloud-storage<3.0.0,>=2.14.0->langchain-google-vertexai) (1.5.0)\n",
      "Requirement already satisfied: jsonpointer>=1.9 in /Users/terrycho/.local/lib/python3.11/site-packages (from jsonpatch<2.0,>=1.33->langchain-core) (2.4)\n",
      "Collecting orjson<4.0.0,>=3.9.14 (from langsmith<0.2.0,>=0.1.0->langchain-core)\n",
      "  Obtaining dependency information for orjson<4.0.0,>=3.9.14 from https://files.pythonhosted.org/packages/3e/ae/a18a545261c308c3038fdec98b58186d48cf27e009a135c0cd70852fee1d/orjson-3.10.0-cp311-cp311-macosx_10_15_x86_64.macosx_11_0_arm64.macosx_10_15_universal2.whl.metadata\n",
      "  Downloading orjson-3.10.0-cp311-cp311-macosx_10_15_x86_64.macosx_11_0_arm64.macosx_10_15_universal2.whl.metadata (49 kB)\n",
      "\u001b[2K     \u001b[90m━━━━━━━━━━━━━━━━━━━━━━━━━━━━━━━━━━━━━━━━\u001b[0m \u001b[32m49.5/49.5 kB\u001b[0m \u001b[31m1.2 MB/s\u001b[0m eta \u001b[36m0:00:00\u001b[0ma \u001b[36m0:00:01\u001b[0m\n",
      "\u001b[?25hRequirement already satisfied: annotated-types>=0.4.0 in /Users/terrycho/.local/lib/python3.11/site-packages (from pydantic<3,>=1->langchain-core) (0.6.0)\n",
      "Requirement already satisfied: pydantic-core==2.14.5 in /Users/terrycho/.local/lib/python3.11/site-packages (from pydantic<3,>=1->langchain-core) (2.14.5)\n",
      "Requirement already satisfied: typing-extensions>=4.6.1 in /Users/terrycho/.local/lib/python3.11/site-packages (from pydantic<3,>=1->langchain-core) (4.9.0)\n",
      "Requirement already satisfied: urllib3>=2 in /Users/terrycho/anaconda3/lib/python3.11/site-packages (from types-requests<3.0.0,>=2.31.0->langchain-google-vertexai) (2.2.0)\n",
      "Requirement already satisfied: googleapis-common-protos<2.0.dev0,>=1.56.2 in /Users/terrycho/anaconda3/lib/python3.11/site-packages (from google-api-core[grpc]!=2.0.*,!=2.1.*,!=2.2.*,!=2.3.*,!=2.4.*,!=2.5.*,!=2.6.*,!=2.7.*,<3.0.0dev,>=1.34.1->google-cloud-aiplatform<2.0.0,>=1.47.0->langchain-google-vertexai) (1.62.0)\n",
      "Requirement already satisfied: grpcio<2.0dev,>=1.33.2 in /Users/terrycho/anaconda3/lib/python3.11/site-packages (from google-api-core[grpc]!=2.0.*,!=2.1.*,!=2.2.*,!=2.3.*,!=2.4.*,!=2.5.*,!=2.6.*,!=2.7.*,<3.0.0dev,>=1.34.1->google-cloud-aiplatform<2.0.0,>=1.47.0->langchain-google-vertexai) (1.60.0)\n",
      "Requirement already satisfied: grpcio-status<2.0.dev0,>=1.33.2 in /Users/terrycho/anaconda3/lib/python3.11/site-packages (from google-api-core[grpc]!=2.0.*,!=2.1.*,!=2.2.*,!=2.3.*,!=2.4.*,!=2.5.*,!=2.6.*,!=2.7.*,<3.0.0dev,>=1.34.1->google-cloud-aiplatform<2.0.0,>=1.47.0->langchain-google-vertexai) (1.60.0)\n",
      "Requirement already satisfied: cachetools<6.0,>=2.0.0 in /Users/terrycho/anaconda3/lib/python3.11/site-packages (from google-auth<3.0.0dev,>=2.14.1->google-cloud-aiplatform<2.0.0,>=1.47.0->langchain-google-vertexai) (5.3.2)\n",
      "Requirement already satisfied: pyasn1-modules>=0.2.1 in /Users/terrycho/anaconda3/lib/python3.11/site-packages (from google-auth<3.0.0dev,>=2.14.1->google-cloud-aiplatform<2.0.0,>=1.47.0->langchain-google-vertexai) (0.2.8)\n",
      "Requirement already satisfied: rsa<5,>=3.1.4 in /Users/terrycho/anaconda3/lib/python3.11/site-packages (from google-auth<3.0.0dev,>=2.14.1->google-cloud-aiplatform<2.0.0,>=1.47.0->langchain-google-vertexai) (4.9)\n",
      "Requirement already satisfied: python-dateutil<3.0dev,>=2.7.2 in /Users/terrycho/anaconda3/lib/python3.11/site-packages (from google-cloud-bigquery!=3.20.0,<4.0.0dev,>=1.15.0->google-cloud-aiplatform<2.0.0,>=1.47.0->langchain-google-vertexai) (2.8.2)\n",
      "Requirement already satisfied: grpc-google-iam-v1<1.0.0dev,>=0.12.4 in /Users/terrycho/anaconda3/lib/python3.11/site-packages (from google-cloud-resource-manager<3.0.0dev,>=1.3.3->google-cloud-aiplatform<2.0.0,>=1.47.0->langchain-google-vertexai) (0.13.0)\n",
      "Requirement already satisfied: charset-normalizer<4,>=2 in /Users/terrycho/.local/lib/python3.11/site-packages (from requests<3.0.0dev,>=2.18.0->google-cloud-storage<3.0.0,>=2.14.0->langchain-google-vertexai) (3.3.2)\n",
      "Requirement already satisfied: idna<4,>=2.5 in /Users/terrycho/.local/lib/python3.11/site-packages (from requests<3.0.0dev,>=2.18.0->google-cloud-storage<3.0.0,>=2.14.0->langchain-google-vertexai) (3.6)\n",
      "Requirement already satisfied: certifi>=2017.4.17 in /Users/terrycho/.local/lib/python3.11/site-packages (from requests<3.0.0dev,>=2.18.0->google-cloud-storage<3.0.0,>=2.14.0->langchain-google-vertexai) (2023.11.17)\n",
      "Requirement already satisfied: numpy>=1.14 in /Users/terrycho/.local/lib/python3.11/site-packages (from shapely<3.0.0dev->google-cloud-aiplatform<2.0.0,>=1.47.0->langchain-google-vertexai) (1.26.2)\n",
      "Requirement already satisfied: pyasn1<0.5.0,>=0.4.6 in /Users/terrycho/anaconda3/lib/python3.11/site-packages (from pyasn1-modules>=0.2.1->google-auth<3.0.0dev,>=2.14.1->google-cloud-aiplatform<2.0.0,>=1.47.0->langchain-google-vertexai) (0.4.8)\n",
      "Requirement already satisfied: six>=1.5 in /Users/terrycho/anaconda3/lib/python3.11/site-packages (from python-dateutil<3.0dev,>=2.7.2->google-cloud-bigquery!=3.20.0,<4.0.0dev,>=1.15.0->google-cloud-aiplatform<2.0.0,>=1.47.0->langchain-google-vertexai) (1.16.0)\n",
      "Downloading langchain_core-0.1.42-py3-none-any.whl (287 kB)\n",
      "\u001b[2K   \u001b[90m━━━━━━━━━━━━━━━━━━━━━━━━━━━━━━━━━━━━━━━━\u001b[0m \u001b[32m287.5/287.5 kB\u001b[0m \u001b[31m5.9 MB/s\u001b[0m eta \u001b[36m0:00:00\u001b[0m:00:01\u001b[0m\n",
      "\u001b[?25hDownloading langchain_google_vertexai-1.0.1-py3-none-any.whl (53 kB)\n",
      "\u001b[2K   \u001b[90m━━━━━━━━━━━━━━━━━━━━━━━━━━━━━━━━━━━━━━━━\u001b[0m \u001b[32m53.3/53.3 kB\u001b[0m \u001b[31m2.0 MB/s\u001b[0m eta \u001b[36m0:00:00\u001b[0m\n",
      "\u001b[?25hDownloading langsmith-0.1.47-py3-none-any.whl (113 kB)\n",
      "\u001b[2K   \u001b[90m━━━━━━━━━━━━━━━━━━━━━━━━━━━━━━━━━━━━━━━━\u001b[0m \u001b[32m113.0/113.0 kB\u001b[0m \u001b[31m4.4 MB/s\u001b[0m eta \u001b[36m0:00:00\u001b[0m\n",
      "\u001b[?25hDownloading orjson-3.10.0-cp311-cp311-macosx_10_15_x86_64.macosx_11_0_arm64.macosx_10_15_universal2.whl (252 kB)\n",
      "\u001b[2K   \u001b[90m━━━━━━━━━━━━━━━━━━━━━━━━━━━━━━━━━━━━━━━━\u001b[0m \u001b[32m252.1/252.1 kB\u001b[0m \u001b[31m9.5 MB/s\u001b[0m eta \u001b[36m0:00:00\u001b[0m\n",
      "\u001b[?25hInstalling collected packages: orjson, langsmith, langchain-core, langchain-google-vertexai\n",
      "  Attempting uninstall: langsmith\n",
      "    Found existing installation: langsmith 0.0.86\n",
      "    Uninstalling langsmith-0.0.86:\n",
      "      Successfully uninstalled langsmith-0.0.86\n",
      "  Attempting uninstall: langchain-core\n",
      "    Found existing installation: langchain-core 0.1.18\n",
      "    Uninstalling langchain-core-0.1.18:\n",
      "      Successfully uninstalled langchain-core-0.1.18\n",
      "  Attempting uninstall: langchain-google-vertexai\n",
      "    Found existing installation: langchain-google-vertexai 0.0.3\n",
      "    Uninstalling langchain-google-vertexai-0.0.3:\n",
      "      Successfully uninstalled langchain-google-vertexai-0.0.3\n",
      "\u001b[31mERROR: pip's dependency resolver does not currently take into account all the packages that are installed. This behaviour is the source of the following dependency conflicts.\n",
      "langchain 0.1.0 requires langsmith<0.1.0,>=0.0.77, but you have langsmith 0.1.47 which is incompatible.\n",
      "langchain-community 0.0.17 requires langsmith<0.1,>=0.0.83, but you have langsmith 0.1.47 which is incompatible.\u001b[0m\u001b[31m\n",
      "\u001b[0mSuccessfully installed langchain-core-0.1.42 langchain-google-vertexai-1.0.1 langsmith-0.1.47 orjson-3.10.0\n"
     ]
    }
   ],
   "source": [
    "!pip install --upgrade google-cloud-aiplatform\n",
    "!pip install --upgrade langchain-core langchain-google-vertexai"
   ]
  },
  {
   "cell_type": "code",
   "execution_count": 7,
   "id": "b7346e03-19c3-4a02-83bf-9632e34f2246",
   "metadata": {
    "tags": []
   },
   "outputs": [
    {
     "name": "stderr",
     "output_type": "stream",
     "text": [
      "/Users/terrycho/anaconda3/lib/python3.11/site-packages/langchain_core/_api/deprecation.py:117: LangChainDeprecationWarning: The class `langchain_community.llms.vertexai.VertexAI` was deprecated in langchain-community 0.0.12 and will be removed in 0.2.0. An updated version of the class exists in the langchain-google-vertexai package and should be used instead. To use it run `pip install -U langchain-google-vertexai` and import as `from langchain_google_vertexai import VertexAI`.\n",
      "  warn_deprecated(\n"
     ]
    },
    {
     "name": "stdout",
     "output_type": "stream",
     "text": [
      "1. **Kang Ho Dong Baekjeong** (San Francisco): Known for its authentic Korean barbecue, with a wide selection of meats and banchan (side dishes).\n",
      "2. **The Chairman** (San Francisco): A modern Korean restaurant with a focus on elevated dishes and a sophisticated ambiance.\n",
      "3. **Dan Sung Sa** (San Francisco): A long-standing Korean restaurant specializing in traditional dishes, including spicy pork belly and kimchi pancakes.\n",
      "4. **Sura** (Palo Alto): A Michelin-starred restaurant offering contemporary Korean cuisine with a focus on seasonal ingredients and innovative flavors.\n",
      "5. **Han Il Kwan**\n"
     ]
    }
   ],
   "source": [
    "from langchain.llms import VertexAI\n",
    "\n",
    "# Vertex AI LLM Initialization part\n",
    "import vertexai\n",
    "\n",
    "PROJECT_ID = \"terrycho-autopilot\"\n",
    "LOCATION = \"us-central1\"  # e.g. us-central1\n",
    "vertexai.init(project=PROJECT_ID, location=LOCATION)\n",
    "\n",
    "llm = VertexAI(model_name=\"gemini-pro\")\n",
    "# llm = VertexAI()\n",
    "question = \"What is top 5 Korean reastaurant in BayArea?\"\n",
    "answer = llm(question)\n",
    "print(answer)"
   ]
  },
  {
   "cell_type": "code",
   "execution_count": 6,
   "id": "bb2cf6aa-dd50-430d-82e3-81992950d70c",
   "metadata": {},
   "outputs": [
    {
     "data": {
      "text/plain": [
       "VertexAI(client=<vertexai.preview.language_models._PreviewTextGenerationModel object at 0x12ff17b10>)"
      ]
     },
     "execution_count": 6,
     "metadata": {},
     "output_type": "execute_result"
    }
   ],
   "source": [
    "llm"
   ]
  },
  {
   "cell_type": "markdown",
   "id": "dd763544-b3e7-4967-a683-b80ca3cd9e80",
   "metadata": {},
   "source": [
    "# Gemini"
   ]
  },
  {
   "cell_type": "code",
   "execution_count": 8,
   "id": "fee2cd09-575d-4733-adf2-f1c52534a4e4",
   "metadata": {
    "tags": []
   },
   "outputs": [
    {
     "name": "stdout",
     "output_type": "stream",
     "text": [
      "Requirement already satisfied: langchain-google-genai in /Users/terrycho/anaconda3/lib/python3.11/site-packages (0.0.6)\n",
      "Collecting langchain-google-genai\n",
      "  Obtaining dependency information for langchain-google-genai from https://files.pythonhosted.org/packages/8f/ad/9774414b9f2b6acbeb68a7b209c9ddc73b8d6a968561ef49a2caef5d137b/langchain_google_genai-1.0.2-py3-none-any.whl.metadata\n",
      "  Downloading langchain_google_genai-1.0.2-py3-none-any.whl.metadata (3.8 kB)\n",
      "Requirement already satisfied: langchain in /Users/terrycho/anaconda3/lib/python3.11/site-packages (0.1.0)\n",
      "Collecting langchain\n",
      "  Obtaining dependency information for langchain from https://files.pythonhosted.org/packages/ed/3e/93045d37eba24e0b5eb05312e30cd9e12805ea5f1ae9ba51ec8a7d2f5372/langchain-0.1.16-py3-none-any.whl.metadata\n",
      "  Downloading langchain-0.1.16-py3-none-any.whl.metadata (13 kB)\n",
      "Collecting google-generativeai<0.6.0,>=0.5.0 (from langchain-google-genai)\n",
      "  Obtaining dependency information for google-generativeai<0.6.0,>=0.5.0 from https://files.pythonhosted.org/packages/6b/4e/f9a1917cf9746a531904fda57fa08050408c544e565c301cb50db6889b5f/google_generativeai-0.5.0-py3-none-any.whl.metadata\n",
      "  Downloading google_generativeai-0.5.0-py3-none-any.whl.metadata (3.9 kB)\n",
      "Requirement already satisfied: langchain-core<0.2,>=0.1.27 in /Users/terrycho/anaconda3/lib/python3.11/site-packages (from langchain-google-genai) (0.1.42)\n",
      "Requirement already satisfied: PyYAML>=5.3 in /Users/terrycho/.local/lib/python3.11/site-packages (from langchain) (6.0.1)\n",
      "Requirement already satisfied: SQLAlchemy<3,>=1.4 in /Users/terrycho/.local/lib/python3.11/site-packages (from langchain) (2.0.23)\n",
      "Requirement already satisfied: aiohttp<4.0.0,>=3.8.3 in /Users/terrycho/.local/lib/python3.11/site-packages (from langchain) (3.9.1)\n",
      "Requirement already satisfied: dataclasses-json<0.7,>=0.5.7 in /Users/terrycho/.local/lib/python3.11/site-packages (from langchain) (0.6.3)\n",
      "Requirement already satisfied: jsonpatch<2.0,>=1.33 in /Users/terrycho/.local/lib/python3.11/site-packages (from langchain) (1.33)\n",
      "Collecting langchain-community<0.1,>=0.0.32 (from langchain)\n",
      "  Obtaining dependency information for langchain-community<0.1,>=0.0.32 from https://files.pythonhosted.org/packages/6d/9e/2af18bcaebd47995ec5a4e3eeb7c6cf8e6a99c637a7cafe09bb98fc0f6f5/langchain_community-0.0.32-py3-none-any.whl.metadata\n",
      "  Downloading langchain_community-0.0.32-py3-none-any.whl.metadata (8.5 kB)\n",
      "Collecting langchain-text-splitters<0.1,>=0.0.1 (from langchain)\n",
      "  Obtaining dependency information for langchain-text-splitters<0.1,>=0.0.1 from https://files.pythonhosted.org/packages/9d/a1/aec824080111e9b4a4802b51b988032faa193828c865e11233d1b18e88fa/langchain_text_splitters-0.0.1-py3-none-any.whl.metadata\n",
      "  Downloading langchain_text_splitters-0.0.1-py3-none-any.whl.metadata (2.0 kB)\n",
      "Requirement already satisfied: langsmith<0.2.0,>=0.1.17 in /Users/terrycho/anaconda3/lib/python3.11/site-packages (from langchain) (0.1.47)\n",
      "Requirement already satisfied: numpy<2,>=1 in /Users/terrycho/.local/lib/python3.11/site-packages (from langchain) (1.26.2)\n",
      "Requirement already satisfied: pydantic<3,>=1 in /Users/terrycho/.local/lib/python3.11/site-packages (from langchain) (2.5.2)\n",
      "Requirement already satisfied: requests<3,>=2 in /Users/terrycho/.local/lib/python3.11/site-packages (from langchain) (2.31.0)\n",
      "Requirement already satisfied: tenacity<9.0.0,>=8.1.0 in /Users/terrycho/.local/lib/python3.11/site-packages (from langchain) (8.2.3)\n",
      "Requirement already satisfied: attrs>=17.3.0 in /Users/terrycho/.local/lib/python3.11/site-packages (from aiohttp<4.0.0,>=3.8.3->langchain) (23.1.0)\n",
      "Requirement already satisfied: multidict<7.0,>=4.5 in /Users/terrycho/.local/lib/python3.11/site-packages (from aiohttp<4.0.0,>=3.8.3->langchain) (6.0.4)\n",
      "Requirement already satisfied: yarl<2.0,>=1.0 in /Users/terrycho/.local/lib/python3.11/site-packages (from aiohttp<4.0.0,>=3.8.3->langchain) (1.9.4)\n",
      "Requirement already satisfied: frozenlist>=1.1.1 in /Users/terrycho/.local/lib/python3.11/site-packages (from aiohttp<4.0.0,>=3.8.3->langchain) (1.4.1)\n",
      "Requirement already satisfied: aiosignal>=1.1.2 in /Users/terrycho/.local/lib/python3.11/site-packages (from aiohttp<4.0.0,>=3.8.3->langchain) (1.3.1)\n",
      "Requirement already satisfied: marshmallow<4.0.0,>=3.18.0 in /Users/terrycho/.local/lib/python3.11/site-packages (from dataclasses-json<0.7,>=0.5.7->langchain) (3.20.1)\n",
      "Requirement already satisfied: typing-inspect<1,>=0.4.0 in /Users/terrycho/.local/lib/python3.11/site-packages (from dataclasses-json<0.7,>=0.5.7->langchain) (0.9.0)\n",
      "Collecting google-ai-generativelanguage==0.6.1 (from google-generativeai<0.6.0,>=0.5.0->langchain-google-genai)\n",
      "  Obtaining dependency information for google-ai-generativelanguage==0.6.1 from https://files.pythonhosted.org/packages/d1/c2/6f5b9ac92fabcabb74e7676627cb4a8ac5f0d33b5a2b70d010f954162c0f/google_ai_generativelanguage-0.6.1-py3-none-any.whl.metadata\n",
      "  Downloading google_ai_generativelanguage-0.6.1-py3-none-any.whl.metadata (5.2 kB)\n",
      "Requirement already satisfied: google-api-core in /Users/terrycho/anaconda3/lib/python3.11/site-packages (from google-generativeai<0.6.0,>=0.5.0->langchain-google-genai) (2.15.0)\n",
      "Collecting google-api-python-client (from google-generativeai<0.6.0,>=0.5.0->langchain-google-genai)\n",
      "  Obtaining dependency information for google-api-python-client from https://files.pythonhosted.org/packages/cb/4e/0b6ce3651cecea77346255b966a69ac74b544b0bb02ed463e405a8e7cf7b/google_api_python_client-2.125.0-py2.py3-none-any.whl.metadata\n",
      "  Downloading google_api_python_client-2.125.0-py2.py3-none-any.whl.metadata (6.6 kB)\n",
      "Requirement already satisfied: google-auth>=2.15.0 in /Users/terrycho/anaconda3/lib/python3.11/site-packages (from google-generativeai<0.6.0,>=0.5.0->langchain-google-genai) (2.25.2)\n",
      "Requirement already satisfied: protobuf in /Users/terrycho/anaconda3/lib/python3.11/site-packages (from google-generativeai<0.6.0,>=0.5.0->langchain-google-genai) (4.25.1)\n",
      "Requirement already satisfied: tqdm in /Users/terrycho/.local/lib/python3.11/site-packages (from google-generativeai<0.6.0,>=0.5.0->langchain-google-genai) (4.66.1)\n",
      "Requirement already satisfied: typing-extensions in /Users/terrycho/.local/lib/python3.11/site-packages (from google-generativeai<0.6.0,>=0.5.0->langchain-google-genai) (4.9.0)\n",
      "Requirement already satisfied: proto-plus<2.0.0dev,>=1.22.3 in /Users/terrycho/anaconda3/lib/python3.11/site-packages (from google-ai-generativelanguage==0.6.1->google-generativeai<0.6.0,>=0.5.0->langchain-google-genai) (1.23.0)\n",
      "Requirement already satisfied: jsonpointer>=1.9 in /Users/terrycho/.local/lib/python3.11/site-packages (from jsonpatch<2.0,>=1.33->langchain) (2.4)\n",
      "Requirement already satisfied: packaging<24.0,>=23.2 in /Users/terrycho/.local/lib/python3.11/site-packages (from langchain-core<0.2,>=0.1.27->langchain-google-genai) (23.2)\n",
      "Requirement already satisfied: orjson<4.0.0,>=3.9.14 in /Users/terrycho/anaconda3/lib/python3.11/site-packages (from langsmith<0.2.0,>=0.1.17->langchain) (3.10.0)\n",
      "Requirement already satisfied: annotated-types>=0.4.0 in /Users/terrycho/.local/lib/python3.11/site-packages (from pydantic<3,>=1->langchain) (0.6.0)\n",
      "Requirement already satisfied: pydantic-core==2.14.5 in /Users/terrycho/.local/lib/python3.11/site-packages (from pydantic<3,>=1->langchain) (2.14.5)\n",
      "Requirement already satisfied: charset-normalizer<4,>=2 in /Users/terrycho/.local/lib/python3.11/site-packages (from requests<3,>=2->langchain) (3.3.2)\n",
      "Requirement already satisfied: idna<4,>=2.5 in /Users/terrycho/.local/lib/python3.11/site-packages (from requests<3,>=2->langchain) (3.6)\n",
      "Requirement already satisfied: urllib3<3,>=1.21.1 in /Users/terrycho/anaconda3/lib/python3.11/site-packages (from requests<3,>=2->langchain) (2.2.0)\n",
      "Requirement already satisfied: certifi>=2017.4.17 in /Users/terrycho/.local/lib/python3.11/site-packages (from requests<3,>=2->langchain) (2023.11.17)\n",
      "Requirement already satisfied: greenlet!=0.4.17 in /Users/terrycho/.local/lib/python3.11/site-packages (from SQLAlchemy<3,>=1.4->langchain) (3.0.2)\n",
      "Requirement already satisfied: cachetools<6.0,>=2.0.0 in /Users/terrycho/anaconda3/lib/python3.11/site-packages (from google-auth>=2.15.0->google-generativeai<0.6.0,>=0.5.0->langchain-google-genai) (5.3.2)\n",
      "Requirement already satisfied: pyasn1-modules>=0.2.1 in /Users/terrycho/anaconda3/lib/python3.11/site-packages (from google-auth>=2.15.0->google-generativeai<0.6.0,>=0.5.0->langchain-google-genai) (0.2.8)\n",
      "Requirement already satisfied: rsa<5,>=3.1.4 in /Users/terrycho/anaconda3/lib/python3.11/site-packages (from google-auth>=2.15.0->google-generativeai<0.6.0,>=0.5.0->langchain-google-genai) (4.9)\n",
      "Requirement already satisfied: mypy-extensions>=0.3.0 in /Users/terrycho/.local/lib/python3.11/site-packages (from typing-inspect<1,>=0.4.0->dataclasses-json<0.7,>=0.5.7->langchain) (1.0.0)\n",
      "Requirement already satisfied: googleapis-common-protos<2.0.dev0,>=1.56.2 in /Users/terrycho/anaconda3/lib/python3.11/site-packages (from google-api-core->google-generativeai<0.6.0,>=0.5.0->langchain-google-genai) (1.62.0)\n",
      "Collecting httplib2<1.dev0,>=0.19.0 (from google-api-python-client->google-generativeai<0.6.0,>=0.5.0->langchain-google-genai)\n",
      "  Obtaining dependency information for httplib2<1.dev0,>=0.19.0 from https://files.pythonhosted.org/packages/a8/6c/d2fbdaaa5959339d53ba38e94c123e4e84b8fbc4b84beb0e70d7c1608486/httplib2-0.22.0-py3-none-any.whl.metadata\n",
      "  Downloading httplib2-0.22.0-py3-none-any.whl.metadata (2.6 kB)\n",
      "Collecting google-auth-httplib2<1.0.0,>=0.2.0 (from google-api-python-client->google-generativeai<0.6.0,>=0.5.0->langchain-google-genai)\n",
      "  Obtaining dependency information for google-auth-httplib2<1.0.0,>=0.2.0 from https://files.pythonhosted.org/packages/be/8a/fe34d2f3f9470a27b01c9e76226965863f153d5fbe276f83608562e49c04/google_auth_httplib2-0.2.0-py2.py3-none-any.whl.metadata\n",
      "  Downloading google_auth_httplib2-0.2.0-py2.py3-none-any.whl.metadata (2.2 kB)\n",
      "Collecting uritemplate<5,>=3.0.1 (from google-api-python-client->google-generativeai<0.6.0,>=0.5.0->langchain-google-genai)\n",
      "  Obtaining dependency information for uritemplate<5,>=3.0.1 from https://files.pythonhosted.org/packages/81/c0/7461b49cd25aeece13766f02ee576d1db528f1c37ce69aee300e075b485b/uritemplate-4.1.1-py2.py3-none-any.whl.metadata\n",
      "  Downloading uritemplate-4.1.1-py2.py3-none-any.whl.metadata (2.9 kB)\n",
      "Requirement already satisfied: grpcio<2.0dev,>=1.33.2 in /Users/terrycho/anaconda3/lib/python3.11/site-packages (from google-api-core->google-generativeai<0.6.0,>=0.5.0->langchain-google-genai) (1.60.0)\n",
      "Requirement already satisfied: grpcio-status<2.0.dev0,>=1.33.2 in /Users/terrycho/anaconda3/lib/python3.11/site-packages (from google-api-core->google-generativeai<0.6.0,>=0.5.0->langchain-google-genai) (1.60.0)\n",
      "Requirement already satisfied: pyparsing!=3.0.0,!=3.0.1,!=3.0.2,!=3.0.3,<4,>=2.4.2 in /Users/terrycho/anaconda3/lib/python3.11/site-packages (from httplib2<1.dev0,>=0.19.0->google-api-python-client->google-generativeai<0.6.0,>=0.5.0->langchain-google-genai) (3.0.9)\n",
      "Requirement already satisfied: pyasn1<0.5.0,>=0.4.6 in /Users/terrycho/anaconda3/lib/python3.11/site-packages (from pyasn1-modules>=0.2.1->google-auth>=2.15.0->google-generativeai<0.6.0,>=0.5.0->langchain-google-genai) (0.4.8)\n",
      "Downloading langchain_google_genai-1.0.2-py3-none-any.whl (28 kB)\n",
      "Downloading langchain-0.1.16-py3-none-any.whl (817 kB)\n",
      "\u001b[2K   \u001b[90m━━━━━━━━━━━━━━━━━━━━━━━━━━━━━━━━━━━━━━━━\u001b[0m \u001b[32m817.7/817.7 kB\u001b[0m \u001b[31m9.6 MB/s\u001b[0m eta \u001b[36m0:00:00\u001b[0m:00:01\u001b[0m0:01\u001b[0m\n",
      "\u001b[?25hDownloading google_generativeai-0.5.0-py3-none-any.whl (142 kB)\n",
      "\u001b[2K   \u001b[90m━━━━━━━━━━━━━━━━━━━━━━━━━━━━━━━━━━━━━━━━\u001b[0m \u001b[32m142.1/142.1 kB\u001b[0m \u001b[31m5.3 MB/s\u001b[0m eta \u001b[36m0:00:00\u001b[0m\n",
      "\u001b[?25hDownloading google_ai_generativelanguage-0.6.1-py3-none-any.whl (663 kB)\n",
      "\u001b[2K   \u001b[90m━━━━━━━━━━━━━━━━━━━━━━━━━━━━━━━━━━━━━━━━\u001b[0m \u001b[32m663.6/663.6 kB\u001b[0m \u001b[31m13.1 MB/s\u001b[0m eta \u001b[36m0:00:00\u001b[0m00:01\u001b[0m\n",
      "\u001b[?25hDownloading langchain_community-0.0.32-py3-none-any.whl (1.9 MB)\n",
      "\u001b[2K   \u001b[90m━━━━━━━━━━━━━━━━━━━━━━━━━━━━━━━━━━━━━━━━\u001b[0m \u001b[32m1.9/1.9 MB\u001b[0m \u001b[31m30.0 MB/s\u001b[0m eta \u001b[36m0:00:00\u001b[0m00:01\u001b[0m\n",
      "\u001b[?25hDownloading langchain_text_splitters-0.0.1-py3-none-any.whl (21 kB)\n",
      "Downloading google_api_python_client-2.125.0-py2.py3-none-any.whl (12.5 MB)\n",
      "\u001b[2K   \u001b[90m━━━━━━━━━━━━━━━━━━━━━━━━━━━━━━━━━━━━━━━━\u001b[0m \u001b[32m12.5/12.5 MB\u001b[0m \u001b[31m50.3 MB/s\u001b[0m eta \u001b[36m0:00:00\u001b[0m00:01\u001b[0m00:01\u001b[0m\n",
      "\u001b[?25hDownloading google_auth_httplib2-0.2.0-py2.py3-none-any.whl (9.3 kB)\n",
      "Downloading httplib2-0.22.0-py3-none-any.whl (96 kB)\n",
      "\u001b[2K   \u001b[90m━━━━━━━━━━━━━━━━━━━━━━━━━━━━━━━━━━━━━━━━\u001b[0m \u001b[32m96.9/96.9 kB\u001b[0m \u001b[31m14.8 MB/s\u001b[0m eta \u001b[36m0:00:00\u001b[0m\n",
      "\u001b[?25hDownloading uritemplate-4.1.1-py2.py3-none-any.whl (10 kB)\n",
      "Installing collected packages: uritemplate, httplib2, google-auth-httplib2, google-api-python-client, langchain-text-splitters, langchain-community, google-ai-generativelanguage, langchain, google-generativeai, langchain-google-genai\n",
      "  Attempting uninstall: langchain-community\n",
      "    Found existing installation: langchain-community 0.0.17\n",
      "    Uninstalling langchain-community-0.0.17:\n",
      "      Successfully uninstalled langchain-community-0.0.17\n",
      "  Attempting uninstall: google-ai-generativelanguage\n",
      "    Found existing installation: google-ai-generativelanguage 0.4.0\n",
      "    Uninstalling google-ai-generativelanguage-0.4.0:\n",
      "      Successfully uninstalled google-ai-generativelanguage-0.4.0\n",
      "  Attempting uninstall: langchain\n",
      "    Found existing installation: langchain 0.1.0\n",
      "    Uninstalling langchain-0.1.0:\n",
      "      Successfully uninstalled langchain-0.1.0\n",
      "  Attempting uninstall: google-generativeai\n",
      "    Found existing installation: google-generativeai 0.3.2\n",
      "    Uninstalling google-generativeai-0.3.2:\n",
      "      Successfully uninstalled google-generativeai-0.3.2\n",
      "  Attempting uninstall: langchain-google-genai\n",
      "    Found existing installation: langchain-google-genai 0.0.6\n",
      "    Uninstalling langchain-google-genai-0.0.6:\n",
      "      Successfully uninstalled langchain-google-genai-0.0.6\n",
      "Successfully installed google-ai-generativelanguage-0.6.1 google-api-python-client-2.125.0 google-auth-httplib2-0.2.0 google-generativeai-0.5.0 httplib2-0.22.0 langchain-0.1.16 langchain-community-0.0.32 langchain-google-genai-1.0.2 langchain-text-splitters-0.0.1 uritemplate-4.1.1\n"
     ]
    }
   ],
   "source": [
    "!pip install -U  langchain-google-genai  langchain"
   ]
  },
  {
   "cell_type": "code",
   "execution_count": 11,
   "id": "82f74a32-2100-4964-b1a2-440a78e81c5b",
   "metadata": {
    "tags": []
   },
   "outputs": [
    {
     "name": "stdout",
     "output_type": "stream",
     "text": [
      "Google Gemini AI is a conversational AI platform developed by Google. It is designed to help businesses create and deploy conversational AI applications, such as chatbots and virtual assistants. Gemini AI provides a range of features, including:\n",
      "\n",
      "* **Natural language understanding:** Gemini AI can understand the intent and meaning of user queries, even if they are complex or ambiguous.\n",
      "* **Dialogue management:** Gemini AI can manage the flow of conversation, ensuring that it is smooth and natural.\n",
      "* **Knowledge management:** Gemini AI can access a wide range of knowledge sources, including structured data, unstructured text, and images.\n",
      "* **Personalization:** Gemini AI can learn about individual users over time, and tailor its responses accordingly.\n",
      "\n",
      "Gemini AI is available as a cloud-based service, and can be integrated with a variety of platforms, including websites, mobile apps, and messaging services.\n",
      "\n",
      "Here are some of the benefits of using Google Gemini AI:\n",
      "\n",
      "* **Improved customer experience:** Gemini AI can help businesses provide a more personalized and engaging customer experience.\n",
      "* **Increased efficiency:** Gemini AI can automate many of the tasks that are typically handled by human customer service representatives, freeing up their time to focus on more complex tasks.\n",
      "* **Reduced costs:** Gemini AI can help businesses reduce their customer service costs by automating many of the tasks that are typically handled by human customer service representatives.\n",
      "\n",
      "Overall, Google Gemini AI is a powerful tool that can help businesses create and deploy conversational AI applications that can improve the customer experience, increase efficiency, and reduce costs.\n"
     ]
    }
   ],
   "source": [
    "from langchain_google_genai import ChatGoogleGenerativeAI\n",
    "import os\n",
    "\n",
    "os.environ[\"GOOGLE_API_KEY\"] = \"{YOUR_GOOGLE_API_KEY}\"\n",
    "\n",
    "# setup the gemini pro\n",
    "gemini_llm = ChatGoogleGenerativeAI(model=\"gemini-1.0-pro\", temperature=0.3)\n",
    "\n",
    "result = gemini_llm.invoke(\"what is google gemini ai?\")\n",
    "print(result.content)"
   ]
  }
 ],
 "metadata": {
  "kernelspec": {
   "display_name": "Python 3 (ipykernel)",
   "language": "python",
   "name": "python3"
  },
  "language_info": {
   "codemirror_mode": {
    "name": "ipython",
    "version": 3
   },
   "file_extension": ".py",
   "mimetype": "text/x-python",
   "name": "python",
   "nbconvert_exporter": "python",
   "pygments_lexer": "ipython3",
   "version": "3.11.4"
  }
 },
 "nbformat": 4,
 "nbformat_minor": 5
}
