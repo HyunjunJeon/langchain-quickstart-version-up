{
 "cells": [
  {
   "cell_type": "markdown",
   "id": "d9323c67-5e82-4f79-bc1d-2e9b28846322",
   "metadata": {},
   "source": [
    "# ConversationBufferMemory"
   ]
  },
  {
   "cell_type": "code",
   "execution_count": 1,
   "id": "7f145ed5",
   "metadata": {},
   "outputs": [],
   "source": [
    "from dotenv import load_dotenv\n",
    "from langchain_openai import ChatOpenAI\n",
    "\n",
    "load_dotenv()\n",
    "\n",
    "model = ChatOpenAI(model=\"gpt-4o-mini\", temperature=0)"
   ]
  },
  {
   "cell_type": "code",
   "execution_count": 2,
   "id": "64bcba21-22f4-4dc7-87a8-977482426ce8",
   "metadata": {},
   "outputs": [
    {
     "name": "stderr",
     "output_type": "stream",
     "text": [
      "/var/folders/p8/_23vf8_97jn_kt805y1dkmmr0000gn/T/ipykernel_48631/1130096921.py:3: LangChainDeprecationWarning: Please see the migration guide at: https://python.langchain.com/docs/versions/migrating_memory/\n",
      "  memory = ConversationBufferMemory()\n"
     ]
    },
    {
     "data": {
      "text/plain": [
       "{'history': 'Human: Hello chatbot!\\nAI: Hello. How can I help you?\\nHuman: My name is Terry\\nAI: Nice to meet you Terry\\nHuman: Where is Seoul?\\nAI: Seoul is in Korea'}"
      ]
     },
     "execution_count": 2,
     "metadata": {},
     "output_type": "execute_result"
    }
   ],
   "source": [
    "from langchain.memory.buffer import ConversationBufferMemory\n",
    "\n",
    "memory = ConversationBufferMemory()\n",
    "memory.clear()\n",
    "\n",
    "memory.save_context(\n",
    "    {\"input\": \"Hello chatbot!\"}, {\"output\": \"Hello. How can I help you?\"}\n",
    ")\n",
    "memory.save_context({\"input\": \"My name is Terry\"}, {\"output\": \"Nice to meet you Terry\"})\n",
    "memory.save_context({\"input\": \"Where is Seoul?\"}, {\"output\": \"Seoul is in Korea\"})\n",
    "\n",
    "memory.load_memory_variables({})"
   ]
  },
  {
   "cell_type": "code",
   "execution_count": 3,
   "id": "d25d1f13-9a28-4e38-9d6e-ae8b6d26a782",
   "metadata": {
    "tags": []
   },
   "outputs": [
    {
     "data": {
      "text/plain": [
       "{'chat_history': 'Human: Hello chatbot!\\nAI: Hello. How can I help you?'}"
      ]
     },
     "execution_count": 3,
     "metadata": {},
     "output_type": "execute_result"
    }
   ],
   "source": [
    "from langchain.memory.buffer import ConversationBufferMemory\n",
    "\n",
    "memory = ConversationBufferMemory(memory_key=\"chat_history\")\n",
    "memory.clear()\n",
    "memory.chat_memory.add_user_message(\"Hello chatbot!\")\n",
    "memory.chat_memory.add_ai_message(\"Hello. How can I help you?\")\n",
    "memory.load_memory_variables({})"
   ]
  },
  {
   "cell_type": "code",
   "execution_count": 4,
   "id": "497ac2f3-662a-4eae-904e-1b795c27e1fa",
   "metadata": {
    "tags": []
   },
   "outputs": [
    {
     "data": {
      "text/plain": [
       "{'chat_history': [HumanMessage(content='Hello chatbot!', additional_kwargs={}, response_metadata={}),\n",
       "  AIMessage(content='Hello. How can I help you?', additional_kwargs={}, response_metadata={}),\n",
       "  HumanMessage(content='My name is Terry', additional_kwargs={}, response_metadata={}),\n",
       "  AIMessage(content='Nice to meet you Terry', additional_kwargs={}, response_metadata={}),\n",
       "  HumanMessage(content='Where is Seoul?', additional_kwargs={}, response_metadata={}),\n",
       "  AIMessage(content='Seoul is in Korea', additional_kwargs={}, response_metadata={})]}"
      ]
     },
     "execution_count": 4,
     "metadata": {},
     "output_type": "execute_result"
    }
   ],
   "source": [
    "from langchain.memory.buffer import ConversationBufferMemory\n",
    "\n",
    "memory = ConversationBufferMemory(memory_key=\"chat_history\", return_messages=True)\n",
    "memory.clear()\n",
    "memory.save_context(\n",
    "    {\"input\": \"Hello chatbot!\"}, {\"output\": \"Hello. How can I help you?\"}\n",
    ")\n",
    "memory.save_context({\"input\": \"My name is Terry\"}, {\"output\": \"Nice to meet you Terry\"})\n",
    "memory.save_context({\"input\": \"Where is Seoul?\"}, {\"output\": \"Seoul is in Korea\"})\n",
    "\n",
    "memory.load_memory_variables({})\n",
    "# returning list of chat message"
   ]
  },
  {
   "cell_type": "code",
   "execution_count": 5,
   "id": "00436264-f9a9-48bb-ab7a-aa6c6be56088",
   "metadata": {
    "tags": []
   },
   "outputs": [
    {
     "data": {
      "text/plain": [
       "{'chat_history': 'Human: Hello chatbot!\\nAI: Hello. How can I help you?\\nHuman: My name is Terry\\nAI: Nice to meet you Terry\\nHuman: Where is Seoul?\\nAI: Seoul is in Korea'}"
      ]
     },
     "execution_count": 5,
     "metadata": {},
     "output_type": "execute_result"
    }
   ],
   "source": [
    "from langchain.memory.buffer import ConversationBufferMemory\n",
    "\n",
    "memory = ConversationBufferMemory(memory_key=\"chat_history\", return_messages=False)\n",
    "memory.clear()\n",
    "memory.save_context(\n",
    "    {\"input\": \"Hello chatbot!\"}, {\"output\": \"Hello. How can I help you?\"}\n",
    ")\n",
    "memory.save_context({\"input\": \"My name is Terry\"}, {\"output\": \"Nice to meet you Terry\"})\n",
    "memory.save_context({\"input\": \"Where is Seoul?\"}, {\"output\": \"Seoul is in Korea\"})\n",
    "\n",
    "memory.load_memory_variables({})\n",
    "# returning chat history with single string"
   ]
  },
  {
   "cell_type": "markdown",
   "id": "83d99f99-bdb1-43bd-8e6f-1fbf6955fba0",
   "metadata": {
    "tags": []
   },
   "source": [
    "# Conversational Buffer Memory for ChatLLM"
   ]
  },
  {
   "cell_type": "code",
   "execution_count": 10,
   "id": "65dbd94b",
   "metadata": {},
   "outputs": [
    {
     "data": {
      "text/plain": [
       "AIMessage(content=\"Hi Terry! It's nice to meet you. How can I assist you today?\", additional_kwargs={'refusal': None}, response_metadata={'token_usage': {'completion_tokens': 16, 'prompt_tokens': 35, 'total_tokens': 51, 'completion_tokens_details': {'audio_tokens': None, 'reasoning_tokens': 0}, 'prompt_tokens_details': {'audio_tokens': None, 'cached_tokens': 0}}, 'model_name': 'gpt-4o-mini-2024-07-18', 'system_fingerprint': 'fp_f59a81427f', 'finish_reason': 'stop', 'logprobs': None}, id='run-7a34aaa2-bb42-45df-9f23-fce52c921eec-0', usage_metadata={'input_tokens': 35, 'output_tokens': 16, 'total_tokens': 51, 'input_token_details': {'cache_read': 0}, 'output_token_details': {'reasoning': 0}})"
      ]
     },
     "execution_count": 10,
     "metadata": {},
     "output_type": "execute_result"
    }
   ],
   "source": [
    "from langchain_core.chat_history import InMemoryChatMessageHistory\n",
    "from langchain_core.runnables.history import RunnableWithMessageHistory\n",
    "from langchain_openai import ChatOpenAI\n",
    "from langchain.prompts import PromptTemplate\n",
    "\n",
    "memory = {}  \n",
    "\n",
    "def get_session_history(session_id: str) -> InMemoryChatMessageHistory:\n",
    "    if session_id not in memory:\n",
    "        memory[session_id] = InMemoryChatMessageHistory()\n",
    "    return memory[session_id]\n",
    "\n",
    "template = \"\"\"You are a chatbot having a conversation with a human.\n",
    "\n",
    "Previous conversation history:\n",
    "{chat_history}\n",
    "\n",
    "New human question: {question}\n",
    "Response:\"\"\"\n",
    "prompt = PromptTemplate.from_template(template)\n",
    "\n",
    "model = ChatOpenAI(api_key=\"{YOUR_OPENAI_KEY}\", model=\"gpt-4o-mini\", temperature=0)\n",
    "\n",
    "chain = prompt | model\n",
    "\n",
    "conversation = RunnableWithMessageHistory(\n",
    "    chain,\n",
    "    get_session_history,\n",
    "    input_messages_key=\"question\",\n",
    "    history_messages_key=\"chat_history\"\n",
    ")\n",
    "\n",
    "response = conversation.invoke(\n",
    "    {\"question\": \"hi my name is Terry\"},\n",
    "    config={\"configurable\": {\"session_id\": \"1\"}}\n",
    ")\n",
    "response"
   ]
  },
  {
   "cell_type": "code",
   "execution_count": 12,
   "id": "19a30fb8-8246-47ca-9fb7-81251a3a5035",
   "metadata": {
    "tags": []
   },
   "outputs": [
    {
     "data": {
      "text/plain": [
       "[HumanMessage(content='hi my name is Terry', additional_kwargs={}, response_metadata={}),\n",
       " AIMessage(content=\"Hi Terry! It's nice to meet you. How can I assist you today?\", additional_kwargs={'refusal': None}, response_metadata={'token_usage': {'completion_tokens': 16, 'prompt_tokens': 35, 'total_tokens': 51, 'completion_tokens_details': {'audio_tokens': None, 'reasoning_tokens': 0}, 'prompt_tokens_details': {'audio_tokens': None, 'cached_tokens': 0}}, 'model_name': 'gpt-4o-mini-2024-07-18', 'system_fingerprint': 'fp_f59a81427f', 'finish_reason': 'stop', 'logprobs': None}, id='run-7a34aaa2-bb42-45df-9f23-fce52c921eec-0', usage_metadata={'input_tokens': 35, 'output_tokens': 16, 'total_tokens': 51, 'input_token_details': {'cache_read': 0}, 'output_token_details': {'reasoning': 0}}),\n",
       " HumanMessage(content='hi my name is Terry', additional_kwargs={}, response_metadata={}),\n",
       " AIMessage(content='Hi Terry! It seems like you already introduced yourself. How can I assist you today?', additional_kwargs={'refusal': None}, response_metadata={'token_usage': {'completion_tokens': 18, 'prompt_tokens': 268, 'total_tokens': 286, 'completion_tokens_details': {'audio_tokens': None, 'reasoning_tokens': 0}, 'prompt_tokens_details': {'audio_tokens': None, 'cached_tokens': 0}}, 'model_name': 'gpt-4o-mini-2024-07-18', 'system_fingerprint': 'fp_f59a81427f', 'finish_reason': 'stop', 'logprobs': None}, id='run-8f6151cf-aabb-40e0-9aea-83a82d033ccb-0', usage_metadata={'input_tokens': 268, 'output_tokens': 18, 'total_tokens': 286, 'input_token_details': {'cache_read': 0}, 'output_token_details': {'reasoning': 0}}),\n",
       " HumanMessage(content='Can you recommend fun activities for me?', additional_kwargs={}, response_metadata={}),\n",
       " AIMessage(content=\"Sure, Terry! Here are some fun activities you might enjoy:\\n\\n1. **Outdoor Adventures**: Go hiking, biking, or have a picnic in a local park.\\n2. **Creative Projects**: Try painting, drawing, or crafting something new.\\n3. **Cooking or Baking**: Experiment with a new recipe or bake some treats.\\n4. **Game Night**: Host a game night with friends or family, whether it's board games or video games.\\n5. **Movie Marathon**: Pick a theme or series and binge-watch some movies.\\n6. **Visit Local Attractions**: Explore museums, art galleries, or historical sites in your area.\\n7. **Attend Events**: Check out local concerts, festivals, or community events.\\n8. **Learn Something New**: Take an online class or workshop in a subject that interests you.\\n\\nLet me know if any of these sound good, or if you have something specific in mind!\", additional_kwargs={'refusal': None}, response_metadata={'token_usage': {'completion_tokens': 190, 'prompt_tokens': 504, 'total_tokens': 694, 'completion_tokens_details': {'audio_tokens': None, 'reasoning_tokens': 0}, 'prompt_tokens_details': {'audio_tokens': None, 'cached_tokens': 0}}, 'model_name': 'gpt-4o-mini-2024-07-18', 'system_fingerprint': 'fp_f59a81427f', 'finish_reason': 'stop', 'logprobs': None}, id='run-b88aa6fb-7236-49ab-8338-6084ab19490f-0', usage_metadata={'input_tokens': 504, 'output_tokens': 190, 'total_tokens': 694, 'input_token_details': {'cache_read': 0}, 'output_token_details': {'reasoning': 0}}),\n",
       " HumanMessage(content='What is my name?', additional_kwargs={}, response_metadata={}),\n",
       " AIMessage(content='Your name is Terry!', additional_kwargs={'refusal': None}, response_metadata={'token_usage': {'completion_tokens': 5, 'prompt_tokens': 919, 'total_tokens': 924, 'completion_tokens_details': {'audio_tokens': None, 'reasoning_tokens': 0}, 'prompt_tokens_details': {'audio_tokens': None, 'cached_tokens': 0}}, 'model_name': 'gpt-4o-mini-2024-07-18', 'system_fingerprint': 'fp_f59a81427f', 'finish_reason': 'stop', 'logprobs': None}, id='run-d3e0d903-0af7-44e8-bc49-6faf10310165-0', usage_metadata={'input_tokens': 919, 'output_tokens': 5, 'total_tokens': 924, 'input_token_details': {'cache_read': 0}, 'output_token_details': {'reasoning': 0}}),\n",
       " HumanMessage(content='hi my name is Terry', additional_kwargs={}, response_metadata={}),\n",
       " AIMessage(content=\"Hi Terry! It looks like you've introduced yourself again. How can I assist you today?\", additional_kwargs={'refusal': None}, response_metadata={'token_usage': {'completion_tokens': 18, 'prompt_tokens': 1141, 'total_tokens': 1159, 'completion_tokens_details': {'audio_tokens': None, 'reasoning_tokens': 0}, 'prompt_tokens_details': {'audio_tokens': None, 'cached_tokens': 0}}, 'model_name': 'gpt-4o-mini-2024-07-18', 'system_fingerprint': 'fp_f59a81427f', 'finish_reason': 'stop', 'logprobs': None}, id='run-9c89a807-f2b4-42ff-abe8-3beb04a3e6c5-0', usage_metadata={'input_tokens': 1141, 'output_tokens': 18, 'total_tokens': 1159, 'input_token_details': {'cache_read': 0}, 'output_token_details': {'reasoning': 0}}),\n",
       " HumanMessage(content='Can you recommend fun activities for me?', additional_kwargs={}, response_metadata={}),\n",
       " AIMessage(content=\"Sure, Terry! Here are some fun activities you might enjoy:\\n\\n1. **Outdoor Adventures**: Go hiking, biking, or have a picnic in a local park.\\n2. **Creative Projects**: Try painting, drawing, or crafting something new.\\n3. **Cooking or Baking**: Experiment with a new recipe or bake some treats.\\n4. **Game Night**: Host a game night with friends or family, whether it's board games or video games.\\n5. **Movie Marathon**: Pick a theme or series and binge-watch some movies.\\n6. **Visit Local Attractions**: Explore museums, art galleries, or historical sites in your area.\\n7. **Attend Events**: Check out local concerts, festivals, or community events.\\n8. **Learn Something New**: Take an online class or workshop in a subject that interests you.\\n\\nLet me know if any of these sound good, or if you have something specific in mind!\", additional_kwargs={'refusal': None}, response_metadata={'token_usage': {'completion_tokens': 190, 'prompt_tokens': 1385, 'total_tokens': 1575, 'completion_tokens_details': {'audio_tokens': None, 'reasoning_tokens': 0}, 'prompt_tokens_details': {'audio_tokens': None, 'cached_tokens': 0}}, 'model_name': 'gpt-4o-mini-2024-07-18', 'system_fingerprint': 'fp_f59a81427f', 'finish_reason': 'stop', 'logprobs': None}, id='run-e3412b83-e9a3-4c68-887f-5d09a0a6739e-0', usage_metadata={'input_tokens': 1385, 'output_tokens': 190, 'total_tokens': 1575, 'input_token_details': {'cache_read': 0}, 'output_token_details': {'reasoning': 0}}),\n",
       " HumanMessage(content='What is my name?', additional_kwargs={}, response_metadata={}),\n",
       " AIMessage(content='Your name is Terry!', additional_kwargs={'refusal': None}, response_metadata={'token_usage': {'completion_tokens': 5, 'prompt_tokens': 1809, 'total_tokens': 1814, 'completion_tokens_details': {'audio_tokens': None, 'reasoning_tokens': 0}, 'prompt_tokens_details': {'audio_tokens': None, 'cached_tokens': 1152}}, 'model_name': 'gpt-4o-mini-2024-07-18', 'system_fingerprint': 'fp_f59a81427f', 'finish_reason': 'stop', 'logprobs': None}, id='run-598f51c1-2145-4ffd-a6ed-97ddb63fc701-0', usage_metadata={'input_tokens': 1809, 'output_tokens': 5, 'total_tokens': 1814, 'input_token_details': {'cache_read': 1152}, 'output_token_details': {'reasoning': 0}})]"
      ]
     },
     "execution_count": 12,
     "metadata": {},
     "output_type": "execute_result"
    }
   ],
   "source": [
    "conversation.invoke({\"question\": \"hi my name is Terry\"},config={\"configurable\": {\"session_id\": \"1\"}})\n",
    "conversation.invoke({\"question\": \"Can you recommend fun activities for me?\"},config={\"configurable\": {\"session_id\": \"1\"}})\n",
    "conversation.invoke({\"question\": \"What is my name?\"},config={\"configurable\": {\"session_id\": \"1\"}})\n",
    "\n",
    "memory[\"1\"].messages"
   ]
  }
 ],
 "metadata": {
  "kernelspec": {
   "display_name": "Python 3 (ipykernel)",
   "language": "python",
   "name": "python3"
  },
  "language_info": {
   "codemirror_mode": {
    "name": "ipython",
    "version": 3
   },
   "file_extension": ".py",
   "mimetype": "text/x-python",
   "name": "python",
   "nbconvert_exporter": "python",
   "pygments_lexer": "ipython3",
   "version": "3.12.6"
  }
 },
 "nbformat": 4,
 "nbformat_minor": 5
}
