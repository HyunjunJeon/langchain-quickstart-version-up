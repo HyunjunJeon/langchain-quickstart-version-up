{
 "cells": [
  {
   "cell_type": "markdown",
   "id": "d9323c67-5e82-4f79-bc1d-2e9b28846322",
   "metadata": {},
   "source": [
    "# ConversationBufferMemory"
   ]
  },
  {
   "cell_type": "code",
   "execution_count": 10,
   "id": "64bcba21-22f4-4dc7-87a8-977482426ce8",
   "metadata": {},
   "outputs": [
    {
     "data": {
      "text/plain": [
       "{'history': 'Human: Hello chatbot!\\nAI: Hello. How can I help you?\\nHuman: My name is Terry\\nAI: Nice to meet you Terry\\nHuman: Where is Seoul?\\nAI: Seoul is in Korea'}"
      ]
     },
     "execution_count": 10,
     "metadata": {},
     "output_type": "execute_result"
    }
   ],
   "source": [
    "from langchain.memory import ConversationBufferMemory\n",
    "\n",
    "memory = ConversationBufferMemory()\n",
    "memory.clear()\n",
    "\n",
    "memory.save_context(\n",
    "    {\"input\": \"Hello chatbot!\"}, {\"output\": \"Hello. How can I help you?\"}\n",
    ")\n",
    "memory.save_context({\"input\": \"My name is Terry\"}, {\"output\": \"Nice to meet you Terry\"})\n",
    "memory.save_context({\"input\": \"Where is Seoul?\"}, {\"output\": \"Seoul is in Korea\"})\n",
    "\n",
    "memory.load_memory_variables({})"
   ]
  },
  {
   "cell_type": "code",
   "execution_count": 11,
   "id": "d25d1f13-9a28-4e38-9d6e-ae8b6d26a782",
   "metadata": {
    "tags": []
   },
   "outputs": [
    {
     "data": {
      "text/plain": [
       "{'chat_history': 'Human: Hello chatbot!\\nAI: Hello. How can I help you?'}"
      ]
     },
     "execution_count": 11,
     "metadata": {},
     "output_type": "execute_result"
    }
   ],
   "source": [
    "from langchain.memory import ConversationBufferMemory\n",
    "\n",
    "memory = ConversationBufferMemory(memory_key=\"chat_history\")\n",
    "memory.clear()\n",
    "memory.chat_memory.add_user_message(\"Hello chatbot!\")\n",
    "memory.chat_memory.add_ai_message(\"Hello. How can I help you?\")\n",
    "memory.load_memory_variables({})"
   ]
  },
  {
   "cell_type": "code",
   "execution_count": 13,
   "id": "497ac2f3-662a-4eae-904e-1b795c27e1fa",
   "metadata": {
    "tags": []
   },
   "outputs": [
    {
     "data": {
      "text/plain": [
       "{'chat_history': [HumanMessage(content='Hello chatbot!'),\n",
       "  AIMessage(content='Hello. How can I help you?'),\n",
       "  HumanMessage(content='My name is Terry'),\n",
       "  AIMessage(content='Nice to meet you Terry'),\n",
       "  HumanMessage(content='Where is Seoul?'),\n",
       "  AIMessage(content='Seoul is in Korea')]}"
      ]
     },
     "execution_count": 13,
     "metadata": {},
     "output_type": "execute_result"
    }
   ],
   "source": [
    "from langchain.memory import ConversationBufferMemory\n",
    "\n",
    "memory = ConversationBufferMemory(memory_key=\"chat_history\", return_messages=True)\n",
    "memory.clear()\n",
    "memory.save_context(\n",
    "    {\"input\": \"Hello chatbot!\"}, {\"output\": \"Hello. How can I help you?\"}\n",
    ")\n",
    "memory.save_context({\"input\": \"My name is Terry\"}, {\"output\": \"Nice to meet you Terry\"})\n",
    "memory.save_context({\"input\": \"Where is Seoul?\"}, {\"output\": \"Seoul is in Korea\"})\n",
    "\n",
    "memory.load_memory_variables({})\n",
    "# returning list of chat message"
   ]
  },
  {
   "cell_type": "code",
   "execution_count": 14,
   "id": "00436264-f9a9-48bb-ab7a-aa6c6be56088",
   "metadata": {
    "tags": []
   },
   "outputs": [
    {
     "data": {
      "text/plain": [
       "{'chat_history': 'Human: Hello chatbot!\\nAI: Hello. How can I help you?\\nHuman: My name is Terry\\nAI: Nice to meet you Terry\\nHuman: Where is Seoul?\\nAI: Seoul is in Korea'}"
      ]
     },
     "execution_count": 14,
     "metadata": {},
     "output_type": "execute_result"
    }
   ],
   "source": [
    "from langchain.memory import ConversationBufferMemory\n",
    "\n",
    "memory = ConversationBufferMemory(memory_key=\"chat_history\", return_messages=False)\n",
    "memory.clear()\n",
    "memory.save_context(\n",
    "    {\"input\": \"Hello chatbot!\"}, {\"output\": \"Hello. How can I help you?\"}\n",
    ")\n",
    "memory.save_context({\"input\": \"My name is Terry\"}, {\"output\": \"Nice to meet you Terry\"})\n",
    "memory.save_context({\"input\": \"Where is Seoul?\"}, {\"output\": \"Seoul is in Korea\"})\n",
    "\n",
    "memory.load_memory_variables({})\n",
    "# returning chat history with single string"
   ]
  },
  {
   "cell_type": "markdown",
   "id": "83d99f99-bdb1-43bd-8e6f-1fbf6955fba0",
   "metadata": {
    "tags": []
   },
   "source": [
    "# Conversational Buffer Memory for LLM"
   ]
  },
  {
   "cell_type": "code",
   "execution_count": 6,
   "id": "ae90cf0b-0e1f-4cb5-b19e-183488c9ea0f",
   "metadata": {
    "tags": []
   },
   "outputs": [],
   "source": [
    "from langchain_openai import OpenAI\n",
    "from langchain.prompts import PromptTemplate\n",
    "from langchain.chains import LLMChain\n",
    "from langchain.memory import ConversationBufferMemory\n",
    "import os\n",
    "\n",
    "os.environ[\"LANGCHAIN_TRACING_V2\"] = \"true\"\n",
    "os.environ[\"LANGCHAIN_ENDPOINT\"] = \"https://api.smith.langchain.com\"\n",
    "os.environ[\"LANGCHAIN_API_KEY\"] = \"{YOUR_LANGCHAIN_APIKEY}\"\n",
    "os.environ[\"LANGCHAIN_PROJECT\"] = \"{YOUR_PROJECT_NAME}\"\n",
    "\n",
    "model = OpenAI(openai_api_key=\"{YOUR_OPENAI_KEY}\", temperature=0)\n",
    "\n",
    "template = \"\"\"You are a chatbot having a conversation with a human.\n",
    "\n",
    "Previous conversation history:\n",
    "{chat_history}\n",
    "\n",
    "New human question: {question}\n",
    "Response:\"\"\"\n",
    "prompt = PromptTemplate.from_template(template)\n",
    "\n",
    "memory = ConversationBufferMemory(memory_key=\"chat_history\")\n",
    "conversation = LLMChain(llm=model, prompt=prompt, verbose=True, memory=memory)"
   ]
  },
  {
   "cell_type": "code",
   "execution_count": 7,
   "id": "19a30fb8-8246-47ca-9fb7-81251a3a5035",
   "metadata": {
    "tags": []
   },
   "outputs": [
    {
     "name": "stdout",
     "output_type": "stream",
     "text": [
      "\n",
      "\n",
      "\u001b[1m> Entering new LLMChain chain...\u001b[0m\n",
      "Prompt after formatting:\n",
      "\u001b[32;1m\u001b[1;3mYou are a chatbot having a conversation with a human.\n",
      "\n",
      "Previous conversation history:\n",
      "\n",
      "\n",
      "New human question: hi my name is Terry\n",
      "Response:\u001b[0m\n",
      "\n",
      "\u001b[1m> Finished chain.\u001b[0m\n",
      "\n",
      "\n",
      "\u001b[1m> Entering new LLMChain chain...\u001b[0m\n",
      "Prompt after formatting:\n",
      "\u001b[32;1m\u001b[1;3mYou are a chatbot having a conversation with a human.\n",
      "\n",
      "Previous conversation history:\n",
      "Human: hi my name is Terry\n",
      "AI:  Hello Terry, it's nice to meet you! How can I assist you today?\n",
      "\n",
      "New human question: Can you recommend fun activities for me?\n",
      "Response:\u001b[0m\n",
      "\n",
      "\u001b[1m> Finished chain.\u001b[0m\n",
      "\n",
      "\n",
      "\u001b[1m> Entering new LLMChain chain...\u001b[0m\n",
      "Prompt after formatting:\n",
      "\u001b[32;1m\u001b[1;3mYou are a chatbot having a conversation with a human.\n",
      "\n",
      "Previous conversation history:\n",
      "Human: hi my name is Terry\n",
      "AI:  Hello Terry, it's nice to meet you! How can I assist you today?\n",
      "Human: Can you recommend fun activities for me?\n",
      "AI:  Of course! There are many fun activities you can try, depending on your interests. If you enjoy being outdoors, you could go for a hike or have a picnic in the park. If you prefer indoor activities, you could try a new hobby like painting or cooking. You could also check out local events or festivals happening in your area. What type of activities do you enjoy?\n",
      "\n",
      "New human question: What is my name?\n",
      "Response:\u001b[0m\n",
      "\n",
      "\u001b[1m> Finished chain.\u001b[0m\n"
     ]
    },
    {
     "data": {
      "text/plain": [
       "{'chat_history': \"Human: hi my name is Terry\\nAI:  Hello Terry, it's nice to meet you! How can I assist you today?\\nHuman: Can you recommend fun activities for me?\\nAI:  Of course! There are many fun activities you can try, depending on your interests. If you enjoy being outdoors, you could go for a hike or have a picnic in the park. If you prefer indoor activities, you could try a new hobby like painting or cooking. You could also check out local events or festivals happening in your area. What type of activities do you enjoy?\\nHuman: What is my name?\\nAI:  Your name is Terry.\"}"
      ]
     },
     "execution_count": 7,
     "metadata": {},
     "output_type": "execute_result"
    }
   ],
   "source": [
    "conversation.invoke({\"question\": \"hi my name is Terry\"})\n",
    "conversation.invoke({\"question\": \"Can you recommend fun activities for me?\"})\n",
    "conversation.invoke({\"question\": \"What is my name?\"})\n",
    "memory.load_memory_variables({})"
   ]
  },
  {
   "cell_type": "markdown",
   "id": "281479f3-17e5-4e94-b395-6b4230d763a7",
   "metadata": {
    "tags": []
   },
   "source": [
    "# Conversational Buffer Memory for ChatLLM"
   ]
  },
  {
   "cell_type": "code",
   "execution_count": 9,
   "id": "bb7cb1b9-d1f7-4c21-9b3c-d7966fa2cc80",
   "metadata": {
    "tags": []
   },
   "outputs": [],
   "source": [
    "from langchain_openai import ChatOpenAI\n",
    "from langchain.prompts import (\n",
    "    ChatPromptTemplate,\n",
    "    MessagesPlaceholder,\n",
    "    SystemMessagePromptTemplate,\n",
    "    HumanMessagePromptTemplate,\n",
    ")\n",
    "from langchain.chains import ConversationChain\n",
    "from langchain.memory import ConversationBufferMemory\n",
    "import os\n",
    "os.environ[\"LANGCHAIN_TRACING_V2\"]=\"true\"\n",
    "os.environ[\"LANGCHAIN_ENDPOINT\"]=\"https://api.smith.langchain.com\"\n",
    "os.environ[\"LANGCHAIN_API_KEY\"]=\"{YOUR_LANGCHAIN_APIKEY}\"\n",
    "os.environ[\"LANGCHAIN_PROJECT\"]=\"terrylangsmith\"\n",
    "\n",
    "llm = ChatOpenAI(openai_api_key=\"{YOUR_OPENAI_KEY}\")\n",
    "prompt = ChatPromptTemplate(\n",
    "    messages=[\n",
    "        SystemMessagePromptTemplate.from_template(\n",
    "            \"You are a chatbot having a conversation with a human.\"\n",
    "        ),\n",
    "        # The `variable_name` here is what must align with memory\n",
    "        MessagesPlaceholder(variable_name=\"chat_history\"),\n",
    "        HumanMessagePromptTemplate.from_template(\"{question}\")\n",
    "    ]\n",
    ")\n",
    "# Notice that we `return_messages=True` to fit into the MessagesPlaceholder\n",
    "# Notice that `\"chat_history\"` aligns with the MessagesPlaceholder name.\n",
    "memory = ConversationBufferMemory(memory_key=\"chat_history\", return_messages=True)\n",
    "memory.clear()\n",
    "conversation = LLMChain(\n",
    "    llm=llm,\n",
    "    prompt=prompt,\n",
    "    verbose=True,\n",
    "    memory=memory\n",
    ")"
   ]
  },
  {
   "cell_type": "code",
   "execution_count": 5,
   "id": "0dc35ecc-f3e4-4b87-b899-3aa65acc9859",
   "metadata": {
    "tags": []
   },
   "outputs": [
    {
     "name": "stdout",
     "output_type": "stream",
     "text": [
      "\n",
      "\n",
      "\u001b[1m> Entering new LLMChain chain...\u001b[0m\n",
      "Prompt after formatting:\n",
      "\u001b[32;1m\u001b[1;3mSystem: You are a chatbot having a conversation with a human.\n",
      "Human: hi my name is Terry\u001b[0m\n",
      "\n",
      "\u001b[1m> Finished chain.\u001b[0m\n",
      "\n",
      "\n",
      "\u001b[1m> Entering new LLMChain chain...\u001b[0m\n",
      "Prompt after formatting:\n",
      "\u001b[32;1m\u001b[1;3mSystem: You are a chatbot having a conversation with a human.\n",
      "Human: hi my name is Terry\n",
      "AI: Hello Terry! Nice to meet you. How can I assist you today?\n",
      "Human: Can you recommend fun activities for me?\u001b[0m\n",
      "\n",
      "\u001b[1m> Finished chain.\u001b[0m\n",
      "\n",
      "\n",
      "\u001b[1m> Entering new LLMChain chain...\u001b[0m\n",
      "Prompt after formatting:\n",
      "\u001b[32;1m\u001b[1;3mSystem: You are a chatbot having a conversation with a human.\n",
      "Human: hi my name is Terry\n",
      "AI: Hello Terry! Nice to meet you. How can I assist you today?\n",
      "Human: Can you recommend fun activities for me?\n",
      "AI: Of course! I'd be happy to help. Could you let me know a bit more about your interests and preferences? That way, I can provide you with more tailored recommendations. Are you looking for indoor or outdoor activities? Do you have any particular hobbies or things you enjoy doing?\n",
      "Human: What is my name?\u001b[0m\n",
      "\n",
      "\u001b[1m> Finished chain.\u001b[0m\n"
     ]
    },
    {
     "data": {
      "text/plain": [
       "{'chat_history': [HumanMessage(content='hi my name is Terry'),\n",
       "  AIMessage(content='Hello Terry! Nice to meet you. How can I assist you today?'),\n",
       "  HumanMessage(content='Can you recommend fun activities for me?'),\n",
       "  AIMessage(content=\"Of course! I'd be happy to help. Could you let me know a bit more about your interests and preferences? That way, I can provide you with more tailored recommendations. Are you looking for indoor or outdoor activities? Do you have any particular hobbies or things you enjoy doing?\"),\n",
       "  HumanMessage(content='What is my name?'),\n",
       "  AIMessage(content='Your name is Terry. You mentioned it at the beginning of our conversation. Is there anything specific you would like assistance with, Terry?')]}"
      ]
     },
     "execution_count": 5,
     "metadata": {},
     "output_type": "execute_result"
    }
   ],
   "source": [
    "conversation.invoke({\"question\": \"hi my name is Terry\"})\n",
    "conversation.invoke({\"question\": \"Can you recommend fun activities for me?\"})\n",
    "conversation.invoke({\"question\": \"What is my name?\"})\n",
    "memory.load_memory_variables({})"
   ]
  },
  {
   "cell_type": "code",
   "execution_count": 33,
   "id": "09a8180d-5fc4-4dd5-9fc2-9fba0ba3ec6d",
   "metadata": {
    "tags": []
   },
   "outputs": [
    {
     "name": "stdout",
     "output_type": "stream",
     "text": [
      "\n",
      "\n",
      "\u001b[1m> Entering new LLMChain chain...\u001b[0m\n",
      "Prompt after formatting:\n",
      "\u001b[32;1m\u001b[1;3mSystem: You are a nice travel agent having a conversation with a human.\n",
      "Human: hi my name is Terry\n",
      "AI: Hello Terry! Nice to meet you. How can I assist you today? Are you looking to plan a trip or have any specific travel preferences?\n",
      "Human: Can you recommend fun activities for me?\u001b[0m\n",
      "\n",
      "\u001b[1m> Finished chain.\u001b[0m\n"
     ]
    },
    {
     "data": {
      "text/plain": [
       "{'question': 'Can you recommend fun activities for me?',\n",
       " 'chat_history': [HumanMessage(content='hi my name is Terry'),\n",
       "  AIMessage(content='Hello Terry! Nice to meet you. How can I assist you today? Are you looking to plan a trip or have any specific travel preferences?'),\n",
       "  HumanMessage(content='Can you recommend fun activities for me?'),\n",
       "  AIMessage(content=\"Of course, Terry! I'd be happy to recommend some fun activities for you. Can you please let me know the destination you have in mind or any particular interests or preferences you have? That way, I can provide you with more tailored recommendations.\")],\n",
       " 'text': \"Of course, Terry! I'd be happy to recommend some fun activities for you. Can you please let me know the destination you have in mind or any particular interests or preferences you have? That way, I can provide you with more tailored recommendations.\"}"
      ]
     },
     "execution_count": 33,
     "metadata": {},
     "output_type": "execute_result"
    }
   ],
   "source": []
  },
  {
   "cell_type": "code",
   "execution_count": null,
   "id": "f87898b8-7365-46ff-b53f-447d1dfaa1ef",
   "metadata": {},
   "outputs": [],
   "source": []
  }
 ],
 "metadata": {
  "kernelspec": {
   "display_name": "Python 3 (ipykernel)",
   "language": "python",
   "name": "python3"
  },
  "language_info": {
   "codemirror_mode": {
    "name": "ipython",
    "version": 3
   },
   "file_extension": ".py",
   "mimetype": "text/x-python",
   "name": "python",
   "nbconvert_exporter": "python",
   "pygments_lexer": "ipython3",
   "version": "3.11.4"
  }
 },
 "nbformat": 4,
 "nbformat_minor": 5
}
