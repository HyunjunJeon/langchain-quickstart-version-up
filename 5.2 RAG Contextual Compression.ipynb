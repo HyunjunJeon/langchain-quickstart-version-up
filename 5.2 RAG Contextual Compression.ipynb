{
 "cells": [
  {
   "cell_type": "markdown",
   "id": "b9520229-89af-4613-bd4c-9ce291606c6b",
   "metadata": {},
   "source": [
    "# Contextual compression"
   ]
  },
  {
   "cell_type": "code",
   "execution_count": 4,
   "id": "1fe423cb-dc02-4bc1-9d75-9eea28300936",
   "metadata": {
    "tags": []
   },
   "outputs": [
    {
     "name": "stderr",
     "output_type": "stream",
     "text": [
      "/Users/terrycho/.local/lib/python3.11/site-packages/langchain_community/vectorstores/pinecone.py:62: UserWarning: Passing in `embedding` as a Callable is deprecated. Please pass in an Embeddings object instead.\n",
      "  warnings.warn(\n",
      "/Users/terrycho/.local/lib/python3.11/site-packages/langchain/chains/llm.py:316: UserWarning: The predict_and_parse method is deprecated, instead pass an output parser directly to LLMChain.\n",
      "  warnings.warn(\n",
      "/Users/terrycho/.local/lib/python3.11/site-packages/langchain/chains/llm.py:316: UserWarning: The predict_and_parse method is deprecated, instead pass an output parser directly to LLMChain.\n",
      "  warnings.warn(\n",
      "/Users/terrycho/.local/lib/python3.11/site-packages/langchain/chains/llm.py:316: UserWarning: The predict_and_parse method is deprecated, instead pass an output parser directly to LLMChain.\n",
      "  warnings.warn(\n",
      "/Users/terrycho/.local/lib/python3.11/site-packages/langchain/chains/llm.py:316: UserWarning: The predict_and_parse method is deprecated, instead pass an output parser directly to LLMChain.\n",
      "  warnings.warn(\n"
     ]
    },
    {
     "name": "stdout",
     "output_type": "stream",
     "text": [
      "page_content='Austria (, ;  ), officially the\\xa0Republic of Austria ( ), is a country in Central Europe. Around Austria there are the countries of Germany, Czech Republic, Slovakia, Hungary, Slovenia, Italy, Switzerland, and Liechtenstein. The people in Austria speak German, a few also speak Hungarian, Slovenian and Croatian. The capital of Austria is Vienna (Wien).' metadata={'chunk': 10.0, 'source': 'https://simple.wikipedia.org/wiki/Austria', 'title': 'Austria', 'wiki-id': '55'}\n",
      "\n",
      "\n",
      "page_content='The sizes of cities can be very different. This depends on the type of city. Cities built hundreds of years ago and which have not changed much are much smaller than modern cities. There are two main reasons. One reason is that old cities often have a city wall, and most of the city is inside it. Another important reason is that the streets in old cities are often narrow. If the city got too big, it was hard for a cart carrying food to get to the marketplace. People in cities need food, and the food always has to come from outside the city.\\n\\nUrban history \\n\\nUrban history is history of civilization. The first cities were made in ancient times, as soon as people began to create civilization . Famous ancient cities which fell to ruins included Babylon, Troy, Mycenae and Mohenjo-daro.\\n\\nBenares in northern India is one among the ancient cities which has a history of more than 3000 years. Other cities that have existed since ancient times are Athens in Greece, Rome and Volterra in Italy, Alexandria in Egypt and York in England.' metadata={'chunk': 15.0, 'source': 'https://simple.wikipedia.org/wiki/City', 'title': 'City', 'wiki-id': '144'}\n",
      "\n",
      "\n",
      "page_content='There are no strict rules for what land is considered a continent, but in general it is agreed there are six or seven continents in the world, including Africa, Antarctica, Asia, Europe, North America, Oceania(or Australasia), and South America.' metadata={'chunk': 4.0, 'source': 'https://simple.wikipedia.org/wiki/Continent', 'title': 'Continent', 'wiki-id': '117'}\n",
      "\n",
      "\n",
      "page_content='August is named for Augustus Caesar who became Roman consul in this month.' metadata={'chunk': 17.0, 'source': 'https://simple.wikipedia.org/wiki/August', 'title': 'August', 'wiki-id': '2'}\n",
      "\n",
      "\n"
     ]
    }
   ],
   "source": [
    "import pinecone\n",
    "import openai\n",
    "import logging\n",
    "import os\n",
    "from langchain.retrievers import ContextualCompressionRetriever\n",
    "from langchain.retrievers.document_compressors import LLMChainExtractor\n",
    "from langchain.embeddings.openai import OpenAIEmbeddings\n",
    "from langchain.llms import OpenAI\n",
    "from langchain.vectorstores import Pinecone\n",
    "\n",
    "#create embedding API and llm\n",
    "os.environ[\"OPENAI_API_KEY\"] = \"{YOUR_OPENAI_KEY}\"\n",
    "embedding = OpenAIEmbeddings()\n",
    "llm = OpenAI()\n",
    "\n",
    "#Connect database\n",
    "pinecone.init(api_key=\"{YOUR_PINECONE_APIKEY}\", environment=\"gcp-starter\")\n",
    "index = pinecone.Index(\"terry-wiki\")\n",
    "text_field = \"text\"\n",
    "vectordb = Pinecone(\n",
    "    index, embedding.embed_query, text_field\n",
    ")\n",
    "\n",
    "compressor = LLMChainExtractor.from_llm(llm)\n",
    "compression_retriever = ContextualCompressionRetriever(\n",
    "    base_compressor = compressor,base_retriever = vectordb.as_retriever())\n",
    "\n",
    "query = \"Where is the locaction for vacation?\"\n",
    "docs = compression_retriever.get_relevant_documents(query,k=2)\n",
    "for doc in docs:\n",
    "    print(doc)\n",
    "    print(\"\\n\")\n"
   ]
  },
  {
   "cell_type": "markdown",
   "id": "108b6dfc-d340-43ba-8a06-f3f946290910",
   "metadata": {},
   "source": [
    "# Compression with LLMChainFilter"
   ]
  },
  {
   "cell_type": "code",
   "execution_count": 6,
   "id": "66be5d23-e5b5-4e51-acdf-a07711b34997",
   "metadata": {
    "tags": []
   },
   "outputs": [
    {
     "name": "stderr",
     "output_type": "stream",
     "text": [
      "/Users/terrycho/.local/lib/python3.11/site-packages/langchain_community/vectorstores/pinecone.py:62: UserWarning: Passing in `embedding` as a Callable is deprecated. Please pass in an Embeddings object instead.\n",
      "  warnings.warn(\n",
      "/Users/terrycho/.local/lib/python3.11/site-packages/langchain/chains/llm.py:316: UserWarning: The predict_and_parse method is deprecated, instead pass an output parser directly to LLMChain.\n",
      "  warnings.warn(\n",
      "/Users/terrycho/.local/lib/python3.11/site-packages/langchain/chains/llm.py:316: UserWarning: The predict_and_parse method is deprecated, instead pass an output parser directly to LLMChain.\n",
      "  warnings.warn(\n",
      "/Users/terrycho/.local/lib/python3.11/site-packages/langchain/chains/llm.py:316: UserWarning: The predict_and_parse method is deprecated, instead pass an output parser directly to LLMChain.\n",
      "  warnings.warn(\n",
      "/Users/terrycho/.local/lib/python3.11/site-packages/langchain/chains/llm.py:316: UserWarning: The predict_and_parse method is deprecated, instead pass an output parser directly to LLMChain.\n",
      "  warnings.warn(\n"
     ]
    },
    {
     "name": "stdout",
     "output_type": "stream",
     "text": [
      "page_content='Austria (, ;  ), officially the\\xa0Republic of Austria ( ), is a country in Central Europe. Around Austria there are the countries of Germany, Czech Republic, Slovakia, Hungary, Slovenia, Italy, Switzerland, and Liechtenstein. Currently, the chancellor is Karl Nehammer The previous chancellor was Alexander Schallenberg (2021). Austria has been a member-state of the United Nations since 1955 the European Union since 1995 and OPEC since 2019.\\n\\nThe people in Austria speak German, a few also speak Hungarian, Slovenian and Croatian. The capital of Austria is Vienna (Wien).\\n\\nAustria is more than a thousand years old. Its history can be followed to the ninth century. At that time the first people moved to the land now known as Austria. The name \"Ostarrichi\" is first written in an official document from 996. Since then this word has developed into the Modern German word Österreich, which literally means \"East Empire.\"\\n\\nPolitics \\nAustria is a democratic republic. It is a neutral state, that means it does not take part in wars with other countries. It has been in the United Nations since 1955 and in the European Union since 1995.\\n\\nAustria is also a federal state and divided into nine states (): \\n Burgenland (Burgenland)\\n Carinthia (Kärnten)\\n Lower Austria (Niederösterreich)\\n Salzburg(erland) (Salzburg)\\n Styria (Steiermark)\\n Tyrol (Tirol)\\n Upper Austria (Oberösterreich)\\n Vienna (Wien)\\n Vorarlberg (Vorarlberg)\\n\\nMore information: States of Austria.\\n\\nHistory\\n\\nAncient times \\nThere has been human settlement in the area that is now Austria for a long time. The first settlers go back to the Paleolithic age. That was the time of the Neanderthals. They left works of art such as the Venus of Willendorf. In the Neolithic age people were living there to dig for mineral resources, especially copper. Ötzi, a mummy found in a glacier between Austria and Italy, is from that time. In the Bronze Age people built bigger settlements and fortresses, especially where there were mineral resources. Salt mining began near Hallstatt. At that time, Celts began to form the first states.\\n\\nThe Romans\\n\\nThe Roman cities and their modern names\\nThe Romans came 15 B.C. to Austria and made the Celtic Regnum Noricum to a province. Modern Austria was part of three provinces, Raetia, Noricum and Pannonia. The border in the north was the Danube.\\n\\nShown on the map\\nVindobona-Vienna\\nCarnuntum- Petronell and Bad Deutsch-Altenburg\\nSavaria- Szombathely  (Hungary)\\nFavianis- Mautern an der Donau\\nLauriacum- Lorch near Enns\\nBoiotro- Passau (Germany)\\nIuvavum- Salzburg\\nSabiona- Säben bei Klausen (Italy)\\nAguntum- close to Lienz\\nTeurnia- close to Spital an der Drau\\nVirunum - Zollfeld in Carinthia\\nBrigantium- Bregenz\\n\\nOthers\\nLentia- Linz\\nOvilava- Wels\\nVeldidena- Wilten (now part of Innsbruck)\\nFlavia Solva- near Leibniz\\n\\nModern times \\nAustria was the Austrian Empire from about 800 to 1867 and was ruled by The House of Habsburg for most of that period. Between 1867 and 1918 it was a part of Austria-Hungary. Then it became a republic. The First Republic was from 1918 to 1938. From 1938 to 1945 Austria was part of Nazi Germany. The Second Republic was started in 1945.\\n\\nGeography \\n\\nAustria is a mountainous country since it is partially in the Alps. Grossglockner is the tallest mountain in Austria. The high mountainous Alps in the west of Austria flatten somewhat into low lands and plains in the east of the country where the Danube flows.\\n\\nCulture\\n\\nMusic and Arts \\nMany famous composers were Austrians or born in Austria. There are Wolfgang Amadeus Mozart, Joseph Haydn, Franz Schubert, Anton Bruckner, Johann Strauss, Sr., Johann Strauss, Jr. and Gustav Mahler. In modern times there were Arnold Schoenberg, Anton Webern and Alban Berg, who belonged to the Second Viennese School.\\n\\nAustria has many artists, there are Gustav Klimt, Oskar Kokoschka, Egon Schiele or Friedensreich Hundertwasser, Inge Morath or Otto Wagner and scienc.\\n\\nFood \\nFamous Austrian dishes are Wiener Schnitzel, Apfelstrudel, Schweinsbraten, Kaiserschmarren, Knödel, Sachertorte and Tafelspitz. But you can also find a lot of local dishes like Kärntner Reindling (a kind of cake), Kärntner Nudeln (also called \"Kärntner Kasnudeln\", you may write it \"...nudln\" too), Tiroler Knödl (may be written \"...knödel\"; ), Tiroler Schlipfkrapfen (another kind of \"Kärntner Nudeln\"), Salzburger Nockerl (also may be written ...\"Nockerln\"), Steirisches Wurzelfleisch (...\"Wurzlfleisch\") or Sterz (\"Steirischer Sterz\").\\n\\nUNESCO World Heritage Sites in Austria\\nHistoric Centre of Salzburg — 1996\\nSchönbrunn Palace — 1996\\nHallstatt–Dachstein Salzkammergut Cultural Landscape — 1997\\nSemmering Railway — 1998\\nHistoric Centre of Graz and Schloss Eggenberg — 1999 (extended in 2010)\\nWachau Cultural Landscape — 2000\\nHistoric Centre of Vienna — 2001\\nLake Neusiedl — 2001\\n\\nGallery\\n\\nRelated pages\\n List of rivers of Austria\\n\\nReferences\\n\\nOther websites\\n \\n \\n Austria Maps\\n\\n \\nEuropean Union member states\\nGerman-speaking countries\\nFederations' metadata={'chunk': 10.0, 'source': 'https://simple.wikipedia.org/wiki/Austria', 'title': 'Austria', 'wiki-id': '55'}\n",
      "\n",
      "\n",
      "page_content='A city is a heavily inhabited community that may include structures, buildings, bridges, rivers or lakes, and landmarks.\\n\\nA city has many buildings and streets. It has houses, hotels, condominiums, and apartments for many people to live in, shops where they may buy things, places for people to work, and a government to run the city and keep law and order in the city. People live in cities because it is easy for them to find and do everything they want there. A city usually has a \"city center\" where government and business occur and suburbs where people live outside the center.\\n\\nDefinition\\n\\nNo rule is used worldwide to decide why some places are called \"city,\" and other places are called \"town.\"\\n\\nSome things that make a city are :\\n A long history. Although many cities today have only been around for tens or hundreds of years, there are a few which have been so for thousands of years. For example, Athens, Greece was founded in 1000 BC and Rome, Italy has existed since 700 BC.\\n A large population. Cities can have millions of people living in and around them. Among them are Tokyo, Japan, and the Tokyo Metropolis around it, which includes Yokohama and Chiba.\\n In Japan, the population of a city ( 市 ) is at least over 50,000 persons. and among cities, there are various grades according to laws, which the central government of Japan governs.\\n A center where business and government takes place. The first case is often described as the financial capital, such as Frankfurt in Germany. The second case is true for different levels of government, whether they are local or part of a larger region (for example, Atlanta, Georgia, or the capital of the United States Washington, D.C.) Cities that contain the government of the region it is in are called capitals. Almost every country has its own capital.\\n Special powers called town privileges which have been given by the government of the country or its ruler. Europe during the Middle Ages was a great example of having town privileges.\\n Having a cathedral or a university. This rule is found in the United Kingdom. The smallest \"cathedral cities\" are St. David\\'s and St. Asaph\\'s which are both in Wales, Ripon and Wells which are in England.\\n\\nIn American English, people often call all places where many people live cities. (See below: Size of cities )\\n\\nSize of cities\\n\\nThe sizes of cities can be very different. This depends on the type of city. Cities built hundreds of years ago and which have not changed much are much smaller than modern cities. There are two main reasons. One reason is that old cities often have a city wall, and most of the city is inside it. Another important reason is that the streets in old cities are often narrow. If the city got too big, it was hard for a cart carrying food to get to the marketplace. People in cities need food, and the food always has to come from outside the city.\\n\\nCities that were on a river like London could grow much bigger than cities that were on a mountain like Sienna in Italy, because the river made a transport route for carrying food and other goods, as well as for transporting people. London has been changing continually for hundreds of years, while Sienna, a significant city in the 1300s, has changed very little in 700 years.\\n\\nModern cities with modern transport systems can grow very large, because the streets are wide enough for cars, buses, and trucks, and there are often railway lines.\\n\\nIn the US, the word city is often used for towns that are not very big. When the first European people went to America, they named \" city \" to new places. They hoped the places would be great cities in the future. For example, Salt Lake City was the name given to a village of 148 people. When they started building the town, they made street plans and called it Great Salt Lake City (for the nearby Great Salt Lake).\\n\\nNow, 150 years later, it really is a big city.\\n\\nIn modern times many cities have grown bigger and bigger. The whole area is often called a  \"metropolis\"  and can sometimes include several small ancient towns and villages. The metropolis of London includes London, Westminster, and many old villages such as Notting Hill, Southwark, Richmond, Greenwich, etc. The part that is officially known as the \" City of London \" only takes up one square mile. The rest is known as \"Greater London. \" Many other cities have grown in the same way.\\n\\nThese giant cities can be exciting places to live, and many people can find good jobs there, but modern cities also have many problems. Many people cannot find jobs in the cities and have to get money by begging or by crime. Automobiles, factories, and waste create a lot of pollution that makes people sick.\\n\\nUrban history \\n\\nUrban history is history of civilization. The first cities were made in ancient times, as soon as people began to create civilization . Famous ancient cities which fell to ruins included Babylon, Troy, Mycenae and Mohenjo-daro.\\n\\nBenares in northern India is one among the ancient cities which has a history of more than 3000 years. Other cities that have existed since ancient times are Athens in Greece, Rome and Volterra in Italy, Alexandria in Egypt and York in England.\\n\\nIn Europe, in the Middle Ages, being a city was a special privilege, granted by nobility. Cities that fall into this category, usually had (or still have) city walls. The people who lived in the city were privileged over those who did not. Medieval cities that still have walls include Carcassonne in France, Tehran in Iran, Toledo in Spain and Canterbury in England.\\n\\nFeatures\\n\\nInfrastructure \\n\\nPeople in a city live close together, so they cannot grow all their own food or gather their own water or energy. People also create waste and need a place to put it. Modern cities have infrastructure to solve these problems. Pipes carry running water, and power lines carry electricity. Sewers take away the dirty water and human waste. Most cities collect garbage to take it to a landfill, burn it, or recycle it.\\n\\nTransport is any way of getting from one place to another. Cities have roads which are used by automobiles (including trucks), buses, motorcycles, bicycles, and pedestrians (people walking). Some cities have trains and larger cities have airports. Many people in cities travel to work each day, which is called commuting.\\n\\nBuildings and design \\nHouses and apartments are common places to live in cities. Great numbers of people in developing countries (and developed countries, in the past) live in slums. A slum is poorly built housing, without clean water, where people live very close together. Buildings are usually taller in the city center, and some cities have skyscrapers.\\n\\nCity streets can be shaped like a grid, or as a \"wheel and spokes\": a set of rings and lines coming out from the center. Streets in some older cities like London are arranged at random, without a pattern. The design of cities is a subject called urban planning. One area of the city might have only shops, and another area might have only factories. Cities have parks, and other public areas like city squares.\\n\\nUnited States politics\\n\\nCities in the US are usually very-left leaning. The best examples of these would be New York, New York, and Washington, D.C. For example, in Louisiana, the only Democratic delegate in US Congress who is a Democrat was elected from a district comprising in New Orleans. Below is a list of states and the major city/cities that provide much of the liberal support in them :\\n\\n Atlanta, Georgia: 5 of the 16 delegates representing Georgia in the US Congress are Democrats. All hail from districts in Atlanta.\\n New Orleans, Louisiana: the only Democratic delegate from Louisiana in the US Congress was elected from a New Orleans district.\\n Kansas City, Kansas: the only Democratic congressman from Kansas was elected from a district in Kansas City.\\n Las Vegas, Nevada: all of the Democrats in the US House who represent Nevada are from Las Vegas.\\n Salt Lake City, Utah: the only Democrat representing Utah in the US Congress was elected from a Salt Lake City district.\\n Chicago, Illinois: if it weren\\'t for Chicago, the state of Illinois would be as conservative as Indiana.\\n Louisville, Kentucky: the only Democrat representing Kentucky in the US Congress was elected from a Louisville district.\\n\\nWorld\\'s largest cities\\n\\nThese cities have more than 10 million people and can be called megacities:\\n Tokyo, Japan - 37+ million\\n Mexico City, Mexico - 21 million\\n Mumbai, India - 20 million\\n São Paulo, Brazil - 18 million\\n Lagos, Nigeria - 13 million\\n Calcutta, India - 13 million\\n Buenos Aires, Argentina - 12 million\\n Seoul, South Korea - 12 million\\n Beijing, China - 12 million\\n Karachi, Pakistan - 12 million\\n Dhaka, Bangladesh - 11 million\\n Manila, Philippines - 11 million\\n Cairo, Egypt - 11 million\\n Osaka, Japan - 11 million\\n Rio de Janeiro, Brazil - 11 million\\n Tianjin, China - 10 million\\n Moscow, Russia - 10 million\\n Lahore, Pakistan - 10 million\\n\\nGallery of cities\\n\\nReferences' metadata={'chunk': 15.0, 'source': 'https://simple.wikipedia.org/wiki/City', 'title': 'City', 'wiki-id': '144'}\n",
      "\n",
      "\n",
      "page_content='A continent is a large area of the land on Earth that is joined together.\\n\\nThere are no strict rules for what land is considered a continent, but in general it is agreed there are six or seven continents in the world, including Africa, Antarctica, Asia, Europe, North America, Oceania(or Australasia), and South America.\\n\\nDemography\\n\\nThe most populous continent by population is Asia, followed by Africa. The third most populous continent is Europe. The fourth most populous is North America, and then South America. In sub-Saharan Africa, the largest age group are denarians (in their teens). In north Africa, the largest age group are vicenarian (in their twenties). In Europe, most people are tricenarian (in their thirties) or quadragenarian (in their forties).\\n\\nContinents \\nGeologists use the term continent to mean continental crust, a platform of metamorphic and igneous rock, largely of granitic composition. Continental crust is less dense and much thicker than oceanic crust, which is why it \"floats\" higher than oceanic crust on the underlying mantle. This explains why the continents form high platforms surrounded by deep ocean basins.\\n\\nAustralia \\nSome sources say that Australia is one of the seven continents. Others say that Australia is part of a larger continent, such as Australasia, or Oceania. Oceania is a region which includes Australia, New Zealand and the Pacific Islands. Australasia includes at least all countries on the Australian continental plate. This includes the islands of New Guinea, Tasmania, New Zealand and a number of smaller islands. It is on the south-eastern side of the Wallace Line, with distinct differences in its biology from the Asian side of the line.\\n\\n\"It includes all the islands of the Malay Archipelago... as well as the various groups of islands in the Pacific. The term has been used in very different senses\".\\n\\nNorth and South America \\nNorth America and South America together are often described as one continent, \"the Americas\", or simply \"America\". This has the advantage of including Central America and the Caribbean islands. Otherwise, Central America is counted as part of North America.\\n\\nEurasia \\nEurasia is not really an alternative, rather it is a recognition that the landmasses of Europe and Asia are continuous, and some of its largest countries are in both regions. Russia extends from eastern Europe to the far east of Asia without a break. The Ural Mountains, which run roughly north–south, are the traditional dividing-line between Europe and Asia. For many purposes it is convenient to consider the great landmass as a single continent, Eurasia.\\n\\nWhen British people talk about \"the Continent\" (or \"Continental\" things) they mean the European mainland. This meaning is not used as much as it used to be, but is still seen in phrases like \"Continental breakfast\" (rolls with cheese, jam etc. as distinct from an \"English breakfast\" which is a cooked breakfast).\\n\\nContinents not only move but also sometimes move against each other. The Indian subcontinent has been colliding with the Eurasian continent for a while now. As these continents push against each other, they buckle and bend. Because of this, the Himalaya Mountains, where Mount Everest is, are still being made today.\\n\\nAntarctica \\nAntarctica is Earth\\'s fifth largest continent. Antarctica is the coldest place on Earth, covers Earth\\'s South Pole. The continent only have two seasons, summer and winter. Antarctica is a desert, it does not rain or snow a lot there. Ever since its discovery in 1812, Antarctica with a surface area of ~13.6 –14 million km2 about 1.4 times the size of Europe, proved to be a great challenge for explorers. Despite being nearly completely covered by a thick layer of ice, Antarctica harbors a wide range of aquatic and terrestrial environement.\\n\\nZealandia \\nZealandia is an almost entirely submerged land mass, and 93% of it still remains under water. Zealandia may have broken off the Australian plate between 85 and 130 million years ago.\\n\\nRelated pages\\n List of countries by continents\\n\\nReferences \\n\\n \\nGeology' metadata={'chunk': 4.0, 'source': 'https://simple.wikipedia.org/wiki/Continent', 'title': 'Continent', 'wiki-id': '117'}\n",
      "\n",
      "\n",
      "page_content='August (Aug.) is the eighth month of the year in the Gregorian calendar, coming between July and September. It has 31 days. It is named after the Roman emperor Augustus Caesar.\\n\\nAugust does not begin on the same day of the week as any other month in common years, but begins on the same day of the week as February in leap years. August always ends on the same day of the week as November.\\n\\nThe Month \\n\\nThis month was first called Sextilis in Latin, because it was the sixth month in the old Roman calendar. The Roman calendar began in March about 735\\xa0BC with Romulus. October was the eighth month. August was the eighth month when January or February were added to the start of the year by King Numa Pompilius about 700\\xa0BC. Or, when those two months were moved from the end to the beginning of the year by the decemvirs about 450\\xa0BC (Roman writers disagree). In 153 BC January 1 was determined as the beginning of the year.\\n\\nAugust is named for Augustus Caesar who became Roman consul in this month. The month has 31 days because Julius Caesar added two days when he created the Julian calendar in 45 BC. August is after July and before September.\\n\\nAugust, in either hemisphere, is the seasonal equivalent of February in the other. In the Northern hemisphere it is a summer month and it is a winter month in the Southern hemisphere.\\n\\nNo other month in common years begins on the same day of the week as August, but August begins on the same day of the week as February in leap years. August ends on the same day of the week as November every year, as each other\\'s last days are 13 weeks (91 days) apart.\\n\\nIn common years, August starts on the same day of the week as March and November of the previous year, and in leap years, June of the previous year. In common years, August finishes on the same day of the week as March and June of the previous year, and in leap years, September of the previous year. In common years immediately after other common years, August starts on the same day of the week as February of the previous year.\\n\\nIn years immediately before common years, August starts on the same day of the week as May of the following year, and in years immediately before leap years, October of the following year. In years immediately before common years, August finishes on the same day of the week as May of the following year, and in years immediately before leap years, February and October of the following year.\\n\\nAugust observances\\n\\nFixed observances and events \\n\\n August 1  National Day of Switzerland\\n August 1  Independence Day (Benin)\\n August 1  Emancipation Day (Bermuda, Guyana, Jamaica, Barbados, Trinidad and Tobago)\\n August 1  Army Day (People\\'s Republic of China)\\n August 1  Lammas, cross-quarter day in the Celtic calendar\\n August 1  Statehood Day (Colorado)\\n August 2  Republic Day (Republic of Macedonia)\\n August 2  Emancipation Day (Bahamas)\\n August 3  Independence Day (Niger)\\n August 5  Independence Day (Burkina Faso)\\n August 5  Victory Day (Croatia)\\n August 6  Independence Day (Bolivia)\\n August 6  Independence Day (Jamaica)\\n August 7  Independence Day (Ivory Coast)\\n August 8  Father\\'s Day (Taiwan)\\n August 9  National Day of Singapore\\n August 9  Day of the Indigenous People (Suriname)\\n August 9  National Women\\'s Day (South Africa)\\n August 10  Independence Day (Ecuador)\\n August 10  Missouri Day\\n August 11  Independence Day (Chad)\\n August 12  Perseid Meteor Shower\\n August 12  Queen Sirikit\\'s Birthday (Thailand)\\n August 13  Independence Day (Central African Republic)\\n August 14  Independence Day (Pakistan)\\n August 15  Assumption of Mary in Western Christianity\\n August 15  Independence Day (India)\\n August 15  Independence Day (Republic of the Congo)\\n August 15  Independence Day (Bahrain)\\n August 15  National Day of South Korea\\n August 15  National Day of Liechtenstein\\n August 15  Victory in Japan Day\\n August 17  Independence Day (Indonesia)\\n August 17  Independence Day (Gabon)\\n August 19  World Humanitarian Day\\n August 19  Independence Day (Afghanistan)\\n August 20  Feast day of Stephen I of Hungary\\n August 20  Regaining of Independence (Estonia)\\n August 21  Admission Day (Hawaii)\\n August 21  Ninoy Aquino Day (Philippines)\\n August 21  Saint Helena Day\\n August 23  National Heroes Day (Philippines)\\n August 24  Independence Day (Ukraine)\\n August 25  Independence Day (Uruguay)\\n August 26  Heroes\\' Day (Namibia)\\n August 27  Independence Day (Moldova)\\n August 28  Assumption of Mary (Eastern Christianity)\\n August 29  National Uprising Day (Slovakia)\\n August 30  Constitution Day (Kazakhstan)\\n August 30  Republic Day (Tatarstan)\\n August 30  Victory Day (Turkey)\\n August 31  Independence Day (Kyrgyzstan)\\n August 31  Independence Day (Malaysia)\\n August 31  Independence Day (Trinidad and Tobago)\\n\\nMoveable and Monthlong events \\n\\n Edinburgh Festival, including the Military Tattoo at Edinburgh Castle, takes place through most of August and beginning of September.\\n UK Bank Holidays: First Monday in Scotland, last Monday in England and Wales\\n National Eisteddfod, cultural celebration in Wales: First week in August\\n Children\\'s Day in Uruguay: Second Sunday in August\\n Monday after August 17: Holiday in Argentina, commemorating José de San Martin\\n Discovery Day in Canada: third Monday in August\\n Summer Olympics, often held in July and/or August\\n\\nSelection of Historical Events \\n\\n August 1  1291: Traditional founding date of Switzerland.\\n August 1  1914: World War I begins.\\n August 1  1944: Anne Frank makes the last entry in her diary.\\n August 1  1960: Dahomey (now called Benin) becomes independent.\\n August 2  1990: Iraq invades Kuwait.\\n August 3  1492: Christopher Columbus sets sail on his first voyage.\\n August 3  1960: Niger becomes independent.\\n August 4  1944: Anne Frank and her family are captured by the Gestapo in Amsterdam.\\n August 4  1984: Upper Volta\\'s name is changed to Burkina Faso.\\n August 5  1960: Upper Volta becomes independent.\\n August 5  1962: Film actress Marilyn Monroe is found dead at her home.\\n August 6  1825: Bolivian independence.\\n August 6  1945: The Atomic Bomb is dropped on Hiroshima.\\n August 6  1962: Jamaica becomes independent.\\n August 7  1960: Ivory Coast becomes independent.\\n August 9  1945: The Atomic Bomb is dropped on Nagasaki.\\n August 9  1965: Singapore becomes independent.\\n August 9  1974: US President Richard Nixon resigns following the Watergate scandal, with Gerald Ford replacing him.\\n August 10  1792: Storming of the Tuileries Palace during the French Revolution\\n August 10  1809: Beginning of Ecuadorean independence movement.\\n August 11  1960: Chad becomes independent.\\n August 13  1960: The Central African Republic becomes independent.\\n August 13  1961: Building of the Berlin Wall begins.\\n August 14  1945: Japan announces its surrender at the end of World War II.\\n August 14/15  1947: India is partitioned at independence from the UK, as the new mainly Islamic state of Pakistan is created.\\n August 15  1960: The Republic of the Congo becomes independent.\\n August 15  1971: Bahrain becomes independent.\\n August 16  1977: Elvis Presley dies aged 42, leading to a worldwide outpouring of grief.\\n August 17  1945: Indonesia declares independence from the Netherlands.\\n August 17  1960: Gabon becomes independent.\\n August 17  1962: Peter Fechter becomes the first person to be shot dead at the Berlin Wall.\\n August 19  43 BC: Augustus becomes Roman consul.\\n August 19  14: Augustus dies.\\n August 19  1919: Afghanistan becomes independent.\\n August 19  1991: The August Coup against Mikhail Gorbachev, in the Soviet Union, begins.\\n August 20  1940: Leon Trotsky is fatally wounded with an ice pick in Mexico.\\n August 20  1968: The Prague Spring uprising is crushed.\\n August 20  1991: Estonia regains its independence from the Soviet Union.\\n August 21  1959: Hawaii becomes the 50th State of the US.\\n August 24  79: Vesuvius erupts, destroying Pompeii and neighbouring Herculaneum.\\n August 24  1991: Ukraine regains independence from the Soviet Union.\\n August 25  1825: Uruguay declares independence from Brazil.\\n August 27  1883: Krakatoa, in the Sunda Strait between Sumatra and Java, explodes, after a very violent eruption.\\n August 27  1991: Moldova becomes independent from the Soviet Union.\\n August 28  1963: The March on Washington for Jobs and Freedom takes place, where Martin Luther King, Jr. makes his \"I Have a Dream\" speech for Civil Rights in the United States.\\n August 29  2005: Hurricane Katrina wreaks devastation in Alabama, Mississippi and Louisiana. New Orleans is flooded.\\n August 31  1957: Malaysia, then the Federation of Malaya, becomes independent.\\n August 31  1962: Trinidad and Tobago becomes independent.\\n August 31  1991: Kyrgyzstan becomes independent.\\n August 31  1997: Diana, Princess of Wales is killed in a car crash in Paris, leading to a big outpouring of grief.\\n\\nTrivia \\n Along with July, August is one of two calendar months to be named after people who really lived (July was named for Julius Caesar and August was named for Augustus).\\n Only one US President has died in August, Warren G. Harding, on August 2, 1923.\\n August\\'s flower is the Gladiolus with the birthstone being peridot.\\n The astrological signs for August are Leo (July 22 - August 21) and Virgo (August 22 - September 21).\\nAugust is the second of two months beginning with \\'A\\', the other being April, with both April 21 and August 21 falling either side of the Northern summer solstice.\\n\\nReferences' metadata={'chunk': 17.0, 'source': 'https://simple.wikipedia.org/wiki/August', 'title': 'August', 'wiki-id': '2'}\n",
      "\n",
      "\n"
     ]
    }
   ],
   "source": [
    "import pinecone\n",
    "import openai\n",
    "import logging\n",
    "import os\n",
    "from langchain.retrievers import ContextualCompressionRetriever\n",
    "from langchain.retrievers.document_compressors import LLMChainFilter\n",
    "from langchain.embeddings.openai import OpenAIEmbeddings\n",
    "from langchain.llms import OpenAI\n",
    "from langchain.vectorstores import Pinecone\n",
    "\n",
    "#create embedding API and llm\n",
    "os.environ[\"OPENAI_API_KEY\"] = \"{YOUR_OPENAI_KEY}\"\n",
    "embedding = OpenAIEmbeddings()\n",
    "llm = OpenAI()\n",
    "\n",
    "#Connect database\n",
    "pinecone.init(api_key=\"{YOUR_PINECONE_APIKEY}\", environment=\"gcp-starter\")\n",
    "index = pinecone.Index(\"terry-wiki\")\n",
    "text_field = \"text\"\n",
    "vectordb = Pinecone(\n",
    "    index, embedding.embed_query, text_field\n",
    ")\n",
    "\n",
    "filter = LLMChainFilter.from_llm(llm)\n",
    "compression_retriever = ContextualCompressionRetriever(\n",
    "    base_compressor = filter,base_retriever = vectordb.as_retriever(),k=2)\n",
    "\n",
    "query = \"Where is the locaction for vacation?\"\n",
    "docs = compression_retriever.get_relevant_documents(query,k=2)\n",
    "for doc in docs:\n",
    "    print(doc)\n",
    "    print(\"\\n\")\n",
    "    "
   ]
  },
  {
   "cell_type": "markdown",
   "id": "76df20ad-4318-49f2-abab-6ba088e38279",
   "metadata": {},
   "source": [
    "# Compression with pipeline"
   ]
  },
  {
   "cell_type": "code",
   "execution_count": 8,
   "id": "8b5fc9dc-5c2b-4671-a3b0-6bbead9b0304",
   "metadata": {
    "tags": []
   },
   "outputs": [
    {
     "name": "stderr",
     "output_type": "stream",
     "text": [
      "/Users/terrycho/.local/lib/python3.11/site-packages/langchain_community/vectorstores/pinecone.py:62: UserWarning: Passing in `embedding` as a Callable is deprecated. Please pass in an Embeddings object instead.\n",
      "  warnings.warn(\n",
      "/Users/terrycho/.local/lib/python3.11/site-packages/langchain/chains/llm.py:316: UserWarning: The predict_and_parse method is deprecated, instead pass an output parser directly to LLMChain.\n",
      "  warnings.warn(\n"
     ]
    },
    {
     "name": "stdout",
     "output_type": "stream",
     "text": [
      "page_content='Cuba is an island country in the Caribbean Sea. The country is made up of the big island of Cuba, the Isla de la Juventud island (Isle of Youth), and many smaller islands. Havana is the capital of Cuba. It is the largest city. The second largest city is Santiago de Cuba. In Spanish, the capital is called \"La Habana\". Cuba is near the United States, Mexico, Haiti, Jamaica and the Bahamas.' metadata={'chunk': 2.0, 'source': 'https://simple.wikipedia.org/wiki/Cuba', 'title': 'Cuba', 'wiki-id': '178'}\n",
      "\n",
      "\n"
     ]
    },
    {
     "name": "stderr",
     "output_type": "stream",
     "text": [
      "/Users/terrycho/.local/lib/python3.11/site-packages/langchain/chains/llm.py:316: UserWarning: The predict_and_parse method is deprecated, instead pass an output parser directly to LLMChain.\n",
      "  warnings.warn(\n"
     ]
    }
   ],
   "source": [
    "from langchain.llms import OpenAI\n",
    "import pinecone\n",
    "import os\n",
    "from langchain.embeddings.openai import OpenAIEmbeddings\n",
    "from langchain.vectorstores import Pinecone\n",
    "from langchain.retrievers import ContextualCompressionRetriever\n",
    "from langchain.retrievers.document_compressors import LLMChainFilter\n",
    "from langchain.retrievers.document_compressors import LLMChainExtractor\n",
    "from langchain.retrievers.document_compressors import DocumentCompressorPipeline\n",
    "from langchain_community.document_transformers import EmbeddingsRedundantFilter\n",
    "\n",
    "#create embedding API\n",
    "os.environ[\"OPENAI_API_KEY\"] = \"{YOUR_OPENAI_KEY}\"\n",
    "llm = OpenAI(temperature=0)\n",
    "embedding = OpenAIEmbeddings()\n",
    "\n",
    "#Connect database\n",
    "pinecone.init(api_key=\"{YOUR_PINECONE_APIKEY}\", environment=\"gcp-starter\")\n",
    "index = pinecone.Index(\"terry-wiki\")\n",
    "text_field = \"text\"\n",
    "vectordb = Pinecone(\n",
    "    index, embedding.embed_query, text_field\n",
    ")\n",
    "\n",
    "llm_filter = LLMChainFilter.from_llm(llm)\n",
    "llm_extractor = LLMChainExtractor.from_llm(llm)\n",
    "redundant_filter = EmbeddingsRedundantFilter(embeddings=embedding)\n",
    "\n",
    "\n",
    "pipeline_compressor = DocumentCompressorPipeline( transformers=[redundant_filter,llm_extractor,llm_filter])\n",
    "# query =\"Where is the cuba? and nearest country by the Cuba?\" 이고 k=3\n",
    "# redundant_filter 사용하면 결과가 Cuba에 대한것 하나만 나옴\n",
    "\n",
    "# query =\"Where is the cuba? and nearest country by the Cuba?\" 이고 k=3\n",
    "# redundant_filter 없이 사용하면 결과가 Cuba에 대한것 3개가 같은 레코드 나옴\n",
    "\n",
    "#pipeline_compressor = DocumentCompressorPipeline( transformers=[llm_extractor])\n",
    "\n",
    "compression_retriever = ContextualCompressionRetriever(\n",
    "    base_compressor = pipeline_compressor,base_retriever = vectordb.as_retriever(),k=10)\n",
    "\n",
    "#query = \"Where is the best place for summer vacation?\"\n",
    "query =\"Where is the cuba? and nearest country by the Cuba?\"\n",
    "docs = compression_retriever.get_relevant_documents(query)\n",
    "for doc in docs:\n",
    "    print(doc)\n",
    "    print(\"\\n\")\n"
   ]
  },
  {
   "cell_type": "code",
   "execution_count": null,
   "id": "39ca153e-7743-47fe-9742-2b0069e035ee",
   "metadata": {
    "tags": []
   },
   "outputs": [],
   "source": [
    "from langchain.chains import RetrievalQAWithSourcesChain\n",
    "\n",
    "qa_with_sources = RetrievalQAWithSourcesChain.from_chain_type(\n",
    "    llm=llm,\n",
    "    chain_type=\"stuff\",\n",
    "    retriever=vectorstore.as_retriever()\n",
    ")\n",
    "qa_with_sources(query)"
   ]
  },
  {
   "cell_type": "code",
   "execution_count": null,
   "id": "a9c8e06b-ca7b-4b77-a1ed-c99aad20df59",
   "metadata": {},
   "outputs": [],
   "source": []
  }
 ],
 "metadata": {
  "kernelspec": {
   "display_name": "Python 3 (ipykernel)",
   "language": "python",
   "name": "python3"
  },
  "language_info": {
   "codemirror_mode": {
    "name": "ipython",
    "version": 3
   },
   "file_extension": ".py",
   "mimetype": "text/x-python",
   "name": "python",
   "nbconvert_exporter": "python",
   "pygments_lexer": "ipython3",
   "version": "3.11.4"
  }
 },
 "nbformat": 4,
 "nbformat_minor": 5
}
