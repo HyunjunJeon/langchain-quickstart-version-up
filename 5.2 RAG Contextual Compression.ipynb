{
 "cells": [
  {
   "cell_type": "markdown",
   "id": "b9520229-89af-4613-bd4c-9ce291606c6b",
   "metadata": {},
   "source": [
    "# Contextual compression"
   ]
  },
  {
   "cell_type": "code",
   "execution_count": 4,
   "id": "1fe423cb-dc02-4bc1-9d75-9eea28300936",
   "metadata": {
    "tags": []
   },
   "outputs": [],
   "source": [
    "from pinecone import Pinecone\n",
    "import os\n",
    "from langchain.retrievers.contextual_compression import ContextualCompressionRetriever\n",
    "from langchain.retrievers.document_compressors.chain_extract import LLMChainExtractor\n",
    "from langchain_openai import OpenAIEmbeddings, ChatOpenAI\n",
    "from langchain_pinecone import PineconeVectorStore\n",
    "\n",
    "# create embedding API and llm\n",
    "os.environ[\"OPENAI_API_KEY\"] = \"{YOUR_OPENAI_KEY}\"\n",
    "embedding = OpenAIEmbeddings()\n",
    "llm = ChatOpenAI(model=\"gpt-4o-mini\")\n",
    "\n",
    "# Connect database\n",
    "pc = Pinecone(embedding=embedding, api_key=\"{YOUR_PINECONE_APIKEY}\")\n",
    "index = pc.Index(\"terry-wiki\")\n",
    "\n",
    "vectordb = PineconeVectorStore(index=index, embedding=embedding)\n",
    "\n",
    "compressor = LLMChainExtractor.from_llm(llm)\n",
    "compression_retriever = ContextualCompressionRetriever(\n",
    "    base_compressor=compressor, base_retriever=vectordb.as_retriever()\n",
    ")\n",
    "\n",
    "query = \"Where is the locaction for vacation?\"\n",
    "docs = compression_retriever.invoke(query, k=2)\n",
    "for doc in docs:\n",
    "    print(doc)\n",
    "    print(\"\\n\")"
   ]
  },
  {
   "cell_type": "markdown",
   "id": "108b6dfc-d340-43ba-8a06-f3f946290910",
   "metadata": {},
   "source": [
    "# Compression with LLMChainFilter"
   ]
  },
  {
   "cell_type": "code",
   "execution_count": 7,
   "id": "66be5d23-e5b5-4e51-acdf-a07711b34997",
   "metadata": {
    "tags": []
   },
   "outputs": [
    {
     "name": "stdout",
     "output_type": "stream",
     "text": [
      "page_content='Austria (, ;  ), officially the Republic of Austria ( ), is a country in Central Europe. Around Austria there are the countries of Germany, Czech Republic, Slovakia, Hungary, Slovenia, Italy, Switzerland, and Liechtenstein. Currently, the chancellor is Karl Nehammer The previous chancellor was Alexander Schallenberg (2021). Austria has been a member-state of the United Nations since 1955 the European Union since 1995 and OPEC since 2019.\n",
      "\n",
      "The people in Austria speak German, a few also speak Hungarian, Slovenian and Croatian. The capital of Austria is Vienna (Wien).\n",
      "\n",
      "Austria is more than a thousand years old. Its history can be followed to the ninth century. At that time the first people moved to the land now known as Austria. The name \"Ostarrichi\" is first written in an official document from 996. Since then this word has developed into the Modern German word Österreich, which literally means \"East Empire.\"\n",
      "\n",
      "Politics \n",
      "Austria is a democratic republic. It is a neutral state, that means it does not take part in wars with other countries. It has been in the United Nations since 1955 and in the European Union since 1995.\n",
      "\n",
      "Austria is also a federal state and divided into nine states (): \n",
      " Burgenland (Burgenland)\n",
      " Carinthia (Kärnten)\n",
      " Lower Austria (Niederösterreich)\n",
      " Salzburg(erland) (Salzburg)\n",
      " Styria (Steiermark)\n",
      " Tyrol (Tirol)\n",
      " Upper Austria (Oberösterreich)\n",
      " Vienna (Wien)\n",
      " Vorarlberg (Vorarlberg)\n",
      "\n",
      "More information: States of Austria.\n",
      "\n",
      "History\n",
      "\n",
      "Ancient times \n",
      "There has been human settlement in the area that is now Austria for a long time. The first settlers go back to the Paleolithic age. That was the time of the Neanderthals. They left works of art such as the Venus of Willendorf. In the Neolithic age people were living there to dig for mineral resources, especially copper. Ötzi, a mummy found in a glacier between Austria and Italy, is from that time. In the Bronze Age people built bigger settlements and fortresses, especially where there were mineral resources. Salt mining began near Hallstatt. At that time, Celts began to form the first states.\n",
      "\n",
      "The Romans\n",
      "\n",
      "The Roman cities and their modern names\n",
      "The Romans came 15 B.C. to Austria and made the Celtic Regnum Noricum to a province. Modern Austria was part of three provinces, Raetia, Noricum and Pannonia. The border in the north was the Danube.\n",
      "\n",
      "Shown on the map\n",
      "Vindobona-Vienna\n",
      "Carnuntum- Petronell and Bad Deutsch-Altenburg\n",
      "Savaria- Szombathely  (Hungary)\n",
      "Favianis- Mautern an der Donau\n",
      "Lauriacum- Lorch near Enns\n",
      "Boiotro- Passau (Germany)\n",
      "Iuvavum- Salzburg\n",
      "Sabiona- Säben bei Klausen (Italy)\n",
      "Aguntum- close to Lienz\n",
      "Teurnia- close to Spital an der Drau\n",
      "Virunum - Zollfeld in Carinthia\n",
      "Brigantium- Bregenz\n",
      "\n",
      "Others\n",
      "Lentia- Linz\n",
      "Ovilava- Wels\n",
      "Veldidena- Wilten (now part of Innsbruck)\n",
      "Flavia Solva- near Leibniz\n",
      "\n",
      "Modern times \n",
      "Austria was the Austrian Empire from about 800 to 1867 and was ruled by The House of Habsburg for most of that period. Between 1867 and 1918 it was a part of Austria-Hungary. Then it became a republic. The First Republic was from 1918 to 1938. From 1938 to 1945 Austria was part of Nazi Germany. The Second Republic was started in 1945.\n",
      "\n",
      "Geography \n",
      "\n",
      "Austria is a mountainous country since it is partially in the Alps. Grossglockner is the tallest mountain in Austria. The high mountainous Alps in the west of Austria flatten somewhat into low lands and plains in the east of the country where the Danube flows.\n",
      "\n",
      "Culture\n",
      "\n",
      "Music and Arts \n",
      "Many famous composers were Austrians or born in Austria. There are Wolfgang Amadeus Mozart, Joseph Haydn, Franz Schubert, Anton Bruckner, Johann Strauss, Sr., Johann Strauss, Jr. and Gustav Mahler. In modern times there were Arnold Schoenberg, Anton Webern and Alban Berg, who belonged to the Second Viennese School.\n",
      "\n",
      "Austria has many artists, there are Gustav Klimt, Oskar Kokoschka, Egon Schiele or Friedensreich Hundertwasser, Inge Morath or Otto Wagner and scienc.\n",
      "\n",
      "Food \n",
      "Famous Austrian dishes are Wiener Schnitzel, Apfelstrudel, Schweinsbraten, Kaiserschmarren, Knödel, Sachertorte and Tafelspitz. But you can also find a lot of local dishes like Kärntner Reindling (a kind of cake), Kärntner Nudeln (also called \"Kärntner Kasnudeln\", you may write it \"...nudln\" too), Tiroler Knödl (may be written \"...knödel\"; ), Tiroler Schlipfkrapfen (another kind of \"Kärntner Nudeln\"), Salzburger Nockerl (also may be written ...\"Nockerln\"), Steirisches Wurzelfleisch (...\"Wurzlfleisch\") or Sterz (\"Steirischer Sterz\").\n",
      "\n",
      "UNESCO World Heritage Sites in Austria\n",
      "Historic Centre of Salzburg — 1996\n",
      "Schönbrunn Palace — 1996\n",
      "Hallstatt–Dachstein Salzkammergut Cultural Landscape — 1997\n",
      "Semmering Railway — 1998\n",
      "Historic Centre of Graz and Schloss Eggenberg — 1999 (extended in 2010)\n",
      "Wachau Cultural Landscape — 2000\n",
      "Historic Centre of Vienna — 2001\n",
      "Lake Neusiedl — 2001\n",
      "\n",
      "Gallery\n",
      "\n",
      "Related pages\n",
      " List of rivers of Austria\n",
      "\n",
      "References\n",
      "\n",
      "Other websites\n",
      " \n",
      " \n",
      " Austria Maps\n",
      "\n",
      " \n",
      "European Union member states\n",
      "German-speaking countries\n",
      "Federations' metadata={'chunk': 10.0, 'source': 'https://simple.wikipedia.org/wiki/Austria', 'title': 'Austria', 'wiki-id': '55'}\n",
      "\n",
      "\n"
     ]
    }
   ],
   "source": [
    "from pinecone import Pinecone\n",
    "import os\n",
    "from langchain.retrievers.contextual_compression import ContextualCompressionRetriever\n",
    "from langchain.retrievers.document_compressors.chain_filter import LLMChainFilter\n",
    "from langchain_openai import OpenAIEmbeddings, ChatOpenAI\n",
    "from langchain_pinecone import PineconeVectorStore\n",
    "\n",
    "# create embedding API and llm\n",
    "os.environ[\"OPENAI_API_KEY\"] = \"{YOUR_OPENAI_KEY}\"\n",
    "embedding = OpenAIEmbeddings()\n",
    "llm = ChatOpenAI(model=\"gpt-4o-mini\")\n",
    "\n",
    "# Connect database\n",
    "pc = Pinecone(embedding=embedding, api_key=\"{YOUR_PINECONE_APIKEY}\")\n",
    "index = pc.Index(\"terry-wiki\")\n",
    "vectordb = PineconeVectorStore(index=index, embedding=embedding)\n",
    "\n",
    "filter = LLMChainFilter.from_llm(llm)\n",
    "compression_retriever = ContextualCompressionRetriever(\n",
    "    base_compressor=filter, base_retriever=vectordb.as_retriever(), k=2\n",
    ")\n",
    "\n",
    "query = \"Where is the locaction for vacation?\"\n",
    "docs = compression_retriever.invoke(query, k=2)\n",
    "for doc in docs:\n",
    "    print(doc)\n",
    "    print(\"\\n\")"
   ]
  },
  {
   "cell_type": "markdown",
   "id": "76df20ad-4318-49f2-abab-6ba088e38279",
   "metadata": {},
   "source": [
    "# Compression with pipeline"
   ]
  },
  {
   "cell_type": "code",
   "execution_count": 8,
   "id": "8b5fc9dc-5c2b-4671-a3b0-6bbead9b0304",
   "metadata": {
    "tags": []
   },
   "outputs": [
    {
     "name": "stdout",
     "output_type": "stream",
     "text": [
      "page_content='Cuba is an island country in the Caribbean Sea. The country is made up of the big island of Cuba, the Isla de la Juventud island (Isle of Youth), and many smaller islands. Havana is the capital of Cuba. It is near the United States, Mexico, Haiti, Jamaica and the Bahamas.' metadata={'chunk': 2.0, 'source': 'https://simple.wikipedia.org/wiki/Cuba', 'title': 'Cuba', 'wiki-id': '178'}\n",
      "\n",
      "\n"
     ]
    }
   ],
   "source": [
    "from pinecone import Pinecone\n",
    "import os\n",
    "from langchain_openai import OpenAIEmbeddings, ChatOpenAI\n",
    "from langchain_pinecone import PineconeVectorStore\n",
    "from langchain.retrievers.contextual_compression import ContextualCompressionRetriever\n",
    "from langchain.retrievers.document_compressors.chain_filter import LLMChainFilter\n",
    "from langchain.retrievers.document_compressors.chain_extract import LLMChainExtractor\n",
    "from langchain.retrievers.document_compressors.base import DocumentCompressorPipeline\n",
    "from langchain_community.document_transformers.embeddings_redundant_filter import EmbeddingsRedundantFilter\n",
    "\n",
    "# create embedding API\n",
    "# os.environ[\"OPENAI_API_KEY\"] = \"{YOUR_OPENAI_KEY}\"\n",
    "llm = ChatOpenAI(model=\"gpt-4o-mini\")\n",
    "embedding = OpenAIEmbeddings()\n",
    "\n",
    "# Connect database\n",
    "pc = Pinecone(embedding=embedding, api_key=\"{YOUR_PINECONE_APIKEY}\")\n",
    "index = pc.Index(\"terry-wiki\")\n",
    "vectordb = PineconeVectorStore(index=index, embedding=embedding)\n",
    "\n",
    "llm_filter = LLMChainFilter.from_llm(llm)\n",
    "llm_extractor = LLMChainExtractor.from_llm(llm)\n",
    "redundant_filter = EmbeddingsRedundantFilter(embeddings=embedding)\n",
    "\n",
    "\n",
    "pipeline_compressor = DocumentCompressorPipeline(\n",
    "    transformers=[redundant_filter, llm_extractor, llm_filter]\n",
    ")\n",
    "# query =\"Where is the cuba? and nearest country by the Cuba?\" 이고 k=3\n",
    "# redundant_filter 사용하면 결과가 Cuba에 대한것 하나만 나옴\n",
    "\n",
    "# query =\"Where is the cuba? and nearest country by the Cuba?\" 이고 k=3\n",
    "# redundant_filter 없이 사용하면 결과가 Cuba에 대한것 3개가 같은 레코드 나옴\n",
    "\n",
    "# pipeline_compressor = DocumentCompressorPipeline( transformers=[llm_extractor])\n",
    "\n",
    "compression_retriever = ContextualCompressionRetriever(\n",
    "    base_compressor=pipeline_compressor, base_retriever=vectordb.as_retriever(), k=10\n",
    ")\n",
    "\n",
    "# query = \"Where is the best place for summer vacation?\"\n",
    "query = \"Where is the cuba? and nearest country by the Cuba?\"\n",
    "docs = compression_retriever.get_relevant_documents(query)\n",
    "for doc in docs:\n",
    "    print(doc)\n",
    "    print(\"\\n\")"
   ]
  },
  {
   "cell_type": "code",
   "execution_count": 11,
   "id": "39ca153e-7743-47fe-9742-2b0069e035ee",
   "metadata": {
    "tags": []
   },
   "outputs": [
    {
     "data": {
      "text/plain": [
       "{'question': 'Where is the cuba? and nearest country by the Cuba?',\n",
       " 'answer': 'Cuba is an island country located in the Caribbean Sea. It consists of the main island of Cuba, the Isla de la Juventud (Isle of Youth), and numerous smaller islands. The nearest countries to Cuba include the United States, Mexico, Haiti, Jamaica, and the Bahamas.\\n\\n',\n",
       " 'sources': 'https://simple.wikipedia.org/wiki/Cuba'}"
      ]
     },
     "execution_count": 11,
     "metadata": {},
     "output_type": "execute_result"
    }
   ],
   "source": [
    "from langchain.chains.qa_with_sources.retrieval import RetrievalQAWithSourcesChain\n",
    "\n",
    "qa_with_sources = RetrievalQAWithSourcesChain.from_chain_type(\n",
    "    llm=llm, chain_type=\"stuff\", retriever=vectordb.as_retriever()\n",
    ")\n",
    "qa_with_sources.invoke({\"question\": query})\n"
   ]
  }
 ],
 "metadata": {
  "kernelspec": {
   "display_name": "Python 3 (ipykernel)",
   "language": "python",
   "name": "python3"
  },
  "language_info": {
   "codemirror_mode": {
    "name": "ipython",
    "version": 3
   },
   "file_extension": ".py",
   "mimetype": "text/x-python",
   "name": "python",
   "nbconvert_exporter": "python",
   "pygments_lexer": "ipython3",
   "version": "3.12.6"
  }
 },
 "nbformat": 4,
 "nbformat_minor": 5
}
