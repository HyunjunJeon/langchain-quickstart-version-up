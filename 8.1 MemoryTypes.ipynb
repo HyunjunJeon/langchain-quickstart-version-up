{
 "cells": [
  {
   "cell_type": "markdown",
   "id": "a1596b0c-3159-4283-a7f9-5b5606ce491f",
   "metadata": {},
   "source": [
    "# ConversationBufferWindowMemory"
   ]
  },
  {
   "cell_type": "code",
   "execution_count": 17,
   "id": "002a1284-d6d5-4a79-bf13-d8d1327b263a",
   "metadata": {
    "tags": []
   },
   "outputs": [
    {
     "data": {
      "text/plain": [
       "{'chat_history': [HumanMessage(content='My name is Terry'),\n",
       "  AIMessage(content='Nice to meet you Terry'),\n",
       "  HumanMessage(content='Where is Seoul?'),\n",
       "  AIMessage(content='Seoul is in Korea')]}"
      ]
     },
     "execution_count": 17,
     "metadata": {},
     "output_type": "execute_result"
    }
   ],
   "source": [
    "from langchain.memory import ConversationBufferWindowMemory\n",
    "\n",
    "# k is number of interaction\n",
    "memory = ConversationBufferWindowMemory( k=2,memory_key='chat_history',return_messages=True)\n",
    "memory.clear()\n",
    "memory.save_context({\"input\":\"Hello chatbot!\"},{\"output\":\"Hello. How can I help you?\"})\n",
    "memory.save_context({\"input\":\"My name is Terry\"},{\"output\":\"Nice to meet you Terry\"})\n",
    "memory.save_context({\"input\":\"Where is Seoul?\"},{\"output\":\"Seoul is in Korea\"})\n",
    "\n",
    "\n",
    "memory.load_memory_variables({})"
   ]
  },
  {
   "cell_type": "markdown",
   "id": "2f0aa7dc-95a5-4ed3-8882-4fa639605285",
   "metadata": {},
   "source": [
    "# Conversation Summary"
   ]
  },
  {
   "cell_type": "code",
   "execution_count": 2,
   "id": "4140e860-01ae-49cb-9b52-070321c6423c",
   "metadata": {
    "tags": []
   },
   "outputs": [
    {
     "name": "stdout",
     "output_type": "stream",
     "text": [
      "{'history': [SystemMessage(content='\\nThe human greets the chatbot and the chatbot responds by asking how it can assist.')]}\n",
      "{'history': [SystemMessage(content=\"\\nThe human greets the chatbot and the chatbot responds by asking how it can assist. The human introduces themselves as Terry and the chatbot responds by saying it's nice to meet them.\")]}\n",
      "{'history': [SystemMessage(content=\"\\nThe human greets the chatbot and the chatbot responds by asking how it can assist. The human introduces themselves as Terry and the chatbot responds by saying it's nice to meet them. The human asks where Seoul is and the chatbot responds by saying it is in Korea.\")]}\n"
     ]
    }
   ],
   "source": [
    "from langchain.memory import ConversationSummaryMemory, ChatMessageHistory\n",
    "from langchain_openai import OpenAI\n",
    "\n",
    "\n",
    "model = OpenAI(openai_api_key=\"{YOUR_OPENAI_KEY}\"\n",
    "               ,temperature=0)\n",
    "\n",
    "# k is number of interaction\n",
    "memory = ConversationSummaryMemory( llm = model,return_messages=True)\n",
    "memory.clear()\n",
    "memory.save_context({\"input\":\"Hello chatbot!\"},{\"output\":\"Hello. How can I help you?\"})\n",
    "print(memory.load_memory_variables({}))\n",
    "memory.save_context({\"input\":\"My name is Terry\"},{\"output\":\"Nice to meet you Terry\"})\n",
    "print(memory.load_memory_variables({}))\n",
    "memory.save_context({\"input\":\"Where is Seoul?\"},{\"output\":\"Seoul is in Korea\"})\n",
    "print(memory.load_memory_variables({}))\n",
    "\n"
   ]
  },
  {
   "cell_type": "markdown",
   "id": "92f0c4f9-636c-48b6-8886-4d9fede7f39a",
   "metadata": {
    "tags": []
   },
   "source": [
    "# Conversation Summary Buffer"
   ]
  },
  {
   "cell_type": "code",
   "execution_count": 22,
   "id": "44796fb9-3d3f-4997-90e4-62255a23b8a6",
   "metadata": {
    "tags": []
   },
   "outputs": [
    {
     "data": {
      "text/plain": [
       "{'history': [SystemMessage(content='\\nThe human greets the chatbot and the chatbot responds by asking how it can assist. The human introduces themselves as Terry.'),\n",
       "  AIMessage(content='Nice to meet you Terry'),\n",
       "  HumanMessage(content='Where is Seoul?'),\n",
       "  AIMessage(content='Seoul is in Korea')]}"
      ]
     },
     "execution_count": 22,
     "metadata": {},
     "output_type": "execute_result"
    }
   ],
   "source": [
    "from langchain.memory import ConversationSummaryBufferMemory\n",
    "from langchain_openai import OpenAI\n",
    "\n",
    "\n",
    "model = OpenAI(openai_api_key=\"{YOUR_OPENAI_KEY}\"\n",
    "               ,temperature=0)\n",
    "\n",
    "# k is number of interaction\n",
    "memory = ConversationSummaryBufferMemory( llm = model,return_messages=True,max_token_limit=20)\n",
    "memory.clear()\n",
    "memory.save_context({\"input\":\"Hello chatbot!\"},{\"output\":\"Hello. How can I help you?\"})\n",
    "memory.save_context({\"input\":\"My name is Terry\"},{\"output\":\"Nice to meet you Terry\"})\n",
    "memory.save_context({\"input\":\"Where is Seoul?\"},{\"output\":\"Seoul is in Korea\"})\n",
    "\n",
    "memory.load_memory_variables({})"
   ]
  },
  {
   "cell_type": "code",
   "execution_count": null,
   "id": "d1db965c-bd38-4f7a-9c11-46b2bf459d67",
   "metadata": {},
   "outputs": [],
   "source": []
  }
 ],
 "metadata": {
  "kernelspec": {
   "display_name": "Python 3 (ipykernel)",
   "language": "python",
   "name": "python3"
  },
  "language_info": {
   "codemirror_mode": {
    "name": "ipython",
    "version": 3
   },
   "file_extension": ".py",
   "mimetype": "text/x-python",
   "name": "python",
   "nbconvert_exporter": "python",
   "pygments_lexer": "ipython3",
   "version": "3.11.4"
  }
 },
 "nbformat": 4,
 "nbformat_minor": 5
}
