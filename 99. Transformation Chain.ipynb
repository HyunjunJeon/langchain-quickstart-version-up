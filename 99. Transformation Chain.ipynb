{
 "cells": [
  {
   "cell_type": "code",
   "execution_count": 5,
   "id": "b7c91433-b8c2-4d29-bb55-fdab472fea03",
   "metadata": {
    "tags": []
   },
   "outputs": [
    {
     "data": {
      "text/plain": [
       "'The speaker addresses various dignitaries and the American public, highlighting the return to togetherness after a year of separation due to COVID-19. They emphasize unity among Democrats, Republicans, and Independents, underscoring the importance of coming together as Americans.'"
      ]
     },
     "execution_count": 5,
     "metadata": {},
     "output_type": "execute_result"
    }
   ],
   "source": [
    "from langchain_openai import ChatOpenAI\n",
    "from langchain_core.prompts import PromptTemplate\n",
    "from langchain_core.output_parsers import StrOutputParser\n",
    "\n",
    "with open(\"./state_of_the_union.txt\") as f:\n",
    "    state_of_the_union = f.read()\n",
    "\n",
    "\n",
    "def transform_text(text: str) -> str:\n",
    "    return \"\\n\\n\".join(text.split(\"\\n\\n\")[:3])\n",
    "\n",
    "\n",
    "template = \"\"\"Summarize this text:\n",
    "\n",
    "{text}\n",
    "\n",
    "Summary:\"\"\"\n",
    "\n",
    "model = ChatOpenAI(temperature=0.9, api_key=\"{YOUR_OPENAI_KEY}\")\n",
    "prompt = PromptTemplate(template=template, input_variables=[\"text\"])\n",
    "\n",
    "\n",
    "chain = (\n",
    "    {\"text\": lambda x: transform_text(x)}\n",
    "    | prompt\n",
    "    | model  \n",
    "    | StrOutputParser()\n",
    ")\n",
    "\n",
    "response = chain.invoke(state_of_the_union)\n",
    "response"
   ]
  }
 ],
 "metadata": {
  "kernelspec": {
   "display_name": "Python 3 (ipykernel)",
   "language": "python",
   "name": "python3"
  },
  "language_info": {
   "codemirror_mode": {
    "name": "ipython",
    "version": 3
   },
   "file_extension": ".py",
   "mimetype": "text/x-python",
   "name": "python",
   "nbconvert_exporter": "python",
   "pygments_lexer": "ipython3",
   "version": "3.12.6"
  }
 },
 "nbformat": 4,
 "nbformat_minor": 5
}
