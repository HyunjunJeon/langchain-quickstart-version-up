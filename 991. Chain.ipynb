{
 "cells": [
  {
   "cell_type": "code",
   "execution_count": null,
   "id": "f9e7c3e3-e262-4c1d-aa6a-f32fa7b95f33",
   "metadata": {},
   "outputs": [],
   "source": []
  },
  {
   "cell_type": "code",
   "execution_count": 1,
   "id": "f21c0795-de45-4156-ae12-2ac3818e5ef0",
   "metadata": {
    "tags": []
   },
   "outputs": [
    {
     "name": "stdout",
     "output_type": "stream",
     "text": [
      "Honolulu, Hawaii is located in the United States.\n"
     ]
    }
   ],
   "source": [
    "from operator import itemgetter\n",
    "\n",
    "from langchain.chat_models import ChatOpenAI\n",
    "from langchain.prompts import ChatPromptTemplate\n",
    "from langchain.schema import StrOutputParser\n",
    "\n",
    "prompt1 = ChatPromptTemplate.from_template(\"what is the city {person} is from?\")\n",
    "prompt2 = ChatPromptTemplate.from_template(\"what country is the city {city} in? respond in {language}\")\n",
    "\n",
    "OPEN_AI_APIKEY=\"{YOUR_OPENAI_KEY}\"\n",
    "model = ChatOpenAI(openai_api_key=OPEN_AI_APIKEY)\n",
    "\n",
    "chain1 = prompt1 | model | StrOutputParser()\n",
    "\n",
    "chain2 = {\"city\": chain1, \"language\": itemgetter(\"language\")} | prompt2 | model | StrOutputParser()\n",
    "\n",
    "output = chain2.invoke({\"person\": \"obama\", \"language\": \"english\"})\n",
    "print(output)\n"
   ]
  },
  {
   "cell_type": "code",
   "execution_count": 4,
   "id": "f1ac4fe8-4895-4013-b29d-b6a808056bdf",
   "metadata": {
    "tags": []
   },
   "outputs": [
    {
     "name": "stdout",
     "output_type": "stream",
     "text": [
      "chain 1: Gyeongbokgung Palace\n",
      "To get to Gyeongbokgung Palace by subway, you can follow these steps:\n",
      "\n",
      "1. Identify the nearest subway station to your location. This may vary depending on where you are in Seoul.\n",
      "\n",
      "2. Check the subway map or use a navigation app to find the subway line that connects to Gyeongbokgung Palace. The palace is located on Line 3 (Orange Line), Gyeongbokgung Station.\n",
      "\n",
      "3. Board the subway train heading towards Gyeongbokgung Station on Line 3.\n",
      "\n",
      "4. Get off at Gyeongbokgung Station.\n",
      "\n",
      "5. Follow the signs or ask for directions to the palace exit.\n",
      "\n",
      "6. Exit the subway station and you will find yourself near the palace entrance. Follow the signs or ask locals for further guidance if needed.\n",
      "\n",
      "It's always a good idea to check the subway schedules and plan your trip in advance to ensure a smooth journey.\n"
     ]
    }
   ],
   "source": [
    "from operator import itemgetter\n",
    "\n",
    "from langchain.chat_models import ChatOpenAI\n",
    "from langchain.prompts import ChatPromptTemplate\n",
    "from langchain.schema import StrOutputParser\n",
    "\n",
    "prompt1 = ChatPromptTemplate.from_template(\"what is the famous tour place in {city}? Tell me the name of the place only without additional comments.\")\n",
    "prompt2 = ChatPromptTemplate.from_template(\"How can I get {place} by {transport}?\")\n",
    "\n",
    "OPEN_AI_APIKEY=\"{YOUR_OPENAI_KEY}\"\n",
    "model = ChatOpenAI(openai_api_key=OPEN_AI_APIKEY)\n",
    "\n",
    "chain1 = prompt1 | model | StrOutputParser()\n",
    "\n",
    "print(\"chain 1:\",chain1.invoke({\"city\":\"Seoul\"}))\n",
    "\n",
    "chain2 = {\"place\": chain1, \"transport\": itemgetter(\"transport\")} | prompt2 | model | StrOutputParser()\n",
    "\n",
    "output = chain2.invoke({\"city\": \"Seoul\", \"transport\": \"subway\"})\n",
    "print(output)\n"
   ]
  },
  {
   "cell_type": "markdown",
   "id": "7ce6d563-6378-4609-97bc-dbab3f6cacaa",
   "metadata": {},
   "source": [
    "# Pipe를 이용한 Chaining Sample"
   ]
  },
  {
   "cell_type": "code",
   "execution_count": 8,
   "id": "3f0a9a44-c8e3-472e-b025-56ee714fe9cb",
   "metadata": {
    "tags": []
   },
   "outputs": [
    {
     "name": "stdout",
     "output_type": "stream",
     "text": [
      "While there are certainly some cons or potential challenges associated with Scrum, it is important to note that these can be mitigated with proper training, experience, and customization of the framework to suit the organization's needs. Many of the cons mentioned can be addressed by providing adequate training and support to Scrum teams, ensuring that they have a clear understanding of the framework and its principles.\n",
      "\n",
      "For example, the complexity of Scrum can be overcome through comprehensive training and mentoring for team members, as well as providing resources and support for learning and development. Time-consuming meetings can be managed by optimizing their structure and duration, and by utilizing tools and technologies that facilitate efficient communication and collaboration.\n",
      "\n",
      "The lack of predictability can be addressed through effective planning and estimation techniques, such as using velocity and burn-down charts to track progress and forecast project timelines. The dependence on a skilled Scrum Master can be mitigated by providing proper training and mentorship to Scrum Masters or by having a dedicated Agile coach to support and guide the teams.\n",
      "\n",
      "While Scrum may place less emphasis on documentation, it is still possible to incorporate necessary documentation into the process, ensuring compliance and regulatory requirements are met. This can be achieved by documenting key decisions, requirements, and changes, and utilizing tools that facilitate documentation and knowledge sharing.\n",
      "\n",
      "In terms of long-term planning, Scrum can be complemented with other frameworks or methodologies, such as the Scaled Agile Framework (SAFe) or Disciplined Agile Delivery (DAD), to provide a more strategic and structured approach for managing larger projects or portfolios.\n",
      "\n",
      "Regarding scope creep, it is important to establish clear processes and communication channels for managing changes and addressing new requirements. This can involve utilizing backlog grooming sessions, prioritization techniques, and involving stakeholders in the decision-making process.\n",
      "\n",
      "In summary, while Scrum does have its cons, these can be addressed and mitigated through proper training, support, customization, and the use of complementary frameworks or methodologies. By understanding and proactively managing these challenges, organizations can fully leverage the benefits of Scrum and achieve successful project outcomes.\n"
     ]
    }
   ],
   "source": [
    "\n",
    "from langchain.schema.runnable import RunnableMap, RunnablePassthrough\n",
    "\n",
    "chat = ChatOpenAI(openai_api_key=OPEN_AI_APIKEY)\n",
    "planner = (\n",
    "    ChatPromptTemplate.from_template(\n",
    "        \"Generate an argument about: {input}\"\n",
    "    )\n",
    "    | chat\n",
    "    | StrOutputParser()\n",
    "    | {\"base_response\": RunnablePassthrough()}\n",
    ")\n",
    "\n",
    "arguments_for = (\n",
    "    ChatPromptTemplate.from_template(\n",
    "        \"List the pros or positive aspects of {base_response}\"\n",
    "    )\n",
    "    | chat\n",
    "    | StrOutputParser()\n",
    ")\n",
    "arguments_against =  (\n",
    "    ChatPromptTemplate.from_template(\n",
    "        \"List the cons or negative aspects of {base_response}\"\n",
    "    )\n",
    "    | chat\n",
    "    | StrOutputParser()\n",
    ")\n",
    "\n",
    "final_responder = (\n",
    "    ChatPromptTemplate.from_messages(\n",
    "        [\n",
    "            (\"ai\", \"{original_response}\"),\n",
    "            (\"human\", \"Pros:\\n{results_1}\\n\\nCons:\\n{results_2}\"),\n",
    "            (\"system\", \"Generate a final response given the critique\"),\n",
    "        ]\n",
    "    )\n",
    "    | chat\n",
    "    | StrOutputParser()\n",
    ")\n",
    "\n",
    "chain = (\n",
    "    planner \n",
    "    | {\n",
    "        \"results_1\": arguments_for,\n",
    "        \"results_2\": arguments_against,\n",
    "        \"original_response\": itemgetter(\"base_response\"),\n",
    "    }\n",
    "    | final_responder\n",
    ")\n",
    "\n",
    "output = chain.invoke({\"input\": \"scrum\"})\n",
    "print(output)"
   ]
  },
  {
   "cell_type": "code",
   "execution_count": null,
   "id": "5891ca5b-6d72-42cd-b5fb-8b613eac0385",
   "metadata": {},
   "outputs": [],
   "source": []
  }
 ],
 "metadata": {
  "kernelspec": {
   "display_name": "Python 3 (ipykernel)",
   "language": "python",
   "name": "python3"
  },
  "language_info": {
   "codemirror_mode": {
    "name": "ipython",
    "version": 3
   },
   "file_extension": ".py",
   "mimetype": "text/x-python",
   "name": "python",
   "nbconvert_exporter": "python",
   "pygments_lexer": "ipython3",
   "version": "3.11.4"
  }
 },
 "nbformat": 4,
 "nbformat_minor": 5
}
