{
 "cells": [
  {
   "cell_type": "markdown",
   "id": "884fbd2b-c733-4564-b79b-25a1860d2057",
   "metadata": {},
   "source": [
    "# Agents\n",
    "\n",
    "The core idea of agents is to use an LLM to choose sequence of actions to take.\n",
    "In chains, a sequence of actions is hardcoded.\n",
    "<b>In agents, a language model is used as a reasoning engine to determine which actions to take and in which order</b>\n",
    "\n",
    "\n",
    "### Agent\n",
    "This is the class responsible for <b> deciding what step to take next </b>. This is powered by LLM and prompt.\n",
    "This prompt can include\n",
    " - The personality of the agent (useful for having it respond in a cerntain way)\n",
    " - Background context for the agent (useful for giving it more context on the types of tasks it's being asked to do)\n",
    " - Prompting strategies to invoke better reasoning (React) is widely used\n",
    " \n",
    "### Tools\n",
    "<b>Tools are function that an agents calls</b>\n",
    "\n",
    "### Toolkits\n",
    "<b> set of tools </b> - groups of tools needed to accomplish specific objectives. There are generally around 3-5 tools in a toolkit.\n",
    "\n",
    "### Agent Executor\n",
    "Agent executor is the runtime for an agent. This is what actually calls the agent and executes the actions it chooses.\n",
    "\n",
    "### Agent runtime\n",
    "TBD (Plan and execute Agent, BabyAGI,AutoGPT)\n",
    "\n",
    "Note\n",
    " - LangSmith : logging\n"
   ]
  },
  {
   "cell_type": "code",
   "execution_count": 2,
   "id": "7f8f2f94-cdb1-4e36-a798-cece7a5c475f",
   "metadata": {
    "tags": []
   },
   "outputs": [],
   "source": [
    "from langchain.chat_models import ChatOpenAI\n",
    "\n",
    "llm = ChatOpenAI(openai_api_key=\"{YOUR_OPENAI_KEY}\")"
   ]
  },
  {
   "cell_type": "code",
   "execution_count": 5,
   "id": "41ad5f4e-ef64-432d-8a10-7f79749bbb9f",
   "metadata": {
    "tags": []
   },
   "outputs": [
    {
     "name": "stdout",
     "output_type": "stream",
     "text": [
      "\n",
      "\n",
      "\u001b[1m> Entering new AgentExecutor chain...\u001b[0m\n",
      "\u001b[32;1m\u001b[1;3m\n",
      "Invoking: `get_word_length` with `{'word': 'educa'}`\n",
      "\n",
      "\n",
      "\u001b[0m\u001b[36;1m\u001b[1;3m5\u001b[0m\u001b[32;1m\u001b[1;3mThere are 5 letters in the word \"educa\".\u001b[0m\n",
      "\n",
      "\u001b[1m> Finished chain.\u001b[0m\n"
     ]
    },
    {
     "data": {
      "text/plain": [
       "'There are 5 letters in the word \"educa\".'"
      ]
     },
     "execution_count": 5,
     "metadata": {},
     "output_type": "execute_result"
    }
   ],
   "source": [
    "# define tool\n",
    "from langchain.agents import tool\n",
    "\n",
    "\n",
    "@tool\n",
    "# the tool must have doc string to describe the purpose of the tools\n",
    "def get_word_length(word: str) -> int:\n",
    "    \"\"\"Returns the length of a world.\"\"\"\n",
    "    return len(word)\n",
    "\n",
    "\n",
    "tools = [get_word_length]\n",
    "\n",
    "# define prompt\n",
    "from langchain.schema import SystemMessage\n",
    "from langchain.agents import OpenAIFunctionsAgent\n",
    "\n",
    "system_message = SystemMessage(\n",
    "    content=\"You are very powerful assistant, but bad at calculating lengths of words.\"\n",
    ")\n",
    "prompt = OpenAIFunctionsAgent.create_prompt(system_message=system_message)\n",
    "\n",
    "# define agent\n",
    "agent = OpenAIFunctionsAgent(llm=llm, tools=tools, prompt=prompt)\n",
    "\n",
    "# define agent executor\n",
    "from langchain.agents import AgentExecutor\n",
    "\n",
    "agent_executor = AgentExecutor(agent=agent, tools=tools, verbose=True)\n",
    "agent_executor.run(\"how many letters in the word educa?\")"
   ]
  }
 ],
 "metadata": {
  "kernelspec": {
   "display_name": "Python 3 (ipykernel)",
   "language": "python",
   "name": "python3"
  },
  "language_info": {
   "codemirror_mode": {
    "name": "ipython",
    "version": 3
   },
   "file_extension": ".py",
   "mimetype": "text/x-python",
   "name": "python",
   "nbconvert_exporter": "python",
   "pygments_lexer": "ipython3",
   "version": "3.11.4"
  }
 },
 "nbformat": 4,
 "nbformat_minor": 5
}
