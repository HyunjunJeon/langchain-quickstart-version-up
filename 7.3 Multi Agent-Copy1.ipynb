{
 "cells": [
  {
   "cell_type": "code",
   "execution_count": 4,
   "id": "01b9274e-9a46-4009-b9c0-eaff82addc33",
   "metadata": {
    "tags": []
   },
   "outputs": [
    {
     "name": "stdout",
     "output_type": "stream",
     "text": [
      "Requirement already satisfied: wikipedia in /Users/terrycho/anaconda3/lib/python3.11/site-packages (1.4.0)\n",
      "Requirement already satisfied: beautifulsoup4 in /Users/terrycho/anaconda3/lib/python3.11/site-packages (from wikipedia) (4.12.2)\n",
      "Requirement already satisfied: requests<3.0.0,>=2.0.0 in /Users/terrycho/.local/lib/python3.11/site-packages (from wikipedia) (2.31.0)\n",
      "Requirement already satisfied: charset-normalizer<4,>=2 in /Users/terrycho/.local/lib/python3.11/site-packages (from requests<3.0.0,>=2.0.0->wikipedia) (3.3.2)\n",
      "Requirement already satisfied: idna<4,>=2.5 in /Users/terrycho/.local/lib/python3.11/site-packages (from requests<3.0.0,>=2.0.0->wikipedia) (3.6)\n",
      "Requirement already satisfied: urllib3<3,>=1.21.1 in /Users/terrycho/anaconda3/lib/python3.11/site-packages (from requests<3.0.0,>=2.0.0->wikipedia) (1.26.18)\n",
      "Requirement already satisfied: certifi>=2017.4.17 in /Users/terrycho/.local/lib/python3.11/site-packages (from requests<3.0.0,>=2.0.0->wikipedia) (2023.11.17)\n",
      "Requirement already satisfied: soupsieve>1.2 in /Users/terrycho/anaconda3/lib/python3.11/site-packages (from beautifulsoup4->wikipedia) (2.4)\n",
      "Collecting youtube_search\n",
      "  Downloading youtube_search-2.1.2-py3-none-any.whl (3.4 kB)\n",
      "Requirement already satisfied: requests in /Users/terrycho/.local/lib/python3.11/site-packages (from youtube_search) (2.31.0)\n",
      "Requirement already satisfied: charset-normalizer<4,>=2 in /Users/terrycho/.local/lib/python3.11/site-packages (from requests->youtube_search) (3.3.2)\n",
      "Requirement already satisfied: idna<4,>=2.5 in /Users/terrycho/.local/lib/python3.11/site-packages (from requests->youtube_search) (3.6)\n",
      "Requirement already satisfied: urllib3<3,>=1.21.1 in /Users/terrycho/anaconda3/lib/python3.11/site-packages (from requests->youtube_search) (1.26.18)\n",
      "Requirement already satisfied: certifi>=2017.4.17 in /Users/terrycho/.local/lib/python3.11/site-packages (from requests->youtube_search) (2023.11.17)\n",
      "Installing collected packages: youtube_search\n",
      "Successfully installed youtube_search-2.1.2\n"
     ]
    }
   ],
   "source": [
    "!pip install wikipedia\n",
    "!pip install youtube_search\n"
   ]
  },
  {
   "cell_type": "code",
   "execution_count": 13,
   "id": "33cb6775-e826-43db-ad6c-3f2e67b3a4e4",
   "metadata": {
    "tags": []
   },
   "outputs": [
    {
     "name": "stdout",
     "output_type": "stream",
     "text": [
      "\n",
      "\n",
      "\u001b[1m> Entering new AgentExecutor chain...\u001b[0m\n",
      "\u001b[32;1m\u001b[1;3m I need to provide a detailed overview of the Korean War.\n",
      "Action: Wikipedia Search\n",
      "Action Input: \"Korean War\"\u001b[0m\u001b[38;5;200m\u001b[1;3mPage: Korean War\n",
      "Summary: The Korean War was fought between North Korea and South Korea from 1950 to 1953. The war began on 25 June 1950 when North Korea invaded South Korea. The war ceased with an armistice on 27 July 1953. North Korea was supported by China and the Soviet Union while South Korea was supported by the United States and the United Nations (UN).\n",
      "In 1910, the Empire of Japan annexed Korea as a colony for 35 years until its surrender at the end of World War II on 15 August 1945. The United States and the Soviet Union liberated and then divided Korea along the 38th parallel into two zones of occupation. The Soviets administered the northern zone, and the Americans administered the southern zone. In 1948, as a result of Cold War tensions, the occupation zones became two sovereign states. A communist state, the Democratic People's Republic of Korea, was established in the north under the government led by Premier Kim Il Sung, while a capitalist state, the Republic of Korea, was established in the south under the government led by President Syngman Rhee. Both governments claimed to be the sole legitimate government of all of Korea and neither accepted the border as permanent.\n",
      "The years prior to North Korea's invasion of South Korea were marked by border clashes between the two countries and a revolt in South Korea that was abbetted by Pyongyang. After failed attempts to unify the Koreas, North Korean forces (Korean People's Army or KPA) crossed the 38th parallel on 25 June 1950 into South Korea. The United Nations Security Council denounced North Korea's actions and authorized the formation of the United Nations Command and the dispatch of forces to South Korea to repel the invasion. The Soviet Union was boycotting the UN for recognizing Taiwan (Republic of China) as China, and the People's Republic of China was not recognized by the UN, so neither could support their ally North Korea at the Security Council meeting. Twenty-one countries of the United Nations eventually contributed to the UN force, with the United States providing around 90% of the military personnel.After the first two months of war, the South Korean army (ROKA) and hastily dispatched American forces were on the point of defeat, retreating to a small area behind a defensive line known as the Pusan Perimeter. In September 1950, a risky amphibious UN counteroffensive was launched at Incheon, cutting off KPA troops and supply lines in South Korea. Those who escaped envelopment and capture were forced back north. UN forces then invaded North Korea in October 1950 and moved rapidly towards the Yalu River—the border with China—but on 19 October 1950, Chinese forces - the People's Volunteer Army (PVA) - crossed the Yalu and entered the war. The UN retreated from North Korea following the PVA's First Phase Offensive and the Second Phase Offensive. China along with their North Korean and Soviet allies pressed their offensive, invading the South and capturing Seoul by early January 1951. A UN force recaptured the city from them, and the communist forces were pushed back to positions around the 38th parallel following PVA's abortive Fifth Phase Offensive. After this, the front which was close to where the war had started stabilized, and the last two years were a war of attrition.\n",
      "The combat ended on 27 July 1953 when the Korean Armistice Agreement was signed. The agreement created the Korean Demilitarized Zone (DMZ) as the new border to separate North and South Korea, paused combat on the Korean peninsula, and allowed the exchange of prisoners. The Korean War was a major conflict of the Cold War and among the most destructive conflicts of the modern era, with approximately 3 million war fatalities and a larger proportional civilian death toll than World War II or the Vietnam War. It resulted in the destruction of virtually all of Korea's major cities, with thousands of massacres committed by both sides—including the mass killing of tens of thousands of suspecte\u001b[0m\u001b[32;1m\u001b[1;3m There is a lot of information on the Wikipedia page about the Korean War, but I should also consider looking at other sources for a more well-rounded understanding.\n",
      "Action: Google Search\n",
      "Action Input: \"Korean War details\"\u001b[0m\u001b[36;1m\u001b[1;3mAfter five years of simmering tensions on the Korean peninsula, the Korean War began on June 25, 1950, when the Northern Korean People's Army invaded South Korea in a coordinated general attack at several strategic points along the 38th parallel, the line dividing communist North Korea from the non-communist Republic ...\u001b[0m\u001b[32;1m\u001b[1;3m I now have a better understanding of the context and initial events of the Korean War.\n",
      "Final Answer: The Korean War was a conflict between North Korea and South Korea from 1950 to 1953, resulting in the division of the country into two separate nations. It was fought between North Korea, supported by China and the Soviet Union, and South Korea, supported by the United States and the United Nations. The war ended with an armistice in 1953 and is considered one of the most destructive conflicts of the modern era. \u001b[0m\n",
      "\n",
      "\u001b[1m> Finished chain.\u001b[0m\n"
     ]
    }
   ],
   "source": [
    "from langchain.llms.openai import OpenAI\n",
    "from langchain.utilities import GoogleSerperAPIWrapper\n",
    "from langchain.agents import initialize_agent, Tool\n",
    "from langchain.agents import AgentType\n",
    "from langchain_core.prompts import PromptTemplate\n",
    "from langchain.agents import AgentExecutor, create_react_agent\n",
    "from langchain.tools import YouTubeSearchTool\n",
    "from langchain.tools import WikipediaQueryRun\n",
    "from langchain.utilities import WikipediaAPIWrapper\n",
    "\n",
    "import os\n",
    "\n",
    "\n",
    "model = OpenAI()\n",
    "\n",
    "search = GoogleSerperAPIWrapper()\n",
    "youtube = YouTubeSearchTool()\n",
    "wikipedia = WikipediaQueryRun(api_wrapper=WikipediaAPIWrapper())\n",
    "\n",
    "tools = [\n",
    "    Tool(\n",
    "        name=\"Google Search\",\n",
    "        func=search.run,\n",
    "        description=\"useful for when you need to ask with search\",\n",
    "        verbose=True\n",
    "    ),\n",
    "    Tool(\n",
    "        name=\"Youtube Search\",\n",
    "        func=youtube.run,\n",
    "        description=\"useful for when the user explicitly asks you to look on Youtube\",\n",
    "        verbose=True\n",
    "    ),\n",
    "    Tool(\n",
    "       name=\"Wikipedia Search\",\n",
    "       func=wikipedia.run,\n",
    "       description=\"Useful when users request historical moments.\",\n",
    "   )\n",
    "    \n",
    "]\n",
    "\n",
    "template = '''Answer the following questions as best you can. You have access to the following tools:\n",
    "\n",
    "{tools}\n",
    "\n",
    "Use the following format:\n",
    "\n",
    "Question: the input question you must answer\n",
    "Thought: you should always think about what to do\n",
    "Action: the action to take, should be one of [{tool_names}]\n",
    "Action Input: the input to the action\n",
    "Observation: the result of the action\n",
    "... (this Thought/Action/Action Input/Observation can repeat N times)\n",
    "Thought: I now know the final answer\n",
    "Final Answer: the final answer to the original input question\n",
    "\n",
    "Begin!\n",
    "\n",
    "Question: {input}\n",
    "Thought:{agent_scratchpad}'''\n",
    "\n",
    "prompt = PromptTemplate.from_template(template)\n",
    "\n",
    "agent = create_react_agent(model,tools,prompt) \n",
    "agent_executor = AgentExecutor(\n",
    "    agent=agent,\n",
    "    tools=tools,\n",
    "    verbose=True,\n",
    "    return_intermediate_steps=True,\n",
    ")\n",
    "response = agent_executor.invoke({\"input\": \"Tell me about Korean war with details ?\"})"
   ]
  },
  {
   "cell_type": "code",
   "execution_count": 9,
   "id": "5367db58-73a1-4f4b-9519-625eea33a738",
   "metadata": {
    "tags": []
   },
   "outputs": [
    {
     "name": "stdout",
     "output_type": "stream",
     "text": [
      "\n",
      "\n",
      "\u001b[1m> Entering new AgentExecutor chain...\u001b[0m\n",
      "\u001b[32;1m\u001b[1;3m I should use Youtube Search since the user is explicitly asking for videos.\n",
      "Action: Youtube Search\n",
      "Action Input: Korean War\u001b[0m\u001b[33;1m\u001b[1;3m['https://www.youtube.com/watch?v=yxaegqvl4aE&pp=ygUKS29yZWFuIFdhcg%3D%3D', 'https://www.youtube.com/watch?v=ViVGj58kt34&pp=ygUKS29yZWFuIFdhcg%3D%3D']\u001b[0m\u001b[32;1m\u001b[1;3mI now know the final answer\n",
      "Final Answer: ['https://www.youtube.com/watch?v=yxaegqvl4aE&pp=ygUKS29yZWFuIFdhcg%3D%3D', 'https://www.youtube.com/watch?v=ViVGj58kt34&pp=ygUKS29yZWFuIFdhcg%3D%3D']\u001b[0m\n",
      "\n",
      "\u001b[1m> Finished chain.\u001b[0m\n"
     ]
    },
    {
     "data": {
      "text/plain": [
       "{'input': 'Can you recommend videos about Korean war ?',\n",
       " 'output': \"['https://www.youtube.com/watch?v=yxaegqvl4aE&pp=ygUKS29yZWFuIFdhcg%3D%3D', 'https://www.youtube.com/watch?v=ViVGj58kt34&pp=ygUKS29yZWFuIFdhcg%3D%3D']\",\n",
       " 'intermediate_steps': [(AgentAction(tool='Youtube Search', tool_input='Korean War', log=' I should use Youtube Search since the user is explicitly asking for videos.\\nAction: Youtube Search\\nAction Input: Korean War'),\n",
       "   \"['https://www.youtube.com/watch?v=yxaegqvl4aE&pp=ygUKS29yZWFuIFdhcg%3D%3D', 'https://www.youtube.com/watch?v=ViVGj58kt34&pp=ygUKS29yZWFuIFdhcg%3D%3D']\")]}"
      ]
     },
     "execution_count": 9,
     "metadata": {},
     "output_type": "execute_result"
    }
   ],
   "source": [
    "agent_executor.invoke({\"input\": \"Can you recommend videos about Korean war ?\"})"
   ]
  },
  {
   "cell_type": "code",
   "execution_count": null,
   "id": "dfe7ceb8-ebbb-44c4-8ec3-4c1d81987a8d",
   "metadata": {},
   "outputs": [],
   "source": []
  }
 ],
 "metadata": {
  "kernelspec": {
   "display_name": "Python 3 (ipykernel)",
   "language": "python",
   "name": "python3"
  },
  "language_info": {
   "codemirror_mode": {
    "name": "ipython",
    "version": 3
   },
   "file_extension": ".py",
   "mimetype": "text/x-python",
   "name": "python",
   "nbconvert_exporter": "python",
   "pygments_lexer": "ipython3",
   "version": "3.11.4"
  }
 },
 "nbformat": 4,
 "nbformat_minor": 5
}
