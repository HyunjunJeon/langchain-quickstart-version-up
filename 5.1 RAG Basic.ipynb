{
 "cells": [
  {
   "cell_type": "code",
   "execution_count": 3,
   "id": "0c1fc8ae",
   "metadata": {},
   "outputs": [
    {
     "name": "stdout",
     "output_type": "stream",
     "text": [
      "Collecting datasets\n",
      "  Downloading datasets-3.0.1-py3-none-any.whl.metadata (20 kB)\n",
      "Collecting langchain-pinecone\n",
      "  Downloading langchain_pinecone-0.2.0-py3-none-any.whl.metadata (1.7 kB)\n",
      "Requirement already satisfied: filelock in /Users/jhj/.pyenv/versions/langchain-quickstart-version-up/lib/python3.12/site-packages (from datasets) (3.16.1)\n",
      "Requirement already satisfied: numpy>=1.17 in /Users/jhj/.pyenv/versions/langchain-quickstart-version-up/lib/python3.12/site-packages (from datasets) (1.26.4)\n",
      "Collecting pyarrow>=15.0.0 (from datasets)\n",
      "  Downloading pyarrow-17.0.0-cp312-cp312-macosx_11_0_arm64.whl.metadata (3.3 kB)\n",
      "Collecting dill<0.3.9,>=0.3.0 (from datasets)\n",
      "  Downloading dill-0.3.8-py3-none-any.whl.metadata (10 kB)\n",
      "Collecting pandas (from datasets)\n",
      "  Downloading pandas-2.2.3-cp312-cp312-macosx_11_0_arm64.whl.metadata (89 kB)\n",
      "Requirement already satisfied: requests>=2.32.2 in /Users/jhj/.pyenv/versions/langchain-quickstart-version-up/lib/python3.12/site-packages (from datasets) (2.32.3)\n",
      "Requirement already satisfied: tqdm>=4.66.3 in /Users/jhj/.pyenv/versions/langchain-quickstart-version-up/lib/python3.12/site-packages (from datasets) (4.66.5)\n",
      "Collecting xxhash (from datasets)\n",
      "  Downloading xxhash-3.5.0-cp312-cp312-macosx_11_0_arm64.whl.metadata (12 kB)\n",
      "Collecting multiprocess (from datasets)\n",
      "  Downloading multiprocess-0.70.17-py312-none-any.whl.metadata (7.2 kB)\n",
      "Collecting fsspec<=2024.6.1,>=2023.1.0 (from fsspec[http]<=2024.6.1,>=2023.1.0->datasets)\n",
      "  Using cached fsspec-2024.6.1-py3-none-any.whl.metadata (11 kB)\n",
      "Requirement already satisfied: aiohttp in /Users/jhj/.pyenv/versions/langchain-quickstart-version-up/lib/python3.12/site-packages (from datasets) (3.10.10)\n",
      "Requirement already satisfied: huggingface-hub>=0.22.0 in /Users/jhj/.pyenv/versions/langchain-quickstart-version-up/lib/python3.12/site-packages (from datasets) (0.26.1)\n",
      "Requirement already satisfied: packaging in /Users/jhj/.pyenv/versions/langchain-quickstart-version-up/lib/python3.12/site-packages (from datasets) (24.1)\n",
      "Requirement already satisfied: pyyaml>=5.1 in /Users/jhj/.pyenv/versions/langchain-quickstart-version-up/lib/python3.12/site-packages (from datasets) (6.0.2)\n",
      "Collecting aiohttp (from datasets)\n",
      "  Downloading aiohttp-3.9.5-cp312-cp312-macosx_11_0_arm64.whl.metadata (7.5 kB)\n",
      "Requirement already satisfied: langchain-core<0.4,>=0.3 in /Users/jhj/.pyenv/versions/langchain-quickstart-version-up/lib/python3.12/site-packages (from langchain-pinecone) (0.3.12)\n",
      "Collecting pinecone-client<6.0.0,>=5.0.0 (from langchain-pinecone)\n",
      "  Downloading pinecone_client-5.0.1-py3-none-any.whl.metadata (19 kB)\n",
      "Requirement already satisfied: aiosignal>=1.1.2 in /Users/jhj/.pyenv/versions/langchain-quickstart-version-up/lib/python3.12/site-packages (from aiohttp->datasets) (1.3.1)\n",
      "Requirement already satisfied: attrs>=17.3.0 in /Users/jhj/.pyenv/versions/langchain-quickstart-version-up/lib/python3.12/site-packages (from aiohttp->datasets) (24.2.0)\n",
      "Requirement already satisfied: frozenlist>=1.1.1 in /Users/jhj/.pyenv/versions/langchain-quickstart-version-up/lib/python3.12/site-packages (from aiohttp->datasets) (1.4.1)\n",
      "Requirement already satisfied: multidict<7.0,>=4.5 in /Users/jhj/.pyenv/versions/langchain-quickstart-version-up/lib/python3.12/site-packages (from aiohttp->datasets) (6.1.0)\n",
      "Requirement already satisfied: yarl<2.0,>=1.0 in /Users/jhj/.pyenv/versions/langchain-quickstart-version-up/lib/python3.12/site-packages (from aiohttp->datasets) (1.16.0)\n",
      "Requirement already satisfied: typing-extensions>=3.7.4.3 in /Users/jhj/.pyenv/versions/langchain-quickstart-version-up/lib/python3.12/site-packages (from huggingface-hub>=0.22.0->datasets) (4.12.2)\n",
      "Requirement already satisfied: jsonpatch<2.0,>=1.33 in /Users/jhj/.pyenv/versions/langchain-quickstart-version-up/lib/python3.12/site-packages (from langchain-core<0.4,>=0.3->langchain-pinecone) (1.33)\n",
      "Requirement already satisfied: langsmith<0.2.0,>=0.1.125 in /Users/jhj/.pyenv/versions/langchain-quickstart-version-up/lib/python3.12/site-packages (from langchain-core<0.4,>=0.3->langchain-pinecone) (0.1.136)\n",
      "Requirement already satisfied: pydantic<3.0.0,>=2.7.4 in /Users/jhj/.pyenv/versions/langchain-quickstart-version-up/lib/python3.12/site-packages (from langchain-core<0.4,>=0.3->langchain-pinecone) (2.9.2)\n",
      "Requirement already satisfied: tenacity!=8.4.0,<10.0.0,>=8.1.0 in /Users/jhj/.pyenv/versions/langchain-quickstart-version-up/lib/python3.12/site-packages (from langchain-core<0.4,>=0.3->langchain-pinecone) (9.0.0)\n",
      "Requirement already satisfied: certifi>=2019.11.17 in /Users/jhj/.pyenv/versions/langchain-quickstart-version-up/lib/python3.12/site-packages (from pinecone-client<6.0.0,>=5.0.0->langchain-pinecone) (2024.8.30)\n",
      "Collecting pinecone-plugin-inference<2.0.0,>=1.0.3 (from pinecone-client<6.0.0,>=5.0.0->langchain-pinecone)\n",
      "  Downloading pinecone_plugin_inference-1.1.0-py3-none-any.whl.metadata (2.2 kB)\n",
      "Collecting pinecone-plugin-interface<0.0.8,>=0.0.7 (from pinecone-client<6.0.0,>=5.0.0->langchain-pinecone)\n",
      "  Downloading pinecone_plugin_interface-0.0.7-py3-none-any.whl.metadata (1.2 kB)\n",
      "Requirement already satisfied: urllib3>=1.26.5 in /Users/jhj/.pyenv/versions/langchain-quickstart-version-up/lib/python3.12/site-packages (from pinecone-client<6.0.0,>=5.0.0->langchain-pinecone) (2.2.3)\n",
      "Requirement already satisfied: charset-normalizer<4,>=2 in /Users/jhj/.pyenv/versions/langchain-quickstart-version-up/lib/python3.12/site-packages (from requests>=2.32.2->datasets) (3.4.0)\n",
      "Requirement already satisfied: idna<4,>=2.5 in /Users/jhj/.pyenv/versions/langchain-quickstart-version-up/lib/python3.12/site-packages (from requests>=2.32.2->datasets) (3.10)\n",
      "INFO: pip is looking at multiple versions of multiprocess to determine which version is compatible with other requirements. This could take a while.\n",
      "Collecting multiprocess (from datasets)\n",
      "  Downloading multiprocess-0.70.16-py312-none-any.whl.metadata (7.2 kB)\n",
      "Requirement already satisfied: python-dateutil>=2.8.2 in /Users/jhj/.pyenv/versions/langchain-quickstart-version-up/lib/python3.12/site-packages (from pandas->datasets) (2.9.0.post0)\n",
      "Collecting pytz>=2020.1 (from pandas->datasets)\n",
      "  Downloading pytz-2024.2-py2.py3-none-any.whl.metadata (22 kB)\n",
      "Collecting tzdata>=2022.7 (from pandas->datasets)\n",
      "  Downloading tzdata-2024.2-py2.py3-none-any.whl.metadata (1.4 kB)\n",
      "Requirement already satisfied: jsonpointer>=1.9 in /Users/jhj/.pyenv/versions/langchain-quickstart-version-up/lib/python3.12/site-packages (from jsonpatch<2.0,>=1.33->langchain-core<0.4,>=0.3->langchain-pinecone) (3.0.0)\n",
      "Requirement already satisfied: httpx<1,>=0.23.0 in /Users/jhj/.pyenv/versions/langchain-quickstart-version-up/lib/python3.12/site-packages (from langsmith<0.2.0,>=0.1.125->langchain-core<0.4,>=0.3->langchain-pinecone) (0.27.2)\n",
      "Requirement already satisfied: orjson<4.0.0,>=3.9.14 in /Users/jhj/.pyenv/versions/langchain-quickstart-version-up/lib/python3.12/site-packages (from langsmith<0.2.0,>=0.1.125->langchain-core<0.4,>=0.3->langchain-pinecone) (3.10.9)\n",
      "Requirement already satisfied: requests-toolbelt<2.0.0,>=1.0.0 in /Users/jhj/.pyenv/versions/langchain-quickstart-version-up/lib/python3.12/site-packages (from langsmith<0.2.0,>=0.1.125->langchain-core<0.4,>=0.3->langchain-pinecone) (1.0.0)\n",
      "Requirement already satisfied: annotated-types>=0.6.0 in /Users/jhj/.pyenv/versions/langchain-quickstart-version-up/lib/python3.12/site-packages (from pydantic<3.0.0,>=2.7.4->langchain-core<0.4,>=0.3->langchain-pinecone) (0.7.0)\n",
      "Requirement already satisfied: pydantic-core==2.23.4 in /Users/jhj/.pyenv/versions/langchain-quickstart-version-up/lib/python3.12/site-packages (from pydantic<3.0.0,>=2.7.4->langchain-core<0.4,>=0.3->langchain-pinecone) (2.23.4)\n",
      "Requirement already satisfied: six>=1.5 in /Users/jhj/.pyenv/versions/langchain-quickstart-version-up/lib/python3.12/site-packages (from python-dateutil>=2.8.2->pandas->datasets) (1.16.0)\n",
      "Requirement already satisfied: propcache>=0.2.0 in /Users/jhj/.pyenv/versions/langchain-quickstart-version-up/lib/python3.12/site-packages (from yarl<2.0,>=1.0->aiohttp->datasets) (0.2.0)\n",
      "Requirement already satisfied: anyio in /Users/jhj/.pyenv/versions/langchain-quickstart-version-up/lib/python3.12/site-packages (from httpx<1,>=0.23.0->langsmith<0.2.0,>=0.1.125->langchain-core<0.4,>=0.3->langchain-pinecone) (4.6.2.post1)\n",
      "Requirement already satisfied: httpcore==1.* in /Users/jhj/.pyenv/versions/langchain-quickstart-version-up/lib/python3.12/site-packages (from httpx<1,>=0.23.0->langsmith<0.2.0,>=0.1.125->langchain-core<0.4,>=0.3->langchain-pinecone) (1.0.6)\n",
      "Requirement already satisfied: sniffio in /Users/jhj/.pyenv/versions/langchain-quickstart-version-up/lib/python3.12/site-packages (from httpx<1,>=0.23.0->langsmith<0.2.0,>=0.1.125->langchain-core<0.4,>=0.3->langchain-pinecone) (1.3.1)\n",
      "Requirement already satisfied: h11<0.15,>=0.13 in /Users/jhj/.pyenv/versions/langchain-quickstart-version-up/lib/python3.12/site-packages (from httpcore==1.*->httpx<1,>=0.23.0->langsmith<0.2.0,>=0.1.125->langchain-core<0.4,>=0.3->langchain-pinecone) (0.14.0)\n",
      "Downloading datasets-3.0.1-py3-none-any.whl (471 kB)\n",
      "Downloading langchain_pinecone-0.2.0-py3-none-any.whl (11 kB)\n",
      "Downloading aiohttp-3.9.5-cp312-cp312-macosx_11_0_arm64.whl (392 kB)\n",
      "Downloading dill-0.3.8-py3-none-any.whl (116 kB)\n",
      "Using cached fsspec-2024.6.1-py3-none-any.whl (177 kB)\n",
      "Downloading pinecone_client-5.0.1-py3-none-any.whl (244 kB)\n",
      "Downloading pyarrow-17.0.0-cp312-cp312-macosx_11_0_arm64.whl (27.2 MB)\n",
      "\u001b[2K   \u001b[90m━━━━━━━━━━━━━━━━━━━━━━━━━━━━━━━━━━━━━━━━\u001b[0m \u001b[32m27.2/27.2 MB\u001b[0m \u001b[31m36.6 MB/s\u001b[0m eta \u001b[36m0:00:00\u001b[0ma \u001b[36m0:00:01\u001b[0m\n",
      "\u001b[?25hDownloading multiprocess-0.70.16-py312-none-any.whl (146 kB)\n",
      "Downloading pandas-2.2.3-cp312-cp312-macosx_11_0_arm64.whl (11.4 MB)\n",
      "\u001b[2K   \u001b[90m━━━━━━━━━━━━━━━━━━━━━━━━━━━━━━━━━━━━━━━━\u001b[0m \u001b[32m11.4/11.4 MB\u001b[0m \u001b[31m44.4 MB/s\u001b[0m eta \u001b[36m0:00:00\u001b[0ma \u001b[36m0:00:01\u001b[0m\n",
      "\u001b[?25hDownloading xxhash-3.5.0-cp312-cp312-macosx_11_0_arm64.whl (30 kB)\n",
      "Downloading pinecone_plugin_inference-1.1.0-py3-none-any.whl (85 kB)\n",
      "Downloading pinecone_plugin_interface-0.0.7-py3-none-any.whl (6.2 kB)\n",
      "Downloading pytz-2024.2-py2.py3-none-any.whl (508 kB)\n",
      "Downloading tzdata-2024.2-py2.py3-none-any.whl (346 kB)\n",
      "Installing collected packages: pytz, xxhash, tzdata, pyarrow, pinecone-plugin-interface, fsspec, dill, pinecone-plugin-inference, pandas, multiprocess, aiohttp, pinecone-client, datasets, langchain-pinecone\n",
      "  Attempting uninstall: fsspec\n",
      "    Found existing installation: fsspec 2024.10.0\n",
      "    Uninstalling fsspec-2024.10.0:\n",
      "      Successfully uninstalled fsspec-2024.10.0\n",
      "  Attempting uninstall: aiohttp\n",
      "    Found existing installation: aiohttp 3.10.10\n",
      "    Uninstalling aiohttp-3.10.10:\n",
      "      Successfully uninstalled aiohttp-3.10.10\n",
      "Successfully installed aiohttp-3.9.5 datasets-3.0.1 dill-0.3.8 fsspec-2024.6.1 langchain-pinecone-0.2.0 multiprocess-0.70.16 pandas-2.2.3 pinecone-client-5.0.1 pinecone-plugin-inference-1.1.0 pinecone-plugin-interface-0.0.7 pyarrow-17.0.0 pytz-2024.2 tzdata-2024.2 xxhash-3.5.0\n",
      "Note: you may need to restart the kernel to use updated packages.\n"
     ]
    }
   ],
   "source": [
    "%pip install datasets langchain-pinecone"
   ]
  },
  {
   "cell_type": "code",
   "execution_count": 2,
   "id": "303f603f-8314-474d-a8bd-35f1186e2ee2",
   "metadata": {
    "tags": []
   },
   "outputs": [
    {
     "name": "stderr",
     "output_type": "stream",
     "text": [
      "/Users/jhj/.pyenv/versions/langchain-quickstart-version-up/lib/python3.12/site-packages/tqdm/auto.py:21: TqdmWarning: IProgress not found. Please update jupyter and ipywidgets. See https://ipywidgets.readthedocs.io/en/stable/user_install.html\n",
      "  from .autonotebook import tqdm as notebook_tqdm\n",
      "Generating train split: 100%|██████████| 205328/205328 [00:00<00:00, 974739.91 examples/s] "
     ]
    },
    {
     "name": "stdout",
     "output_type": "stream",
     "text": [
      "Beard : A beard is the hair growing on the lower part of a man's face.The hair that grows on the upper lip\n",
      "Black : In light, black is lack of all color.  In painting, however, the black pigment is the combination of\n",
      "Bubonic plague : Bubonic plague is the best-known form of the disease plague, which is caused by the bacterium Yersin\n",
      "Biology : Biology  is the science that studies life, and living things, and the evolution of life. Living thin\n",
      "Botany : Botany is the study of plants. It is a science. It is a branch of biology, and is also called plant \n"
     ]
    },
    {
     "name": "stderr",
     "output_type": "stream",
     "text": [
      "\n"
     ]
    }
   ],
   "source": [
    "# Ref : https://www.pinecone.io/learn/series/langchain/langchain-retrieval-augmentation/\n",
    "# Load dataset\n",
    "from datasets import load_dataset\n",
    "\n",
    "data = load_dataset(\"wikipedia\", \"20220301.simple\", split=\"train[:1000]\")\n",
    "for index in range(50, 55):\n",
    "    print(data[index][\"title\"], \":\", data[index][\"text\"][:100].replace(\"\\n\", \"\"))"
   ]
  },
  {
   "cell_type": "code",
   "execution_count": 3,
   "id": "8b762ec7-88e0-4585-a6b1-ecbfc28c1c3d",
   "metadata": {
    "tags": []
   },
   "outputs": [
    {
     "name": "stderr",
     "output_type": "stream",
     "text": [
      "100%|██████████| 100/100 [00:41<00:00,  2.43it/s]\n"
     ]
    }
   ],
   "source": [
    "import time\n",
    "from tqdm.auto import tqdm\n",
    "from uuid import uuid4\n",
    "from datasets import load_dataset\n",
    "from pinecone import Pinecone, ServerlessSpec\n",
    "import os\n",
    "from langchain.text_splitter import RecursiveCharacterTextSplitter\n",
    "from langchain.embeddings.openai import OpenAIEmbeddings\n",
    "\n",
    "# Load dataset\n",
    "data = load_dataset(\"wikipedia\", \"20220301.simple\", split=\"train[:100]\")\n",
    "\n",
    "# Connect database\n",
    "pc = Pinecone(api_key=\"{YOUR_PINECONE_API_KEY}\")\n",
    "# pc.create_index(\n",
    "#     name=\"terry-wiki\",\n",
    "#     dimension=1536, # Replace with your model dimensions\n",
    "#     metric=\"cosine\", # Replace with your model metric\n",
    "#     spec=ServerlessSpec(\n",
    "#         cloud=\"aws\",\n",
    "#         region=\"us-east-1\"\n",
    "#     ) \n",
    "# )\n",
    "index = pc.Index(\"terry-wiki\")\n",
    "\n",
    "# create embedding API\n",
    "os.environ[\"OPENAI_API_KEY\"] = \"{YOUR_OPENAI_KEY}\"\n",
    "embedding = OpenAIEmbeddings()\n",
    "\n",
    "# create text splitter\n",
    "text_splitter = RecursiveCharacterTextSplitter(\n",
    "    # Set a really small chunk size, just to show.\n",
    "    chunk_size=400,\n",
    "    chunk_overlap=20,\n",
    "    length_function=len,\n",
    "    separators=[\"\\n\\n\", \"\\n\", \" \", \"\"],\n",
    ")\n",
    "\n",
    "# Upsert records\n",
    "batch_size = 100\n",
    "texts = []\n",
    "metadatas = []\n",
    "count = 0\n",
    "\n",
    "for i, record in enumerate(tqdm(data)):\n",
    "    # first get metadata fields for this record\n",
    "    metadata = {\n",
    "        \"wiki-id\": str(record[\"id\"]),\n",
    "        \"source\": record[\"url\"],\n",
    "        \"title\": record[\"title\"],\n",
    "    }\n",
    "\n",
    "    # create text chunk and metadata\n",
    "    full_text = record[\"text\"]\n",
    "    text_chunks = text_splitter.split_text(full_text)\n",
    "    for i, text in enumerate(text_chunks):  # max medatada size is 40K\n",
    "        record = {\"chunk\": i, \"text\": full_text, **metadata}\n",
    "        metadatas.append(record)\n",
    "        texts.append(text)\n",
    "        count = count + 1\n",
    "        if count > batch_size:  # flush batch insert\n",
    "            ids = [str(uuid4()) for _ in range(len(texts))]\n",
    "            embeds = embedding.embed_documents(texts)\n",
    "            try:\n",
    "                index.upsert(vectors=zip(ids, embeds, metadatas))\n",
    "                # flush buffers\n",
    "                texts = []\n",
    "                metadatas = []\n",
    "                count = 0\n",
    "            except Exception as e:\n",
    "                print(e)  # ignore exception\n",
    "                print(\"retry\")\n",
    "                time.sleep(1)  # wait 1 sec for retry"
   ]
  },
  {
   "cell_type": "markdown",
   "id": "472e3246-aa67-43fb-86e7-0cd6a2bf2856",
   "metadata": {},
   "source": [
    "# Search data without langchain"
   ]
  },
  {
   "cell_type": "code",
   "execution_count": 15,
   "id": "9fff26e4-db5e-49ea-bc7b-66761f6dc9c3",
   "metadata": {
    "tags": []
   },
   "outputs": [
    {
     "name": "stdout",
     "output_type": "stream",
     "text": [
      "0.877913952 Cuba\n",
      "Cuba is an island country in the Caribbean Sea. The country is made up of the big island of Cuba, the Isla de la Juventud island (Isle of Youth), and many smaller islands. Havana is the capital of Cuba. It is the largest city. The second largest city is Santiago de Cuba. In Spanish, the capital is called \"La Habana\". Cuba is near the United States, Mexico, Haiti, Jamaica and the Bahamas. People from Cuba are called Cubans (cubanos in Spanish). The official language is Spanish. Cuba is warm all y ....\n",
      "\n",
      "\n",
      "0.860044062 Cuba\n",
      "Cuba is an island country in the Caribbean Sea. The country is made up of the big island of Cuba, the Isla de la Juventud island (Isle of Youth), and many smaller islands. Havana is the capital of Cuba. It is the largest city. The second largest city is Santiago de Cuba. In Spanish, the capital is called \"La Habana\". Cuba is near the United States, Mexico, Haiti, Jamaica and the Bahamas. People from Cuba are called Cubans (cubanos in Spanish). The official language is Spanish. Cuba is warm all y ....\n",
      "\n",
      "\n",
      "0.839707255 Cuba\n",
      "Cuba is an island country in the Caribbean Sea. The country is made up of the big island of Cuba, the Isla de la Juventud island (Isle of Youth), and many smaller islands. Havana is the capital of Cuba. It is the largest city. The second largest city is Santiago de Cuba. In Spanish, the capital is called \"La Habana\". Cuba is near the United States, Mexico, Haiti, Jamaica and the Bahamas. People from Cuba are called Cubans (cubanos in Spanish). The official language is Spanish. Cuba is warm all y ....\n",
      "\n",
      "\n"
     ]
    }
   ],
   "source": [
    "import os\n",
    "from pinecone import Pinecone\n",
    "from langchain_pinecone import PineconeVectorStore\n",
    "from langchain_openai import OpenAIEmbeddings\n",
    "\n",
    "# Connect database\n",
    "pc = Pinecone(api_key=\"{YOUR_PINECONE_API_KEY}\")\n",
    "index = pc.Index(\"terry-wiki\")\n",
    "\n",
    "# create embedding API\n",
    "os.environ[\"OPENAI_API_KEY\"] = \"{YOUR_OPENAI_KEY}\"\n",
    "embedding = OpenAIEmbeddings()\n",
    "\n",
    "vectordb = PineconeVectorStore(index=index, embedding=embedding)\n",
    "\n",
    "query_result = vectordb.similarity_search_with_score(\n",
    "    query=\"Where is the Cuba?\", \n",
    "    k=3\n",
    ")\n",
    "\n",
    "# print(query_result[0])\n",
    "\n",
    "for result, score in query_result:\n",
    "    text = result.page_content.replace(\"\\n\", \"\")[:500]\n",
    "    title = result.metadata[\"title\"]\n",
    "    print(score, title)\n",
    "    print(text, \"....\")\n",
    "    print(\"\\n\")"
   ]
  },
  {
   "cell_type": "markdown",
   "id": "5a3f6a6b-65bd-43e1-963e-5bfe723bea66",
   "metadata": {},
   "source": [
    "# Similarity search"
   ]
  },
  {
   "cell_type": "code",
   "execution_count": 16,
   "id": "a9c8e06b-ca7b-4b77-a1ed-c99aad20df59",
   "metadata": {},
   "outputs": [
    {
     "name": "stdout",
     "output_type": "stream",
     "text": [
      "{'chunk': 13.0, 'source': 'https://simple.wikipedia.org/wiki/Catharism', 'title': 'Catharism', 'wiki-id': '135'}\n",
      "{'chunk': 80.0, 'source': 'https://simple.wikipedia.org/wiki/Australia', 'title': 'Australia', 'wiki-id': '27'}\n",
      "{'chunk': 4.0, 'source': 'https://simple.wikipedia.org/wiki/Continent', 'title': 'Continent', 'wiki-id': '117'}\n",
      "{'chunk': 14.0, 'source': 'https://simple.wikipedia.org/wiki/Continent', 'title': 'Continent', 'wiki-id': '117'}\n",
      "{'chunk': 15.0, 'source': 'https://simple.wikipedia.org/wiki/City', 'title': 'City', 'wiki-id': '144'}\n",
      "{'chunk': 22.0, 'source': 'https://simple.wikipedia.org/wiki/Astronomy', 'title': 'Astronomy', 'wiki-id': '48'}\n",
      "{'chunk': 9.0, 'source': 'https://simple.wikipedia.org/wiki/Native%20American', 'title': 'Native American', 'wiki-id': '37'}\n",
      "{'chunk': 33.0, 'source': 'https://simple.wikipedia.org/wiki/City', 'title': 'City', 'wiki-id': '144'}\n",
      "{'chunk': 27.0, 'source': 'https://simple.wikipedia.org/wiki/April', 'title': 'April', 'wiki-id': '1'}\n",
      "{'chunk': 6.0, 'source': 'https://simple.wikipedia.org/wiki/Crime', 'title': 'Crime', 'wiki-id': '151'}\n"
     ]
    }
   ],
   "source": [
    "import os\n",
    "from langchain_openai import OpenAIEmbeddings\n",
    "from langchain_pinecone import PineconeVectorStore\n",
    "\n",
    "\n",
    "# create embedding API\n",
    "os.environ[\"OPENAI_API_KEY\"] = \"{YOUR_OPENAI_KEY}\"\n",
    "embedding = OpenAIEmbeddings()\n",
    "\n",
    "# Connect database\n",
    "pc = Pinecone(api_key=\"{YOUR_PINECONE_API_KEY}\")\n",
    "index = pc.Index(\"terry-wiki\")\n",
    "vectordb = PineconeVectorStore(index=index, embedding=embedding)\n",
    "\n",
    "query = \"Where is best place for the vacation\"\n",
    "\n",
    "results = vectordb.similarity_search(\n",
    "    query, k=10  # our search query  # return 10 most relevant docs\n",
    ")\n",
    "for result in results:\n",
    "    print(result.metadata)"
   ]
  },
  {
   "cell_type": "markdown",
   "id": "68a7328c-4711-4219-bc96-d472e6ce982c",
   "metadata": {},
   "source": [
    "# Search with MetaData Filter"
   ]
  },
  {
   "cell_type": "code",
   "execution_count": 17,
   "id": "85bee188-6f0f-4294-9e0a-89cac6a40729",
   "metadata": {
    "tags": []
   },
   "outputs": [
    {
     "name": "stdout",
     "output_type": "stream",
     "text": [
      "{'chunk': 0.0, 'source': 'https://simple.wikipedia.org/wiki/Cuba', 'title': 'Cuba', 'wiki-id': '178'}\n",
      "{'chunk': 18.0, 'source': 'https://simple.wikipedia.org/wiki/Cuba', 'title': 'Cuba', 'wiki-id': '178'}\n",
      "{'chunk': 4.0, 'source': 'https://simple.wikipedia.org/wiki/Cuba', 'title': 'Cuba', 'wiki-id': '178'}\n",
      "{'chunk': 2.0, 'source': 'https://simple.wikipedia.org/wiki/Cuba', 'title': 'Cuba', 'wiki-id': '178'}\n",
      "{'chunk': 1.0, 'source': 'https://simple.wikipedia.org/wiki/Cuba', 'title': 'Cuba', 'wiki-id': '178'}\n",
      "{'chunk': 22.0, 'source': 'https://simple.wikipedia.org/wiki/Cuba', 'title': 'Cuba', 'wiki-id': '178'}\n",
      "{'chunk': 10.0, 'source': 'https://simple.wikipedia.org/wiki/Cuba', 'title': 'Cuba', 'wiki-id': '178'}\n",
      "{'chunk': 5.0, 'source': 'https://simple.wikipedia.org/wiki/Cuba', 'title': 'Cuba', 'wiki-id': '178'}\n",
      "{'chunk': 3.0, 'source': 'https://simple.wikipedia.org/wiki/Cuba', 'title': 'Cuba', 'wiki-id': '178'}\n",
      "{'chunk': 11.0, 'source': 'https://simple.wikipedia.org/wiki/Cuba', 'title': 'Cuba', 'wiki-id': '178'}\n"
     ]
    }
   ],
   "source": [
    "query = \"Where is the cuba\"\n",
    "\n",
    "results = vectordb.similarity_search(\n",
    "    query,  # our search query\n",
    "    k=10,  # return 3 most relevant docs\n",
    "    filter={\n",
    "        \"$and\": [\n",
    "            {\"title\": \"Cuba\"},\n",
    "        ]\n",
    "    },\n",
    ")\n",
    "\n",
    "for result in results:\n",
    "    print(result.metadata)"
   ]
  },
  {
   "cell_type": "markdown",
   "id": "3f9151cb-221c-44f9-893d-1295825632d4",
   "metadata": {},
   "source": [
    "# Use RAG result in prompt"
   ]
  },
  {
   "cell_type": "code",
   "execution_count": 19,
   "id": "717c476f-726c-49ec-bde7-4c8e50d1b6ca",
   "metadata": {
    "tags": []
   },
   "outputs": [
    {
     "name": "stdout",
     "output_type": "stream",
     "text": [
      "\n",
      "You are the tour guide. I'm planning to visit Cuba.\n",
      "Please advise me what I can do in Cuba.\n",
      "Answer using only information the context below and do not use any other information.\"\n",
      "context:\n",
      "Cuba is an island country in the Caribbean Sea. The country is made up of the big island of Cuba, the Isla de la Juventud island (Isle of Youth), and many smaller islands. Havana is the capital of Cuba. It is the largest city. The second largest city is Santiago de Cuba. In Spanish, the capital is called \"La Habana\". Cuba is near the United States, Mexico, Haiti, Jamaica and the Bahamas. People from Cuba are called Cubans (cubanos in Spanish). The official language is Spanish. Cuba is warm all year.\n",
      "\n",
      "In 1492, Christopher Columbus landed on the island of Cuba. He claimed it for the Kingdom of Spain. Cuba became a Spanish colony until the Spanish–American War of 1898. After the war, it was part of the United States. It gained independence in 1902.\n",
      "\n",
      "In 1959, guerrilla fighters led by Fidel Castro and Che Guevara overthrew Cuba's dictator, Fulgencio Batista, in what became the Cuban Revolution. Castro began making relations with the Soviet Union and tried to close a lot of American businesses in Cuba; the United States did not like this. In 1961 Castro officially announced that his government was socialist. The US attempted to invade Cuba to regain control of it and overthrow its communist-led government but failed. The Communist Party of Cuba was created in 1965 and has ruled the island ever since. Today, Cuba is the only socialist state outside of Asia, in the Caribbean, and in the western hemisphere.\n",
      "\n",
      "Culture \n",
      "Cuba is famous for many types of music, especially dance music such as the Salsa and Mambo. Because Cubans have ancestors from Spain, Africa, South America and North America, Cuban music is special and different.\n",
      "\n",
      "Reading is very popular in Cuba. Many people especially enjoy reading books or things that come from outside the country, even though the government does not approve of this. They also love music and sports. Cuban music is very lively. This is because a lot of it comes from African and Spanish rhythms. Baseball, basketball, and athletics events are loved by many Cuban people. The Cheifs football-team took at one Football-World-Cup part. In 1938, they reached the quarter-final and lost against Sweden 0:8.\n",
      "\n",
      "History\n",
      "\n",
      "Early history \n",
      "Before Cuba was conquered by the Spaniards, three tribes lived on the island. They were the Taínos, the Ciboneys, and the Guanajatabeyes. The Taínos were the largest and most common of the three tribes. They farmed crops such as beans, corn, squash, and yams. The Taínos also slept in hammocks, which the Spaniards would introduce to the rest of the world. Then, in 1492, Christopher Columbus arrived in Cuba on his first trip to the Americas. Three years later, he claimed the islands for the Spanish. The Spanish began to rule Cuba afterwards. The Spanish brought thousands of slaves from Africa to Cuba to work for them. Most of the native Cubans died because of the new diseases brought by the Spanish and Africans. The Spanish also treated the native Cubans very cruelly and massacred many of them.\n",
      "\n",
      "The Spanish ruled for many years. Cuba became the most important producer of sugar. In the early 1800s, Cubans rebelled against the Spanish rulers, but failed until 1898, when the United States went to war with the Spanish and defeated them. Cuba became American for four years afterwards, before it became an independent republic in 1902. Even though Cuba was independent, the Americans still controlled the island by a law called the Platt Amendment. In 1933 the Cubans stopped the Platt Amendment, but the Americans still had a big say in Cuban politics. Americans owned most of Cuba’s businesses. The Americans supported the leader Fulgencio Batista, who was seen by many Cubans as corrupt.\n",
      "\n",
      "In addition to political control, the United States also exercised significant control over the Cuban economy. At the time, Cuba was a monoculture economy. While they produced coffee, tobacco, and rice, they relied primarily on sugar. Thus, they were known by other countries as the \"sugar bowl of the world.\" The United States bought sugar from the Republic of Cuba at a price higher than the global standard. In exchange, Cuba was to give preference to the United States, and its industries. Cuba depended on the United States and their investments. Cuba was not industrialized and needed the revenue for goods and oil. They also needed the US investment for gas, electricity, communications, railways, and banks. While Cuban workers had better conditions than other countries in the continent, they still faced inequality, lack of infrastructure, high illiteracy rates, and a lack of full-time work (the sugar industry was seasonal).\n",
      "\n",
      "Cuban Revolution \n",
      "In 1959, Fidel Castro led a revolution against Fulgencio Batista. Castro took power in Cuba with Che Guevara from Argentina, his brother Raul, and others who fought against Batista. Castro made many changes to Cuba. He ended American ownership of Cuban businesses. This made Castro unpopular in America and the United States banned all contact with Cuba. Many Cubans went to America because of this. In 1961, the Americans helped some of these Cubans to attack Cuba and try to remove Castro, but they failed. Castro then asked the Soviet Union to help defend them from the Americans, which they did. The Soviet Union put nuclear weapons in Cuba and aimed them at the United States. American President Kennedy demanded that they be removed or a new war would begin. This was known as the Cuban Missile Crisis. The Soviet Union removed the missiles when the United States agreed to not continue attacking Cuba and to remove missiles from Turkey.\n",
      "\n",
      "Cuba became a communist-led country like the Soviet Union after this. The Soviet Union bought most of Cuba’s sugar for expensive prices. Cuba spent this money on health, education and the army. This made Cuba’s schools and hospitals some of the best in the world. The army fought in Africa to support black Africans against the white South African army. Cuba also supported groups in South America fighting against the dictators of those countries.\n",
      "\n",
      "However, the Cuban government began to control most of life in Cuba under the communist system. Disagreeing with the Cuban government and Fidel Castro in public was not allowed. Some Cubans did not like this and tried to leave Cuba. Most Cubans who left went to the United States. Some Cubans who did not like the government and stayed were put in jail. Many groups from around the world protested against Cuba because of this, and demanded that Fidel Castro give up power.\n",
      "\n",
      "In 1991, the Soviet Union collapsed. This meant that Cuba, which had sold most of its products to the Soviet Union, had no money coming into the country. The Americans made the restrictions against contact with Cuba tighter. America said the restrictions on contact would continue unless Fidel Castro gave up power. Cuba became very poor in the 1990s. This became known in Cuba as “The Special Period”. Because of the disaster, Cuba changed to allow less control by the government, more discussion amongst the people, and private shops and businesses. Cuba also tried to get tourists to visit the island.\n",
      "\n",
      "In the 2000s, tourism to Cuba began to make money for the island again. Though Fidel Castro had remained in power, he had passed all duties to his brother Raul after an illness. Fidel Castro was one of the longest-serving heads of state. In 2018, Miguel Díaz-Canel became the official President of Cuba.\n",
      "\n",
      "In April 2015, historic talks took place with US President Obama and Cuban General Secretary Raúl Castro in improving relations between the two nations.\n",
      "\n",
      "The trade embargo issued by President Kennedy in the 1960s has been considerably loosened under Obama's administration. US citizens can now travel directly to Cuba at certain times of the year. Before, Americans had to go via Mexico if they wanted to go to Cuba. Americans are still not allowed to purchase or smoke Cuban cigars. The cigars are smuggled over the US-Canadian border since they are legal in Canada.\n",
      "\n",
      "For military service, men from the age of 17 to 28 years old must go into the army for two years. It is optional for women.\n",
      "\n",
      "In July 2021, there were demonstrations against the government.  See the English Wikipedia article, 2021 Cuban protests, for details.\n",
      "\n",
      "Administrative divisions\n",
      "\n",
      "The country is divided into 15 provinces and one special municipality (Isla de la Juventud). The provinces are divided into municipalities.\n",
      "\n",
      "Demographics \n",
      "The population of Cuba is close to 13 million. The people of Cuba come from three different groups. The largest group is the descendants of the Spanish settlers who came to Cuba. The smallest group is the descendants of the black African slaves who were brought in to do the work and birth children (in the barracoon) as New World slaves who could be legally sold into life time bondage in the United States. The middle-sized group is a mix of African and Spanish. The government succeeded in seeing that the three different groups were treated the same. According to a DNA Caribbean Studies Institute, the racial-makeup of the population of Cuba is:\n",
      " European Cubans descend from settlers that came during the very late 15th century and onward. Most white Cubans came from many different parts of Spain, but the most numerous were the Canary Islanders, Andalusians, and Catalans. There was as well some French, Italian and English peoples. Whites makeup approximately 30% of Cuba's population as of 2012, and they mostly populate the western part of Cuba, specially cities like Havana and Pinar del Rio. These brought with them their language, religions, music and others.\n",
      " Africans and Mulatto Cubans descend from the arrival of African slaves that came from various parts of Africa but the most numerous were West Africans. There were also more than 500,000 Haitians that came to Cuba during the Haitian Revolution days. Most Cuban slaves tended to come from the Kongo and Yoruba tribes, there were also the Igbos, Ewes, Fons, Fulas, Mandinkas and some others. Afro-Cubans range enormously from 33.9 percent to 70 percent of the population, and they are mostly concentrated in the east parts of Cuba. These brought with them their instruments, reigion (Santeria), and customs to the Cuban culture.\n",
      " Mediterranean Cubans are about 3% of the population, however; one must know that a lot of the Southern Spaniard Cuban descendants have good portion of Moor blood in their family lines; due to the close proximate Spain is to North Africa. Many Mediterranean Cubans came during the 1820s-1880s and sometimes onward. These are most concentrated in the East specially cities like Guantanamo Bay. They brought much of their foods and cuisines to Cuba and a few vocabularies.\n",
      "\n",
      "Health and education \n",
      "Cuba is a developing country, and is often depicted as a very poor country. In some aspects, however, like education, health care and life expectancy it ranks much better than most countries in Latin America. Its infant death rate is lower than some developed countries. The average life expectancy is 78 years.\n",
      "\n",
      "All the children are required to go to school from six to twelve years old, and nearly everybody is able to read and write at least. There is free education at every level. Because of this, Cuba has a 99.8% literacy rate.\n",
      "\n",
      "In 2006, the World Food Programme certified Cuba to be the only country in this region without undernourished children. In the same year, the United Nations said that Cuba was the only nation in the world that met the World Wide Fund for Nature's definition of sustainable development.\n",
      "\n",
      "Geography \n",
      "\n",
      "Cuba is the largest island in the West Indies. It has many resources. Only about one-fourth of the land is mountains or hills. Much of the land is gentle hills or plains which are good for farming or raising cattle. Cuba has fertile soil and a mostly warm and humid climate that makes it a great place for growing crops.\n",
      "\n",
      "Sugar is the most important crop of Cuba, and they may get it from the sugar cane. Sugar cane is the largest cash crop grown in Cuba, and it brings in most of the money. After that, the second is tobacco. Tobacco is made into cigars by hand. A hand-made cigar is considered by many people to be the finest in the world. Other important crops are rice, coffee, and fruit. Cuba also has many minerals. Cobalt, nickel, iron, copper, and manganese are all on the island. Salt, petroleum, and natural gas are there too. The coast of Cuba has many bays and a few good harbors. Havana, which is the capital, is also a port. Other harbors have port cities. Nuevitas is a port city on the north coast. Cienfuegos, Guantánamo, and Santiago de Cuba are some of the port cities on the south coast.\n",
      "\n",
      "Cuba has a semi-tropical climate. That means that the cool ocean winds keep it becoming hot, despite its being in the tropical zone. Cuba has a wet season and a dry season. The dry season is from November to April, and the wet season is from May to October. August to October is also the hurricane season in the Atlantic Ocean. Because of this, most of Cuba's port cities can be flooded along the coast.\n",
      "\n",
      "Related pages \n",
      " Cuba at the Olympics\n",
      " Cuba national football team\n",
      " List of rivers of Cuba\n",
      " :Category:Cuban people\n",
      "\n",
      "References \n",
      "\n",
      " \n",
      "Spanish-speaking countries\n",
      "Caribbean Community\n",
      "\n",
      "--------------------------------------------------\n",
      "content=\"In Cuba, you can explore a variety of activities and experiences:\\n\\n1. **Visit Havana**: As the capital and largest city, Havana offers rich history, vibrant culture, and beautiful architecture. Don't miss the historic Old Havana, a UNESCO World Heritage site.\\n\\n2. **Experience Cuban Music and Dance**: Enjoy lively Cuban music, especially genres like Salsa and Mambo. You can find dance clubs and live music venues throughout the country.\\n\\n3. **Explore Santiago de Cuba**: The second largest city is known for its cultural heritage and historical significance, including the famous Castillo del Morro.\\n\\n4. **Enjoy the Beaches**: Cuba has stunning beaches, perfect for relaxation and water activities. Varadero is one of the most popular beach destinations.\\n\\n5. **Learn about Cuban History**: Visit historical sites related to the Cuban Revolution, such as the Museum of the Revolution in Havana.\\n\\n6. **Taste Cuban Cuisine**: Experience local dishes that reflect the island's diverse cultural influences, including rice, beans, and fresh seafood.\\n\\n7. **Engage with Local Sports**: Baseball and basketball are popular in Cuba. You might catch a local game or visit sports facilities.\\n\\n8. **Explore Nature**: Discover Cuba's natural beauty, including its fertile lands and diverse ecosystems. The Viñales Valley is known for its stunning landscapes and tobacco farms.\\n\\n9. **Read and Learn**: Take advantage of the high literacy rate and explore local literature, as reading is popular among Cubans.\\n\\n10. **Visit Isla de la Juventud**: This special municipality offers a more tranquil experience with beautiful landscapes and historical sites.\\n\\nCuba's warm climate makes it a great destination year-round, so you can enjoy these activities at any time!\" additional_kwargs={'refusal': None} response_metadata={'token_usage': {'completion_tokens': 349, 'prompt_tokens': 2835, 'total_tokens': 3184, 'completion_tokens_details': {'audio_tokens': None, 'reasoning_tokens': 0}, 'prompt_tokens_details': {'audio_tokens': None, 'cached_tokens': 0}}, 'model_name': 'gpt-4o-mini-2024-07-18', 'system_fingerprint': 'fp_482c22a7bc', 'finish_reason': 'stop', 'logprobs': None} id='run-f3644c23-062f-42f7-b11f-6ab7f0bdf048-0' usage_metadata={'input_tokens': 2835, 'output_tokens': 349, 'total_tokens': 3184, 'input_token_details': {'cache_read': 0}, 'output_token_details': {'reasoning': 0}}\n",
      "\n",
      "\n"
     ]
    }
   ],
   "source": [
    "# Use RAG result\n",
    "from langchain_core.prompts import PromptTemplate\n",
    "from langchain_openai import ChatOpenAI\n",
    "\n",
    "llm = ChatOpenAI(model=\"gpt-4o-mini\", api_key=\"{YOUR_OPENAI_KEY}\")\n",
    "\n",
    "country = \"Cuba\"\n",
    "chat_template = PromptTemplate.from_template(\n",
    "    \"\"\"\n",
    "You are the tour guide. I'm planning to visit {country}.\n",
    "Please advise me what I can do in {country}.\n",
    "Answer using only information the context below and do not use any other information.\"\n",
    "context:\n",
    "{context}\n",
    "\"\"\"\n",
    ")\n",
    "rag_template = \"Where is the {country}\"\n",
    "\n",
    "results = vectordb.similarity_search(rag_template.format(country=country), k=1)\n",
    "context = \"\"\n",
    "for result in results:\n",
    "    context += result.page_content\n",
    "\n",
    "prompt = chat_template.format(country=\"Cuba\", context=context)\n",
    "print(prompt)\n",
    "print(\"-\" * 50)\n",
    "print(llm.invoke(prompt))\n",
    "print(\"\\n\")"
   ]
  },
  {
   "cell_type": "markdown",
   "id": "e60673cb-cf70-47e8-b18a-806e3c8c6959",
   "metadata": {},
   "source": [
    "# MMR"
   ]
  },
  {
   "cell_type": "code",
   "execution_count": 20,
   "id": "917116aa-48fa-48ef-9515-b97a91edd4da",
   "metadata": {},
   "outputs": [
    {
     "name": "stdout",
     "output_type": "stream",
     "text": [
      "{'chunk': 0.0, 'source': 'https://simple.wikipedia.org/wiki/Cuba', 'title': 'Cuba', 'wiki-id': '178'} \n",
      "\n",
      "{'chunk': 22.0, 'source': 'https://simple.wikipedia.org/wiki/Argentina', 'title': 'Argentina', 'wiki-id': '54'} \n",
      "\n",
      "{'chunk': 18.0, 'source': 'https://simple.wikipedia.org/wiki/Cuba', 'title': 'Cuba', 'wiki-id': '178'} \n",
      "\n",
      "{'chunk': 6.0, 'source': 'https://simple.wikipedia.org/wiki/Cuba', 'title': 'Cuba', 'wiki-id': '178'} \n",
      "\n",
      "{'chunk': 2.0, 'source': 'https://simple.wikipedia.org/wiki/Cuba', 'title': 'Cuba', 'wiki-id': '178'} \n",
      "\n",
      "{'chunk': 1.0, 'source': 'https://simple.wikipedia.org/wiki/Cuba', 'title': 'Cuba', 'wiki-id': '178'} \n",
      "\n",
      "{'chunk': 4.0, 'source': 'https://simple.wikipedia.org/wiki/Cuba', 'title': 'Cuba', 'wiki-id': '178'} \n",
      "\n",
      "{'chunk': 24.0, 'source': 'https://simple.wikipedia.org/wiki/Cuba', 'title': 'Cuba', 'wiki-id': '178'} \n",
      "\n",
      "{'chunk': 22.0, 'source': 'https://simple.wikipedia.org/wiki/Cuba', 'title': 'Cuba', 'wiki-id': '178'} \n",
      "\n",
      "{'chunk': 5.0, 'source': 'https://simple.wikipedia.org/wiki/Cuba', 'title': 'Cuba', 'wiki-id': '178'} \n",
      "\n",
      "{'chunk': 0.0, 'source': 'https://simple.wikipedia.org/wiki/Cuba', 'title': 'Cuba', 'wiki-id': '178'}\n",
      "{'chunk': 1.0, 'source': 'https://simple.wikipedia.org/wiki/Cuba', 'title': 'Cuba', 'wiki-id': '178'}\n",
      "{'chunk': 18.0, 'source': 'https://simple.wikipedia.org/wiki/Cuba', 'title': 'Cuba', 'wiki-id': '178'}\n",
      "{'chunk': 2.0, 'source': 'https://simple.wikipedia.org/wiki/Cuba', 'title': 'Cuba', 'wiki-id': '178'}\n",
      "{'chunk': 4.0, 'source': 'https://simple.wikipedia.org/wiki/Cuba', 'title': 'Cuba', 'wiki-id': '178'}\n",
      "{'chunk': 5.0, 'source': 'https://simple.wikipedia.org/wiki/Cuba', 'title': 'Cuba', 'wiki-id': '178'}\n",
      "{'chunk': 22.0, 'source': 'https://simple.wikipedia.org/wiki/Cuba', 'title': 'Cuba', 'wiki-id': '178'}\n",
      "{'chunk': 6.0, 'source': 'https://simple.wikipedia.org/wiki/Cuba', 'title': 'Cuba', 'wiki-id': '178'}\n",
      "{'chunk': 24.0, 'source': 'https://simple.wikipedia.org/wiki/Cuba', 'title': 'Cuba', 'wiki-id': '178'}\n",
      "{'chunk': 22.0, 'source': 'https://simple.wikipedia.org/wiki/Argentina', 'title': 'Argentina', 'wiki-id': '54'}\n"
     ]
    }
   ],
   "source": [
    "query = \"Where is the cuba? Where is other country near the cuba?\"\n",
    "found_docs = vectordb.max_marginal_relevance_search(query, k=10, fetch_k=10)\n",
    "for i, doc in enumerate(found_docs):\n",
    "    print(doc.metadata, \"\\n\")\n",
    "\n",
    "docs = vectordb.similarity_search(query, k=10)\n",
    "for doc in docs:\n",
    "    print(doc.metadata)"
   ]
  },
  {
   "cell_type": "markdown",
   "id": "74c662b7-7924-4a4a-93e4-e17b465bc1a7",
   "metadata": {},
   "source": [
    "# Multi Query"
   ]
  },
  {
   "cell_type": "code",
   "execution_count": 23,
   "id": "a76c66ce-90ea-48be-ae12-a841a625a7df",
   "metadata": {},
   "outputs": [
    {
     "name": "stderr",
     "output_type": "stream",
     "text": [
      "INFO:langchain.retrievers.multi_query:Generated queries: ['1. Can you provide the location of Cuba?', '2. What countries are located near Cuba?', '3. Can you tell me about the neighboring countries of Cuba?']\n"
     ]
    },
    {
     "name": "stdout",
     "output_type": "stream",
     "text": [
      "{'chunk': 0.0, 'source': 'https://simple.wikipedia.org/wiki/Cuba', 'title': 'Cuba', 'wiki-id': '178'}\n",
      "{'chunk': 18.0, 'source': 'https://simple.wikipedia.org/wiki/Cuba', 'title': 'Cuba', 'wiki-id': '178'}\n",
      "{'chunk': 2.0, 'source': 'https://simple.wikipedia.org/wiki/Cuba', 'title': 'Cuba', 'wiki-id': '178'}\n",
      "{'chunk': 1.0, 'source': 'https://simple.wikipedia.org/wiki/Cuba', 'title': 'Cuba', 'wiki-id': '178'}\n",
      "{'chunk': 22.0, 'source': 'https://simple.wikipedia.org/wiki/Argentina', 'title': 'Argentina', 'wiki-id': '54'}\n",
      "{'chunk': 5.0, 'source': 'https://simple.wikipedia.org/wiki/Cuba', 'title': 'Cuba', 'wiki-id': '178'}\n",
      "{'chunk': 4.0, 'source': 'https://simple.wikipedia.org/wiki/Cuba', 'title': 'Cuba', 'wiki-id': '178'}\n"
     ]
    }
   ],
   "source": [
    "import logging\n",
    "import os\n",
    "from langchain.retrievers.multi_query import MultiQueryRetriever\n",
    "from langchain_openai import OpenAIEmbeddings\n",
    "from langchain_openai import ChatOpenAI\n",
    "from langchain_pinecone import PineconeVectorStore\n",
    "\n",
    "# create embedding API and llm\n",
    "os.environ[\"OPENAI_API_KEY\"] = \"{YOUR_OPENAI_KEY}\"\n",
    "embedding = OpenAIEmbeddings()\n",
    "llm = ChatOpenAI()\n",
    "\n",
    "# Connect database\n",
    "vectordb = PineconeVectorStore(index=index, embedding=embedding)\n",
    "\n",
    "logging.basicConfig()\n",
    "logging.getLogger(\"langchain.retrievers.multi_query\").setLevel(logging.INFO)\n",
    "\n",
    "query = \"Where is the cuba? Where is other country near the cuba?\"\n",
    "retriever_from_llm = MultiQueryRetriever.from_llm(\n",
    "    retriever=vectordb.as_retriever(), llm=llm\n",
    ")\n",
    "docs = retriever_from_llm.get_relevant_documents(query=query)\n",
    "for doc in docs:\n",
    "    print(doc.metadata)"
   ]
  }
 ],
 "metadata": {
  "kernelspec": {
   "display_name": "Python 3 (ipykernel)",
   "language": "python",
   "name": "python3"
  },
  "language_info": {
   "codemirror_mode": {
    "name": "ipython",
    "version": 3
   },
   "file_extension": ".py",
   "mimetype": "text/x-python",
   "name": "python",
   "nbconvert_exporter": "python",
   "pygments_lexer": "ipython3",
   "version": "3.12.6"
  }
 },
 "nbformat": 4,
 "nbformat_minor": 5
}
